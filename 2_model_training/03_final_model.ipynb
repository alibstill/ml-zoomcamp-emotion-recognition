{
 "cells": [
  {
   "cell_type": "markdown",
   "id": "75002f83-20fa-4c55-95e1-6e767366d113",
   "metadata": {},
   "source": [
    "# Building the final scratch model"
   ]
  },
  {
   "cell_type": "code",
   "execution_count": 5,
   "id": "a2912319-873c-4c61-a6da-9d20d91dc78f",
   "metadata": {},
   "outputs": [
    {
     "name": "stderr",
     "output_type": "stream",
     "text": [
      "2025-01-25 09:03:25.683983: I tensorflow/core/platform/cpu_feature_guard.cc:210] This TensorFlow binary is optimized to use available CPU instructions in performance-critical operations.\n",
      "To enable the following instructions: AVX2 FMA, in other operations, rebuild TensorFlow with the appropriate compiler flags.\n"
     ]
    }
   ],
   "source": [
    "import pandas as pd\n",
    "import tensorflow as tf\n",
    "from tensorflow import keras\n",
    "import numpy as np\n",
    "import os\n",
    "import matplotlib.pyplot as plt\n",
    "\n",
    "SEED = 42\n",
    "np.random.seed(SEED)\n",
    "tf.random.set_seed(SEED)"
   ]
  },
  {
   "cell_type": "markdown",
   "id": "35cd495f-e1cb-4fd0-a122-169f4353f419",
   "metadata": {},
   "source": [
    "## Loading image metadata"
   ]
  },
  {
   "cell_type": "code",
   "execution_count": 6,
   "id": "1bf36f78-bfa8-4134-a022-5b9e906b45ec",
   "metadata": {},
   "outputs": [],
   "source": [
    "def get_image_meta(data_path):\n",
    "    \"\"\"Retrieve basic metadata (file_path, category)\"\"\"\n",
    "    \n",
    "    file_meta = []\n",
    "\n",
    "    for name in os.listdir(data_path): \n",
    "        filepath = os.path.join(data_path, name)\n",
    "\n",
    "        if '.DS_Store' in filepath:\n",
    "            continue\n",
    "\n",
    "        for image_file_name in os.listdir(filepath): \n",
    "            image_filepath = os.path.join(filepath, image_file_name)\n",
    "\n",
    "            attrs = {\n",
    "                'category': name,\n",
    "                'file_path': image_filepath,\n",
    "            }\n",
    "            file_meta.append(attrs)\n",
    "\n",
    "    return file_meta "
   ]
  },
  {
   "cell_type": "code",
   "execution_count": 7,
   "id": "c401adc8-9928-4e50-b746-31889fd73014",
   "metadata": {},
   "outputs": [],
   "source": [
    "data_file_path = \"../data/clean_fer_2013/\""
   ]
  },
  {
   "cell_type": "code",
   "execution_count": 8,
   "id": "e1405c1d-8dee-4964-9a1f-61148b72270e",
   "metadata": {},
   "outputs": [
    {
     "data": {
      "text/html": [
       "<div>\n",
       "<style scoped>\n",
       "    .dataframe tbody tr th:only-of-type {\n",
       "        vertical-align: middle;\n",
       "    }\n",
       "\n",
       "    .dataframe tbody tr th {\n",
       "        vertical-align: top;\n",
       "    }\n",
       "\n",
       "    .dataframe thead th {\n",
       "        text-align: right;\n",
       "    }\n",
       "</style>\n",
       "<table border=\"1\" class=\"dataframe\">\n",
       "  <thead>\n",
       "    <tr style=\"text-align: right;\">\n",
       "      <th></th>\n",
       "      <th>category</th>\n",
       "      <th>file_path</th>\n",
       "    </tr>\n",
       "  </thead>\n",
       "  <tbody>\n",
       "    <tr>\n",
       "      <th>0</th>\n",
       "      <td>happy</td>\n",
       "      <td>../data/clean_fer_2013/train/happy/Training_50...</td>\n",
       "    </tr>\n",
       "    <tr>\n",
       "      <th>1</th>\n",
       "      <td>happy</td>\n",
       "      <td>../data/clean_fer_2013/train/happy/Training_70...</td>\n",
       "    </tr>\n",
       "    <tr>\n",
       "      <th>2</th>\n",
       "      <td>happy</td>\n",
       "      <td>../data/clean_fer_2013/train/happy/Training_85...</td>\n",
       "    </tr>\n",
       "    <tr>\n",
       "      <th>3</th>\n",
       "      <td>happy</td>\n",
       "      <td>../data/clean_fer_2013/train/happy/Training_44...</td>\n",
       "    </tr>\n",
       "    <tr>\n",
       "      <th>4</th>\n",
       "      <td>happy</td>\n",
       "      <td>../data/clean_fer_2013/train/happy/Training_63...</td>\n",
       "    </tr>\n",
       "  </tbody>\n",
       "</table>\n",
       "</div>"
      ],
      "text/plain": [
       "  category                                          file_path\n",
       "0    happy  ../data/clean_fer_2013/train/happy/Training_50...\n",
       "1    happy  ../data/clean_fer_2013/train/happy/Training_70...\n",
       "2    happy  ../data/clean_fer_2013/train/happy/Training_85...\n",
       "3    happy  ../data/clean_fer_2013/train/happy/Training_44...\n",
       "4    happy  ../data/clean_fer_2013/train/happy/Training_63..."
      ]
     },
     "execution_count": 8,
     "metadata": {},
     "output_type": "execute_result"
    }
   ],
   "source": [
    "train_data_folder = data_file_path + \"train/\"\n",
    "\n",
    "meta_train = get_image_meta(train_data_folder)\n",
    "\n",
    "df_meta_train = pd.DataFrame(meta_train)\n",
    "df_meta_train.head()"
   ]
  },
  {
   "cell_type": "code",
   "execution_count": 9,
   "id": "88a81059-14ba-4ff6-b1b5-98728f09732f",
   "metadata": {},
   "outputs": [
    {
     "data": {
      "text/html": [
       "<div>\n",
       "<style scoped>\n",
       "    .dataframe tbody tr th:only-of-type {\n",
       "        vertical-align: middle;\n",
       "    }\n",
       "\n",
       "    .dataframe tbody tr th {\n",
       "        vertical-align: top;\n",
       "    }\n",
       "\n",
       "    .dataframe thead th {\n",
       "        text-align: right;\n",
       "    }\n",
       "</style>\n",
       "<table border=\"1\" class=\"dataframe\">\n",
       "  <thead>\n",
       "    <tr style=\"text-align: right;\">\n",
       "      <th></th>\n",
       "      <th>category</th>\n",
       "      <th>file_path</th>\n",
       "    </tr>\n",
       "  </thead>\n",
       "  <tbody>\n",
       "    <tr>\n",
       "      <th>0</th>\n",
       "      <td>happy</td>\n",
       "      <td>../data/clean_fer_2013/validation/happy/Public...</td>\n",
       "    </tr>\n",
       "    <tr>\n",
       "      <th>1</th>\n",
       "      <td>happy</td>\n",
       "      <td>../data/clean_fer_2013/validation/happy/Public...</td>\n",
       "    </tr>\n",
       "    <tr>\n",
       "      <th>2</th>\n",
       "      <td>happy</td>\n",
       "      <td>../data/clean_fer_2013/validation/happy/Public...</td>\n",
       "    </tr>\n",
       "    <tr>\n",
       "      <th>3</th>\n",
       "      <td>happy</td>\n",
       "      <td>../data/clean_fer_2013/validation/happy/Public...</td>\n",
       "    </tr>\n",
       "    <tr>\n",
       "      <th>4</th>\n",
       "      <td>happy</td>\n",
       "      <td>../data/clean_fer_2013/validation/happy/Public...</td>\n",
       "    </tr>\n",
       "  </tbody>\n",
       "</table>\n",
       "</div>"
      ],
      "text/plain": [
       "  category                                          file_path\n",
       "0    happy  ../data/clean_fer_2013/validation/happy/Public...\n",
       "1    happy  ../data/clean_fer_2013/validation/happy/Public...\n",
       "2    happy  ../data/clean_fer_2013/validation/happy/Public...\n",
       "3    happy  ../data/clean_fer_2013/validation/happy/Public...\n",
       "4    happy  ../data/clean_fer_2013/validation/happy/Public..."
      ]
     },
     "execution_count": 9,
     "metadata": {},
     "output_type": "execute_result"
    }
   ],
   "source": [
    "val_data_folder = data_file_path + \"validation/\"\n",
    "\n",
    "meta_val = get_image_meta(val_data_folder)\n",
    "\n",
    "df_meta_val = pd.DataFrame(meta_val)\n",
    "df_meta_val.head()"
   ]
  },
  {
   "cell_type": "markdown",
   "id": "fa6da79c-3500-4e17-bc1e-c965b657427e",
   "metadata": {},
   "source": [
    "## Base Scratch Model Configuration"
   ]
  },
  {
   "cell_type": "markdown",
   "id": "33e4ebd8-d866-4167-b47c-b3a47233215c",
   "metadata": {},
   "source": [
    "Here I rebuild the base model I built earlier."
   ]
  },
  {
   "cell_type": "code",
   "execution_count": 26,
   "id": "d336a145-5ed1-43a5-b185-8166eaf215f3",
   "metadata": {
    "execution": {
     "iopub.execute_input": "2025-01-22T18:39:39.689662Z",
     "iopub.status.busy": "2025-01-22T18:39:39.689294Z",
     "iopub.status.idle": "2025-01-22T18:39:39.750235Z",
     "shell.execute_reply": "2025-01-22T18:39:39.749718Z",
     "shell.execute_reply.started": "2025-01-22T18:39:39.689637Z"
    }
   },
   "outputs": [
    {
     "data": {
      "text/html": [
       "<pre style=\"white-space:pre;overflow-x:auto;line-height:normal;font-family:Menlo,'DejaVu Sans Mono',consolas,'Courier New',monospace\"><span style=\"font-weight: bold\">Model: \"sequential_1\"</span>\n",
       "</pre>\n"
      ],
      "text/plain": [
       "\u001b[1mModel: \"sequential_1\"\u001b[0m\n"
      ]
     },
     "metadata": {},
     "output_type": "display_data"
    },
    {
     "data": {
      "text/html": [
       "<pre style=\"white-space:pre;overflow-x:auto;line-height:normal;font-family:Menlo,'DejaVu Sans Mono',consolas,'Courier New',monospace\">┏━━━━━━━━━━━━━━━━━━━━━━━━━━━━━━━━━┳━━━━━━━━━━━━━━━━━━━━━━━━┳━━━━━━━━━━━━━━━┓\n",
       "┃<span style=\"font-weight: bold\"> Layer (type)                    </span>┃<span style=\"font-weight: bold\"> Output Shape           </span>┃<span style=\"font-weight: bold\">       Param # </span>┃\n",
       "┡━━━━━━━━━━━━━━━━━━━━━━━━━━━━━━━━━╇━━━━━━━━━━━━━━━━━━━━━━━━╇━━━━━━━━━━━━━━━┩\n",
       "│ conv2d_3 (<span style=\"color: #0087ff; text-decoration-color: #0087ff\">Conv2D</span>)               │ (<span style=\"color: #00d7ff; text-decoration-color: #00d7ff\">None</span>, <span style=\"color: #00af00; text-decoration-color: #00af00\">48</span>, <span style=\"color: #00af00; text-decoration-color: #00af00\">48</span>, <span style=\"color: #00af00; text-decoration-color: #00af00\">32</span>)     │           <span style=\"color: #00af00; text-decoration-color: #00af00\">320</span> │\n",
       "├─────────────────────────────────┼────────────────────────┼───────────────┤\n",
       "│ max_pooling2d_3 (<span style=\"color: #0087ff; text-decoration-color: #0087ff\">MaxPooling2D</span>)  │ (<span style=\"color: #00d7ff; text-decoration-color: #00d7ff\">None</span>, <span style=\"color: #00af00; text-decoration-color: #00af00\">24</span>, <span style=\"color: #00af00; text-decoration-color: #00af00\">24</span>, <span style=\"color: #00af00; text-decoration-color: #00af00\">32</span>)     │             <span style=\"color: #00af00; text-decoration-color: #00af00\">0</span> │\n",
       "├─────────────────────────────────┼────────────────────────┼───────────────┤\n",
       "│ conv2d_4 (<span style=\"color: #0087ff; text-decoration-color: #0087ff\">Conv2D</span>)               │ (<span style=\"color: #00d7ff; text-decoration-color: #00d7ff\">None</span>, <span style=\"color: #00af00; text-decoration-color: #00af00\">24</span>, <span style=\"color: #00af00; text-decoration-color: #00af00\">24</span>, <span style=\"color: #00af00; text-decoration-color: #00af00\">64</span>)     │        <span style=\"color: #00af00; text-decoration-color: #00af00\">18,496</span> │\n",
       "├─────────────────────────────────┼────────────────────────┼───────────────┤\n",
       "│ max_pooling2d_4 (<span style=\"color: #0087ff; text-decoration-color: #0087ff\">MaxPooling2D</span>)  │ (<span style=\"color: #00d7ff; text-decoration-color: #00d7ff\">None</span>, <span style=\"color: #00af00; text-decoration-color: #00af00\">12</span>, <span style=\"color: #00af00; text-decoration-color: #00af00\">12</span>, <span style=\"color: #00af00; text-decoration-color: #00af00\">64</span>)     │             <span style=\"color: #00af00; text-decoration-color: #00af00\">0</span> │\n",
       "├─────────────────────────────────┼────────────────────────┼───────────────┤\n",
       "│ conv2d_5 (<span style=\"color: #0087ff; text-decoration-color: #0087ff\">Conv2D</span>)               │ (<span style=\"color: #00d7ff; text-decoration-color: #00d7ff\">None</span>, <span style=\"color: #00af00; text-decoration-color: #00af00\">12</span>, <span style=\"color: #00af00; text-decoration-color: #00af00\">12</span>, <span style=\"color: #00af00; text-decoration-color: #00af00\">128</span>)    │        <span style=\"color: #00af00; text-decoration-color: #00af00\">73,856</span> │\n",
       "├─────────────────────────────────┼────────────────────────┼───────────────┤\n",
       "│ max_pooling2d_5 (<span style=\"color: #0087ff; text-decoration-color: #0087ff\">MaxPooling2D</span>)  │ (<span style=\"color: #00d7ff; text-decoration-color: #00d7ff\">None</span>, <span style=\"color: #00af00; text-decoration-color: #00af00\">6</span>, <span style=\"color: #00af00; text-decoration-color: #00af00\">6</span>, <span style=\"color: #00af00; text-decoration-color: #00af00\">128</span>)      │             <span style=\"color: #00af00; text-decoration-color: #00af00\">0</span> │\n",
       "├─────────────────────────────────┼────────────────────────┼───────────────┤\n",
       "│ flatten_1 (<span style=\"color: #0087ff; text-decoration-color: #0087ff\">Flatten</span>)             │ (<span style=\"color: #00d7ff; text-decoration-color: #00d7ff\">None</span>, <span style=\"color: #00af00; text-decoration-color: #00af00\">4608</span>)           │             <span style=\"color: #00af00; text-decoration-color: #00af00\">0</span> │\n",
       "├─────────────────────────────────┼────────────────────────┼───────────────┤\n",
       "│ dense_3 (<span style=\"color: #0087ff; text-decoration-color: #0087ff\">Dense</span>)                 │ (<span style=\"color: #00d7ff; text-decoration-color: #00d7ff\">None</span>, <span style=\"color: #00af00; text-decoration-color: #00af00\">128</span>)            │       <span style=\"color: #00af00; text-decoration-color: #00af00\">589,952</span> │\n",
       "├─────────────────────────────────┼────────────────────────┼───────────────┤\n",
       "│ dense_4 (<span style=\"color: #0087ff; text-decoration-color: #0087ff\">Dense</span>)                 │ (<span style=\"color: #00d7ff; text-decoration-color: #00d7ff\">None</span>, <span style=\"color: #00af00; text-decoration-color: #00af00\">64</span>)             │         <span style=\"color: #00af00; text-decoration-color: #00af00\">8,256</span> │\n",
       "├─────────────────────────────────┼────────────────────────┼───────────────┤\n",
       "│ dense_5 (<span style=\"color: #0087ff; text-decoration-color: #0087ff\">Dense</span>)                 │ (<span style=\"color: #00d7ff; text-decoration-color: #00d7ff\">None</span>, <span style=\"color: #00af00; text-decoration-color: #00af00\">7</span>)              │           <span style=\"color: #00af00; text-decoration-color: #00af00\">455</span> │\n",
       "└─────────────────────────────────┴────────────────────────┴───────────────┘\n",
       "</pre>\n"
      ],
      "text/plain": [
       "┏━━━━━━━━━━━━━━━━━━━━━━━━━━━━━━━━━┳━━━━━━━━━━━━━━━━━━━━━━━━┳━━━━━━━━━━━━━━━┓\n",
       "┃\u001b[1m \u001b[0m\u001b[1mLayer (type)                   \u001b[0m\u001b[1m \u001b[0m┃\u001b[1m \u001b[0m\u001b[1mOutput Shape          \u001b[0m\u001b[1m \u001b[0m┃\u001b[1m \u001b[0m\u001b[1m      Param #\u001b[0m\u001b[1m \u001b[0m┃\n",
       "┡━━━━━━━━━━━━━━━━━━━━━━━━━━━━━━━━━╇━━━━━━━━━━━━━━━━━━━━━━━━╇━━━━━━━━━━━━━━━┩\n",
       "│ conv2d_3 (\u001b[38;5;33mConv2D\u001b[0m)               │ (\u001b[38;5;45mNone\u001b[0m, \u001b[38;5;34m48\u001b[0m, \u001b[38;5;34m48\u001b[0m, \u001b[38;5;34m32\u001b[0m)     │           \u001b[38;5;34m320\u001b[0m │\n",
       "├─────────────────────────────────┼────────────────────────┼───────────────┤\n",
       "│ max_pooling2d_3 (\u001b[38;5;33mMaxPooling2D\u001b[0m)  │ (\u001b[38;5;45mNone\u001b[0m, \u001b[38;5;34m24\u001b[0m, \u001b[38;5;34m24\u001b[0m, \u001b[38;5;34m32\u001b[0m)     │             \u001b[38;5;34m0\u001b[0m │\n",
       "├─────────────────────────────────┼────────────────────────┼───────────────┤\n",
       "│ conv2d_4 (\u001b[38;5;33mConv2D\u001b[0m)               │ (\u001b[38;5;45mNone\u001b[0m, \u001b[38;5;34m24\u001b[0m, \u001b[38;5;34m24\u001b[0m, \u001b[38;5;34m64\u001b[0m)     │        \u001b[38;5;34m18,496\u001b[0m │\n",
       "├─────────────────────────────────┼────────────────────────┼───────────────┤\n",
       "│ max_pooling2d_4 (\u001b[38;5;33mMaxPooling2D\u001b[0m)  │ (\u001b[38;5;45mNone\u001b[0m, \u001b[38;5;34m12\u001b[0m, \u001b[38;5;34m12\u001b[0m, \u001b[38;5;34m64\u001b[0m)     │             \u001b[38;5;34m0\u001b[0m │\n",
       "├─────────────────────────────────┼────────────────────────┼───────────────┤\n",
       "│ conv2d_5 (\u001b[38;5;33mConv2D\u001b[0m)               │ (\u001b[38;5;45mNone\u001b[0m, \u001b[38;5;34m12\u001b[0m, \u001b[38;5;34m12\u001b[0m, \u001b[38;5;34m128\u001b[0m)    │        \u001b[38;5;34m73,856\u001b[0m │\n",
       "├─────────────────────────────────┼────────────────────────┼───────────────┤\n",
       "│ max_pooling2d_5 (\u001b[38;5;33mMaxPooling2D\u001b[0m)  │ (\u001b[38;5;45mNone\u001b[0m, \u001b[38;5;34m6\u001b[0m, \u001b[38;5;34m6\u001b[0m, \u001b[38;5;34m128\u001b[0m)      │             \u001b[38;5;34m0\u001b[0m │\n",
       "├─────────────────────────────────┼────────────────────────┼───────────────┤\n",
       "│ flatten_1 (\u001b[38;5;33mFlatten\u001b[0m)             │ (\u001b[38;5;45mNone\u001b[0m, \u001b[38;5;34m4608\u001b[0m)           │             \u001b[38;5;34m0\u001b[0m │\n",
       "├─────────────────────────────────┼────────────────────────┼───────────────┤\n",
       "│ dense_3 (\u001b[38;5;33mDense\u001b[0m)                 │ (\u001b[38;5;45mNone\u001b[0m, \u001b[38;5;34m128\u001b[0m)            │       \u001b[38;5;34m589,952\u001b[0m │\n",
       "├─────────────────────────────────┼────────────────────────┼───────────────┤\n",
       "│ dense_4 (\u001b[38;5;33mDense\u001b[0m)                 │ (\u001b[38;5;45mNone\u001b[0m, \u001b[38;5;34m64\u001b[0m)             │         \u001b[38;5;34m8,256\u001b[0m │\n",
       "├─────────────────────────────────┼────────────────────────┼───────────────┤\n",
       "│ dense_5 (\u001b[38;5;33mDense\u001b[0m)                 │ (\u001b[38;5;45mNone\u001b[0m, \u001b[38;5;34m7\u001b[0m)              │           \u001b[38;5;34m455\u001b[0m │\n",
       "└─────────────────────────────────┴────────────────────────┴───────────────┘\n"
      ]
     },
     "metadata": {},
     "output_type": "display_data"
    },
    {
     "data": {
      "text/html": [
       "<pre style=\"white-space:pre;overflow-x:auto;line-height:normal;font-family:Menlo,'DejaVu Sans Mono',consolas,'Courier New',monospace\"><span style=\"font-weight: bold\"> Total params: </span><span style=\"color: #00af00; text-decoration-color: #00af00\">691,335</span> (2.64 MB)\n",
       "</pre>\n"
      ],
      "text/plain": [
       "\u001b[1m Total params: \u001b[0m\u001b[38;5;34m691,335\u001b[0m (2.64 MB)\n"
      ]
     },
     "metadata": {},
     "output_type": "display_data"
    },
    {
     "data": {
      "text/html": [
       "<pre style=\"white-space:pre;overflow-x:auto;line-height:normal;font-family:Menlo,'DejaVu Sans Mono',consolas,'Courier New',monospace\"><span style=\"font-weight: bold\"> Trainable params: </span><span style=\"color: #00af00; text-decoration-color: #00af00\">691,335</span> (2.64 MB)\n",
       "</pre>\n"
      ],
      "text/plain": [
       "\u001b[1m Trainable params: \u001b[0m\u001b[38;5;34m691,335\u001b[0m (2.64 MB)\n"
      ]
     },
     "metadata": {},
     "output_type": "display_data"
    },
    {
     "data": {
      "text/html": [
       "<pre style=\"white-space:pre;overflow-x:auto;line-height:normal;font-family:Menlo,'DejaVu Sans Mono',consolas,'Courier New',monospace\"><span style=\"font-weight: bold\"> Non-trainable params: </span><span style=\"color: #00af00; text-decoration-color: #00af00\">0</span> (0.00 B)\n",
       "</pre>\n"
      ],
      "text/plain": [
       "\u001b[1m Non-trainable params: \u001b[0m\u001b[38;5;34m0\u001b[0m (0.00 B)\n"
      ]
     },
     "metadata": {},
     "output_type": "display_data"
    }
   ],
   "source": [
    "input_shape = (48,48,1)\n",
    "num_categories = 7 # we have 7 emotions\n",
    "\n",
    "base_model = tf.keras.Sequential([\n",
    "    keras.layers.InputLayer(shape=input_shape),\n",
    "\n",
    "    # First Convolutional Layer (32 filters)\n",
    "    keras.layers.Conv2D(32, (3,3), activation='relu', padding='same'),\n",
    "    keras.layers.MaxPooling2D(pool_size=(2, 2)),\n",
    "\n",
    "    # Second Convolutional Layer (64 filters)\n",
    "    keras.layers.Conv2D(64, (3, 3), activation='relu', padding='same'),\n",
    "    keras.layers.MaxPooling2D(pool_size=(2, 2)),\n",
    "\n",
    "    # Third Convolutional Layer (128 filters)\n",
    "    keras.layers.Conv2D(128, (3, 3), activation='relu', padding='same'),\n",
    "    keras.layers.MaxPooling2D(pool_size=(2, 2)),\n",
    "    \n",
    "    keras.layers.Flatten(),\n",
    "    keras.layers.Dense(128, activation='relu'),\n",
    "    keras.layers.Dense(64, activation='relu'),\n",
    "\n",
    "    # Final output layer\n",
    "    keras.layers.Dense(num_categories, activation='softmax') \n",
    "])\n",
    "\n",
    "optimizer = keras.optimizers.Adam(learning_rate=0.001)\n",
    "\n",
    "loss = keras.losses.CategoricalCrossentropy(from_logits=False)\n",
    "\n",
    "base_model.compile(optimizer=optimizer, loss=loss, metrics=['accuracy'])\n",
    "\n",
    "base_model.summary()"
   ]
  },
  {
   "cell_type": "markdown",
   "id": "c46efa33-2778-4c24-8c7e-b138c4028656",
   "metadata": {},
   "source": [
    "## Preparing the datasets for training\n",
    "\n",
    "I need a `label_encoder` to one-hot-encode the categories (which are currently in string format).\n",
    "\n",
    "I have also added a `preprocess_input` function. At the moment this normalizes the image (converting all pixels into a [0,1] range) but it can be expanded in the future to perform additional steps e.g. to resize images and convert images to grayscale.\n",
    "\n",
    "I shuffle the dataset to prevent any kind of order bias.\n",
    "\n",
    "I use `prefetch` to improve performance: it will start preparing the next batch of data while the model is training the current batch.\n",
    "\n",
    "We start with a batch_size of 32 to balance memory consumption (not too much data is loaded into memory) and speed (might take longer than a larger batch size but hopefully not too bad)."
   ]
  },
  {
   "cell_type": "code",
   "execution_count": 25,
   "id": "f7b27961-ecea-4c98-b37e-d5c371227c2b",
   "metadata": {},
   "outputs": [],
   "source": [
    "# Augmentation Layers\n",
    "rotation_layer = tf.keras.layers.RandomRotation(0.05)  # Rotate by up to 5% of 360 degrees i.e. 18 degrees\n",
    "zoom_layer = tf.keras.layers.RandomZoom(height_factor=0.05, width_factor=0.05)  # Zoom by 5%\n",
    "shift_layer = tf.keras.layers.RandomTranslation(height_factor=0.05, width_factor=0.05)  # Shift by 5%\n",
    "flip_layer = tf.keras.layers.RandomFlip(\"horizontal\")\n",
    "\n",
    "def augment_image(image):\n",
    "    \"\"\"Augment the image with a random rotation, zoom, translation and flip\"\"\"\n",
    "    image = rotation_layer(image) \n",
    "    image = zoom_layer(image) \n",
    "    image = shift_layer(image)  \n",
    "    image = flip_layer(image)\n",
    "    \n",
    "    return image\n",
    "\n",
    "\n",
    "\n",
    "def preprocess_input(image_path, should_augment_image=False):\n",
    "    \"\"\"Preprocess Input\"\"\"\n",
    "    try:\n",
    "        image_file = tf.io.read_file(image_path)\n",
    "    except:\n",
    "        print(f\"Issue loading {image_file}\")\n",
    "        return None\n",
    "\n",
    "    image = tf.image.decode_jpeg(image_file, channels=1)\n",
    "    image = tf.image.resize(image, (48, 48))\n",
    "\n",
    "    if should_augment_image:\n",
    "        image = augment_image(image)\n",
    "        \n",
    "    image = image / 255.0 \n",
    "    return image\n",
    "\n",
    "def create_label_encoder(categories):\n",
    "    \"\"\"Create a mapping from category names to integer indices and perform one hot encoding\"\"\"\n",
    "    return tf.keras.layers.StringLookup(vocabulary=categories, \n",
    "                                                output_mode='one_hot', \n",
    "                                                num_oov_indices=0)\n",
    "\n",
    "def create_dataset(image_paths, labels, label_encoder, should_augment_image=False, batch_size=32):\n",
    "    \"\"\"Load the dataset from file paths, apply preprocessing and group into batches\"\"\"\n",
    "    dataset = tf.data.Dataset.from_tensor_slices((image_paths, labels))\n",
    "    dataset = dataset.map(lambda x, y: (preprocess_input(x,should_augment_image=should_augment_image), tf.squeeze(label_encoder(y))))\n",
    "    dataset = dataset.batch(batch_size)\n",
    "    dataset = dataset.shuffle(buffer_size=1000)  # Shuffle the dataset\n",
    "    dataset = dataset.prefetch(tf.data.experimental.AUTOTUNE)  # Prefetch for better performance\n",
    "    return dataset"
   ]
  },
  {
   "cell_type": "code",
   "execution_count": 22,
   "id": "9063f1cc-9e6e-4d5b-aa09-8d1b3a955de7",
   "metadata": {},
   "outputs": [],
   "source": [
    "train_labels = df_meta_train[\"category\"].values\n",
    "train_image_paths = df_meta_train[\"file_path\"].values\n",
    "\n",
    "val_labels = df_meta_val[\"category\"].values\n",
    "val_image_paths = df_meta_val[\"file_path\"].values\n",
    "\n",
    "categories = list(df_meta_train[\"category\"].unique())\n",
    "label_encoder = create_label_encoder(categories)\n",
    "\n",
    "train_dataset = create_dataset(train_image_paths, train_labels, label_encoder, should_augment_image=False, batch_size=32)\n",
    "val_dataset = create_dataset(val_image_paths, val_labels, label_encoder, should_augment_image=False, batch_size=32)"
   ]
  },
  {
   "cell_type": "code",
   "execution_count": 23,
   "id": "f456ff92-dcfe-43bd-ba47-d5adc04ad796",
   "metadata": {},
   "outputs": [
    {
     "data": {
      "text/plain": [
       "(837, 26784, 3488)"
      ]
     },
     "execution_count": 23,
     "metadata": {},
     "output_type": "execute_result"
    }
   ],
   "source": [
    "expected_num_iterations_per_epoch = len(train_dataset)\n",
    "length_training_data = len(train_dataset) * 32\n",
    "length_validation_data = len(val_dataset) * 32\n",
    "\n",
    "expected_num_iterations_per_epoch, length_training_data, length_validation_data"
   ]
  },
  {
   "cell_type": "markdown",
   "id": "92bdb8c4-0e66-4064-bf96-798b8ebf164a",
   "metadata": {},
   "source": [
    "## Training the base model\n",
    "\n",
    "I train the initial base model across 30 epochs to get a sense of its general performance. The default learning rate seems quite low so I wanted to train for more than the standard 10 epochs."
   ]
  },
  {
   "cell_type": "code",
   "execution_count": 31,
   "id": "109e09f4-e055-4d24-a1de-924b31edbe1d",
   "metadata": {
    "execution": {
     "iopub.execute_input": "2025-01-22T18:40:11.458013Z",
     "iopub.status.busy": "2025-01-22T18:40:11.457663Z",
     "iopub.status.idle": "2025-01-22T18:43:28.292705Z",
     "shell.execute_reply": "2025-01-22T18:43:28.292177Z",
     "shell.execute_reply.started": "2025-01-22T18:40:11.457989Z"
    }
   },
   "outputs": [
    {
     "name": "stdout",
     "output_type": "stream",
     "text": [
      "Epoch 1/30\n",
      "\u001b[1m837/837\u001b[0m \u001b[32m━━━━━━━━━━━━━━━━━━━━\u001b[0m\u001b[37m\u001b[0m \u001b[1m11s\u001b[0m 6ms/step - accuracy: 0.2525 - loss: 1.8344 - val_accuracy: 0.2432 - val_loss: 1.8222\n",
      "Epoch 2/30\n",
      "\u001b[1m837/837\u001b[0m \u001b[32m━━━━━━━━━━━━━━━━━━━━\u001b[0m\u001b[37m\u001b[0m \u001b[1m6s\u001b[0m 4ms/step - accuracy: 0.2291 - loss: 1.8204 - val_accuracy: 0.2277 - val_loss: 1.8486\n",
      "Epoch 3/30\n",
      "\u001b[1m837/837\u001b[0m \u001b[32m━━━━━━━━━━━━━━━━━━━━\u001b[0m\u001b[37m\u001b[0m \u001b[1m6s\u001b[0m 4ms/step - accuracy: 0.2527 - loss: 1.8032 - val_accuracy: 0.2516 - val_loss: 1.8064\n",
      "Epoch 4/30\n",
      "\u001b[1m837/837\u001b[0m \u001b[32m━━━━━━━━━━━━━━━━━━━━\u001b[0m\u001b[37m\u001b[0m \u001b[1m6s\u001b[0m 4ms/step - accuracy: 0.2731 - loss: 1.8065 - val_accuracy: 0.1872 - val_loss: 1.8615\n",
      "Epoch 5/30\n",
      "\u001b[1m837/837\u001b[0m \u001b[32m━━━━━━━━━━━━━━━━━━━━\u001b[0m\u001b[37m\u001b[0m \u001b[1m6s\u001b[0m 4ms/step - accuracy: 0.2669 - loss: 1.8139 - val_accuracy: 0.2516 - val_loss: 1.7969\n",
      "Epoch 6/30\n",
      "\u001b[1m837/837\u001b[0m \u001b[32m━━━━━━━━━━━━━━━━━━━━\u001b[0m\u001b[37m\u001b[0m \u001b[1m6s\u001b[0m 4ms/step - accuracy: 0.2533 - loss: 1.7722 - val_accuracy: 0.2895 - val_loss: 1.7403\n",
      "Epoch 7/30\n",
      "\u001b[1m837/837\u001b[0m \u001b[32m━━━━━━━━━━━━━━━━━━━━\u001b[0m\u001b[37m\u001b[0m \u001b[1m6s\u001b[0m 4ms/step - accuracy: 0.2737 - loss: 1.7372 - val_accuracy: 0.3292 - val_loss: 1.6611\n",
      "Epoch 8/30\n",
      "\u001b[1m837/837\u001b[0m \u001b[32m━━━━━━━━━━━━━━━━━━━━\u001b[0m\u001b[37m\u001b[0m \u001b[1m6s\u001b[0m 4ms/step - accuracy: 0.3255 - loss: 1.6580 - val_accuracy: 0.3827 - val_loss: 1.5818\n",
      "Epoch 9/30\n",
      "\u001b[1m837/837\u001b[0m \u001b[32m━━━━━━━━━━━━━━━━━━━━\u001b[0m\u001b[37m\u001b[0m \u001b[1m6s\u001b[0m 4ms/step - accuracy: 0.3809 - loss: 1.5540 - val_accuracy: 0.4304 - val_loss: 1.4847\n",
      "Epoch 10/30\n",
      "\u001b[1m837/837\u001b[0m \u001b[32m━━━━━━━━━━━━━━━━━━━━\u001b[0m\u001b[37m\u001b[0m \u001b[1m6s\u001b[0m 4ms/step - accuracy: 0.4081 - loss: 1.4760 - val_accuracy: 0.4376 - val_loss: 1.4430\n",
      "Epoch 11/30\n",
      "\u001b[1m837/837\u001b[0m \u001b[32m━━━━━━━━━━━━━━━━━━━━\u001b[0m\u001b[37m\u001b[0m \u001b[1m6s\u001b[0m 4ms/step - accuracy: 0.4341 - loss: 1.4332 - val_accuracy: 0.4250 - val_loss: 1.5235\n",
      "Epoch 12/30\n",
      "\u001b[1m837/837\u001b[0m \u001b[32m━━━━━━━━━━━━━━━━━━━━\u001b[0m\u001b[37m\u001b[0m \u001b[1m6s\u001b[0m 4ms/step - accuracy: 0.4876 - loss: 1.3241 - val_accuracy: 0.4882 - val_loss: 1.3318\n",
      "Epoch 13/30\n",
      "\u001b[1m837/837\u001b[0m \u001b[32m━━━━━━━━━━━━━━━━━━━━\u001b[0m\u001b[37m\u001b[0m \u001b[1m6s\u001b[0m 4ms/step - accuracy: 0.5158 - loss: 1.2610 - val_accuracy: 0.4724 - val_loss: 1.3566\n",
      "Epoch 14/30\n",
      "\u001b[1m837/837\u001b[0m \u001b[32m━━━━━━━━━━━━━━━━━━━━\u001b[0m\u001b[37m\u001b[0m \u001b[1m6s\u001b[0m 4ms/step - accuracy: 0.5428 - loss: 1.1978 - val_accuracy: 0.4842 - val_loss: 1.3397\n",
      "Epoch 15/30\n",
      "\u001b[1m837/837\u001b[0m \u001b[32m━━━━━━━━━━━━━━━━━━━━\u001b[0m\u001b[37m\u001b[0m \u001b[1m6s\u001b[0m 4ms/step - accuracy: 0.5597 - loss: 1.1537 - val_accuracy: 0.5158 - val_loss: 1.3012\n",
      "Epoch 16/30\n",
      "\u001b[1m837/837\u001b[0m \u001b[32m━━━━━━━━━━━━━━━━━━━━\u001b[0m\u001b[37m\u001b[0m \u001b[1m6s\u001b[0m 4ms/step - accuracy: 0.5925 - loss: 1.0661 - val_accuracy: 0.5322 - val_loss: 1.2812\n",
      "Epoch 17/30\n",
      "\u001b[1m837/837\u001b[0m \u001b[32m━━━━━━━━━━━━━━━━━━━━\u001b[0m\u001b[37m\u001b[0m \u001b[1m6s\u001b[0m 4ms/step - accuracy: 0.6409 - loss: 0.9656 - val_accuracy: 0.5270 - val_loss: 1.3007\n",
      "Epoch 18/30\n",
      "\u001b[1m837/837\u001b[0m \u001b[32m━━━━━━━━━━━━━━━━━━━━\u001b[0m\u001b[37m\u001b[0m \u001b[1m6s\u001b[0m 4ms/step - accuracy: 0.6554 - loss: 0.9200 - val_accuracy: 0.5313 - val_loss: 1.3288\n",
      "Epoch 19/30\n",
      "\u001b[1m837/837\u001b[0m \u001b[32m━━━━━━━━━━━━━━━━━━━━\u001b[0m\u001b[37m\u001b[0m \u001b[1m6s\u001b[0m 4ms/step - accuracy: 0.7025 - loss: 0.8062 - val_accuracy: 0.5322 - val_loss: 1.4385\n",
      "Epoch 20/30\n",
      "\u001b[1m837/837\u001b[0m \u001b[32m━━━━━━━━━━━━━━━━━━━━\u001b[0m\u001b[37m\u001b[0m \u001b[1m6s\u001b[0m 4ms/step - accuracy: 0.7077 - loss: 0.7879 - val_accuracy: 0.5331 - val_loss: 1.5195\n",
      "Epoch 21/30\n",
      "\u001b[1m837/837\u001b[0m \u001b[32m━━━━━━━━━━━━━━━━━━━━\u001b[0m\u001b[37m\u001b[0m \u001b[1m6s\u001b[0m 4ms/step - accuracy: 0.7559 - loss: 0.6645 - val_accuracy: 0.5328 - val_loss: 1.5824\n",
      "Epoch 22/30\n",
      "\u001b[1m837/837\u001b[0m \u001b[32m━━━━━━━━━━━━━━━━━━━━\u001b[0m\u001b[37m\u001b[0m \u001b[1m6s\u001b[0m 4ms/step - accuracy: 0.7731 - loss: 0.6117 - val_accuracy: 0.5305 - val_loss: 1.6609\n",
      "Epoch 23/30\n",
      "\u001b[1m837/837\u001b[0m \u001b[32m━━━━━━━━━━━━━━━━━━━━\u001b[0m\u001b[37m\u001b[0m \u001b[1m6s\u001b[0m 4ms/step - accuracy: 0.8043 - loss: 0.5391 - val_accuracy: 0.5230 - val_loss: 1.7875\n",
      "Epoch 24/30\n",
      "\u001b[1m837/837\u001b[0m \u001b[32m━━━━━━━━━━━━━━━━━━━━\u001b[0m\u001b[37m\u001b[0m \u001b[1m6s\u001b[0m 4ms/step - accuracy: 0.8178 - loss: 0.4997 - val_accuracy: 0.5198 - val_loss: 1.9787\n",
      "Epoch 25/30\n",
      "\u001b[1m837/837\u001b[0m \u001b[32m━━━━━━━━━━━━━━━━━━━━\u001b[0m\u001b[37m\u001b[0m \u001b[1m6s\u001b[0m 4ms/step - accuracy: 0.8528 - loss: 0.4062 - val_accuracy: 0.5158 - val_loss: 2.0962\n",
      "Epoch 26/30\n",
      "\u001b[1m837/837\u001b[0m \u001b[32m━━━━━━━━━━━━━━━━━━━━\u001b[0m\u001b[37m\u001b[0m \u001b[1m6s\u001b[0m 4ms/step - accuracy: 0.8579 - loss: 0.3969 - val_accuracy: 0.5213 - val_loss: 2.2260\n",
      "Epoch 27/30\n",
      "\u001b[1m837/837\u001b[0m \u001b[32m━━━━━━━━━━━━━━━━━━━━\u001b[0m\u001b[37m\u001b[0m \u001b[1m6s\u001b[0m 4ms/step - accuracy: 0.8796 - loss: 0.3372 - val_accuracy: 0.5104 - val_loss: 2.3998\n",
      "Epoch 28/30\n",
      "\u001b[1m837/837\u001b[0m \u001b[32m━━━━━━━━━━━━━━━━━━━━\u001b[0m\u001b[37m\u001b[0m \u001b[1m6s\u001b[0m 4ms/step - accuracy: 0.8886 - loss: 0.3119 - val_accuracy: 0.5178 - val_loss: 2.5441\n",
      "Epoch 29/30\n",
      "\u001b[1m837/837\u001b[0m \u001b[32m━━━━━━━━━━━━━━━━━━━━\u001b[0m\u001b[37m\u001b[0m \u001b[1m6s\u001b[0m 4ms/step - accuracy: 0.9016 - loss: 0.2750 - val_accuracy: 0.5210 - val_loss: 2.7740\n",
      "Epoch 30/30\n",
      "\u001b[1m837/837\u001b[0m \u001b[32m━━━━━━━━━━━━━━━━━━━━\u001b[0m\u001b[37m\u001b[0m \u001b[1m6s\u001b[0m 4ms/step - accuracy: 0.9093 - loss: 0.2546 - val_accuracy: 0.5178 - val_loss: 2.8042\n"
     ]
    }
   ],
   "source": [
    "base_history = base_model.fit(\n",
    "    train_dataset,          \n",
    "    epochs=30,           \n",
    "    validation_data=val_dataset  \n",
    ")"
   ]
  },
  {
   "cell_type": "markdown",
   "id": "1962b983-c610-4af1-870a-944f7af40028",
   "metadata": {},
   "source": [
    "**Evaluation**\n",
    "\n",
    "Looking at these first results, you can see that the accuracy on the validation set doesn't get much better than 50%. \n",
    "\n",
    "You can also see that the validation loss starts to increase after around 18 epochs, which can be an indication of overfitting.\n",
    "\n",
    "50% is not a great accuracy score and training for longer with the current model doesn't seem to help. Before we start tweaking our current model, it would be interesting to see if a pretrained model will give us better performance. "
   ]
  },
  {
   "cell_type": "code",
   "execution_count": 35,
   "id": "59715bfe-7444-47b3-b2b3-b7ebf4aacaa4",
   "metadata": {
    "execution": {
     "iopub.execute_input": "2025-01-22T18:44:07.796755Z",
     "iopub.status.busy": "2025-01-22T18:44:07.796414Z",
     "iopub.status.idle": "2025-01-22T18:44:07.988355Z",
     "shell.execute_reply": "2025-01-22T18:44:07.987676Z",
     "shell.execute_reply.started": "2025-01-22T18:44:07.796733Z"
    }
   },
   "outputs": [
    {
     "data": {
      "image/png": "[encoded data removed]",
      "text/plain": [
       "<Figure size 640x480 with 1 Axes>"
      ]
     },
     "metadata": {},
     "output_type": "display_data"
    }
   ],
   "source": [
    "plt.plot(base_history.history[\"accuracy\"], label=\"train\")\n",
    "plt.plot(base_history.history[\"val_accuracy\"], label=\"val\")\n",
    "plt.xticks(np.arange(30))\n",
    "plt.legend()\n",
    "plt.title(\"Accuracy over epochs\")\n",
    "plt.show()"
   ]
  },
  {
   "cell_type": "code",
   "execution_count": 36,
   "id": "f73dd8e0-db13-4e7c-b0d1-6d4ab348a620",
   "metadata": {
    "execution": {
     "iopub.execute_input": "2025-01-22T18:44:11.927564Z",
     "iopub.status.busy": "2025-01-22T18:44:11.927222Z",
     "iopub.status.idle": "2025-01-22T18:44:12.109601Z",
     "shell.execute_reply": "2025-01-22T18:44:12.108961Z",
     "shell.execute_reply.started": "2025-01-22T18:44:11.927542Z"
    }
   },
   "outputs": [
    {
     "data": {
      "image/png": "[encoded data removed]",
      "text/plain": [
       "<Figure size 640x480 with 1 Axes>"
      ]
     },
     "metadata": {},
     "output_type": "display_data"
    }
   ],
   "source": [
    "plt.plot(base_history.history[\"loss\"], label=\"train\")\n",
    "plt.plot(base_history.history[\"val_loss\"], label=\"val\")\n",
    "plt.xticks(np.arange(30))\n",
    "plt.legend()\n",
    "plt.title(\"Loss over epochs\")\n",
    "plt.show()"
   ]
  },
  {
   "cell_type": "markdown",
   "id": "4989e097-b395-45a1-bd01-ee694c71c8c7",
   "metadata": {},
   "source": [
    "## Improving the model"
   ]
  },
  {
   "cell_type": "code",
   "execution_count": 29,
   "id": "a3890820-1a3f-4431-93f2-8b1ea35e05e2",
   "metadata": {},
   "outputs": [],
   "source": [
    "def build_model(learning_rate=0.001, dense_layer_units=[128,64], drop_rate=0):\n",
    "    input_shape = (48,48,1)\n",
    "    num_categories = 7 \n",
    "\n",
    "    base_model = tf.keras.Sequential([\n",
    "        keras.layers.InputLayer(shape=input_shape),\n",
    "    \n",
    "        # First Convolutional Layer (32 filters)\n",
    "        keras.layers.Conv2D(32, (3,3), activation='relu', padding='same'),\n",
    "        keras.layers.MaxPooling2D(pool_size=(2, 2)),\n",
    "    \n",
    "        # Second Convolutional Layer (64 filters)\n",
    "        keras.layers.Conv2D(64, (3, 3), activation='relu', padding='same'),\n",
    "        keras.layers.MaxPooling2D(pool_size=(2, 2)),\n",
    "    \n",
    "        # Third Convolutional Layer (128 filters)\n",
    "        keras.layers.Conv2D(128, (3, 3), activation='relu', padding='same'),\n",
    "        keras.layers.MaxPooling2D(pool_size=(2, 2)),\n",
    "        \n",
    "        keras.layers.Flatten()\n",
    "    ])\n",
    "\n",
    "    # Add additional dense layers\n",
    "    for unit in dense_layer_units:\n",
    "        base_model.add(keras.layers.Dense(unit, activation='relu'))\n",
    "        # Add dropout\n",
    "        if drop_rate > 0:\n",
    "            base_model.add(keras.layers.Dropout(drop_rate))\n",
    "            \n",
    "    \n",
    "    # Final output layer\n",
    "    base_model.add(keras.layers.Dense(num_categories, activation='softmax')) \n",
    "\n",
    "    optimizer = keras.optimizers.Adam(learning_rate)\n",
    "    \n",
    "    loss = keras.losses.CategoricalCrossentropy(from_logits=False)\n",
    "    \n",
    "    base_model.compile(optimizer=optimizer, loss=loss, metrics=['accuracy'])\n",
    "\n",
    "    return base_model\n",
    "    "
   ]
  },
  {
   "cell_type": "markdown",
   "id": "3868863c-32eb-4339-9db5-e9d2d9b663ea",
   "metadata": {},
   "source": [
    "### 1. Class Imbalance: adjust the loss function\n",
    "\n",
    "We know we have an imbalanced dataset and we explored methods of rectifying this in the EDA. I will go with the simplest approach for just now: adjusting the loss function so that under-represented classes have larger weight when the loss function is calculated. I can achieve this by passing in a class_weight dictionary. "
   ]
  },
  {
   "cell_type": "code",
   "execution_count": 10,
   "id": "f992661d-3a4f-46f8-b62e-5cb6c6bae1eb",
   "metadata": {},
   "outputs": [
    {
     "data": {
      "text/html": [
       "<div>\n",
       "<style scoped>\n",
       "    .dataframe tbody tr th:only-of-type {\n",
       "        vertical-align: middle;\n",
       "    }\n",
       "\n",
       "    .dataframe tbody tr th {\n",
       "        vertical-align: top;\n",
       "    }\n",
       "\n",
       "    .dataframe thead th {\n",
       "        text-align: right;\n",
       "    }\n",
       "</style>\n",
       "<table border=\"1\" class=\"dataframe\">\n",
       "  <thead>\n",
       "    <tr style=\"text-align: right;\">\n",
       "      <th></th>\n",
       "      <th>category</th>\n",
       "      <th>count</th>\n",
       "      <th>weights</th>\n",
       "      <th>normalized_weights</th>\n",
       "    </tr>\n",
       "  </thead>\n",
       "  <tbody>\n",
       "    <tr>\n",
       "      <th>0</th>\n",
       "      <td>angry</td>\n",
       "      <td>3712</td>\n",
       "      <td>7.210938</td>\n",
       "      <td>0.064508</td>\n",
       "    </tr>\n",
       "    <tr>\n",
       "      <th>1</th>\n",
       "      <td>disgust</td>\n",
       "      <td>372</td>\n",
       "      <td>71.954301</td>\n",
       "      <td>0.643693</td>\n",
       "    </tr>\n",
       "    <tr>\n",
       "      <th>2</th>\n",
       "      <td>fear</td>\n",
       "      <td>3790</td>\n",
       "      <td>7.062533</td>\n",
       "      <td>0.063180</td>\n",
       "    </tr>\n",
       "    <tr>\n",
       "      <th>3</th>\n",
       "      <td>happy</td>\n",
       "      <td>6959</td>\n",
       "      <td>3.846386</td>\n",
       "      <td>0.034409</td>\n",
       "    </tr>\n",
       "    <tr>\n",
       "      <th>4</th>\n",
       "      <td>neutral</td>\n",
       "      <td>4731</td>\n",
       "      <td>5.657789</td>\n",
       "      <td>0.050614</td>\n",
       "    </tr>\n",
       "    <tr>\n",
       "      <th>5</th>\n",
       "      <td>sad</td>\n",
       "      <td>4581</td>\n",
       "      <td>5.843047</td>\n",
       "      <td>0.052271</td>\n",
       "    </tr>\n",
       "    <tr>\n",
       "      <th>6</th>\n",
       "      <td>surprise</td>\n",
       "      <td>2622</td>\n",
       "      <td>10.208619</td>\n",
       "      <td>0.091325</td>\n",
       "    </tr>\n",
       "  </tbody>\n",
       "</table>\n",
       "</div>"
      ],
      "text/plain": [
       "   category  count    weights  normalized_weights\n",
       "0     angry   3712   7.210938            0.064508\n",
       "1   disgust    372  71.954301            0.643693\n",
       "2      fear   3790   7.062533            0.063180\n",
       "3     happy   6959   3.846386            0.034409\n",
       "4   neutral   4731   5.657789            0.050614\n",
       "5       sad   4581   5.843047            0.052271\n",
       "6  surprise   2622  10.208619            0.091325"
      ]
     },
     "execution_count": 10,
     "metadata": {},
     "output_type": "execute_result"
    }
   ],
   "source": [
    "category_counts = df_meta_train[\"category\"].value_counts().reset_index().sort_values(by=\"category\").reset_index(drop=True)\n",
    "category_counts[\"weights\"] = np.sum(category_counts[\"count\"])/ category_counts[\"count\"]\n",
    "category_counts[\"normalized_weights\"] = category_counts[\"weights\"]/ np.sum(category_counts[\"weights\"])\n",
    "category_counts"
   ]
  },
  {
   "cell_type": "code",
   "execution_count": 18,
   "id": "63cfd07a-c4ba-4b0b-8e81-4abff4ebd79d",
   "metadata": {},
   "outputs": [
    {
     "data": {
      "text/plain": [
       "{0: 0.06450800153432945,\n",
       " 1: 0.6436927464930938,\n",
       " 2: 0.06318039622570737,\n",
       " 3: 0.03440921133717932,\n",
       " 4: 0.05061376066274168,\n",
       " 5: 0.052271054725044945,\n",
       " 6: 0.09132482902190346}"
      ]
     },
     "execution_count": 18,
     "metadata": {},
     "output_type": "execute_result"
    }
   ],
   "source": [
    "class_weight_dict = dict(zip(category_counts.index, category_counts[\"normalized_weights\"]))\n",
    "class_weight_dict"
   ]
  },
  {
   "cell_type": "code",
   "execution_count": 17,
   "id": "f0fe314f-bb1d-444b-a05f-8c24a7672bd6",
   "metadata": {},
   "outputs": [
    {
     "data": {
      "text/plain": [
       "(837, 26784, 3488)"
      ]
     },
     "execution_count": 17,
     "metadata": {},
     "output_type": "execute_result"
    }
   ],
   "source": [
    "# We use the same model configuration as before\n",
    "class_weight_model = build_model()\n",
    "\n",
    "class_weight_history = class_weight_model.fit(\n",
    "    train_dataset,          \n",
    "    epochs=30,           \n",
    "    validation_data=val_dataset,\n",
    "    class_weight=class_weight_dict # Add Class Weights\n",
    ")"
   ]
  },
  {
   "cell_type": "code",
   "execution_count": null,
   "id": "bc8af312-a890-444b-8be4-661fc0af0b7f",
   "metadata": {},
   "outputs": [],
   "source": [
    "plt.plot(class_weight_history.history[\"accuracy\"], label=\"train\")\n",
    "plt.plot(class_weight_history.history[\"val_accuracy\"], label=\"val\")\n",
    "plt.xticks(np.arange(30))\n",
    "plt.legend()\n",
    "plt.title(\"Accuracy over epochs\")\n",
    "plt.show()"
   ]
  },
  {
   "cell_type": "code",
   "execution_count": null,
   "id": "5dc4c9ec-8a2b-412e-8efa-714151d6c046",
   "metadata": {},
   "outputs": [],
   "source": [
    "plt.plot(class_weight_history.history[\"loss\"], label=\"train\")\n",
    "plt.plot(class_weight_history.history[\"val_loss\"], label=\"val\")\n",
    "plt.xticks(np.arange(30))\n",
    "plt.legend()\n",
    "plt.title(\"Loss over epochs\")\n",
    "plt.show()"
   ]
  },
  {
   "cell_type": "markdown",
   "id": "81936a84-92c5-4a7a-83bd-d6a8ad24fcb5",
   "metadata": {},
   "source": [
    "**Evaluation**\n",
    "\n",
    "\n",
    "TODO\n",
    "TODO\n",
    "TODO"
   ]
  },
  {
   "cell_type": "markdown",
   "id": "9e3d70b0-0750-4d90-9c31-f01eeaed4c85",
   "metadata": {},
   "source": [
    "### 2. Data Augmentation\n",
    "\n",
    "I have added an additional function to our dataset creator that will augment images. I have chosen the same settings used in the EDA.\n",
    "\n",
    "I apply transformations to the training dataset but NOT the validation dataset. When we use this in the training dataset, changes are applied randomly but we do not want randomness in our validation dataset: we want the same dataset to be evaluated against each model so we do not change this."
   ]
  },
  {
   "cell_type": "code",
   "execution_count": 26,
   "id": "e3dbe08f-f0b7-4696-92e9-2899da572db4",
   "metadata": {},
   "outputs": [
    {
     "name": "stdout",
     "output_type": "stream",
     "text": [
      "Augmenting\n"
     ]
    },
    {
     "data": {
      "text/plain": [
       "(837, 26784, 3488)"
      ]
     },
     "execution_count": 26,
     "metadata": {},
     "output_type": "execute_result"
    }
   ],
   "source": [
    "# We use the same model configuration as before\n",
    "data_aug_model = build_model()\n",
    "\n",
    "# We now add augmentation to our training set\n",
    "train_dataset = create_dataset(train_image_paths, train_labels, label_encoder, should_augment_image=True, batch_size=32)\n",
    "\n",
    "expected_num_iterations_per_epoch = len(train_dataset)\n",
    "length_training_data = len(train_dataset) * 32\n",
    "length_validation_data = len(val_dataset) * 32\n",
    "\n",
    "# Augmentation ddoes not change the number of images just \n",
    "expected_num_iterations_per_epoch, length_training_data, length_validation_data"
   ]
  },
  {
   "cell_type": "code",
   "execution_count": null,
   "id": "7177ff87-2f42-4971-95f6-c3b011c0161f",
   "metadata": {},
   "outputs": [],
   "source": [
    "data_aug_history = data_aug_model.fit(\n",
    "    train_dataset,          \n",
    "    epochs=30,           \n",
    "    validation_data=val_dataset,\n",
    "    class_weight=class_weight_dict ## TBD if should add\n",
    ")"
   ]
  },
  {
   "cell_type": "code",
   "execution_count": null,
   "id": "2d9b6a83-1e0b-4d15-9cce-5e949b710b82",
   "metadata": {},
   "outputs": [],
   "source": [
    "plt.plot(data_aug_history.history[\"accuracy\"], label=\"train\")\n",
    "plt.plot(data_aug_history.history[\"val_accuracy\"], label=\"val\")\n",
    "plt.xticks(np.arange(30))\n",
    "plt.legend()\n",
    "plt.title(\"Accuracy over epochs\")\n",
    "plt.show()"
   ]
  },
  {
   "cell_type": "code",
   "execution_count": null,
   "id": "16679c97-790a-4fbf-8f4e-0a6af4d0f455",
   "metadata": {},
   "outputs": [],
   "source": [
    "plt.plot(data_aug_history.history[\"loss\"], label=\"train\")\n",
    "plt.plot(data_aug_history.history[\"val_loss\"], label=\"val\")\n",
    "plt.xticks(np.arange(30))\n",
    "plt.legend()\n",
    "plt.title(\"Loss over epochs\")\n",
    "plt.show()"
   ]
  },
  {
   "cell_type": "markdown",
   "id": "1856556b-f8c9-414a-b677-e731a1676f20",
   "metadata": {},
   "source": [
    "**Evaluation**\n",
    "\n",
    "\n",
    "TODO\n",
    "TODO\n",
    "TODO"
   ]
  },
  {
   "cell_type": "markdown",
   "id": "21743ea3-50cf-4c44-a8f7-51beb60f04ef",
   "metadata": {},
   "source": [
    "### 3. Modifying the Learning Rate\n",
    "\n",
    "The default learning rate is `0.001`. We can experiment to see if a slower or faster learning rate works better for this model."
   ]
  },
  {
   "cell_type": "code",
   "execution_count": null,
   "id": "9473ea04-6d9f-4b7a-864d-68f5fe7ddd35",
   "metadata": {},
   "outputs": [],
   "source": [
    "# TBD, we will use the augmented training set\n",
    "train_dataset = create_dataset(train_image_paths, train_labels, label_encoder, should_augment_image=True, batch_size=32)\n",
    "\n",
    "lr_scores = {}\n",
    "\n",
    "for lr in [0.0001,0.001,0.01,0.1]:\n",
    "    print(lr)\n",
    "    \n",
    "    model = build_model(learning_rate=lr)\n",
    "\n",
    "    history = model.fit(\n",
    "        train_dataset,          \n",
    "        epochs=30,           \n",
    "        validation_data=val_dataset,\n",
    "        class_weight=class_weight_dict ## TBD if should add\n",
    "    )\n",
    "    lr_scores[lr] = history.history\n",
    "\n",
    "    print()\n",
    "    print()"
   ]
  },
  {
   "cell_type": "code",
   "execution_count": null,
   "id": "c3e00b52-4f9f-4920-9ef8-92efc8d49a78",
   "metadata": {},
   "outputs": [],
   "source": [
    "for lr, hist in lr_scores.items():\n",
    "    plt.plot(hist[\"val_accuracy\"], label=lr)\n",
    "plt.xticks(np.arange(30))\n",
    "plt.legend()\n",
    "plt.show()"
   ]
  },
  {
   "cell_type": "code",
   "execution_count": null,
   "id": "36ae7c2c-c886-472b-b27d-0c2ba7425a7d",
   "metadata": {},
   "outputs": [],
   "source": [
    "for lr, hist in lr_scores.items():\n",
    "    plt.plot(hist[\"val_loss\"], label=lr)\n",
    "plt.xticks(np.arange(30))\n",
    "plt.legend()\n",
    "plt.show()"
   ]
  },
  {
   "cell_type": "markdown",
   "id": "e7071421-a458-46e5-9fbf-d7098fbb8fd5",
   "metadata": {},
   "source": [
    "**Evaluation**\n",
    "\n",
    "\n",
    "TODO\n",
    "TODO\n",
    "TODO"
   ]
  },
  {
   "cell_type": "markdown",
   "id": "6bca0dc5-ba13-4ce8-9ba9-62c8dc3ae423",
   "metadata": {},
   "source": [
    "### 4. Modifying the Dense layers\n",
    "\n",
    "More layers means more complexity. Our base model has 2 dense layers, excluding the output layer.\n",
    "\n",
    "If the model is underfitting, it means that it is not capturing enough patterns and so adding additional dense layers may prove helpful.\n",
    "\n",
    "If the model is overfitting and performing too well on training data but badly on new data then removing layers can simplify the model and improve generalization.\n",
    "\n",
    "We will try a few permutations, ranging from removing the 2 additional layers entirely to adding an extra one."
   ]
  },
  {
   "cell_type": "code",
   "execution_count": null,
   "id": "7139b9fd-72dc-4f0c-aecb-0c1be3e3c711",
   "metadata": {},
   "outputs": [],
   "source": [
    "# TBD, we will use the augmented training set\n",
    "train_dataset = create_dataset(train_image_paths, train_labels, label_encoder, should_augment_image=True, batch_size=32)\n",
    "\n",
    "learning_rate=TBD\n",
    "dlu_scores = {}\n",
    "\n",
    "dlu_array = [[],[32],[64,32],[128,64],[128,64,32]]\n",
    "\n",
    "for dlu in dlu_array:\n",
    "    print(dlu)\n",
    "    \n",
    "    model = build_model(learning_rate=learning_rate,dense_layer_units=dlu)\n",
    "\n",
    "    history = model.fit(\n",
    "        train_dataset,          \n",
    "        epochs=30,           \n",
    "        validation_data=val_dataset,\n",
    "        class_weight=class_weight_dict ## TBD if should add\n",
    "    )\n",
    "    dlu_scores[dlu] = history.history\n",
    "\n",
    "    print()\n",
    "    print()"
   ]
  },
  {
   "cell_type": "code",
   "execution_count": null,
   "id": "96d3cf70-22a4-4dc5-9add-fa79bfcf331b",
   "metadata": {},
   "outputs": [],
   "source": [
    "for dlu, hist in dlu_scores.items():\n",
    "    #plt.plot(hist[\"accuracy\"], label=(f'train={dlu}'))\n",
    "    plt.plot(hist[\"val_accuracy\"], label=(f'val={dlu}'))\n",
    "plt.xticks(np.arange(30))\n",
    "#plt.yticks([0.78,0.80,0.82,0.825,0.83])\n",
    "plt.legend()\n",
    "plt.show()"
   ]
  },
  {
   "cell_type": "code",
   "execution_count": null,
   "id": "729be576-a439-40ec-9bc6-3111515c12d4",
   "metadata": {},
   "outputs": [],
   "source": [
    "for dlu, hist in dlu_scores.items():\n",
    "    plt.plot(hist[\"val_loss\"], label=dlu)\n",
    "plt.xticks(np.arange(30))\n",
    "plt.legend()\n",
    "plt.show()"
   ]
  },
  {
   "cell_type": "markdown",
   "id": "ae12ed26-594f-4f7f-9641-4a8fa07ce3b9",
   "metadata": {},
   "source": [
    "**Evaluation**\n",
    "\n",
    "\n",
    "TODO\n",
    "TODO\n",
    "TODO"
   ]
  },
  {
   "cell_type": "markdown",
   "id": "c79a1f20-5b2f-4119-9f39-0cb480df8889",
   "metadata": {},
   "source": [
    "### 5. Regularization via Dropout\n",
    "\n",
    "Dropout is a way of regularizing our neural net. We want to reduce the liklihood that our model will learn an irrelevant rule. Dropout forces the model to focus on the bigger picture and can prevent overfitting.\n",
    "\n",
    "During training we randomly drop or deactive a certain percentage of neurons in a layer which temporarily makes them inactive in that training step which means their outputs don't contribute to the forward pass or the gradient updates during back propagation. When neurons are dropped randomly, the network can't rely on a given neuron, which prevents overfitting."
   ]
  },
  {
   "cell_type": "code",
   "execution_count": null,
   "id": "f9e5c454-cf26-495d-a169-93c3bd10d7a8",
   "metadata": {},
   "outputs": [],
   "source": [
    "# TBD, we will use the augmented training set\n",
    "train_dataset = create_dataset(train_image_paths, train_labels, label_encoder, should_augment_image=True, batch_size=32)\n",
    "\n",
    "learning_rate=TBD\n",
    "dense_layer_units = TBD\n",
    "\n",
    "dr_scores = {}\n",
    "\n",
    "for dr in [0.0,0.2,0.5,0.8]:\n",
    "    print(dr)\n",
    "    \n",
    "    model = build_model(learning_rate=learning_rate,dense_layer_units=dense_layer_units, drop_rate=dr)\n",
    "\n",
    "    history = model.fit(\n",
    "        train_dataset,          \n",
    "        epochs=30,           \n",
    "        validation_data=val_dataset,\n",
    "        class_weight=class_weight_dict ## TBD if should add\n",
    "    )\n",
    "    dr_scores[dr] = history.history\n",
    "\n",
    "    print()\n",
    "    print()"
   ]
  },
  {
   "cell_type": "code",
   "execution_count": null,
   "id": "5b8f6054-e29f-4187-93fc-46c17747e524",
   "metadata": {},
   "outputs": [],
   "source": [
    "for dr, hist in dr_scores.items():\n",
    "    #plt.plot(hist[\"accuracy\"], label=(f'train={dr}'))\n",
    "    plt.plot(hist[\"val_accuracy\"], label=(f'val={dr}'))\n",
    "plt.xticks(np.arange(30))\n",
    "#plt.yticks([0.78,0.80,0.82,0.825,0.83])\n",
    "plt.legend()\n",
    "plt.show()"
   ]
  },
  {
   "cell_type": "code",
   "execution_count": null,
   "id": "9aff12ce-81ff-4894-91da-3132da172133",
   "metadata": {},
   "outputs": [],
   "source": [
    "for dr, hist in dr_scores.items():\n",
    "    plt.plot(hist[\"val_loss\"], label=dr)\n",
    "plt.xticks(np.arange(30))\n",
    "plt.legend()\n",
    "plt.show()"
   ]
  },
  {
   "cell_type": "markdown",
   "id": "355a6e0e-2482-4e97-a922-37524f521ec0",
   "metadata": {},
   "source": [
    "**Evaluation**\n",
    "\n",
    "\n",
    "TODO\n",
    "TODO\n",
    "TODO"
   ]
  },
  {
   "cell_type": "markdown",
   "id": "fa7d618e-1e17-4f3a-a742-256b7479fac0",
   "metadata": {},
   "source": [
    "## Building our Final Model"
   ]
  },
  {
   "cell_type": "code",
   "execution_count": null,
   "id": "6184dbef-f611-4d95-81b0-4ff2f594e454",
   "metadata": {},
   "outputs": [],
   "source": [
    "# TBD, we will use the augmented training set\n",
    "train_dataset = create_dataset(train_image_paths, train_labels, label_encoder, should_augment_image=True, batch_size=32)\n",
    "\n",
    "learning_rate=TBD\n",
    "dense_layer_units = TBD\n",
    "drop_rate = TBD\n",
    "\n",
    "final_model = build_model(learning_rate=learning_rate,dense_layer_units=dense_layer_units, drop_rate=drop_rate)\n",
    "\n",
    "checkpoint = keras.callbacks.ModelCheckpoint('er_final_{epoch:02d}_{val_accuracy:.3f}.keras',\n",
    "                                save_best_only=True,\n",
    "                                monitor='val_accuracy',\n",
    "                                mode='max'\n",
    "                               )\n",
    "\n",
    "final_history = final_model.fit(train_dataset, epochs=50, validation_data=val_dataset, callbacks=[checkpoint])"
   ]
  },
  {
   "cell_type": "markdown",
   "id": "2f9e0306-c0df-46fa-851b-f7ebb2f5d636",
   "metadata": {},
   "source": [
    "**Evaluate**\n",
    "TBD"
   ]
  },
  {
   "cell_type": "markdown",
   "id": "26e145da-1d14-4f5d-9055-fd5b635a9f57",
   "metadata": {},
   "source": [
    "### Evaluate final model and apply to test dataset"
   ]
  },
  {
   "cell_type": "code",
   "execution_count": null,
   "id": "dd4b590e-fe6b-4821-81eb-995b8d0241e8",
   "metadata": {},
   "outputs": [],
   "source": [
    "best_model_filepath = TBD\n",
    "chosen_model = keras.models.load_model(best_model_filepath)"
   ]
  },
  {
   "cell_type": "code",
   "execution_count": null,
   "id": "19411f2a-8615-4298-9a72-ddbf25d7aadc",
   "metadata": {},
   "outputs": [],
   "source": [
    "test_data_folder = data_file_path + \"test/\"\n",
    "\n",
    "meta_test = get_image_meta(test_data_folder)\n",
    "\n",
    "df_meta_test = pd.DataFrame(meta_test)\n",
    "\n",
    "test_labels = df_meta_test[\"category\"].values\n",
    "test_image_paths = df_meta_test[\"file_path\"].values\n",
    "\n",
    "test_dataset = create_dataset(test_image_paths, test_labels, label_encoder, should_augment_image=False, batch_size=32)\n",
    "\n",
    "loss, accuracy = chosen_model.evaluate(test_dataset)\n",
    "accuracy"
   ]
  },
  {
   "cell_type": "markdown",
   "id": "1aa9f106-86a3-4a8f-ac05-7b43cb4fd16c",
   "metadata": {},
   "source": [
    "### Use the model"
   ]
  },
  {
   "cell_type": "code",
   "execution_count": null,
   "id": "2b836b0a-8fd1-405e-9fcf-97033cd657e2",
   "metadata": {},
   "outputs": [],
   "source": [
    "path =  TBD\n",
    "img = preprocess_input(path,should_augment_image=False)\n",
    "img"
   ]
  },
  {
   "cell_type": "code",
   "execution_count": null,
   "id": "077c96f5-f4d9-4f49-8828-eebedc446377",
   "metadata": {},
   "outputs": [],
   "source": [
    "pred = chosen_model.predict(img)\n",
    "pred"
   ]
  },
  {
   "cell_type": "code",
   "execution_count": 30,
   "id": "26f06dce-b29d-4c75-a2a7-4188573a4a80",
   "metadata": {},
   "outputs": [
    {
     "data": {
      "text/plain": [
       "<StringLookup name=string_lookup_2, built=True>"
      ]
     },
     "execution_count": 30,
     "metadata": {},
     "output_type": "execute_result"
    }
   ],
   "source": [
    "predicted_class_index = np.argmax(pred)\n",
    "predicted_class_index"
   ]
  },
  {
   "cell_type": "markdown",
   "id": "fef1d5fc-5b83-4bb0-8a5f-798394140c11",
   "metadata": {},
   "source": [
    "categories = list(df_meta_train[\"category\"].unique())\n",
    "\n",
    "lookup_layer = tf.keras.layers.StringLookup(vocabulary=categories, output_mode='int', num_oov_indices=0, mask_token=None)\n",
    "\n",
    "inverse_lookup = lookup_layer.inverse()\n",
    "\n",
    "predicted_label= inverse_lookup(predicted_class_index)\n",
    "predicted_label"
   ]
  }
 ],
 "metadata": {
  "kernelspec": {
   "display_name": "Python 3 (ipykernel)",
   "language": "python",
   "name": "python3"
  },
  "language_info": {
   "codemirror_mode": {
    "name": "ipython",
    "version": 3
   },
   "file_extension": ".py",
   "mimetype": "text/x-python",
   "name": "python",
   "nbconvert_exporter": "python",
   "pygments_lexer": "ipython3",
   "version": "3.11.10"
  }
 },
 "nbformat": 4,
 "nbformat_minor": 5
}
