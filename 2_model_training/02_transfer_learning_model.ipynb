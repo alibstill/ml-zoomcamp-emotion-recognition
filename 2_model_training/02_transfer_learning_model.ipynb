{
 "cells": [
  {
   "cell_type": "markdown",
   "id": "d633bf7c-cab0-40f3-a652-218f15c36f77",
   "metadata": {},
   "source": [
    "# Transfer Learning Model"
   ]
  },
  {
   "cell_type": "code",
   "execution_count": 3,
   "id": "9ef466af-0b65-4201-afa5-265d8c42751a",
   "metadata": {
    "execution": {
     "iopub.execute_input": "2025-01-23T10:33:40.501043Z",
     "iopub.status.busy": "2025-01-23T10:33:40.500721Z",
     "iopub.status.idle": "2025-01-23T10:33:49.349201Z",
     "shell.execute_reply": "2025-01-23T10:33:49.348657Z",
     "shell.execute_reply.started": "2025-01-23T10:33:40.501024Z"
    }
   },
   "outputs": [
    {
     "name": "stderr",
     "output_type": "stream",
     "text": [
      "2025-01-23 10:33:42.238833: I tensorflow/core/util/port.cc:153] oneDNN custom operations are on. You may see slightly different numerical results due to floating-point round-off errors from different computation orders. To turn them off, set the environment variable `TF_ENABLE_ONEDNN_OPTS=0`.\n",
      "2025-01-23 10:33:42.254495: E external/local_xla/xla/stream_executor/cuda/cuda_fft.cc:477] Unable to register cuFFT factory: Attempting to register factory for plugin cuFFT when one has already been registered\n",
      "WARNING: All log messages before absl::InitializeLog() is called are written to STDERR\n",
      "E0000 00:00:1737628422.273308     203 cuda_dnn.cc:8310] Unable to register cuDNN factory: Attempting to register factory for plugin cuDNN when one has already been registered\n",
      "E0000 00:00:1737628422.279152     203 cuda_blas.cc:1418] Unable to register cuBLAS factory: Attempting to register factory for plugin cuBLAS when one has already been registered\n",
      "2025-01-23 10:33:42.298839: I tensorflow/core/platform/cpu_feature_guard.cc:210] This TensorFlow binary is optimized to use available CPU instructions in performance-critical operations.\n",
      "To enable the following instructions: AVX2 AVX512F AVX512_VNNI FMA, in other operations, rebuild TensorFlow with the appropriate compiler flags.\n"
     ]
    }
   ],
   "source": [
    "import pandas as pd\n",
    "import tensorflow as tf\n",
    "from tensorflow import keras\n",
    "from tensorflow.keras.preprocessing.image import load_img\n",
    "import numpy as np\n",
    "import os\n",
    "import matplotlib.pyplot as plt\n",
    "\n",
    "SEED = 42\n",
    "np.random.seed(SEED)\n",
    "tf.random.set_seed(SEED)"
   ]
  },
  {
   "cell_type": "markdown",
   "id": "e12f2d61-5062-461f-9357-9b050f435d78",
   "metadata": {},
   "source": [
    "## Pre-trained neural networks\n",
    "\n",
    "I trained a scratch model that was 6 layers deep. There are models available that are for more complex e.g. Xception is a convolutional neural network that is 71 layers deep. There is a version of Xception that has been trained on over a million images from the ImageNet database. This model can classify images into 1000 object categories, such as keyboard, mouse, pencil, and many animals. \n",
    "\n",
    "We know that the initial Convolutional layers are dedicated to feature extraction. This network has learned rich feature representations for a wide range of images and although it doesn't focus on emotion recognition, its convolutional layers may prove better at analysing the subtleties of images than our scratch model. \n",
    "\n",
    "### Xception model requirements\n",
    "\n",
    "Xception has specific input size requirements: 299 x 299 pixels and RGB images. Our images are 48 x 48 and grayscale. Resizing the image would create a lot of distortion. It is possible to pad the images (add black borders).\n",
    "\n",
    "### MobileNet\n",
    "\n",
    "Unlike Xception, MobileNet can handle smaller image dimensions without padding. It is optimized for mobile and embedded devices where memory and processing power are constrained. It doesn't perform as well as more complex models like Xception or EfficientNet. Then again MobileNet has been shown to work well with smaller inputs. The smallest supported size is 32 x 32. We can use the latest model: MobileNetV3-Small.\n",
    "\n",
    "In other Keras Applications, a specific kind of input preprocessing is required but for MobileNetV3 default input preprocessing is included as part of the model e.g. often the preprocessing layer scales the image down to have pixels in a range [0,1]. In this model however, it expects pixels with values in the [0-255] range. The only thing we have to do to our image is deal with its grayscale nature\n"
   ]
  },
  {
   "cell_type": "markdown",
   "id": "5ef06601-217e-486d-b2e8-7635dddb83b2",
   "metadata": {},
   "source": [
    "## Test running the current MobileNetV3_Small model\n",
    "\n",
    "Below we prepare a sample image for the MobileNetV3_Small model that has already been trained on imagenet. \n",
    "\n",
    "We need to resize the image to (244,244) and you can see that there is a loss of fidelity when we do this.\n",
    "\n",
    "You can also see that the pretrained model's best guess of this image is that it is an oboe! This is because the ImageNet dataset classifies objects, not faces. \n",
    "\n",
    "We can use the feature extraction learning gleaned in earlier layers and modify the later layers for our specific visualisation task."
   ]
  },
  {
   "cell_type": "code",
   "execution_count": 1,
   "id": "fb45d492-3b40-41d3-a86e-4e51cfdb6185",
   "metadata": {
    "execution": {
     "iopub.execute_input": "2025-01-23T10:33:31.128494Z",
     "iopub.status.busy": "2025-01-23T10:33:31.128178Z",
     "iopub.status.idle": "2025-01-23T10:33:31.132511Z",
     "shell.execute_reply": "2025-01-23T10:33:31.131872Z",
     "shell.execute_reply.started": "2025-01-23T10:33:31.128472Z"
    }
   },
   "outputs": [],
   "source": [
    "def preprocess_input(image_path, resize_dimensions=(48,48)):\n",
    "    \"\"\"Preprocess Input\"\"\"\n",
    "    try:\n",
    "        image_file = tf.io.read_file(image_path)\n",
    "    except:\n",
    "        print(f\"Issue loading {image_file}\")\n",
    "        return None\n",
    "\n",
    "    image = tf.image.decode_jpeg(image_file, channels=1)\n",
    "    image = tf.image.grayscale_to_rgb(image)\n",
    "    image = tf.image.resize(image, resize_dimensions)\n",
    "    image = keras.applications.mobilenet_v3.preprocess_input(image) \n",
    "        \n",
    "    return image"
   ]
  },
  {
   "cell_type": "code",
   "execution_count": 4,
   "id": "9acc2bf6-9464-482e-af30-5b357a3ec514",
   "metadata": {
    "execution": {
     "iopub.execute_input": "2025-01-23T10:33:49.350540Z",
     "iopub.status.busy": "2025-01-23T10:33:49.350117Z",
     "iopub.status.idle": "2025-01-23T10:33:49.385726Z",
     "shell.execute_reply": "2025-01-23T10:33:49.385251Z",
     "shell.execute_reply.started": "2025-01-23T10:33:49.350504Z"
    }
   },
   "outputs": [
    {
     "data": {
      "image/jpeg": "[encoded data removed]",
      "image/png": "[encoded data removed]",
      "text/plain": [
       "<PIL.JpegImagePlugin.JpegImageFile image mode=L size=48x48>"
      ]
     },
     "execution_count": 4,
     "metadata": {},
     "output_type": "execute_result"
    }
   ],
   "source": [
    "happy_image_path = '../data/clean_fer_2013/train/happy/Training_109676.jpg'\n",
    "img = load_img(happy_image_path, color_mode=\"grayscale\")\n",
    "img"
   ]
  },
  {
   "cell_type": "code",
   "execution_count": 5,
   "id": "354ca6d9-e105-4759-ae82-c2e9b3557f6b",
   "metadata": {
    "execution": {
     "iopub.execute_input": "2025-01-23T10:33:50.804594Z",
     "iopub.status.busy": "2025-01-23T10:33:50.804274Z",
     "iopub.status.idle": "2025-01-23T10:33:50.811249Z",
     "shell.execute_reply": "2025-01-23T10:33:50.810696Z",
     "shell.execute_reply.started": "2025-01-23T10:33:50.804574Z"
    }
   },
   "outputs": [
    {
     "data": {
      "image/jpeg": "[encoded data removed]",
      "image/png": "[encoded data removed]",
      "text/plain": [
       "<PIL.Image.Image image mode=RGB size=224x224>"
      ]
     },
     "execution_count": 5,
     "metadata": {},
     "output_type": "execute_result"
    }
   ],
   "source": [
    "load_img(happy_image_path, color_mode=\"rgb\", target_size=(224,224))"
   ]
  },
  {
   "cell_type": "code",
   "execution_count": 6,
   "id": "382bfac8-99b7-4ea9-bb69-6cfc63a3279d",
   "metadata": {
    "execution": {
     "iopub.execute_input": "2025-01-23T10:33:53.469504Z",
     "iopub.status.busy": "2025-01-23T10:33:53.469165Z",
     "iopub.status.idle": "2025-01-23T10:33:54.032012Z",
     "shell.execute_reply": "2025-01-23T10:33:54.031449Z",
     "shell.execute_reply.started": "2025-01-23T10:33:53.469484Z"
    }
   },
   "outputs": [
    {
     "name": "stderr",
     "output_type": "stream",
     "text": [
      "I0000 00:00:1737628433.732876     203 gpu_device.cc:2022] Created device /job:localhost/replica:0/task:0/device:GPU:0 with 13942 MB memory:  -> device: 0, name: Tesla T4, pci bus id: 0000:00:1e.0, compute capability: 7.5\n"
     ]
    },
    {
     "data": {
      "text/plain": [
       "((48, 48), TensorShape([48, 48, 3]))"
      ]
     },
     "execution_count": 6,
     "metadata": {},
     "output_type": "execute_result"
    }
   ],
   "source": [
    "np.array(img).shape, preprocess_input(happy_image_path).shape"
   ]
  },
  {
   "cell_type": "code",
   "execution_count": 7,
   "id": "b5d4875c-c6a7-46f9-8e0c-91c447a7435d",
   "metadata": {
    "execution": {
     "iopub.execute_input": "2025-01-23T10:33:56.637384Z",
     "iopub.status.busy": "2025-01-23T10:33:56.637061Z",
     "iopub.status.idle": "2025-01-23T10:33:56.645434Z",
     "shell.execute_reply": "2025-01-23T10:33:56.644896Z",
     "shell.execute_reply.started": "2025-01-23T10:33:56.637364Z"
    }
   },
   "outputs": [
    {
     "data": {
      "text/plain": [
       "((48, 48), TensorShape([224, 224, 3]))"
      ]
     },
     "execution_count": 7,
     "metadata": {},
     "output_type": "execute_result"
    }
   ],
   "source": [
    "np.array(img).shape, preprocess_input(happy_image_path, resize_dimensions=(224,224)).shape"
   ]
  },
  {
   "cell_type": "code",
   "execution_count": 8,
   "id": "361ca14e-6f52-49da-89d3-ac79d880ad35",
   "metadata": {
    "execution": {
     "iopub.execute_input": "2025-01-23T10:34:00.509830Z",
     "iopub.status.busy": "2025-01-23T10:34:00.509509Z",
     "iopub.status.idle": "2025-01-23T10:34:06.399697Z",
     "shell.execute_reply": "2025-01-23T10:34:06.399148Z",
     "shell.execute_reply.started": "2025-01-23T10:34:00.509808Z"
    }
   },
   "outputs": [
    {
     "name": "stdout",
     "output_type": "stream",
     "text": [
      "Downloading data from https://storage.googleapis.com/tensorflow/keras-applications/mobilenet_v3/weights_mobilenet_v3_small_224_1.0_float.h5\n",
      "\u001b[1m10734624/10734624\u001b[0m \u001b[32m━━━━━━━━━━━━━━━━━━━━\u001b[0m\u001b[37m\u001b[0m \u001b[1m0s\u001b[0m 0us/step\n"
     ]
    },
    {
     "name": "stderr",
     "output_type": "stream",
     "text": [
      "WARNING: All log messages before absl::InitializeLog() is called are written to STDERR\n",
      "I0000 00:00:1737628443.200030     480 service.cc:148] XLA service 0x7f747c030930 initialized for platform CUDA (this does not guarantee that XLA will be used). Devices:\n",
      "I0000 00:00:1737628443.200059     480 service.cc:156]   StreamExecutor device (0): Tesla T4, Compute Capability 7.5\n",
      "2025-01-23 10:34:03.242101: I tensorflow/compiler/mlir/tensorflow/utils/dump_mlir_util.cc:268] disabling MLIR crash reproducer, set env var `MLIR_CRASH_REPRODUCER_DIRECTORY` to enable.\n",
      "I0000 00:00:1737628443.558924     480 cuda_dnn.cc:529] Loaded cuDNN version 90300\n",
      "2025-01-23 10:34:04.806414: W external/local_xla/xla/service/gpu/nvptx_compiler.cc:930] The NVIDIA driver's CUDA version is 12.4 which is older than the PTX compiler version 12.5.82. Because the driver is older than the PTX compiler version, XLA is disabling parallel compilation, which may slow down compilation. You should update your NVIDIA driver or use the NVIDIA-provided CUDA forward compatibility packages.\n"
     ]
    },
    {
     "name": "stdout",
     "output_type": "stream",
     "text": [
      "\u001b[1m1/1\u001b[0m \u001b[32m━━━━━━━━━━━━━━━━━━━━\u001b[0m\u001b[37m\u001b[0m \u001b[1m4s\u001b[0m 4s/step\n"
     ]
    },
    {
     "name": "stderr",
     "output_type": "stream",
     "text": [
      "I0000 00:00:1737628446.364684     480 device_compiler.h:188] Compiled cluster using XLA!  This line is logged at most once for the lifetime of the process.\n"
     ]
    },
    {
     "data": {
      "text/plain": [
       "(1, 1000)"
      ]
     },
     "execution_count": 8,
     "metadata": {},
     "output_type": "execute_result"
    }
   ],
   "source": [
    "example_model = keras.applications.MobileNetV3Small(\n",
    "    weights=\"imagenet\",\n",
    "    input_shape=(224,224,3)\n",
    ")\n",
    "\n",
    "x = preprocess_input(happy_image_path, resize_dimensions=(224,224))\n",
    "X = np.expand_dims(x, axis=0)\n",
    "prediction = example_model.predict(X)\n",
    "prediction.shape"
   ]
  },
  {
   "cell_type": "code",
   "execution_count": 9,
   "id": "d0128500-a1f9-453e-9ffa-253f09cfe4a3",
   "metadata": {
    "execution": {
     "iopub.execute_input": "2025-01-23T10:34:14.480681Z",
     "iopub.status.busy": "2025-01-23T10:34:14.480344Z",
     "iopub.status.idle": "2025-01-23T10:34:14.484550Z",
     "shell.execute_reply": "2025-01-23T10:34:14.484062Z",
     "shell.execute_reply.started": "2025-01-23T10:34:14.480659Z"
    }
   },
   "outputs": [
    {
     "data": {
      "text/plain": [
       "(1, 224, 224, 3)"
      ]
     },
     "execution_count": 9,
     "metadata": {},
     "output_type": "execute_result"
    }
   ],
   "source": [
    "X.shape"
   ]
  },
  {
   "cell_type": "code",
   "execution_count": 10,
   "id": "c5b78e06-1d3f-4fdc-aa4b-e489c8fac883",
   "metadata": {
    "execution": {
     "iopub.execute_input": "2025-01-23T10:34:17.872299Z",
     "iopub.status.busy": "2025-01-23T10:34:17.871983Z",
     "iopub.status.idle": "2025-01-23T10:34:17.981023Z",
     "shell.execute_reply": "2025-01-23T10:34:17.980498Z",
     "shell.execute_reply.started": "2025-01-23T10:34:17.872278Z"
    }
   },
   "outputs": [
    {
     "name": "stdout",
     "output_type": "stream",
     "text": [
      "Downloading data from https://storage.googleapis.com/download.tensorflow.org/data/imagenet_class_index.json\n",
      "\u001b[1m35363/35363\u001b[0m \u001b[32m━━━━━━━━━━━━━━━━━━━━\u001b[0m\u001b[37m\u001b[0m \u001b[1m0s\u001b[0m 0us/step\n"
     ]
    },
    {
     "data": {
      "text/plain": [
       "[[('n03838899', 'oboe', np.float32(0.19695984)),\n",
       "  ('n03692522', 'loupe', np.float32(0.13229686)),\n",
       "  ('n04591157', 'Windsor_tie', np.float32(0.06434197)),\n",
       "  ('n04317175', 'stethoscope', np.float32(0.048217837)),\n",
       "  ('n02804610', 'bassoon', np.float32(0.046077117))]]"
      ]
     },
     "execution_count": 10,
     "metadata": {},
     "output_type": "execute_result"
    }
   ],
   "source": [
    "keras.applications.mobilenet_v3.decode_predictions(prediction)"
   ]
  },
  {
   "cell_type": "markdown",
   "id": "f101c15f-d7c5-465a-8347-5afe17e1cf79",
   "metadata": {},
   "source": [
    "## Transfer Learning\n",
    "\n",
    "I will do the following to make use of MobileNetV3Small for our data:\n",
    "\n",
    "1. Instantiate a base model and load pre-trained weights into it.\n",
    "2. Freeze all layers in the base model by setting trainable = False.\n",
    "3. Create a new model on top of the output of one (or several) layers from the base model.\n",
    "4. Train your new model on your new dataset.\n",
    "\n",
    "You can see that the model has far more parameters than our scratch model but the actual trainable parameters are significantly reduced. This makes sense: we have frozen our base model and it has already been trained. We are only training the dense layer we added."
   ]
  },
  {
   "cell_type": "code",
   "execution_count": 11,
   "id": "05015ed5-fa33-43c5-b76f-aa7bda552377",
   "metadata": {
    "execution": {
     "iopub.execute_input": "2025-01-23T10:34:26.107119Z",
     "iopub.status.busy": "2025-01-23T10:34:26.106800Z",
     "iopub.status.idle": "2025-01-23T10:34:26.993645Z",
     "shell.execute_reply": "2025-01-23T10:34:26.993133Z",
     "shell.execute_reply.started": "2025-01-23T10:34:26.107097Z"
    }
   },
   "outputs": [
    {
     "name": "stderr",
     "output_type": "stream",
     "text": [
      "/opt/saturncloud/envs/saturn/lib/python3.12/site-packages/keras/src/applications/mobilenet_v3.py:452: UserWarning: `input_shape` is undefined or non-square, or `rows` is not 224. Weights for input shape (224, 224) will be loaded as the default.\n",
      "  return MobileNetV3(\n"
     ]
    },
    {
     "name": "stdout",
     "output_type": "stream",
     "text": [
      "Downloading data from https://storage.googleapis.com/tensorflow/keras-applications/mobilenet_v3/weights_mobilenet_v3_small_224_1.0_float_no_top_v2.h5\n",
      "\u001b[1m4334752/4334752\u001b[0m \u001b[32m━━━━━━━━━━━━━━━━━━━━\u001b[0m\u001b[37m\u001b[0m \u001b[1m0s\u001b[0m 0us/step\n"
     ]
    },
    {
     "data": {
      "text/html": [
       "<pre style=\"white-space:pre;overflow-x:auto;line-height:normal;font-family:Menlo,'DejaVu Sans Mono',consolas,'Courier New',monospace\"><span style=\"font-weight: bold\">Model: \"functional\"</span>\n",
       "</pre>\n"
      ],
      "text/plain": [
       "\u001b[1mModel: \"functional\"\u001b[0m\n"
      ]
     },
     "metadata": {},
     "output_type": "display_data"
    },
    {
     "data": {
      "text/html": [
       "<pre style=\"white-space:pre;overflow-x:auto;line-height:normal;font-family:Menlo,'DejaVu Sans Mono',consolas,'Courier New',monospace\">┏━━━━━━━━━━━━━━━━━━━━━━━━━━━━━━━━━┳━━━━━━━━━━━━━━━━━━━━━━━━┳━━━━━━━━━━━━━━━┓\n",
       "┃<span style=\"font-weight: bold\"> Layer (type)                    </span>┃<span style=\"font-weight: bold\"> Output Shape           </span>┃<span style=\"font-weight: bold\">       Param # </span>┃\n",
       "┡━━━━━━━━━━━━━━━━━━━━━━━━━━━━━━━━━╇━━━━━━━━━━━━━━━━━━━━━━━━╇━━━━━━━━━━━━━━━┩\n",
       "│ input_layer_2 (<span style=\"color: #0087ff; text-decoration-color: #0087ff\">InputLayer</span>)      │ (<span style=\"color: #00d7ff; text-decoration-color: #00d7ff\">None</span>, <span style=\"color: #00af00; text-decoration-color: #00af00\">48</span>, <span style=\"color: #00af00; text-decoration-color: #00af00\">48</span>, <span style=\"color: #00af00; text-decoration-color: #00af00\">3</span>)      │             <span style=\"color: #00af00; text-decoration-color: #00af00\">0</span> │\n",
       "├─────────────────────────────────┼────────────────────────┼───────────────┤\n",
       "│ MobileNetV3Small (<span style=\"color: #0087ff; text-decoration-color: #0087ff\">Functional</span>)   │ (<span style=\"color: #00d7ff; text-decoration-color: #00d7ff\">None</span>, <span style=\"color: #00af00; text-decoration-color: #00af00\">2</span>, <span style=\"color: #00af00; text-decoration-color: #00af00\">2</span>, <span style=\"color: #00af00; text-decoration-color: #00af00\">576</span>)      │       <span style=\"color: #00af00; text-decoration-color: #00af00\">939,120</span> │\n",
       "├─────────────────────────────────┼────────────────────────┼───────────────┤\n",
       "│ global_average_pooling2d_1      │ (<span style=\"color: #00d7ff; text-decoration-color: #00d7ff\">None</span>, <span style=\"color: #00af00; text-decoration-color: #00af00\">576</span>)            │             <span style=\"color: #00af00; text-decoration-color: #00af00\">0</span> │\n",
       "│ (<span style=\"color: #0087ff; text-decoration-color: #0087ff\">GlobalAveragePooling2D</span>)        │                        │               │\n",
       "├─────────────────────────────────┼────────────────────────┼───────────────┤\n",
       "│ dense (<span style=\"color: #0087ff; text-decoration-color: #0087ff\">Dense</span>)                   │ (<span style=\"color: #00d7ff; text-decoration-color: #00d7ff\">None</span>, <span style=\"color: #00af00; text-decoration-color: #00af00\">7</span>)              │         <span style=\"color: #00af00; text-decoration-color: #00af00\">4,039</span> │\n",
       "└─────────────────────────────────┴────────────────────────┴───────────────┘\n",
       "</pre>\n"
      ],
      "text/plain": [
       "┏━━━━━━━━━━━━━━━━━━━━━━━━━━━━━━━━━┳━━━━━━━━━━━━━━━━━━━━━━━━┳━━━━━━━━━━━━━━━┓\n",
       "┃\u001b[1m \u001b[0m\u001b[1mLayer (type)                   \u001b[0m\u001b[1m \u001b[0m┃\u001b[1m \u001b[0m\u001b[1mOutput Shape          \u001b[0m\u001b[1m \u001b[0m┃\u001b[1m \u001b[0m\u001b[1m      Param #\u001b[0m\u001b[1m \u001b[0m┃\n",
       "┡━━━━━━━━━━━━━━━━━━━━━━━━━━━━━━━━━╇━━━━━━━━━━━━━━━━━━━━━━━━╇━━━━━━━━━━━━━━━┩\n",
       "│ input_layer_2 (\u001b[38;5;33mInputLayer\u001b[0m)      │ (\u001b[38;5;45mNone\u001b[0m, \u001b[38;5;34m48\u001b[0m, \u001b[38;5;34m48\u001b[0m, \u001b[38;5;34m3\u001b[0m)      │             \u001b[38;5;34m0\u001b[0m │\n",
       "├─────────────────────────────────┼────────────────────────┼───────────────┤\n",
       "│ MobileNetV3Small (\u001b[38;5;33mFunctional\u001b[0m)   │ (\u001b[38;5;45mNone\u001b[0m, \u001b[38;5;34m2\u001b[0m, \u001b[38;5;34m2\u001b[0m, \u001b[38;5;34m576\u001b[0m)      │       \u001b[38;5;34m939,120\u001b[0m │\n",
       "├─────────────────────────────────┼────────────────────────┼───────────────┤\n",
       "│ global_average_pooling2d_1      │ (\u001b[38;5;45mNone\u001b[0m, \u001b[38;5;34m576\u001b[0m)            │             \u001b[38;5;34m0\u001b[0m │\n",
       "│ (\u001b[38;5;33mGlobalAveragePooling2D\u001b[0m)        │                        │               │\n",
       "├─────────────────────────────────┼────────────────────────┼───────────────┤\n",
       "│ dense (\u001b[38;5;33mDense\u001b[0m)                   │ (\u001b[38;5;45mNone\u001b[0m, \u001b[38;5;34m7\u001b[0m)              │         \u001b[38;5;34m4,039\u001b[0m │\n",
       "└─────────────────────────────────┴────────────────────────┴───────────────┘\n"
      ]
     },
     "metadata": {},
     "output_type": "display_data"
    },
    {
     "data": {
      "text/html": [
       "<pre style=\"white-space:pre;overflow-x:auto;line-height:normal;font-family:Menlo,'DejaVu Sans Mono',consolas,'Courier New',monospace\"><span style=\"font-weight: bold\"> Total params: </span><span style=\"color: #00af00; text-decoration-color: #00af00\">943,159</span> (3.60 MB)\n",
       "</pre>\n"
      ],
      "text/plain": [
       "\u001b[1m Total params: \u001b[0m\u001b[38;5;34m943,159\u001b[0m (3.60 MB)\n"
      ]
     },
     "metadata": {},
     "output_type": "display_data"
    },
    {
     "data": {
      "text/html": [
       "<pre style=\"white-space:pre;overflow-x:auto;line-height:normal;font-family:Menlo,'DejaVu Sans Mono',consolas,'Courier New',monospace\"><span style=\"font-weight: bold\"> Trainable params: </span><span style=\"color: #00af00; text-decoration-color: #00af00\">4,039</span> (15.78 KB)\n",
       "</pre>\n"
      ],
      "text/plain": [
       "\u001b[1m Trainable params: \u001b[0m\u001b[38;5;34m4,039\u001b[0m (15.78 KB)\n"
      ]
     },
     "metadata": {},
     "output_type": "display_data"
    },
    {
     "data": {
      "text/html": [
       "<pre style=\"white-space:pre;overflow-x:auto;line-height:normal;font-family:Menlo,'DejaVu Sans Mono',consolas,'Courier New',monospace\"><span style=\"font-weight: bold\"> Non-trainable params: </span><span style=\"color: #00af00; text-decoration-color: #00af00\">939,120</span> (3.58 MB)\n",
       "</pre>\n"
      ],
      "text/plain": [
       "\u001b[1m Non-trainable params: \u001b[0m\u001b[38;5;34m939,120\u001b[0m (3.58 MB)\n"
      ]
     },
     "metadata": {},
     "output_type": "display_data"
    }
   ],
   "source": [
    "# 1. Instantiate base model and load pre-trained weights, specify our preferred input shape\n",
    "base_model = keras.applications.MobileNetV3Small(\n",
    "    weights=\"imagenet\", # Load weights pretrained on Imagenet\n",
    "    input_shape=(48,48,3),\n",
    "    include_top=False # Do not include the ImageNet classifier at the top\n",
    ")\n",
    "\n",
    "# 2. Freeze the base model\n",
    "base_model.trainable = False \n",
    "\n",
    "# 3. Create a new model on top of the output on one of the layers\n",
    "inputs = keras.Input(shape=(48,48,3))\n",
    "\n",
    "base = base_model(inputs, training=False)\n",
    "vectors = keras.layers.GlobalAveragePooling2D()(base)\n",
    "\n",
    "# Final output layer\n",
    "num_categories = 7\n",
    "outputs = keras.layers.Dense(num_categories, activation='softmax')(vectors)\n",
    "\n",
    "first_model = keras.Model(inputs,outputs) \n",
    "\n",
    "optimizer = keras.optimizers.Adam(learning_rate=0.001)\n",
    "\n",
    "loss = keras.losses.CategoricalCrossentropy(from_logits=False)\n",
    "\n",
    "first_model.compile(optimizer=optimizer, loss=loss, metrics=['accuracy'])\n",
    "first_model.summary()"
   ]
  },
  {
   "cell_type": "markdown",
   "id": "925ba517-0c51-473b-b7a7-32e8606b3640",
   "metadata": {},
   "source": [
    "### Loading the datasets and training the model\n",
    "\n",
    "I am using the same functionality as in the scratch model to load our validation and training datasets."
   ]
  },
  {
   "cell_type": "code",
   "execution_count": 12,
   "id": "cf85b8eb-7aba-4119-9614-21ccf23dae74",
   "metadata": {
    "execution": {
     "iopub.execute_input": "2025-01-23T10:34:37.322705Z",
     "iopub.status.busy": "2025-01-23T10:34:37.322373Z",
     "iopub.status.idle": "2025-01-23T10:34:37.326794Z",
     "shell.execute_reply": "2025-01-23T10:34:37.326187Z",
     "shell.execute_reply.started": "2025-01-23T10:34:37.322684Z"
    }
   },
   "outputs": [],
   "source": [
    "def get_image_meta(data_path):\n",
    "    \"\"\"Retrieve basic metadata (file_path, category)\"\"\"\n",
    "    \n",
    "    file_meta = []\n",
    "\n",
    "    for name in os.listdir(data_path): \n",
    "        filepath = os.path.join(data_path, name)\n",
    "\n",
    "        if '.DS_Store' in filepath:\n",
    "            continue\n",
    "\n",
    "        for image_file_name in os.listdir(filepath): \n",
    "            image_filepath = os.path.join(filepath, image_file_name)\n",
    "\n",
    "            attrs = {\n",
    "                'category': name,\n",
    "                'file_path': image_filepath,\n",
    "            }\n",
    "            file_meta.append(attrs)\n",
    "\n",
    "    return file_meta "
   ]
  },
  {
   "cell_type": "code",
   "execution_count": 13,
   "id": "c395dbb6-8c12-4307-9d3d-7f4194f85b7d",
   "metadata": {
    "execution": {
     "iopub.execute_input": "2025-01-23T10:34:38.237877Z",
     "iopub.status.busy": "2025-01-23T10:34:38.237303Z",
     "iopub.status.idle": "2025-01-23T10:34:38.240880Z",
     "shell.execute_reply": "2025-01-23T10:34:38.240370Z",
     "shell.execute_reply.started": "2025-01-23T10:34:38.237842Z"
    }
   },
   "outputs": [],
   "source": [
    "data_file_path = \"../data/clean_fer_2013/\""
   ]
  },
  {
   "cell_type": "code",
   "execution_count": 14,
   "id": "12ba9304-29c5-41c3-add9-87bd5a4104aa",
   "metadata": {
    "execution": {
     "iopub.execute_input": "2025-01-23T10:34:39.753454Z",
     "iopub.status.busy": "2025-01-23T10:34:39.753127Z",
     "iopub.status.idle": "2025-01-23T10:34:39.811296Z",
     "shell.execute_reply": "2025-01-23T10:34:39.810747Z",
     "shell.execute_reply.started": "2025-01-23T10:34:39.753435Z"
    }
   },
   "outputs": [
    {
     "data": {
      "text/html": [
       "<div>\n",
       "<style scoped>\n",
       "    .dataframe tbody tr th:only-of-type {\n",
       "        vertical-align: middle;\n",
       "    }\n",
       "\n",
       "    .dataframe tbody tr th {\n",
       "        vertical-align: top;\n",
       "    }\n",
       "\n",
       "    .dataframe thead th {\n",
       "        text-align: right;\n",
       "    }\n",
       "</style>\n",
       "<table border=\"1\" class=\"dataframe\">\n",
       "  <thead>\n",
       "    <tr style=\"text-align: right;\">\n",
       "      <th></th>\n",
       "      <th>category</th>\n",
       "      <th>file_path</th>\n",
       "    </tr>\n",
       "  </thead>\n",
       "  <tbody>\n",
       "    <tr>\n",
       "      <th>0</th>\n",
       "      <td>sad</td>\n",
       "      <td>../data/clean_fer_2013/train/sad/Training_8912...</td>\n",
       "    </tr>\n",
       "    <tr>\n",
       "      <th>1</th>\n",
       "      <td>sad</td>\n",
       "      <td>../data/clean_fer_2013/train/sad/Training_7374...</td>\n",
       "    </tr>\n",
       "    <tr>\n",
       "      <th>2</th>\n",
       "      <td>sad</td>\n",
       "      <td>../data/clean_fer_2013/train/sad/Training_9509...</td>\n",
       "    </tr>\n",
       "    <tr>\n",
       "      <th>3</th>\n",
       "      <td>sad</td>\n",
       "      <td>../data/clean_fer_2013/train/sad/Training_7259...</td>\n",
       "    </tr>\n",
       "    <tr>\n",
       "      <th>4</th>\n",
       "      <td>sad</td>\n",
       "      <td>../data/clean_fer_2013/train/sad/Training_3215...</td>\n",
       "    </tr>\n",
       "  </tbody>\n",
       "</table>\n",
       "</div>"
      ],
      "text/plain": [
       "  category                                          file_path\n",
       "0      sad  ../data/clean_fer_2013/train/sad/Training_8912...\n",
       "1      sad  ../data/clean_fer_2013/train/sad/Training_7374...\n",
       "2      sad  ../data/clean_fer_2013/train/sad/Training_9509...\n",
       "3      sad  ../data/clean_fer_2013/train/sad/Training_7259...\n",
       "4      sad  ../data/clean_fer_2013/train/sad/Training_3215..."
      ]
     },
     "execution_count": 14,
     "metadata": {},
     "output_type": "execute_result"
    }
   ],
   "source": [
    "train_data_folder = data_file_path + \"train/\"\n",
    "\n",
    "meta_train = get_image_meta(train_data_folder)\n",
    "\n",
    "df_meta_train = pd.DataFrame(meta_train)\n",
    "df_meta_train.head()"
   ]
  },
  {
   "cell_type": "code",
   "execution_count": 15,
   "id": "04bdfde2-002b-4341-9b30-6896d50c5afe",
   "metadata": {
    "execution": {
     "iopub.execute_input": "2025-01-23T10:34:41.108728Z",
     "iopub.status.busy": "2025-01-23T10:34:41.108378Z",
     "iopub.status.idle": "2025-01-23T10:34:41.121781Z",
     "shell.execute_reply": "2025-01-23T10:34:41.121235Z",
     "shell.execute_reply.started": "2025-01-23T10:34:41.108707Z"
    }
   },
   "outputs": [
    {
     "data": {
      "text/html": [
       "<div>\n",
       "<style scoped>\n",
       "    .dataframe tbody tr th:only-of-type {\n",
       "        vertical-align: middle;\n",
       "    }\n",
       "\n",
       "    .dataframe tbody tr th {\n",
       "        vertical-align: top;\n",
       "    }\n",
       "\n",
       "    .dataframe thead th {\n",
       "        text-align: right;\n",
       "    }\n",
       "</style>\n",
       "<table border=\"1\" class=\"dataframe\">\n",
       "  <thead>\n",
       "    <tr style=\"text-align: right;\">\n",
       "      <th></th>\n",
       "      <th>category</th>\n",
       "      <th>file_path</th>\n",
       "    </tr>\n",
       "  </thead>\n",
       "  <tbody>\n",
       "    <tr>\n",
       "      <th>0</th>\n",
       "      <td>sad</td>\n",
       "      <td>../data/clean_fer_2013/validation/sad/PublicTe...</td>\n",
       "    </tr>\n",
       "    <tr>\n",
       "      <th>1</th>\n",
       "      <td>sad</td>\n",
       "      <td>../data/clean_fer_2013/validation/sad/PublicTe...</td>\n",
       "    </tr>\n",
       "    <tr>\n",
       "      <th>2</th>\n",
       "      <td>sad</td>\n",
       "      <td>../data/clean_fer_2013/validation/sad/PublicTe...</td>\n",
       "    </tr>\n",
       "    <tr>\n",
       "      <th>3</th>\n",
       "      <td>sad</td>\n",
       "      <td>../data/clean_fer_2013/validation/sad/PublicTe...</td>\n",
       "    </tr>\n",
       "    <tr>\n",
       "      <th>4</th>\n",
       "      <td>sad</td>\n",
       "      <td>../data/clean_fer_2013/validation/sad/PublicTe...</td>\n",
       "    </tr>\n",
       "  </tbody>\n",
       "</table>\n",
       "</div>"
      ],
      "text/plain": [
       "  category                                          file_path\n",
       "0      sad  ../data/clean_fer_2013/validation/sad/PublicTe...\n",
       "1      sad  ../data/clean_fer_2013/validation/sad/PublicTe...\n",
       "2      sad  ../data/clean_fer_2013/validation/sad/PublicTe...\n",
       "3      sad  ../data/clean_fer_2013/validation/sad/PublicTe...\n",
       "4      sad  ../data/clean_fer_2013/validation/sad/PublicTe..."
      ]
     },
     "execution_count": 15,
     "metadata": {},
     "output_type": "execute_result"
    }
   ],
   "source": [
    "val_data_folder = data_file_path + \"validation/\"\n",
    "\n",
    "meta_val = get_image_meta(val_data_folder)\n",
    "\n",
    "df_meta_val = pd.DataFrame(meta_val)\n",
    "df_meta_val.head()"
   ]
  },
  {
   "cell_type": "code",
   "execution_count": 16,
   "id": "201b0b6f-8773-40c1-b2b3-d04fec4c6967",
   "metadata": {
    "execution": {
     "iopub.execute_input": "2025-01-23T10:34:42.875749Z",
     "iopub.status.busy": "2025-01-23T10:34:42.875416Z",
     "iopub.status.idle": "2025-01-23T10:34:42.879826Z",
     "shell.execute_reply": "2025-01-23T10:34:42.879250Z",
     "shell.execute_reply.started": "2025-01-23T10:34:42.875729Z"
    }
   },
   "outputs": [],
   "source": [
    "def create_label_encoder(categories):\n",
    "    \"\"\"Create a mapping from category names to integer indices and perform one hot encoding\"\"\"\n",
    "    return tf.keras.layers.StringLookup(vocabulary=categories, \n",
    "                                                output_mode='one_hot', \n",
    "                                                num_oov_indices=0)\n",
    "\n",
    "def create_dataset(image_paths, labels, label_encoder, batch_size=32):\n",
    "    \"\"\"Load the dataset from file paths, apply preprocessing and group into batches\"\"\"\n",
    "    dataset = tf.data.Dataset.from_tensor_slices((image_paths, labels))\n",
    "    dataset = dataset.map(lambda x, y: (preprocess_input(x), tf.squeeze(label_encoder(y))))\n",
    "    dataset = dataset.batch(batch_size)\n",
    "    dataset = dataset.shuffle(buffer_size=1000)  # Shuffle the dataset\n",
    "    dataset = dataset.prefetch(tf.data.experimental.AUTOTUNE)  # Prefetch for better performance\n",
    "    return dataset"
   ]
  },
  {
   "cell_type": "code",
   "execution_count": 17,
   "id": "35b91231-74d8-42a8-94a2-a61dab4a441d",
   "metadata": {
    "execution": {
     "iopub.execute_input": "2025-01-23T10:34:44.174279Z",
     "iopub.status.busy": "2025-01-23T10:34:44.173706Z",
     "iopub.status.idle": "2025-01-23T10:34:45.289910Z",
     "shell.execute_reply": "2025-01-23T10:34:45.289325Z",
     "shell.execute_reply.started": "2025-01-23T10:34:44.174254Z"
    }
   },
   "outputs": [],
   "source": [
    "train_labels = df_meta_train[\"category\"].values\n",
    "train_image_paths = df_meta_train[\"file_path\"].values\n",
    "\n",
    "val_labels = df_meta_val[\"category\"].values\n",
    "val_image_paths = df_meta_val[\"file_path\"].values\n",
    "\n",
    "categories = list(df_meta_train[\"category\"].unique())\n",
    "label_encoder = create_label_encoder(categories)\n",
    "\n",
    "train_dataset = create_dataset(train_image_paths, train_labels, label_encoder, batch_size=32)\n",
    "val_dataset = create_dataset(val_image_paths, val_labels, label_encoder, batch_size=32)"
   ]
  },
  {
   "cell_type": "code",
   "execution_count": 18,
   "id": "8f5dfd0f-876c-4c48-956b-90d98ad4d789",
   "metadata": {
    "execution": {
     "iopub.execute_input": "2025-01-23T10:34:45.626014Z",
     "iopub.status.busy": "2025-01-23T10:34:45.625676Z",
     "iopub.status.idle": "2025-01-23T10:34:45.631276Z",
     "shell.execute_reply": "2025-01-23T10:34:45.630755Z",
     "shell.execute_reply.started": "2025-01-23T10:34:45.625994Z"
    }
   },
   "outputs": [
    {
     "data": {
      "text/plain": [
       "(837, 26784, 3488)"
      ]
     },
     "execution_count": 18,
     "metadata": {},
     "output_type": "execute_result"
    }
   ],
   "source": [
    "expected_num_iterations_per_epoch = len(train_dataset)\n",
    "length_training_data = len(train_dataset) * 32\n",
    "length_validation_data = len(val_dataset) * 32\n",
    "\n",
    "expected_num_iterations_per_epoch, length_training_data, length_validation_data"
   ]
  },
  {
   "cell_type": "code",
   "execution_count": 19,
   "id": "55f04b43-b12a-48be-bbc4-45cdf38c77dc",
   "metadata": {
    "execution": {
     "iopub.execute_input": "2025-01-23T10:34:51.691480Z",
     "iopub.status.busy": "2025-01-23T10:34:51.691092Z",
     "iopub.status.idle": "2025-01-23T10:39:18.710798Z",
     "shell.execute_reply": "2025-01-23T10:39:18.710277Z",
     "shell.execute_reply.started": "2025-01-23T10:34:51.691456Z"
    }
   },
   "outputs": [
    {
     "name": "stdout",
     "output_type": "stream",
     "text": [
      "Epoch 1/30\n"
     ]
    },
    {
     "name": "stderr",
     "output_type": "stream",
     "text": [
      "2025-01-23 10:35:05.638547: I tensorflow/core/kernels/data/shuffle_dataset_op.cc:450] ShuffleDatasetV3:18: Filling up shuffle buffer (this may take a while): 416 of 1000\n",
      "2025-01-23 10:35:15.638661: I tensorflow/core/kernels/data/shuffle_dataset_op.cc:450] ShuffleDatasetV3:18: Filling up shuffle buffer (this may take a while): 832 of 1000\n",
      "2025-01-23 10:35:15.750704: I tensorflow/core/kernels/data/shuffle_dataset_op.cc:480] Shuffle buffer filled.\n"
     ]
    },
    {
     "name": "stdout",
     "output_type": "stream",
     "text": [
      "\u001b[1m837/837\u001b[0m \u001b[32m━━━━━━━━━━━━━━━━━━━━\u001b[0m\u001b[37m\u001b[0m \u001b[1m43s\u001b[0m 18ms/step - accuracy: 0.2256 - loss: 1.9411 - val_accuracy: 0.2757 - val_loss: 1.7456\n",
      "Epoch 2/30\n",
      "\u001b[1m837/837\u001b[0m \u001b[32m━━━━━━━━━━━━━━━━━━━━\u001b[0m\u001b[37m\u001b[0m \u001b[1m8s\u001b[0m 5ms/step - accuracy: 0.2828 - loss: 1.7844 - val_accuracy: 0.3269 - val_loss: 1.6997\n",
      "Epoch 3/30\n",
      "\u001b[1m837/837\u001b[0m \u001b[32m━━━━━━━━━━━━━━━━━━━━\u001b[0m\u001b[37m\u001b[0m \u001b[1m8s\u001b[0m 5ms/step - accuracy: 0.3193 - loss: 1.7118 - val_accuracy: 0.2593 - val_loss: 1.7919\n",
      "Epoch 4/30\n",
      "\u001b[1m837/837\u001b[0m \u001b[32m━━━━━━━━━━━━━━━━━━━━\u001b[0m\u001b[37m\u001b[0m \u001b[1m8s\u001b[0m 5ms/step - accuracy: 0.3077 - loss: 1.7378 - val_accuracy: 0.3315 - val_loss: 1.6713\n",
      "Epoch 5/30\n",
      "\u001b[1m837/837\u001b[0m \u001b[32m━━━━━━━━━━━━━━━━━━━━\u001b[0m\u001b[37m\u001b[0m \u001b[1m8s\u001b[0m 5ms/step - accuracy: 0.3225 - loss: 1.6956 - val_accuracy: 0.3258 - val_loss: 1.7222\n",
      "Epoch 6/30\n",
      "\u001b[1m837/837\u001b[0m \u001b[32m━━━━━━━━━━━━━━━━━━━━\u001b[0m\u001b[37m\u001b[0m \u001b[1m8s\u001b[0m 5ms/step - accuracy: 0.3287 - loss: 1.6912 - val_accuracy: 0.3283 - val_loss: 1.6661\n",
      "Epoch 7/30\n",
      "\u001b[1m837/837\u001b[0m \u001b[32m━━━━━━━━━━━━━━━━━━━━\u001b[0m\u001b[37m\u001b[0m \u001b[1m8s\u001b[0m 5ms/step - accuracy: 0.3357 - loss: 1.6796 - val_accuracy: 0.3580 - val_loss: 1.6387\n",
      "Epoch 8/30\n",
      "\u001b[1m837/837\u001b[0m \u001b[32m━━━━━━━━━━━━━━━━━━━━\u001b[0m\u001b[37m\u001b[0m \u001b[1m8s\u001b[0m 5ms/step - accuracy: 0.3385 - loss: 1.6643 - val_accuracy: 0.3401 - val_loss: 1.6664\n",
      "Epoch 9/30\n",
      "\u001b[1m837/837\u001b[0m \u001b[32m━━━━━━━━━━━━━━━━━━━━\u001b[0m\u001b[37m\u001b[0m \u001b[1m8s\u001b[0m 5ms/step - accuracy: 0.3506 - loss: 1.6502 - val_accuracy: 0.3562 - val_loss: 1.6360\n",
      "Epoch 10/30\n",
      "\u001b[1m837/837\u001b[0m \u001b[32m━━━━━━━━━━━━━━━━━━━━\u001b[0m\u001b[37m\u001b[0m \u001b[1m8s\u001b[0m 5ms/step - accuracy: 0.3438 - loss: 1.6684 - val_accuracy: 0.3683 - val_loss: 1.6179\n",
      "Epoch 11/30\n",
      "\u001b[1m837/837\u001b[0m \u001b[32m━━━━━━━━━━━━━━━━━━━━\u001b[0m\u001b[37m\u001b[0m \u001b[1m8s\u001b[0m 5ms/step - accuracy: 0.3551 - loss: 1.6447 - val_accuracy: 0.3447 - val_loss: 1.6968\n",
      "Epoch 12/30\n",
      "\u001b[1m837/837\u001b[0m \u001b[32m━━━━━━━━━━━━━━━━━━━━\u001b[0m\u001b[37m\u001b[0m \u001b[1m8s\u001b[0m 5ms/step - accuracy: 0.3428 - loss: 1.6812 - val_accuracy: 0.3243 - val_loss: 1.7351\n",
      "Epoch 13/30\n",
      "\u001b[1m837/837\u001b[0m \u001b[32m━━━━━━━━━━━━━━━━━━━━\u001b[0m\u001b[37m\u001b[0m \u001b[1m8s\u001b[0m 5ms/step - accuracy: 0.3652 - loss: 1.6245 - val_accuracy: 0.3373 - val_loss: 1.6870\n",
      "Epoch 14/30\n",
      "\u001b[1m837/837\u001b[0m \u001b[32m━━━━━━━━━━━━━━━━━━━━\u001b[0m\u001b[37m\u001b[0m \u001b[1m8s\u001b[0m 5ms/step - accuracy: 0.3479 - loss: 1.6410 - val_accuracy: 0.3140 - val_loss: 1.7047\n",
      "Epoch 15/30\n",
      "\u001b[1m837/837\u001b[0m \u001b[32m━━━━━━━━━━━━━━━━━━━━\u001b[0m\u001b[37m\u001b[0m \u001b[1m8s\u001b[0m 5ms/step - accuracy: 0.3399 - loss: 1.6720 - val_accuracy: 0.3479 - val_loss: 1.7361\n",
      "Epoch 16/30\n",
      "\u001b[1m837/837\u001b[0m \u001b[32m━━━━━━━━━━━━━━━━━━━━\u001b[0m\u001b[37m\u001b[0m \u001b[1m8s\u001b[0m 5ms/step - accuracy: 0.3528 - loss: 1.6494 - val_accuracy: 0.3459 - val_loss: 1.6447\n",
      "Epoch 17/30\n",
      "\u001b[1m837/837\u001b[0m \u001b[32m━━━━━━━━━━━━━━━━━━━━\u001b[0m\u001b[37m\u001b[0m \u001b[1m8s\u001b[0m 5ms/step - accuracy: 0.3699 - loss: 1.6151 - val_accuracy: 0.3255 - val_loss: 1.7188\n",
      "Epoch 18/30\n",
      "\u001b[1m837/837\u001b[0m \u001b[32m━━━━━━━━━━━━━━━━━━━━\u001b[0m\u001b[37m\u001b[0m \u001b[1m8s\u001b[0m 5ms/step - accuracy: 0.3757 - loss: 1.6111 - val_accuracy: 0.3577 - val_loss: 1.6678\n",
      "Epoch 19/30\n",
      "\u001b[1m837/837\u001b[0m \u001b[32m━━━━━━━━━━━━━━━━━━━━\u001b[0m\u001b[37m\u001b[0m \u001b[1m8s\u001b[0m 5ms/step - accuracy: 0.3557 - loss: 1.6368 - val_accuracy: 0.3531 - val_loss: 1.6591\n",
      "Epoch 20/30\n",
      "\u001b[1m837/837\u001b[0m \u001b[32m━━━━━━━━━━━━━━━━━━━━\u001b[0m\u001b[37m\u001b[0m \u001b[1m8s\u001b[0m 5ms/step - accuracy: 0.3776 - loss: 1.6024 - val_accuracy: 0.3479 - val_loss: 1.6462\n",
      "Epoch 21/30\n",
      "\u001b[1m837/837\u001b[0m \u001b[32m━━━━━━━━━━━━━━━━━━━━\u001b[0m\u001b[37m\u001b[0m \u001b[1m8s\u001b[0m 5ms/step - accuracy: 0.3640 - loss: 1.6249 - val_accuracy: 0.2961 - val_loss: 1.7680\n",
      "Epoch 22/30\n",
      "\u001b[1m837/837\u001b[0m \u001b[32m━━━━━━━━━━━━━━━━━━━━\u001b[0m\u001b[37m\u001b[0m \u001b[1m8s\u001b[0m 5ms/step - accuracy: 0.3576 - loss: 1.6325 - val_accuracy: 0.3723 - val_loss: 1.6164\n",
      "Epoch 23/30\n",
      "\u001b[1m837/837\u001b[0m \u001b[32m━━━━━━━━━━━━━━━━━━━━\u001b[0m\u001b[37m\u001b[0m \u001b[1m8s\u001b[0m 5ms/step - accuracy: 0.3709 - loss: 1.6151 - val_accuracy: 0.3079 - val_loss: 1.7043\n",
      "Epoch 24/30\n",
      "\u001b[1m837/837\u001b[0m \u001b[32m━━━━━━━━━━━━━━━━━━━━\u001b[0m\u001b[37m\u001b[0m \u001b[1m8s\u001b[0m 5ms/step - accuracy: 0.3630 - loss: 1.6136 - val_accuracy: 0.3367 - val_loss: 1.6888\n",
      "Epoch 25/30\n",
      "\u001b[1m837/837\u001b[0m \u001b[32m━━━━━━━━━━━━━━━━━━━━\u001b[0m\u001b[37m\u001b[0m \u001b[1m8s\u001b[0m 5ms/step - accuracy: 0.3700 - loss: 1.6146 - val_accuracy: 0.3545 - val_loss: 1.6594\n",
      "Epoch 26/30\n",
      "\u001b[1m837/837\u001b[0m \u001b[32m━━━━━━━━━━━━━━━━━━━━\u001b[0m\u001b[37m\u001b[0m \u001b[1m8s\u001b[0m 5ms/step - accuracy: 0.3807 - loss: 1.6039 - val_accuracy: 0.3462 - val_loss: 1.6633\n",
      "Epoch 27/30\n",
      "\u001b[1m837/837\u001b[0m \u001b[32m━━━━━━━━━━━━━━━━━━━━\u001b[0m\u001b[37m\u001b[0m \u001b[1m8s\u001b[0m 5ms/step - accuracy: 0.3592 - loss: 1.6528 - val_accuracy: 0.3631 - val_loss: 1.6316\n",
      "Epoch 28/30\n",
      "\u001b[1m837/837\u001b[0m \u001b[32m━━━━━━━━━━━━━━━━━━━━\u001b[0m\u001b[37m\u001b[0m \u001b[1m10s\u001b[0m 5ms/step - accuracy: 0.3670 - loss: 1.6022 - val_accuracy: 0.3459 - val_loss: 1.6515\n",
      "Epoch 29/30\n",
      "\u001b[1m837/837\u001b[0m \u001b[32m━━━━━━━━━━━━━━━━━━━━\u001b[0m\u001b[37m\u001b[0m \u001b[1m8s\u001b[0m 5ms/step - accuracy: 0.3586 - loss: 1.6407 - val_accuracy: 0.3761 - val_loss: 1.6098\n",
      "Epoch 30/30\n",
      "\u001b[1m837/837\u001b[0m \u001b[32m━━━━━━━━━━━━━━━━━━━━\u001b[0m\u001b[37m\u001b[0m \u001b[1m8s\u001b[0m 5ms/step - accuracy: 0.3702 - loss: 1.6058 - val_accuracy: 0.3419 - val_loss: 1.7064\n"
     ]
    }
   ],
   "source": [
    "history = first_model.fit(\n",
    "    train_dataset,          \n",
    "    epochs=30,           \n",
    "    validation_data=val_dataset  \n",
    ")"
   ]
  },
  {
   "cell_type": "markdown",
   "id": "daed2e24-bb3e-42de-b1c2-44ed1a18bcf2",
   "metadata": {},
   "source": [
    "**Evaluation**\n",
    "\n",
    "After 30 epochs, training accuracy has not improved beyond 0.38! The loss is still also relatively high.\n",
    "\n",
    "Before dispensing with this model in favour of the scratch model, I will try a couple of different options."
   ]
  },
  {
   "cell_type": "code",
   "execution_count": 20,
   "id": "594a7456-3116-43b5-853e-179ec9ca0272",
   "metadata": {
    "execution": {
     "iopub.execute_input": "2025-01-23T10:39:23.170288Z",
     "iopub.status.busy": "2025-01-23T10:39:23.169948Z",
     "iopub.status.idle": "2025-01-23T10:39:23.373774Z",
     "shell.execute_reply": "2025-01-23T10:39:23.373188Z",
     "shell.execute_reply.started": "2025-01-23T10:39:23.170268Z"
    }
   },
   "outputs": [
    {
     "data": {
      "image/png": "[encoded data removed]",
      "text/plain": [
       "<Figure size 640x480 with 1 Axes>"
      ]
     },
     "metadata": {},
     "output_type": "display_data"
    }
   ],
   "source": [
    "plt.plot(history.history[\"accuracy\"], label=\"train\")\n",
    "plt.plot(history.history[\"val_accuracy\"], label=\"val\")\n",
    "plt.xticks(np.arange(30))\n",
    "plt.legend()\n",
    "plt.title(\"Accuracy over epochs\")\n",
    "plt.show()"
   ]
  },
  {
   "cell_type": "code",
   "execution_count": 21,
   "id": "005e71cf-c88e-4984-bc00-a6de627d5182",
   "metadata": {
    "execution": {
     "iopub.execute_input": "2025-01-23T10:39:32.930828Z",
     "iopub.status.busy": "2025-01-23T10:39:32.930492Z",
     "iopub.status.idle": "2025-01-23T10:39:33.100188Z",
     "shell.execute_reply": "2025-01-23T10:39:33.099631Z",
     "shell.execute_reply.started": "2025-01-23T10:39:32.930809Z"
    }
   },
   "outputs": [
    {
     "data": {
      "image/png": "[encoded data removed]",
      "text/plain": [
       "<Figure size 640x480 with 1 Axes>"
      ]
     },
     "metadata": {},
     "output_type": "display_data"
    }
   ],
   "source": [
    "plt.plot(history.history[\"loss\"], label=\"train\")\n",
    "plt.plot(history.history[\"val_loss\"], label=\"val\")\n",
    "plt.xticks(np.arange(30))\n",
    "plt.legend()\n",
    "plt.title(\"Loss over epochs\")\n",
    "plt.show()"
   ]
  },
  {
   "cell_type": "markdown",
   "id": "50286bce-4090-4cd8-9fd1-e00ce2a2ea58",
   "metadata": {},
   "source": [
    "### Improvement Attempt 1: Unfreeze some of the layers in MobileNetV3\n",
    "\n",
    "It's possible that the features from the pre-trained model are not really suited for our emotion recognition task and that we need to fien tune the base model more to our dataset: with our current configuration only the top dense layer is being tuned! \n",
    "\n",
    "Our base_model has 157 layers. We can try unfreezing the last 20 to see if this improves the model. You can see that this vastly increases the number of parameters being trained."
   ]
  },
  {
   "cell_type": "code",
   "execution_count": 22,
   "id": "26fbca28-8d67-449b-8ad1-c333088abed7",
   "metadata": {
    "execution": {
     "iopub.execute_input": "2025-01-23T10:46:05.144948Z",
     "iopub.status.busy": "2025-01-23T10:46:05.144621Z",
     "iopub.status.idle": "2025-01-23T10:46:05.149056Z",
     "shell.execute_reply": "2025-01-23T10:46:05.148507Z",
     "shell.execute_reply.started": "2025-01-23T10:46:05.144926Z"
    }
   },
   "outputs": [
    {
     "data": {
      "text/plain": [
       "157"
      ]
     },
     "execution_count": 22,
     "metadata": {},
     "output_type": "execute_result"
    }
   ],
   "source": [
    "len(base_model.layers)"
   ]
  },
  {
   "cell_type": "code",
   "execution_count": 24,
   "id": "7e216563-4fa7-450f-b0c5-014a2c87de31",
   "metadata": {
    "execution": {
     "iopub.execute_input": "2025-01-23T10:51:58.766201Z",
     "iopub.status.busy": "2025-01-23T10:51:58.765859Z",
     "iopub.status.idle": "2025-01-23T10:51:59.539547Z",
     "shell.execute_reply": "2025-01-23T10:51:59.538954Z",
     "shell.execute_reply.started": "2025-01-23T10:51:58.766178Z"
    }
   },
   "outputs": [
    {
     "data": {
      "text/html": [
       "<pre style=\"white-space:pre;overflow-x:auto;line-height:normal;font-family:Menlo,'DejaVu Sans Mono',consolas,'Courier New',monospace\"><span style=\"font-weight: bold\">Model: \"functional_2\"</span>\n",
       "</pre>\n"
      ],
      "text/plain": [
       "\u001b[1mModel: \"functional_2\"\u001b[0m\n"
      ]
     },
     "metadata": {},
     "output_type": "display_data"
    },
    {
     "data": {
      "text/html": [
       "<pre style=\"white-space:pre;overflow-x:auto;line-height:normal;font-family:Menlo,'DejaVu Sans Mono',consolas,'Courier New',monospace\">┏━━━━━━━━━━━━━━━━━━━━━━━━━━━━━━━━━┳━━━━━━━━━━━━━━━━━━━━━━━━┳━━━━━━━━━━━━━━━┓\n",
       "┃<span style=\"font-weight: bold\"> Layer (type)                    </span>┃<span style=\"font-weight: bold\"> Output Shape           </span>┃<span style=\"font-weight: bold\">       Param # </span>┃\n",
       "┡━━━━━━━━━━━━━━━━━━━━━━━━━━━━━━━━━╇━━━━━━━━━━━━━━━━━━━━━━━━╇━━━━━━━━━━━━━━━┩\n",
       "│ input_layer_6 (<span style=\"color: #0087ff; text-decoration-color: #0087ff\">InputLayer</span>)      │ (<span style=\"color: #00d7ff; text-decoration-color: #00d7ff\">None</span>, <span style=\"color: #00af00; text-decoration-color: #00af00\">48</span>, <span style=\"color: #00af00; text-decoration-color: #00af00\">48</span>, <span style=\"color: #00af00; text-decoration-color: #00af00\">3</span>)      │             <span style=\"color: #00af00; text-decoration-color: #00af00\">0</span> │\n",
       "├─────────────────────────────────┼────────────────────────┼───────────────┤\n",
       "│ MobileNetV3Small (<span style=\"color: #0087ff; text-decoration-color: #0087ff\">Functional</span>)   │ (<span style=\"color: #00d7ff; text-decoration-color: #00d7ff\">None</span>, <span style=\"color: #00af00; text-decoration-color: #00af00\">2</span>, <span style=\"color: #00af00; text-decoration-color: #00af00\">2</span>, <span style=\"color: #00af00; text-decoration-color: #00af00\">576</span>)      │       <span style=\"color: #00af00; text-decoration-color: #00af00\">939,120</span> │\n",
       "├─────────────────────────────────┼────────────────────────┼───────────────┤\n",
       "│ global_average_pooling2d_3      │ (<span style=\"color: #00d7ff; text-decoration-color: #00d7ff\">None</span>, <span style=\"color: #00af00; text-decoration-color: #00af00\">576</span>)            │             <span style=\"color: #00af00; text-decoration-color: #00af00\">0</span> │\n",
       "│ (<span style=\"color: #0087ff; text-decoration-color: #0087ff\">GlobalAveragePooling2D</span>)        │                        │               │\n",
       "├─────────────────────────────────┼────────────────────────┼───────────────┤\n",
       "│ dense_2 (<span style=\"color: #0087ff; text-decoration-color: #0087ff\">Dense</span>)                 │ (<span style=\"color: #00d7ff; text-decoration-color: #00d7ff\">None</span>, <span style=\"color: #00af00; text-decoration-color: #00af00\">7</span>)              │         <span style=\"color: #00af00; text-decoration-color: #00af00\">4,039</span> │\n",
       "└─────────────────────────────────┴────────────────────────┴───────────────┘\n",
       "</pre>\n"
      ],
      "text/plain": [
       "┏━━━━━━━━━━━━━━━━━━━━━━━━━━━━━━━━━┳━━━━━━━━━━━━━━━━━━━━━━━━┳━━━━━━━━━━━━━━━┓\n",
       "┃\u001b[1m \u001b[0m\u001b[1mLayer (type)                   \u001b[0m\u001b[1m \u001b[0m┃\u001b[1m \u001b[0m\u001b[1mOutput Shape          \u001b[0m\u001b[1m \u001b[0m┃\u001b[1m \u001b[0m\u001b[1m      Param #\u001b[0m\u001b[1m \u001b[0m┃\n",
       "┡━━━━━━━━━━━━━━━━━━━━━━━━━━━━━━━━━╇━━━━━━━━━━━━━━━━━━━━━━━━╇━━━━━━━━━━━━━━━┩\n",
       "│ input_layer_6 (\u001b[38;5;33mInputLayer\u001b[0m)      │ (\u001b[38;5;45mNone\u001b[0m, \u001b[38;5;34m48\u001b[0m, \u001b[38;5;34m48\u001b[0m, \u001b[38;5;34m3\u001b[0m)      │             \u001b[38;5;34m0\u001b[0m │\n",
       "├─────────────────────────────────┼────────────────────────┼───────────────┤\n",
       "│ MobileNetV3Small (\u001b[38;5;33mFunctional\u001b[0m)   │ (\u001b[38;5;45mNone\u001b[0m, \u001b[38;5;34m2\u001b[0m, \u001b[38;5;34m2\u001b[0m, \u001b[38;5;34m576\u001b[0m)      │       \u001b[38;5;34m939,120\u001b[0m │\n",
       "├─────────────────────────────────┼────────────────────────┼───────────────┤\n",
       "│ global_average_pooling2d_3      │ (\u001b[38;5;45mNone\u001b[0m, \u001b[38;5;34m576\u001b[0m)            │             \u001b[38;5;34m0\u001b[0m │\n",
       "│ (\u001b[38;5;33mGlobalAveragePooling2D\u001b[0m)        │                        │               │\n",
       "├─────────────────────────────────┼────────────────────────┼───────────────┤\n",
       "│ dense_2 (\u001b[38;5;33mDense\u001b[0m)                 │ (\u001b[38;5;45mNone\u001b[0m, \u001b[38;5;34m7\u001b[0m)              │         \u001b[38;5;34m4,039\u001b[0m │\n",
       "└─────────────────────────────────┴────────────────────────┴───────────────┘\n"
      ]
     },
     "metadata": {},
     "output_type": "display_data"
    },
    {
     "data": {
      "text/html": [
       "<pre style=\"white-space:pre;overflow-x:auto;line-height:normal;font-family:Menlo,'DejaVu Sans Mono',consolas,'Courier New',monospace\"><span style=\"font-weight: bold\"> Total params: </span><span style=\"color: #00af00; text-decoration-color: #00af00\">943,159</span> (3.60 MB)\n",
       "</pre>\n"
      ],
      "text/plain": [
       "\u001b[1m Total params: \u001b[0m\u001b[38;5;34m943,159\u001b[0m (3.60 MB)\n"
      ]
     },
     "metadata": {},
     "output_type": "display_data"
    },
    {
     "data": {
      "text/html": [
       "<pre style=\"white-space:pre;overflow-x:auto;line-height:normal;font-family:Menlo,'DejaVu Sans Mono',consolas,'Courier New',monospace\"><span style=\"font-weight: bold\"> Trainable params: </span><span style=\"color: #00af00; text-decoration-color: #00af00\">354,775</span> (1.35 MB)\n",
       "</pre>\n"
      ],
      "text/plain": [
       "\u001b[1m Trainable params: \u001b[0m\u001b[38;5;34m354,775\u001b[0m (1.35 MB)\n"
      ]
     },
     "metadata": {},
     "output_type": "display_data"
    },
    {
     "data": {
      "text/html": [
       "<pre style=\"white-space:pre;overflow-x:auto;line-height:normal;font-family:Menlo,'DejaVu Sans Mono',consolas,'Courier New',monospace\"><span style=\"font-weight: bold\"> Non-trainable params: </span><span style=\"color: #00af00; text-decoration-color: #00af00\">588,384</span> (2.24 MB)\n",
       "</pre>\n"
      ],
      "text/plain": [
       "\u001b[1m Non-trainable params: \u001b[0m\u001b[38;5;34m588,384\u001b[0m (2.24 MB)\n"
      ]
     },
     "metadata": {},
     "output_type": "display_data"
    }
   ],
   "source": [
    "base_model_2 = keras.applications.MobileNetV3Small(\n",
    "    weights=\"imagenet\", # Load weights pretrained on Imagenet\n",
    "    input_shape=(48,48,3),\n",
    "    include_top=False # Do not include the ImageNet classifier at the top\n",
    ")\n",
    "\n",
    "# 2. Freeze all the base model layers except the last 20\n",
    "base_model_2.trainable = True \n",
    "\n",
    "for layer in base_model_2.layers[:-20]:\n",
    "    layer.trainable = False\n",
    "\n",
    "# 3. Create a new model on top of the output on one of the layers\n",
    "inputs = keras.Input(shape=(48,48,3))\n",
    "\n",
    "base = base_model_2(inputs)\n",
    "\n",
    "vectors = keras.layers.GlobalAveragePooling2D()(base)\n",
    "\n",
    "# Final output layer\n",
    "num_categories = 7\n",
    "outputs = keras.layers.Dense(num_categories, activation='softmax')(vectors)\n",
    "\n",
    "second_model = keras.Model(inputs,outputs) \n",
    "\n",
    "optimizer = keras.optimizers.Adam(learning_rate=0.001)\n",
    "\n",
    "loss = keras.losses.CategoricalCrossentropy(from_logits=False)\n",
    "\n",
    "second_model.compile(optimizer=optimizer, loss=loss, metrics=['accuracy'])\n",
    "second_model.summary()"
   ]
  },
  {
   "cell_type": "code",
   "execution_count": 25,
   "id": "4d6efd72-f613-447a-bc47-53358000423c",
   "metadata": {
    "execution": {
     "iopub.execute_input": "2025-01-23T10:53:11.081989Z",
     "iopub.status.busy": "2025-01-23T10:53:11.081648Z",
     "iopub.status.idle": "2025-01-23T10:53:11.193524Z",
     "shell.execute_reply": "2025-01-23T10:53:11.193045Z",
     "shell.execute_reply.started": "2025-01-23T10:53:11.081965Z"
    }
   },
   "outputs": [
    {
     "data": {
      "text/plain": [
       "(837, 26784, 3488)"
      ]
     },
     "execution_count": 25,
     "metadata": {},
     "output_type": "execute_result"
    }
   ],
   "source": [
    "train_dataset = create_dataset(train_image_paths, train_labels, label_encoder, batch_size=32)\n",
    "val_dataset = create_dataset(val_image_paths, val_labels, label_encoder, batch_size=32)\n",
    "\n",
    "expected_num_iterations_per_epoch = len(train_dataset)\n",
    "length_training_data = len(train_dataset) * 32\n",
    "length_validation_data = len(val_dataset) * 32\n",
    "\n",
    "expected_num_iterations_per_epoch, length_training_data, length_validation_data"
   ]
  },
  {
   "cell_type": "code",
   "execution_count": 26,
   "id": "c19ac177-aab5-4f79-899f-100b94b02679",
   "metadata": {
    "execution": {
     "iopub.execute_input": "2025-01-23T10:53:41.234985Z",
     "iopub.status.busy": "2025-01-23T10:53:41.234652Z",
     "iopub.status.idle": "2025-01-23T10:58:08.054312Z",
     "shell.execute_reply": "2025-01-23T10:58:08.053821Z",
     "shell.execute_reply.started": "2025-01-23T10:53:41.234965Z"
    }
   },
   "outputs": [
    {
     "name": "stdout",
     "output_type": "stream",
     "text": [
      "Epoch 1/30\n",
      "\u001b[1m837/837\u001b[0m \u001b[32m━━━━━━━━━━━━━━━━━━━━\u001b[0m\u001b[37m\u001b[0m \u001b[1m28s\u001b[0m 17ms/step - accuracy: 0.2326 - loss: 1.9516 - val_accuracy: 0.2001 - val_loss: 1.8574\n",
      "Epoch 2/30\n",
      "\u001b[1m837/837\u001b[0m \u001b[32m━━━━━━━━━━━━━━━━━━━━\u001b[0m\u001b[37m\u001b[0m \u001b[1m8s\u001b[0m 5ms/step - accuracy: 0.3568 - loss: 1.6229 - val_accuracy: 0.2214 - val_loss: 1.9536\n",
      "Epoch 3/30\n",
      "\u001b[1m837/837\u001b[0m \u001b[32m━━━━━━━━━━━━━━━━━━━━\u001b[0m\u001b[37m\u001b[0m \u001b[1m8s\u001b[0m 5ms/step - accuracy: 0.5386 - loss: 1.2230 - val_accuracy: 0.2010 - val_loss: 2.1798\n",
      "Epoch 4/30\n",
      "\u001b[1m837/837\u001b[0m \u001b[32m━━━━━━━━━━━━━━━━━━━━\u001b[0m\u001b[37m\u001b[0m \u001b[1m8s\u001b[0m 5ms/step - accuracy: 0.6952 - loss: 0.8191 - val_accuracy: 0.1915 - val_loss: 2.3033\n",
      "Epoch 5/30\n",
      "\u001b[1m837/837\u001b[0m \u001b[32m━━━━━━━━━━━━━━━━━━━━\u001b[0m\u001b[37m\u001b[0m \u001b[1m8s\u001b[0m 5ms/step - accuracy: 0.8563 - loss: 0.4335 - val_accuracy: 0.1883 - val_loss: 2.6266\n",
      "Epoch 6/30\n",
      "\u001b[1m837/837\u001b[0m \u001b[32m━━━━━━━━━━━━━━━━━━━━\u001b[0m\u001b[37m\u001b[0m \u001b[1m8s\u001b[0m 5ms/step - accuracy: 0.9206 - loss: 0.2520 - val_accuracy: 0.2027 - val_loss: 2.8419\n",
      "Epoch 7/30\n",
      "\u001b[1m837/837\u001b[0m \u001b[32m━━━━━━━━━━━━━━━━━━━━\u001b[0m\u001b[37m\u001b[0m \u001b[1m8s\u001b[0m 5ms/step - accuracy: 0.9588 - loss: 0.1389 - val_accuracy: 0.2016 - val_loss: 2.8669\n",
      "Epoch 8/30\n",
      "\u001b[1m837/837\u001b[0m \u001b[32m━━━━━━━━━━━━━━━━━━━━\u001b[0m\u001b[37m\u001b[0m \u001b[1m8s\u001b[0m 5ms/step - accuracy: 0.9829 - loss: 0.0745 - val_accuracy: 0.1857 - val_loss: 3.0083\n",
      "Epoch 9/30\n",
      "\u001b[1m837/837\u001b[0m \u001b[32m━━━━━━━━━━━━━━━━━━━━\u001b[0m\u001b[37m\u001b[0m \u001b[1m8s\u001b[0m 5ms/step - accuracy: 0.9896 - loss: 0.0482 - val_accuracy: 0.1708 - val_loss: 3.2774\n",
      "Epoch 10/30\n",
      "\u001b[1m837/837\u001b[0m \u001b[32m━━━━━━━━━━━━━━━━━━━━\u001b[0m\u001b[37m\u001b[0m \u001b[1m8s\u001b[0m 5ms/step - accuracy: 0.9833 - loss: 0.0646 - val_accuracy: 0.2050 - val_loss: 3.1464\n",
      "Epoch 11/30\n",
      "\u001b[1m837/837\u001b[0m \u001b[32m━━━━━━━━━━━━━━━━━━━━\u001b[0m\u001b[37m\u001b[0m \u001b[1m8s\u001b[0m 5ms/step - accuracy: 0.9987 - loss: 0.0074 - val_accuracy: 0.2033 - val_loss: 2.7747\n",
      "Epoch 12/30\n",
      "\u001b[1m837/837\u001b[0m \u001b[32m━━━━━━━━━━━━━━━━━━━━\u001b[0m\u001b[37m\u001b[0m \u001b[1m8s\u001b[0m 5ms/step - accuracy: 1.0000 - loss: 0.0013 - val_accuracy: 0.2289 - val_loss: 2.6978\n",
      "Epoch 13/30\n",
      "\u001b[1m837/837\u001b[0m \u001b[32m━━━━━━━━━━━━━━━━━━━━\u001b[0m\u001b[37m\u001b[0m \u001b[1m8s\u001b[0m 5ms/step - accuracy: 1.0000 - loss: 4.5490e-04 - val_accuracy: 0.2306 - val_loss: 2.7726\n",
      "Epoch 14/30\n",
      "\u001b[1m837/837\u001b[0m \u001b[32m━━━━━━━━━━━━━━━━━━━━\u001b[0m\u001b[37m\u001b[0m \u001b[1m8s\u001b[0m 5ms/step - accuracy: 1.0000 - loss: 2.7426e-04 - val_accuracy: 0.2315 - val_loss: 2.8513\n",
      "Epoch 15/30\n",
      "\u001b[1m837/837\u001b[0m \u001b[32m━━━━━━━━━━━━━━━━━━━━\u001b[0m\u001b[37m\u001b[0m \u001b[1m8s\u001b[0m 5ms/step - accuracy: 1.0000 - loss: 1.7333e-04 - val_accuracy: 0.2361 - val_loss: 2.9036\n",
      "Epoch 16/30\n",
      "\u001b[1m837/837\u001b[0m \u001b[32m━━━━━━━━━━━━━━━━━━━━\u001b[0m\u001b[37m\u001b[0m \u001b[1m8s\u001b[0m 5ms/step - accuracy: 1.0000 - loss: 1.1311e-04 - val_accuracy: 0.2340 - val_loss: 2.9368\n",
      "Epoch 17/30\n",
      "\u001b[1m837/837\u001b[0m \u001b[32m━━━━━━━━━━━━━━━━━━━━\u001b[0m\u001b[37m\u001b[0m \u001b[1m8s\u001b[0m 5ms/step - accuracy: 1.0000 - loss: 8.0764e-05 - val_accuracy: 0.2355 - val_loss: 3.0373\n",
      "Epoch 18/30\n",
      "\u001b[1m837/837\u001b[0m \u001b[32m━━━━━━━━━━━━━━━━━━━━\u001b[0m\u001b[37m\u001b[0m \u001b[1m8s\u001b[0m 5ms/step - accuracy: 1.0000 - loss: 5.1175e-05 - val_accuracy: 0.2309 - val_loss: 3.0842\n",
      "Epoch 19/30\n",
      "\u001b[1m837/837\u001b[0m \u001b[32m━━━━━━━━━━━━━━━━━━━━\u001b[0m\u001b[37m\u001b[0m \u001b[1m8s\u001b[0m 5ms/step - accuracy: 1.0000 - loss: 3.3603e-05 - val_accuracy: 0.2329 - val_loss: 3.1678\n",
      "Epoch 20/30\n",
      "\u001b[1m837/837\u001b[0m \u001b[32m━━━━━━━━━━━━━━━━━━━━\u001b[0m\u001b[37m\u001b[0m \u001b[1m8s\u001b[0m 5ms/step - accuracy: 1.0000 - loss: 2.2335e-05 - val_accuracy: 0.2329 - val_loss: 3.1988\n",
      "Epoch 21/30\n",
      "\u001b[1m837/837\u001b[0m \u001b[32m━━━━━━━━━━━━━━━━━━━━\u001b[0m\u001b[37m\u001b[0m \u001b[1m8s\u001b[0m 5ms/step - accuracy: 1.0000 - loss: 1.3573e-05 - val_accuracy: 0.2312 - val_loss: 3.2551\n",
      "Epoch 22/30\n",
      "\u001b[1m837/837\u001b[0m \u001b[32m━━━━━━━━━━━━━━━━━━━━\u001b[0m\u001b[37m\u001b[0m \u001b[1m8s\u001b[0m 5ms/step - accuracy: 1.0000 - loss: 9.0166e-06 - val_accuracy: 0.2369 - val_loss: 3.2922\n",
      "Epoch 23/30\n",
      "\u001b[1m837/837\u001b[0m \u001b[32m━━━━━━━━━━━━━━━━━━━━\u001b[0m\u001b[37m\u001b[0m \u001b[1m8s\u001b[0m 5ms/step - accuracy: 1.0000 - loss: 5.7496e-06 - val_accuracy: 0.2421 - val_loss: 3.3456\n",
      "Epoch 24/30\n",
      "\u001b[1m837/837\u001b[0m \u001b[32m━━━━━━━━━━━━━━━━━━━━\u001b[0m\u001b[37m\u001b[0m \u001b[1m8s\u001b[0m 5ms/step - accuracy: 1.0000 - loss: 3.4903e-06 - val_accuracy: 0.2378 - val_loss: 3.4489\n",
      "Epoch 25/30\n",
      "\u001b[1m837/837\u001b[0m \u001b[32m━━━━━━━━━━━━━━━━━━━━\u001b[0m\u001b[37m\u001b[0m \u001b[1m8s\u001b[0m 5ms/step - accuracy: 1.0000 - loss: 2.2501e-06 - val_accuracy: 0.2294 - val_loss: 3.4999\n",
      "Epoch 26/30\n",
      "\u001b[1m837/837\u001b[0m \u001b[32m━━━━━━━━━━━━━━━━━━━━\u001b[0m\u001b[37m\u001b[0m \u001b[1m8s\u001b[0m 5ms/step - accuracy: 1.0000 - loss: 1.4414e-06 - val_accuracy: 0.2312 - val_loss: 3.5408\n",
      "Epoch 27/30\n",
      "\u001b[1m837/837\u001b[0m \u001b[32m━━━━━━━━━━━━━━━━━━━━\u001b[0m\u001b[37m\u001b[0m \u001b[1m8s\u001b[0m 5ms/step - accuracy: 1.0000 - loss: 9.4585e-07 - val_accuracy: 0.2283 - val_loss: 3.6226\n",
      "Epoch 28/30\n",
      "\u001b[1m837/837\u001b[0m \u001b[32m━━━━━━━━━━━━━━━━━━━━\u001b[0m\u001b[37m\u001b[0m \u001b[1m8s\u001b[0m 5ms/step - accuracy: 1.0000 - loss: 6.2058e-07 - val_accuracy: 0.2317 - val_loss: 3.6614\n",
      "Epoch 29/30\n",
      "\u001b[1m837/837\u001b[0m \u001b[32m━━━━━━━━━━━━━━━━━━━━\u001b[0m\u001b[37m\u001b[0m \u001b[1m8s\u001b[0m 5ms/step - accuracy: 1.0000 - loss: 3.9558e-07 - val_accuracy: 0.2320 - val_loss: 3.7391\n",
      "Epoch 30/30\n",
      "\u001b[1m837/837\u001b[0m \u001b[32m━━━━━━━━━━━━━━━━━━━━\u001b[0m\u001b[37m\u001b[0m \u001b[1m8s\u001b[0m 5ms/step - accuracy: 1.0000 - loss: 2.5024e-07 - val_accuracy: 0.2340 - val_loss: 3.7955\n"
     ]
    }
   ],
   "source": [
    "history = second_model.fit(\n",
    "    train_dataset,          \n",
    "    epochs=30,           \n",
    "    validation_data=val_dataset  \n",
    ")"
   ]
  },
  {
   "cell_type": "markdown",
   "id": "59b694fc-9b45-43f6-b004-a71ed047c1e7",
   "metadata": {},
   "source": [
    "**Evaluation**\n",
    "\n",
    "When we unfreeze some of the lower layers, we can see that our model shows signs of overfitting, quickly performing well on the training dataset while producing more results for the validation dataset.\n",
    "\n",
    "One way to do this is reduce the learning rate. Since we did some some improvements in accuracy, we will keep our layers unfrozen."
   ]
  },
  {
   "cell_type": "code",
   "execution_count": 27,
   "id": "91d424be-f86c-4095-a082-d4aa9702b5c6",
   "metadata": {
    "execution": {
     "iopub.execute_input": "2025-01-23T10:58:34.974816Z",
     "iopub.status.busy": "2025-01-23T10:58:34.974471Z",
     "iopub.status.idle": "2025-01-23T10:58:35.140799Z",
     "shell.execute_reply": "2025-01-23T10:58:35.140273Z",
     "shell.execute_reply.started": "2025-01-23T10:58:34.974795Z"
    }
   },
   "outputs": [
    {
     "data": {
      "image/png": "[encoded data removed]",
      "text/plain": [
       "<Figure size 640x480 with 1 Axes>"
      ]
     },
     "metadata": {},
     "output_type": "display_data"
    }
   ],
   "source": [
    "plt.plot(history.history[\"accuracy\"], label=\"train\")\n",
    "plt.plot(history.history[\"val_accuracy\"], label=\"val\")\n",
    "plt.xticks(np.arange(30))\n",
    "plt.legend()\n",
    "plt.title(\"Accuracy over epochs\")\n",
    "plt.show()"
   ]
  },
  {
   "cell_type": "code",
   "execution_count": 28,
   "id": "d0e36f89-38d3-449b-b8f6-969de0f66aaa",
   "metadata": {
    "execution": {
     "iopub.execute_input": "2025-01-23T10:58:47.556760Z",
     "iopub.status.busy": "2025-01-23T10:58:47.556436Z",
     "iopub.status.idle": "2025-01-23T10:58:47.733072Z",
     "shell.execute_reply": "2025-01-23T10:58:47.732452Z",
     "shell.execute_reply.started": "2025-01-23T10:58:47.556737Z"
    }
   },
   "outputs": [
    {
     "data": {
      "image/png": "[encoded data removed]",
      "text/plain": [
       "<Figure size 640x480 with 1 Axes>"
      ]
     },
     "metadata": {},
     "output_type": "display_data"
    }
   ],
   "source": [
    "plt.plot(history.history[\"loss\"], label=\"train\")\n",
    "plt.plot(history.history[\"val_loss\"], label=\"val\")\n",
    "plt.xticks(np.arange(30))\n",
    "plt.legend()\n",
    "plt.title(\"Loss over epochs\")\n",
    "plt.show()"
   ]
  },
  {
   "cell_type": "markdown",
   "id": "22850342-65d1-413b-aeea-bc1709a0188e",
   "metadata": {},
   "source": [
    "### Improvement Attempt 2: Reduce learning rate if no improvement in val loss\n",
    "\n",
    "`ReduceLROnPlateau` is a function that will reduce the learning rate automatically after a certain number of epochs e.g.\n",
    "\n",
    "- `monitor`: what stat to monitor. We can look at `val_loss` i.e. the change in the validation loss function and update the learning rate if this doesn't improve\n",
    "- `patience`: this is the number of epochs over which we can allow the validation loss to not improve before we change it\n",
    "- `factor`: the factor to reduce the learning rate by. Here we reduce it by half\n",
    "- `min_lr`: Our current learning rate is the default 0.001"
   ]
  },
  {
   "cell_type": "code",
   "execution_count": 41,
   "id": "74ab5e12-6b1b-401e-8285-609b96a65a29",
   "metadata": {
    "execution": {
     "iopub.execute_input": "2025-01-23T11:21:36.379035Z",
     "iopub.status.busy": "2025-01-23T11:21:36.378692Z",
     "iopub.status.idle": "2025-01-23T11:21:36.915651Z",
     "shell.execute_reply": "2025-01-23T11:21:36.915145Z",
     "shell.execute_reply.started": "2025-01-23T11:21:36.379012Z"
    }
   },
   "outputs": [
    {
     "data": {
      "text/html": [
       "<pre style=\"white-space:pre;overflow-x:auto;line-height:normal;font-family:Menlo,'DejaVu Sans Mono',consolas,'Courier New',monospace\"><span style=\"font-weight: bold\">Model: \"functional_7\"</span>\n",
       "</pre>\n"
      ],
      "text/plain": [
       "\u001b[1mModel: \"functional_7\"\u001b[0m\n"
      ]
     },
     "metadata": {},
     "output_type": "display_data"
    },
    {
     "data": {
      "text/html": [
       "<pre style=\"white-space:pre;overflow-x:auto;line-height:normal;font-family:Menlo,'DejaVu Sans Mono',consolas,'Courier New',monospace\">┏━━━━━━━━━━━━━━━━━━━━━━━━━━━━━━━━━┳━━━━━━━━━━━━━━━━━━━━━━━━┳━━━━━━━━━━━━━━━┓\n",
       "┃<span style=\"font-weight: bold\"> Layer (type)                    </span>┃<span style=\"font-weight: bold\"> Output Shape           </span>┃<span style=\"font-weight: bold\">       Param # </span>┃\n",
       "┡━━━━━━━━━━━━━━━━━━━━━━━━━━━━━━━━━╇━━━━━━━━━━━━━━━━━━━━━━━━╇━━━━━━━━━━━━━━━┩\n",
       "│ input_layer_16 (<span style=\"color: #0087ff; text-decoration-color: #0087ff\">InputLayer</span>)     │ (<span style=\"color: #00d7ff; text-decoration-color: #00d7ff\">None</span>, <span style=\"color: #00af00; text-decoration-color: #00af00\">48</span>, <span style=\"color: #00af00; text-decoration-color: #00af00\">48</span>, <span style=\"color: #00af00; text-decoration-color: #00af00\">3</span>)      │             <span style=\"color: #00af00; text-decoration-color: #00af00\">0</span> │\n",
       "├─────────────────────────────────┼────────────────────────┼───────────────┤\n",
       "│ MobileNetV3Small (<span style=\"color: #0087ff; text-decoration-color: #0087ff\">Functional</span>)   │ (<span style=\"color: #00d7ff; text-decoration-color: #00d7ff\">None</span>, <span style=\"color: #00af00; text-decoration-color: #00af00\">2</span>, <span style=\"color: #00af00; text-decoration-color: #00af00\">2</span>, <span style=\"color: #00af00; text-decoration-color: #00af00\">576</span>)      │       <span style=\"color: #00af00; text-decoration-color: #00af00\">939,120</span> │\n",
       "├─────────────────────────────────┼────────────────────────┼───────────────┤\n",
       "│ global_average_pooling2d_8      │ (<span style=\"color: #00d7ff; text-decoration-color: #00d7ff\">None</span>, <span style=\"color: #00af00; text-decoration-color: #00af00\">576</span>)            │             <span style=\"color: #00af00; text-decoration-color: #00af00\">0</span> │\n",
       "│ (<span style=\"color: #0087ff; text-decoration-color: #0087ff\">GlobalAveragePooling2D</span>)        │                        │               │\n",
       "├─────────────────────────────────┼────────────────────────┼───────────────┤\n",
       "│ dense_7 (<span style=\"color: #0087ff; text-decoration-color: #0087ff\">Dense</span>)                 │ (<span style=\"color: #00d7ff; text-decoration-color: #00d7ff\">None</span>, <span style=\"color: #00af00; text-decoration-color: #00af00\">7</span>)              │         <span style=\"color: #00af00; text-decoration-color: #00af00\">4,039</span> │\n",
       "└─────────────────────────────────┴────────────────────────┴───────────────┘\n",
       "</pre>\n"
      ],
      "text/plain": [
       "┏━━━━━━━━━━━━━━━━━━━━━━━━━━━━━━━━━┳━━━━━━━━━━━━━━━━━━━━━━━━┳━━━━━━━━━━━━━━━┓\n",
       "┃\u001b[1m \u001b[0m\u001b[1mLayer (type)                   \u001b[0m\u001b[1m \u001b[0m┃\u001b[1m \u001b[0m\u001b[1mOutput Shape          \u001b[0m\u001b[1m \u001b[0m┃\u001b[1m \u001b[0m\u001b[1m      Param #\u001b[0m\u001b[1m \u001b[0m┃\n",
       "┡━━━━━━━━━━━━━━━━━━━━━━━━━━━━━━━━━╇━━━━━━━━━━━━━━━━━━━━━━━━╇━━━━━━━━━━━━━━━┩\n",
       "│ input_layer_16 (\u001b[38;5;33mInputLayer\u001b[0m)     │ (\u001b[38;5;45mNone\u001b[0m, \u001b[38;5;34m48\u001b[0m, \u001b[38;5;34m48\u001b[0m, \u001b[38;5;34m3\u001b[0m)      │             \u001b[38;5;34m0\u001b[0m │\n",
       "├─────────────────────────────────┼────────────────────────┼───────────────┤\n",
       "│ MobileNetV3Small (\u001b[38;5;33mFunctional\u001b[0m)   │ (\u001b[38;5;45mNone\u001b[0m, \u001b[38;5;34m2\u001b[0m, \u001b[38;5;34m2\u001b[0m, \u001b[38;5;34m576\u001b[0m)      │       \u001b[38;5;34m939,120\u001b[0m │\n",
       "├─────────────────────────────────┼────────────────────────┼───────────────┤\n",
       "│ global_average_pooling2d_8      │ (\u001b[38;5;45mNone\u001b[0m, \u001b[38;5;34m576\u001b[0m)            │             \u001b[38;5;34m0\u001b[0m │\n",
       "│ (\u001b[38;5;33mGlobalAveragePooling2D\u001b[0m)        │                        │               │\n",
       "├─────────────────────────────────┼────────────────────────┼───────────────┤\n",
       "│ dense_7 (\u001b[38;5;33mDense\u001b[0m)                 │ (\u001b[38;5;45mNone\u001b[0m, \u001b[38;5;34m7\u001b[0m)              │         \u001b[38;5;34m4,039\u001b[0m │\n",
       "└─────────────────────────────────┴────────────────────────┴───────────────┘\n"
      ]
     },
     "metadata": {},
     "output_type": "display_data"
    },
    {
     "data": {
      "text/html": [
       "<pre style=\"white-space:pre;overflow-x:auto;line-height:normal;font-family:Menlo,'DejaVu Sans Mono',consolas,'Courier New',monospace\"><span style=\"font-weight: bold\"> Total params: </span><span style=\"color: #00af00; text-decoration-color: #00af00\">943,159</span> (3.60 MB)\n",
       "</pre>\n"
      ],
      "text/plain": [
       "\u001b[1m Total params: \u001b[0m\u001b[38;5;34m943,159\u001b[0m (3.60 MB)\n"
      ]
     },
     "metadata": {},
     "output_type": "display_data"
    },
    {
     "data": {
      "text/html": [
       "<pre style=\"white-space:pre;overflow-x:auto;line-height:normal;font-family:Menlo,'DejaVu Sans Mono',consolas,'Courier New',monospace\"><span style=\"font-weight: bold\"> Trainable params: </span><span style=\"color: #00af00; text-decoration-color: #00af00\">354,775</span> (1.35 MB)\n",
       "</pre>\n"
      ],
      "text/plain": [
       "\u001b[1m Trainable params: \u001b[0m\u001b[38;5;34m354,775\u001b[0m (1.35 MB)\n"
      ]
     },
     "metadata": {},
     "output_type": "display_data"
    },
    {
     "data": {
      "text/html": [
       "<pre style=\"white-space:pre;overflow-x:auto;line-height:normal;font-family:Menlo,'DejaVu Sans Mono',consolas,'Courier New',monospace\"><span style=\"font-weight: bold\"> Non-trainable params: </span><span style=\"color: #00af00; text-decoration-color: #00af00\">588,384</span> (2.24 MB)\n",
       "</pre>\n"
      ],
      "text/plain": [
       "\u001b[1m Non-trainable params: \u001b[0m\u001b[38;5;34m588,384\u001b[0m (2.24 MB)\n"
      ]
     },
     "metadata": {},
     "output_type": "display_data"
    }
   ],
   "source": [
    "base_model_3 = keras.applications.MobileNetV3Small(\n",
    "    weights=\"imagenet\", # Load weights pretrained on Imagenet\n",
    "    input_shape=(48,48,3),\n",
    "    include_top=False # Do not include the ImageNet classifier at the top\n",
    ")\n",
    "\n",
    "# 2. Freeze all the base model layers except the last 20\n",
    "base_model_3.trainable = True \n",
    "\n",
    "for layer in base_model_3.layers[:-20]:\n",
    "    layer.trainable = False\n",
    "\n",
    "# 3. Create a new model on top of the output on one of the layers\n",
    "inputs = keras.Input(shape=(48,48,3))\n",
    "\n",
    "base = base_model_3(inputs)\n",
    "\n",
    "vectors = keras.layers.GlobalAveragePooling2D()(base)\n",
    "\n",
    "# Final output layer\n",
    "num_categories = 7\n",
    "outputs = keras.layers.Dense(num_categories, activation='softmax')(vectors)\n",
    "\n",
    "third_model = keras.Model(inputs,outputs) \n",
    "\n",
    "# Reduce learning rate\n",
    "optimizer = keras.optimizers.Adam(learning_rate=0.0001)\n",
    "\n",
    "loss = keras.losses.CategoricalCrossentropy(from_logits=False)\n",
    "\n",
    "third_model.compile(optimizer=optimizer, loss=loss, metrics=['accuracy'])\n",
    "third_model.summary()"
   ]
  },
  {
   "cell_type": "code",
   "execution_count": 42,
   "id": "ee9dfa1b-255b-4313-8139-0acd8ad62d56",
   "metadata": {
    "execution": {
     "iopub.execute_input": "2025-01-23T11:21:39.505703Z",
     "iopub.status.busy": "2025-01-23T11:21:39.505377Z",
     "iopub.status.idle": "2025-01-23T11:21:39.618738Z",
     "shell.execute_reply": "2025-01-23T11:21:39.618221Z",
     "shell.execute_reply.started": "2025-01-23T11:21:39.505683Z"
    }
   },
   "outputs": [
    {
     "data": {
      "text/plain": [
       "(837, 26784, 3488)"
      ]
     },
     "execution_count": 42,
     "metadata": {},
     "output_type": "execute_result"
    }
   ],
   "source": [
    "train_dataset = create_dataset(train_image_paths, train_labels, label_encoder, batch_size=32)\n",
    "val_dataset = create_dataset(val_image_paths, val_labels, label_encoder, batch_size=32)\n",
    "\n",
    "expected_num_iterations_per_epoch = len(train_dataset)\n",
    "length_training_data = len(train_dataset) * 32\n",
    "length_validation_data = len(val_dataset) * 32\n",
    "\n",
    "expected_num_iterations_per_epoch, length_training_data, length_validation_data"
   ]
  },
  {
   "cell_type": "code",
   "execution_count": 43,
   "id": "ca02e75d-0cc4-42f4-aeb4-dfe60f770d01",
   "metadata": {
    "execution": {
     "iopub.execute_input": "2025-01-23T11:21:43.572169Z",
     "iopub.status.busy": "2025-01-23T11:21:43.571823Z",
     "iopub.status.idle": "2025-01-23T11:26:12.921204Z",
     "shell.execute_reply": "2025-01-23T11:26:12.920721Z",
     "shell.execute_reply.started": "2025-01-23T11:21:43.572149Z"
    }
   },
   "outputs": [
    {
     "name": "stdout",
     "output_type": "stream",
     "text": [
      "Epoch 1/30\n",
      "\u001b[1m837/837\u001b[0m \u001b[32m━━━━━━━━━━━━━━━━━━━━\u001b[0m\u001b[37m\u001b[0m \u001b[1m27s\u001b[0m 16ms/step - accuracy: 0.1820 - loss: 2.1742 - val_accuracy: 0.1688 - val_loss: 1.9466 - learning_rate: 1.0000e-04\n",
      "Epoch 2/30\n",
      "\u001b[1m837/837\u001b[0m \u001b[32m━━━━━━━━━━━━━━━━━━━━\u001b[0m\u001b[37m\u001b[0m \u001b[1m8s\u001b[0m 5ms/step - accuracy: 0.2757 - loss: 1.7718 - val_accuracy: 0.2110 - val_loss: 1.8755 - learning_rate: 1.0000e-04\n",
      "Epoch 3/30\n",
      "\u001b[1m837/837\u001b[0m \u001b[32m━━━━━━━━━━━━━━━━━━━━\u001b[0m\u001b[37m\u001b[0m \u001b[1m8s\u001b[0m 5ms/step - accuracy: 0.3364 - loss: 1.6855 - val_accuracy: 0.2274 - val_loss: 1.8363 - learning_rate: 1.0000e-04\n",
      "Epoch 4/30\n",
      "\u001b[1m837/837\u001b[0m \u001b[32m━━━━━━━━━━━━━━━━━━━━\u001b[0m\u001b[37m\u001b[0m \u001b[1m10s\u001b[0m 5ms/step - accuracy: 0.3901 - loss: 1.5921 - val_accuracy: 0.2303 - val_loss: 1.8372 - learning_rate: 1.0000e-04\n",
      "Epoch 5/30\n",
      "\u001b[1m837/837\u001b[0m \u001b[32m━━━━━━━━━━━━━━━━━━━━\u001b[0m\u001b[37m\u001b[0m \u001b[1m8s\u001b[0m 5ms/step - accuracy: 0.4792 - loss: 1.4217 - val_accuracy: 0.2289 - val_loss: 1.8611 - learning_rate: 1.0000e-04\n",
      "Epoch 6/30\n",
      "\u001b[1m834/837\u001b[0m \u001b[32m━━━━━━━━━━━━━━━━━━━\u001b[0m\u001b[37m━\u001b[0m \u001b[1m0s\u001b[0m 4ms/step - accuracy: 0.5790 - loss: 1.2490\n",
      "Epoch 6: ReduceLROnPlateau reducing learning rate to 4.999999873689376e-05.\n",
      "\u001b[1m837/837\u001b[0m \u001b[32m━━━━━━━━━━━━━━━━━━━━\u001b[0m\u001b[37m\u001b[0m \u001b[1m8s\u001b[0m 5ms/step - accuracy: 0.5789 - loss: 1.2490 - val_accuracy: 0.2470 - val_loss: 1.8802 - learning_rate: 1.0000e-04\n",
      "Epoch 7/30\n",
      "\u001b[1m837/837\u001b[0m \u001b[32m━━━━━━━━━━━━━━━━━━━━\u001b[0m\u001b[37m\u001b[0m \u001b[1m8s\u001b[0m 5ms/step - accuracy: 0.6696 - loss: 1.0694 - val_accuracy: 0.2269 - val_loss: 1.9329 - learning_rate: 5.0000e-05\n",
      "Epoch 8/30\n",
      "\u001b[1m837/837\u001b[0m \u001b[32m━━━━━━━━━━━━━━━━━━━━\u001b[0m\u001b[37m\u001b[0m \u001b[1m8s\u001b[0m 5ms/step - accuracy: 0.7258 - loss: 0.9360 - val_accuracy: 0.2237 - val_loss: 1.9737 - learning_rate: 5.0000e-05\n",
      "Epoch 9/30\n",
      "\u001b[1m831/837\u001b[0m \u001b[32m━━━━━━━━━━━━━━━━━━━\u001b[0m\u001b[37m━\u001b[0m \u001b[1m0s\u001b[0m 4ms/step - accuracy: 0.7655 - loss: 0.8341\n",
      "Epoch 9: ReduceLROnPlateau reducing learning rate to 2.499999936844688e-05.\n",
      "\u001b[1m837/837\u001b[0m \u001b[32m━━━━━━━━━━━━━━━━━━━━\u001b[0m\u001b[37m\u001b[0m \u001b[1m8s\u001b[0m 5ms/step - accuracy: 0.7655 - loss: 0.8341 - val_accuracy: 0.2105 - val_loss: 2.0284 - learning_rate: 5.0000e-05\n",
      "Epoch 10/30\n",
      "\u001b[1m837/837\u001b[0m \u001b[32m━━━━━━━━━━━━━━━━━━━━\u001b[0m\u001b[37m\u001b[0m \u001b[1m8s\u001b[0m 5ms/step - accuracy: 0.8167 - loss: 0.7289 - val_accuracy: 0.2131 - val_loss: 2.0754 - learning_rate: 2.5000e-05\n",
      "Epoch 11/30\n",
      "\u001b[1m837/837\u001b[0m \u001b[32m━━━━━━━━━━━━━━━━━━━━\u001b[0m\u001b[37m\u001b[0m \u001b[1m8s\u001b[0m 5ms/step - accuracy: 0.8292 - loss: 0.6775 - val_accuracy: 0.2056 - val_loss: 2.1039 - learning_rate: 2.5000e-05\n",
      "Epoch 12/30\n",
      "\u001b[1m832/837\u001b[0m \u001b[32m━━━━━━━━━━━━━━━━━━━\u001b[0m\u001b[37m━\u001b[0m \u001b[1m0s\u001b[0m 4ms/step - accuracy: 0.8434 - loss: 0.6418\n",
      "Epoch 12: ReduceLROnPlateau reducing learning rate to 1.249999968422344e-05.\n",
      "\u001b[1m837/837\u001b[0m \u001b[32m━━━━━━━━━━━━━━━━━━━━\u001b[0m\u001b[37m\u001b[0m \u001b[1m8s\u001b[0m 5ms/step - accuracy: 0.8435 - loss: 0.6416 - val_accuracy: 0.2087 - val_loss: 2.1421 - learning_rate: 2.5000e-05\n",
      "Epoch 13/30\n",
      "\u001b[1m837/837\u001b[0m \u001b[32m━━━━━━━━━━━━━━━━━━━━\u001b[0m\u001b[37m\u001b[0m \u001b[1m8s\u001b[0m 5ms/step - accuracy: 0.8810 - loss: 0.5529 - val_accuracy: 0.2044 - val_loss: 2.1638 - learning_rate: 1.2500e-05\n",
      "Epoch 14/30\n",
      "\u001b[1m837/837\u001b[0m \u001b[32m━━━━━━━━━━━━━━━━━━━━\u001b[0m\u001b[37m\u001b[0m \u001b[1m8s\u001b[0m 5ms/step - accuracy: 0.8770 - loss: 0.5481 - val_accuracy: 0.2053 - val_loss: 2.1977 - learning_rate: 1.2500e-05\n",
      "Epoch 15/30\n",
      "\u001b[1m837/837\u001b[0m \u001b[32m━━━━━━━━━━━━━━━━━━━━\u001b[0m\u001b[37m\u001b[0m \u001b[1m0s\u001b[0m 4ms/step - accuracy: 0.8884 - loss: 0.5158\n",
      "Epoch 15: ReduceLROnPlateau reducing learning rate to 6.24999984211172e-06.\n",
      "\u001b[1m837/837\u001b[0m \u001b[32m━━━━━━━━━━━━━━━━━━━━\u001b[0m\u001b[37m\u001b[0m \u001b[1m8s\u001b[0m 5ms/step - accuracy: 0.8884 - loss: 0.5158 - val_accuracy: 0.2027 - val_loss: 2.2211 - learning_rate: 1.2500e-05\n",
      "Epoch 16/30\n",
      "\u001b[1m837/837\u001b[0m \u001b[32m━━━━━━━━━━━━━━━━━━━━\u001b[0m\u001b[37m\u001b[0m \u001b[1m8s\u001b[0m 5ms/step - accuracy: 0.9052 - loss: 0.4704 - val_accuracy: 0.2039 - val_loss: 2.2349 - learning_rate: 6.2500e-06\n",
      "Epoch 17/30\n",
      "\u001b[1m837/837\u001b[0m \u001b[32m━━━━━━━━━━━━━━━━━━━━\u001b[0m\u001b[37m\u001b[0m \u001b[1m8s\u001b[0m 6ms/step - accuracy: 0.8993 - loss: 0.4817 - val_accuracy: 0.2027 - val_loss: 2.2416 - learning_rate: 6.2500e-06\n",
      "Epoch 18/30\n",
      "\u001b[1m828/837\u001b[0m \u001b[32m━━━━━━━━━━━━━━━━━━━\u001b[0m\u001b[37m━\u001b[0m \u001b[1m0s\u001b[0m 4ms/step - accuracy: 0.8939 - loss: 0.4934\n",
      "Epoch 18: ReduceLROnPlateau reducing learning rate to 3.12499992105586e-06.\n",
      "\u001b[1m837/837\u001b[0m \u001b[32m━━━━━━━━━━━━━━━━━━━━\u001b[0m\u001b[37m\u001b[0m \u001b[1m8s\u001b[0m 5ms/step - accuracy: 0.8940 - loss: 0.4931 - val_accuracy: 0.2016 - val_loss: 2.2562 - learning_rate: 6.2500e-06\n",
      "Epoch 19/30\n",
      "\u001b[1m837/837\u001b[0m \u001b[32m━━━━━━━━━━━━━━━━━━━━\u001b[0m\u001b[37m\u001b[0m \u001b[1m8s\u001b[0m 5ms/step - accuracy: 0.9070 - loss: 0.4492 - val_accuracy: 0.2027 - val_loss: 2.2636 - learning_rate: 3.1250e-06\n",
      "Epoch 20/30\n",
      "\u001b[1m837/837\u001b[0m \u001b[32m━━━━━━━━━━━━━━━━━━━━\u001b[0m\u001b[37m\u001b[0m \u001b[1m8s\u001b[0m 5ms/step - accuracy: 0.9009 - loss: 0.4788 - val_accuracy: 0.2021 - val_loss: 2.2677 - learning_rate: 3.1250e-06\n",
      "Epoch 21/30\n",
      "\u001b[1m833/837\u001b[0m \u001b[32m━━━━━━━━━━━━━━━━━━━\u001b[0m\u001b[37m━\u001b[0m \u001b[1m0s\u001b[0m 5ms/step - accuracy: 0.9095 - loss: 0.4527\n",
      "Epoch 21: ReduceLROnPlateau reducing learning rate to 1.56249996052793e-06.\n",
      "\u001b[1m837/837\u001b[0m \u001b[32m━━━━━━━━━━━━━━━━━━━━\u001b[0m\u001b[37m\u001b[0m \u001b[1m8s\u001b[0m 6ms/step - accuracy: 0.9095 - loss: 0.4527 - val_accuracy: 0.2027 - val_loss: 2.2708 - learning_rate: 3.1250e-06\n",
      "Epoch 22/30\n",
      "\u001b[1m837/837\u001b[0m \u001b[32m━━━━━━━━━━━━━━━━━━━━\u001b[0m\u001b[37m\u001b[0m \u001b[1m8s\u001b[0m 6ms/step - accuracy: 0.9142 - loss: 0.4343 - val_accuracy: 0.2021 - val_loss: 2.2736 - learning_rate: 1.5625e-06\n",
      "Epoch 23/30\n",
      "\u001b[1m837/837\u001b[0m \u001b[32m━━━━━━━━━━━━━━━━━━━━\u001b[0m\u001b[37m\u001b[0m \u001b[1m8s\u001b[0m 6ms/step - accuracy: 0.9055 - loss: 0.4521 - val_accuracy: 0.2001 - val_loss: 2.2818 - learning_rate: 1.5625e-06\n",
      "Epoch 24/30\n",
      "\u001b[1m829/837\u001b[0m \u001b[32m━━━━━━━━━━━━━━━━━━━\u001b[0m\u001b[37m━\u001b[0m \u001b[1m0s\u001b[0m 4ms/step - accuracy: 0.9109 - loss: 0.4418\n",
      "Epoch 24: ReduceLROnPlateau reducing learning rate to 1e-06.\n",
      "\u001b[1m837/837\u001b[0m \u001b[32m━━━━━━━━━━━━━━━━━━━━\u001b[0m\u001b[37m\u001b[0m \u001b[1m8s\u001b[0m 6ms/step - accuracy: 0.9109 - loss: 0.4418 - val_accuracy: 0.2007 - val_loss: 2.2857 - learning_rate: 1.5625e-06\n",
      "Epoch 25/30\n",
      "\u001b[1m837/837\u001b[0m \u001b[32m━━━━━━━━━━━━━━━━━━━━\u001b[0m\u001b[37m\u001b[0m \u001b[1m8s\u001b[0m 5ms/step - accuracy: 0.9160 - loss: 0.4192 - val_accuracy: 0.2021 - val_loss: 2.2875 - learning_rate: 1.0000e-06\n",
      "Epoch 26/30\n",
      "\u001b[1m837/837\u001b[0m \u001b[32m━━━━━━━━━━━━━━━━━━━━\u001b[0m\u001b[37m\u001b[0m \u001b[1m8s\u001b[0m 5ms/step - accuracy: 0.9195 - loss: 0.4240 - val_accuracy: 0.2021 - val_loss: 2.2900 - learning_rate: 1.0000e-06\n",
      "Epoch 27/30\n",
      "\u001b[1m837/837\u001b[0m \u001b[32m━━━━━━━━━━━━━━━━━━━━\u001b[0m\u001b[37m\u001b[0m \u001b[1m8s\u001b[0m 5ms/step - accuracy: 0.9114 - loss: 0.4431 - val_accuracy: 0.2016 - val_loss: 2.2907 - learning_rate: 1.0000e-06\n",
      "Epoch 28/30\n",
      "\u001b[1m837/837\u001b[0m \u001b[32m━━━━━━━━━━━━━━━━━━━━\u001b[0m\u001b[37m\u001b[0m \u001b[1m8s\u001b[0m 5ms/step - accuracy: 0.9166 - loss: 0.4280 - val_accuracy: 0.2007 - val_loss: 2.2884 - learning_rate: 1.0000e-06\n",
      "Epoch 29/30\n",
      "\u001b[1m837/837\u001b[0m \u001b[32m━━━━━━━━━━━━━━━━━━━━\u001b[0m\u001b[37m\u001b[0m \u001b[1m8s\u001b[0m 6ms/step - accuracy: 0.9102 - loss: 0.4434 - val_accuracy: 0.2001 - val_loss: 2.2914 - learning_rate: 1.0000e-06\n",
      "Epoch 30/30\n",
      "\u001b[1m837/837\u001b[0m \u001b[32m━━━━━━━━━━━━━━━━━━━━\u001b[0m\u001b[37m\u001b[0m \u001b[1m8s\u001b[0m 5ms/step - accuracy: 0.9192 - loss: 0.4240 - val_accuracy: 0.1995 - val_loss: 2.2926 - learning_rate: 1.0000e-06\n"
     ]
    }
   ],
   "source": [
    "lr_scheduler = tf.keras.callbacks.ReduceLROnPlateau(monitor='val_loss', \n",
    "                                 factor=0.5, \n",
    "                                 patience=3, \n",
    "                                 min_lr=0.000001,\n",
    "                                verbose=True)\n",
    "\n",
    "history_3 = third_model.fit(\n",
    "    train_dataset,          \n",
    "    epochs=30,           \n",
    "    validation_data=val_dataset,\n",
    "    callbacks=[lr_scheduler]\n",
    ")"
   ]
  },
  {
   "cell_type": "markdown",
   "id": "ac378813-0127-4c79-ae17-f96060c42f8a",
   "metadata": {},
   "source": [
    "**Evaluation**\n",
    "\n",
    "We can see that reducing the learning rate doesn't improve our model and it still fails to generalise: there is a large gap between the training and validation data indicating overfitting."
   ]
  },
  {
   "cell_type": "code",
   "execution_count": 44,
   "id": "e72a7598-cfb7-4121-9376-4506e23e90d3",
   "metadata": {
    "execution": {
     "iopub.execute_input": "2025-01-23T11:26:48.660384Z",
     "iopub.status.busy": "2025-01-23T11:26:48.660055Z",
     "iopub.status.idle": "2025-01-23T11:26:48.834066Z",
     "shell.execute_reply": "2025-01-23T11:26:48.833548Z",
     "shell.execute_reply.started": "2025-01-23T11:26:48.660364Z"
    }
   },
   "outputs": [
    {
     "data": {
      "image/png": "[encoded data removed]",
      "text/plain": [
       "<Figure size 640x480 with 1 Axes>"
      ]
     },
     "metadata": {},
     "output_type": "display_data"
    }
   ],
   "source": [
    "plt.plot(history_3.history[\"accuracy\"], label=\"train\")\n",
    "plt.plot(history_3.history[\"val_accuracy\"], label=\"val\")\n",
    "plt.xticks(np.arange(30))\n",
    "plt.legend()\n",
    "plt.title(\"Accuracy over epochs\")\n",
    "plt.show()"
   ]
  },
  {
   "cell_type": "code",
   "execution_count": 45,
   "id": "775e434c-cea1-45dc-b3ef-e82bdd4a47ab",
   "metadata": {
    "execution": {
     "iopub.execute_input": "2025-01-23T11:27:07.041295Z",
     "iopub.status.busy": "2025-01-23T11:27:07.040955Z",
     "iopub.status.idle": "2025-01-23T11:27:07.212523Z",
     "shell.execute_reply": "2025-01-23T11:27:07.211956Z",
     "shell.execute_reply.started": "2025-01-23T11:27:07.041273Z"
    }
   },
   "outputs": [
    {
     "data": {
      "image/png": "[encoded data removed]",
      "text/plain": [
       "<Figure size 640x480 with 1 Axes>"
      ]
     },
     "metadata": {},
     "output_type": "display_data"
    }
   ],
   "source": [
    "plt.plot(history_3.history[\"loss\"], label=\"train\")\n",
    "plt.plot(history_3.history[\"val_loss\"], label=\"val\")\n",
    "plt.xticks(np.arange(30))\n",
    "plt.legend()\n",
    "plt.title(\"Accuracy over epochs\")\n",
    "plt.show()"
   ]
  },
  {
   "cell_type": "markdown",
   "id": "fc1f4318-5eba-4c96-a8a6-8f193f2e5cd3",
   "metadata": {},
   "source": [
    "## Conclusions\n",
    "\n",
    "Despite attempting to tweak the model, our accuracy scores for the validation set never get better than about 35%, which is less than the score we were getting from the model we trained from scratch.\n",
    "\n",
    "It's possible that the pretrained model's features just don't align well with our emotion recognition task. Whatever the underlying reason, I will opt to work on improving a model built from scratch over using a transfer model approach."
   ]
  }
 ],
 "metadata": {
  "kernelspec": {
   "display_name": "saturn (Python 3)",
   "language": "python",
   "name": "python3"
  },
  "language_info": {
   "codemirror_mode": {
    "name": "ipython",
    "version": 3
   },
   "file_extension": ".py",
   "mimetype": "text/x-python",
   "name": "python",
   "nbconvert_exporter": "python",
   "pygments_lexer": "ipython3",
   "version": "3.12.7"
  }
 },
 "nbformat": 4,
 "nbformat_minor": 5
}
