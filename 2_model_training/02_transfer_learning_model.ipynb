{
 "cells": [
  {
   "cell_type": "markdown",
   "id": "d633bf7c-cab0-40f3-a652-218f15c36f77",
   "metadata": {},
   "source": [
    "# Transfer Learning Model"
   ]
  },
  {
   "cell_type": "code",
   "execution_count": 2,
   "id": "9ef466af-0b65-4201-afa5-265d8c42751a",
   "metadata": {},
   "outputs": [],
   "source": [
    "import pandas as pd\n",
    "import tensorflow as tf\n",
    "from tensorflow import keras\n",
    "from tensorflow.keras.preprocessing.image import load_img\n",
    "import numpy as np\n",
    "import os\n",
    "import matplotlib.pyplot as plt\n",
    "\n",
    "SEED = 42\n",
    "np.random.seed(SEED)\n",
    "tf.random.set_seed(SEED)"
   ]
  },
  {
   "cell_type": "markdown",
   "id": "e12f2d61-5062-461f-9357-9b050f435d78",
   "metadata": {},
   "source": [
    "## Pre-trained neural networks\n",
    "\n",
    "I trained a scratch model that was 6 layers deep. There are models available that are for more complex e.g. Xception is a convolutional neural network that is 71 layers deep. There is a version of Xception that has been trained on over a million images from the ImageNet database. This model can classify images into 1000 object categories, such as keyboard, mouse, pencil, and many animals. \n",
    "\n",
    "We know that the initial Convolutional layers are dedicated to feature extraction. This network has learned rich feature representations for a wide range of images and although it doesn't focus on emotion recognition, its convolutional layers may prove better at analysing the subtleties of images than our scratch model. \n",
    "\n",
    "### Xception model requirements\n",
    "\n",
    "Xception has specific input size requirements: 299 x 299 pixels and RGB images. Our images are 48 x 48 and grayscale. Resizing the image would create a lot of distortion. It is possible to pad the images (add black borders).\n",
    "\n",
    "### MobileNet\n",
    "\n",
    "Unlike Xception, MobileNet can handle smaller image dimensions without padding. It is optimized for mobile and embedded devices where memory and processing power are constrained. It doesn't perform as well as more complex models like Xception or EfficientNet. Then again MobileNet has been shown to work well with smaller inputs. The smallest supported size is 32 x 32. We can use the latest model: MobileNetV3-Small.\n",
    "\n",
    "In other Keras Applications, a specific kind of input preprocessing is required but for MobileNetV3 default input preprocessing is included as part of the model e.g. often the preprocessing layer scales the image down to have pixels in a range [0,1]. In this model however, it expects pixels with values in the [0-255] range. The only thing we have to do to our image is deal with its grayscale nature\n"
   ]
  },
  {
   "cell_type": "markdown",
   "id": "5ef06601-217e-486d-b2e8-7635dddb83b2",
   "metadata": {},
   "source": [
    "## Test running the current MobileNetV3_Small model\n",
    "\n",
    "Below we prepare a sample image for the MobileNetV3_Small model that has already been trained on imagenet. \n",
    "\n",
    "We need to resize the image to (244,244) and you can see that there is a loss of fidelity when we do this.\n",
    "\n",
    "You can also see that the pretrained model's best guess of this image is that it is an oboe! This is because the ImageNet dataset classifies objects, not faces. \n",
    "\n",
    "We can use the feature extraction learning gleaned in earlier layers and modify the later layers for our specific visualisation task."
   ]
  },
  {
   "cell_type": "code",
   "execution_count": 22,
   "id": "fb45d492-3b40-41d3-a86e-4e51cfdb6185",
   "metadata": {},
   "outputs": [],
   "source": [
    "def preprocess_input(image_path, resize_dimensions=(48,48)):\n",
    "    \"\"\"Preprocess Input\"\"\"\n",
    "    try:\n",
    "        image_file = tf.io.read_file(image_path)\n",
    "    except:\n",
    "        print(f\"Issue loading {image_file}\")\n",
    "        return None\n",
    "\n",
    "    image = tf.image.decode_jpeg(image_file, channels=1)\n",
    "    image = tf.image.grayscale_to_rgb(image)\n",
    "    image = tf.image.resize(image, resize_dimensions)\n",
    "        \n",
    "    return image"
   ]
  },
  {
   "cell_type": "code",
   "execution_count": 19,
   "id": "9acc2bf6-9464-482e-af30-5b357a3ec514",
   "metadata": {},
   "outputs": [
    {
     "data": {
      "image/jpeg": "[encoded data removed]",
      "image/png": "[encoded data removed]",
      "text/plain": [
       "<PIL.JpegImagePlugin.JpegImageFile image mode=L size=48x48>"
      ]
     },
     "execution_count": 19,
     "metadata": {},
     "output_type": "execute_result"
    }
   ],
   "source": [
    "happy_image_path = '../data/clean_fer_2013/train/happy/Training_109676.jpg'\n",
    "img = load_img(happy_image_path, color_mode=\"grayscale\")\n",
    "img"
   ]
  },
  {
   "cell_type": "code",
   "execution_count": 21,
   "id": "354ca6d9-e105-4759-ae82-c2e9b3557f6b",
   "metadata": {},
   "outputs": [
    {
     "data": {
      "image/jpeg": "[encoded data removed]",
      "image/png": "[encoded data removed]",
      "text/plain": [
       "<PIL.Image.Image image mode=RGB size=224x224>"
      ]
     },
     "execution_count": 21,
     "metadata": {},
     "output_type": "execute_result"
    }
   ],
   "source": [
    "load_img(happy_image_path, color_mode=\"rgb\", target_size=(224,224))"
   ]
  },
  {
   "cell_type": "code",
   "execution_count": 23,
   "id": "382bfac8-99b7-4ea9-bb69-6cfc63a3279d",
   "metadata": {},
   "outputs": [
    {
     "data": {
      "text/plain": [
       "((48, 48), TensorShape([48, 48, 3]))"
      ]
     },
     "execution_count": 23,
     "metadata": {},
     "output_type": "execute_result"
    }
   ],
   "source": [
    "np.array(img).shape, preprocess_input(happy_image_path).shape"
   ]
  },
  {
   "cell_type": "code",
   "execution_count": 25,
   "id": "b5d4875c-c6a7-46f9-8e0c-91c447a7435d",
   "metadata": {},
   "outputs": [
    {
     "data": {
      "text/plain": [
       "((48, 48), TensorShape([224, 224, 3]))"
      ]
     },
     "execution_count": 25,
     "metadata": {},
     "output_type": "execute_result"
    }
   ],
   "source": [
    "np.array(img).shape, preprocess_input(happy_image_path, resize_dimensions=(224,224)).shape"
   ]
  },
  {
   "cell_type": "code",
   "execution_count": 34,
   "id": "361ca14e-6f52-49da-89d3-ac79d880ad35",
   "metadata": {},
   "outputs": [
    {
     "name": "stdout",
     "output_type": "stream",
     "text": [
      "\u001b[1m1/1\u001b[0m \u001b[32m━━━━━━━━━━━━━━━━━━━━\u001b[0m\u001b[37m\u001b[0m \u001b[1m1s\u001b[0m 1s/step\n"
     ]
    },
    {
     "data": {
      "text/plain": [
       "(1, 1000)"
      ]
     },
     "execution_count": 34,
     "metadata": {},
     "output_type": "execute_result"
    }
   ],
   "source": [
    "example_model = keras.applications.MobileNetV3Small(\n",
    "    weights=\"imagenet\",\n",
    "    input_shape=(224,224,3)\n",
    ")\n",
    "\n",
    "x = preprocess_input(happy_image_path, resize_dimensions=(224,224))\n",
    "X = np.expand_dims(x, axis=0)\n",
    "prediction = example_model.predict(X)\n",
    "prediction.shape"
   ]
  },
  {
   "cell_type": "code",
   "execution_count": 35,
   "id": "d0128500-a1f9-453e-9ffa-253f09cfe4a3",
   "metadata": {},
   "outputs": [
    {
     "data": {
      "text/plain": [
       "(1, 224, 224, 3)"
      ]
     },
     "execution_count": 35,
     "metadata": {},
     "output_type": "execute_result"
    }
   ],
   "source": [
    "X.shape"
   ]
  },
  {
   "cell_type": "code",
   "execution_count": 37,
   "id": "c5b78e06-1d3f-4fdc-aa4b-e489c8fac883",
   "metadata": {},
   "outputs": [
    {
     "data": {
      "text/plain": [
       "[[('n03838899', 'oboe', 0.19695884),\n",
       "  ('n03692522', 'loupe', 0.13229725),\n",
       "  ('n04591157', 'Windsor_tie', 0.06434186),\n",
       "  ('n04317175', 'stethoscope', 0.048217747),\n",
       "  ('n02804610', 'bassoon', 0.046077013)]]"
      ]
     },
     "execution_count": 37,
     "metadata": {},
     "output_type": "execute_result"
    }
   ],
   "source": [
    "keras.applications.mobilenet_v3.decode_predictions(prediction)"
   ]
  },
  {
   "cell_type": "markdown",
   "id": "f101c15f-d7c5-465a-8347-5afe17e1cf79",
   "metadata": {},
   "source": [
    "## Transfer Learning\n",
    "\n",
    "I will do the following to make use of MobileNetV3Small for our data:\n",
    "\n",
    "1. Instantiate a base model and load pre-trained weights into it.\n",
    "2. Freeze all layers in the base model by setting trainable = False.\n",
    "3. Create a new model on top of the output of one (or several) layers from the base model.\n",
    "4. Train your new model on your new dataset.\n",
    "\n",
    "You can see that the model has far more parameters than our scratch model but the actual trainable parameters are significantly reduced. This makes sense: we have frozen our base model and it has already been trained. We are only training the dense layer we added."
   ]
  },
  {
   "cell_type": "code",
   "execution_count": 53,
   "id": "05015ed5-fa33-43c5-b76f-aa7bda552377",
   "metadata": {},
   "outputs": [
    {
     "data": {
      "text/html": [
       "<pre style=\"white-space:pre;overflow-x:auto;line-height:normal;font-family:Menlo,'DejaVu Sans Mono',consolas,'Courier New',monospace\"><span style=\"font-weight: bold\">Model: \"functional_3\"</span>\n",
       "</pre>\n"
      ],
      "text/plain": [
       "\u001b[1mModel: \"functional_3\"\u001b[0m\n"
      ]
     },
     "metadata": {},
     "output_type": "display_data"
    },
    {
     "data": {
      "text/html": [
       "<pre style=\"white-space:pre;overflow-x:auto;line-height:normal;font-family:Menlo,'DejaVu Sans Mono',consolas,'Courier New',monospace\">┏━━━━━━━━━━━━━━━━━━━━━━━━━━━━━━━━━┳━━━━━━━━━━━━━━━━━━━━━━━━┳━━━━━━━━━━━━━━━┓\n",
       "┃<span style=\"font-weight: bold\"> Layer (type)                    </span>┃<span style=\"font-weight: bold\"> Output Shape           </span>┃<span style=\"font-weight: bold\">       Param # </span>┃\n",
       "┡━━━━━━━━━━━━━━━━━━━━━━━━━━━━━━━━━╇━━━━━━━━━━━━━━━━━━━━━━━━╇━━━━━━━━━━━━━━━┩\n",
       "│ input_layer_17 (<span style=\"color: #0087ff; text-decoration-color: #0087ff\">InputLayer</span>)     │ (<span style=\"color: #00d7ff; text-decoration-color: #00d7ff\">None</span>, <span style=\"color: #00af00; text-decoration-color: #00af00\">48</span>, <span style=\"color: #00af00; text-decoration-color: #00af00\">48</span>, <span style=\"color: #00af00; text-decoration-color: #00af00\">3</span>)      │             <span style=\"color: #00af00; text-decoration-color: #00af00\">0</span> │\n",
       "├─────────────────────────────────┼────────────────────────┼───────────────┤\n",
       "│ MobileNetV3Small (<span style=\"color: #0087ff; text-decoration-color: #0087ff\">Functional</span>)   │ (<span style=\"color: #00d7ff; text-decoration-color: #00d7ff\">None</span>, <span style=\"color: #00af00; text-decoration-color: #00af00\">2</span>, <span style=\"color: #00af00; text-decoration-color: #00af00\">2</span>, <span style=\"color: #00af00; text-decoration-color: #00af00\">576</span>)      │       <span style=\"color: #00af00; text-decoration-color: #00af00\">939,120</span> │\n",
       "├─────────────────────────────────┼────────────────────────┼───────────────┤\n",
       "│ global_average_pooling2d_10     │ (<span style=\"color: #00d7ff; text-decoration-color: #00d7ff\">None</span>, <span style=\"color: #00af00; text-decoration-color: #00af00\">576</span>)            │             <span style=\"color: #00af00; text-decoration-color: #00af00\">0</span> │\n",
       "│ (<span style=\"color: #0087ff; text-decoration-color: #0087ff\">GlobalAveragePooling2D</span>)        │                        │               │\n",
       "├─────────────────────────────────┼────────────────────────┼───────────────┤\n",
       "│ dense_3 (<span style=\"color: #0087ff; text-decoration-color: #0087ff\">Dense</span>)                 │ (<span style=\"color: #00d7ff; text-decoration-color: #00d7ff\">None</span>, <span style=\"color: #00af00; text-decoration-color: #00af00\">7</span>)              │         <span style=\"color: #00af00; text-decoration-color: #00af00\">4,039</span> │\n",
       "└─────────────────────────────────┴────────────────────────┴───────────────┘\n",
       "</pre>\n"
      ],
      "text/plain": [
       "┏━━━━━━━━━━━━━━━━━━━━━━━━━━━━━━━━━┳━━━━━━━━━━━━━━━━━━━━━━━━┳━━━━━━━━━━━━━━━┓\n",
       "┃\u001b[1m \u001b[0m\u001b[1mLayer (type)                   \u001b[0m\u001b[1m \u001b[0m┃\u001b[1m \u001b[0m\u001b[1mOutput Shape          \u001b[0m\u001b[1m \u001b[0m┃\u001b[1m \u001b[0m\u001b[1m      Param #\u001b[0m\u001b[1m \u001b[0m┃\n",
       "┡━━━━━━━━━━━━━━━━━━━━━━━━━━━━━━━━━╇━━━━━━━━━━━━━━━━━━━━━━━━╇━━━━━━━━━━━━━━━┩\n",
       "│ input_layer_17 (\u001b[38;5;33mInputLayer\u001b[0m)     │ (\u001b[38;5;45mNone\u001b[0m, \u001b[38;5;34m48\u001b[0m, \u001b[38;5;34m48\u001b[0m, \u001b[38;5;34m3\u001b[0m)      │             \u001b[38;5;34m0\u001b[0m │\n",
       "├─────────────────────────────────┼────────────────────────┼───────────────┤\n",
       "│ MobileNetV3Small (\u001b[38;5;33mFunctional\u001b[0m)   │ (\u001b[38;5;45mNone\u001b[0m, \u001b[38;5;34m2\u001b[0m, \u001b[38;5;34m2\u001b[0m, \u001b[38;5;34m576\u001b[0m)      │       \u001b[38;5;34m939,120\u001b[0m │\n",
       "├─────────────────────────────────┼────────────────────────┼───────────────┤\n",
       "│ global_average_pooling2d_10     │ (\u001b[38;5;45mNone\u001b[0m, \u001b[38;5;34m576\u001b[0m)            │             \u001b[38;5;34m0\u001b[0m │\n",
       "│ (\u001b[38;5;33mGlobalAveragePooling2D\u001b[0m)        │                        │               │\n",
       "├─────────────────────────────────┼────────────────────────┼───────────────┤\n",
       "│ dense_3 (\u001b[38;5;33mDense\u001b[0m)                 │ (\u001b[38;5;45mNone\u001b[0m, \u001b[38;5;34m7\u001b[0m)              │         \u001b[38;5;34m4,039\u001b[0m │\n",
       "└─────────────────────────────────┴────────────────────────┴───────────────┘\n"
      ]
     },
     "metadata": {},
     "output_type": "display_data"
    },
    {
     "data": {
      "text/html": [
       "<pre style=\"white-space:pre;overflow-x:auto;line-height:normal;font-family:Menlo,'DejaVu Sans Mono',consolas,'Courier New',monospace\"><span style=\"font-weight: bold\"> Total params: </span><span style=\"color: #00af00; text-decoration-color: #00af00\">943,159</span> (3.60 MB)\n",
       "</pre>\n"
      ],
      "text/plain": [
       "\u001b[1m Total params: \u001b[0m\u001b[38;5;34m943,159\u001b[0m (3.60 MB)\n"
      ]
     },
     "metadata": {},
     "output_type": "display_data"
    },
    {
     "data": {
      "text/html": [
       "<pre style=\"white-space:pre;overflow-x:auto;line-height:normal;font-family:Menlo,'DejaVu Sans Mono',consolas,'Courier New',monospace\"><span style=\"font-weight: bold\"> Trainable params: </span><span style=\"color: #00af00; text-decoration-color: #00af00\">4,039</span> (15.78 KB)\n",
       "</pre>\n"
      ],
      "text/plain": [
       "\u001b[1m Trainable params: \u001b[0m\u001b[38;5;34m4,039\u001b[0m (15.78 KB)\n"
      ]
     },
     "metadata": {},
     "output_type": "display_data"
    },
    {
     "data": {
      "text/html": [
       "<pre style=\"white-space:pre;overflow-x:auto;line-height:normal;font-family:Menlo,'DejaVu Sans Mono',consolas,'Courier New',monospace\"><span style=\"font-weight: bold\"> Non-trainable params: </span><span style=\"color: #00af00; text-decoration-color: #00af00\">939,120</span> (3.58 MB)\n",
       "</pre>\n"
      ],
      "text/plain": [
       "\u001b[1m Non-trainable params: \u001b[0m\u001b[38;5;34m939,120\u001b[0m (3.58 MB)\n"
      ]
     },
     "metadata": {},
     "output_type": "display_data"
    }
   ],
   "source": [
    "# 1. Instantiate base model and load pre-trained weights, specify our preferred input shape\n",
    "base_model = keras.applications.MobileNetV3Small(\n",
    "    weights=\"imagenet\", # Load weights pretrained on Imagenet\n",
    "    input_shape=(48,48,3),\n",
    "    include_top=False # Do not include the ImageNet classifier at the top\n",
    ")\n",
    "\n",
    "# 2. Freeze the base model\n",
    "base_model.trainable = False \n",
    "\n",
    "# 3. Create a new model on top of the output on one of the layers\n",
    "inputs = keras.Input(shape=(48,48,3))\n",
    "\n",
    "base = base_model(inputs, training=False)\n",
    "vectors = keras.layers.GlobalAveragePooling2D()(base)\n",
    "\n",
    "# Final output layer\n",
    "num_categories = 7\n",
    "outputs = keras.layers.Dense(num_categories, activation='softmax')(vectors)\n",
    "\n",
    "first_model = keras.Model(inputs,outputs) \n",
    "\n",
    "optimizer = keras.optimizers.Adam(learning_rate=0.001)\n",
    "\n",
    "loss = keras.losses.CategoricalCrossentropy(from_logits=False)\n",
    "\n",
    "first_model.compile(optimizer=optimizer, loss=loss, metrics=['accuracy'])\n",
    "first_model.summary()"
   ]
  },
  {
   "cell_type": "markdown",
   "id": "925ba517-0c51-473b-b7a7-32e8606b3640",
   "metadata": {},
   "source": [
    "### Loading the datasets and training the model\n",
    "\n",
    "I am using the same functionality as in the scratch model to load our validation and training datasets."
   ]
  },
  {
   "cell_type": "code",
   "execution_count": 43,
   "id": "cf85b8eb-7aba-4119-9614-21ccf23dae74",
   "metadata": {},
   "outputs": [],
   "source": [
    "def get_image_meta(data_path):\n",
    "    \"\"\"Retrieve basic metadata (file_path, category)\"\"\"\n",
    "    \n",
    "    file_meta = []\n",
    "\n",
    "    for name in os.listdir(data_path): \n",
    "        filepath = os.path.join(data_path, name)\n",
    "\n",
    "        if '.DS_Store' in filepath:\n",
    "            continue\n",
    "\n",
    "        for image_file_name in os.listdir(filepath): \n",
    "            image_filepath = os.path.join(filepath, image_file_name)\n",
    "\n",
    "            attrs = {\n",
    "                'category': name,\n",
    "                'file_path': image_filepath,\n",
    "            }\n",
    "            file_meta.append(attrs)\n",
    "\n",
    "    return file_meta "
   ]
  },
  {
   "cell_type": "code",
   "execution_count": 44,
   "id": "c395dbb6-8c12-4307-9d3d-7f4194f85b7d",
   "metadata": {},
   "outputs": [],
   "source": [
    "data_file_path = \"../data/clean_fer_2013/\""
   ]
  },
  {
   "cell_type": "code",
   "execution_count": 45,
   "id": "12ba9304-29c5-41c3-add9-87bd5a4104aa",
   "metadata": {},
   "outputs": [
    {
     "data": {
      "text/html": [
       "<div>\n",
       "<style scoped>\n",
       "    .dataframe tbody tr th:only-of-type {\n",
       "        vertical-align: middle;\n",
       "    }\n",
       "\n",
       "    .dataframe tbody tr th {\n",
       "        vertical-align: top;\n",
       "    }\n",
       "\n",
       "    .dataframe thead th {\n",
       "        text-align: right;\n",
       "    }\n",
       "</style>\n",
       "<table border=\"1\" class=\"dataframe\">\n",
       "  <thead>\n",
       "    <tr style=\"text-align: right;\">\n",
       "      <th></th>\n",
       "      <th>category</th>\n",
       "      <th>file_path</th>\n",
       "    </tr>\n",
       "  </thead>\n",
       "  <tbody>\n",
       "    <tr>\n",
       "      <th>0</th>\n",
       "      <td>happy</td>\n",
       "      <td>../data/clean_fer_2013/train/happy/Training_50...</td>\n",
       "    </tr>\n",
       "    <tr>\n",
       "      <th>1</th>\n",
       "      <td>happy</td>\n",
       "      <td>../data/clean_fer_2013/train/happy/Training_70...</td>\n",
       "    </tr>\n",
       "    <tr>\n",
       "      <th>2</th>\n",
       "      <td>happy</td>\n",
       "      <td>../data/clean_fer_2013/train/happy/Training_85...</td>\n",
       "    </tr>\n",
       "    <tr>\n",
       "      <th>3</th>\n",
       "      <td>happy</td>\n",
       "      <td>../data/clean_fer_2013/train/happy/Training_44...</td>\n",
       "    </tr>\n",
       "    <tr>\n",
       "      <th>4</th>\n",
       "      <td>happy</td>\n",
       "      <td>../data/clean_fer_2013/train/happy/Training_63...</td>\n",
       "    </tr>\n",
       "  </tbody>\n",
       "</table>\n",
       "</div>"
      ],
      "text/plain": [
       "  category                                          file_path\n",
       "0    happy  ../data/clean_fer_2013/train/happy/Training_50...\n",
       "1    happy  ../data/clean_fer_2013/train/happy/Training_70...\n",
       "2    happy  ../data/clean_fer_2013/train/happy/Training_85...\n",
       "3    happy  ../data/clean_fer_2013/train/happy/Training_44...\n",
       "4    happy  ../data/clean_fer_2013/train/happy/Training_63..."
      ]
     },
     "execution_count": 45,
     "metadata": {},
     "output_type": "execute_result"
    }
   ],
   "source": [
    "train_data_folder = data_file_path + \"train/\"\n",
    "\n",
    "meta_train = get_image_meta(train_data_folder)\n",
    "\n",
    "df_meta_train = pd.DataFrame(meta_train)\n",
    "df_meta_train.head()"
   ]
  },
  {
   "cell_type": "code",
   "execution_count": 46,
   "id": "04bdfde2-002b-4341-9b30-6896d50c5afe",
   "metadata": {},
   "outputs": [
    {
     "data": {
      "text/html": [
       "<div>\n",
       "<style scoped>\n",
       "    .dataframe tbody tr th:only-of-type {\n",
       "        vertical-align: middle;\n",
       "    }\n",
       "\n",
       "    .dataframe tbody tr th {\n",
       "        vertical-align: top;\n",
       "    }\n",
       "\n",
       "    .dataframe thead th {\n",
       "        text-align: right;\n",
       "    }\n",
       "</style>\n",
       "<table border=\"1\" class=\"dataframe\">\n",
       "  <thead>\n",
       "    <tr style=\"text-align: right;\">\n",
       "      <th></th>\n",
       "      <th>category</th>\n",
       "      <th>file_path</th>\n",
       "    </tr>\n",
       "  </thead>\n",
       "  <tbody>\n",
       "    <tr>\n",
       "      <th>0</th>\n",
       "      <td>happy</td>\n",
       "      <td>../data/clean_fer_2013/validation/happy/Public...</td>\n",
       "    </tr>\n",
       "    <tr>\n",
       "      <th>1</th>\n",
       "      <td>happy</td>\n",
       "      <td>../data/clean_fer_2013/validation/happy/Public...</td>\n",
       "    </tr>\n",
       "    <tr>\n",
       "      <th>2</th>\n",
       "      <td>happy</td>\n",
       "      <td>../data/clean_fer_2013/validation/happy/Public...</td>\n",
       "    </tr>\n",
       "    <tr>\n",
       "      <th>3</th>\n",
       "      <td>happy</td>\n",
       "      <td>../data/clean_fer_2013/validation/happy/Public...</td>\n",
       "    </tr>\n",
       "    <tr>\n",
       "      <th>4</th>\n",
       "      <td>happy</td>\n",
       "      <td>../data/clean_fer_2013/validation/happy/Public...</td>\n",
       "    </tr>\n",
       "  </tbody>\n",
       "</table>\n",
       "</div>"
      ],
      "text/plain": [
       "  category                                          file_path\n",
       "0    happy  ../data/clean_fer_2013/validation/happy/Public...\n",
       "1    happy  ../data/clean_fer_2013/validation/happy/Public...\n",
       "2    happy  ../data/clean_fer_2013/validation/happy/Public...\n",
       "3    happy  ../data/clean_fer_2013/validation/happy/Public...\n",
       "4    happy  ../data/clean_fer_2013/validation/happy/Public..."
      ]
     },
     "execution_count": 46,
     "metadata": {},
     "output_type": "execute_result"
    }
   ],
   "source": [
    "val_data_folder = data_file_path + \"validation/\"\n",
    "\n",
    "meta_val = get_image_meta(val_data_folder)\n",
    "\n",
    "df_meta_val = pd.DataFrame(meta_val)\n",
    "df_meta_val.head()"
   ]
  },
  {
   "cell_type": "code",
   "execution_count": 47,
   "id": "201b0b6f-8773-40c1-b2b3-d04fec4c6967",
   "metadata": {},
   "outputs": [],
   "source": [
    "def create_label_encoder(categories):\n",
    "    \"\"\"Create a mapping from category names to integer indices and perform one hot encoding\"\"\"\n",
    "    return tf.keras.layers.StringLookup(vocabulary=categories, \n",
    "                                                output_mode='one_hot', \n",
    "                                                num_oov_indices=0)\n",
    "\n",
    "def create_dataset(image_paths, labels, label_encoder, batch_size=32):\n",
    "    \"\"\"Load the dataset from file paths, apply preprocessing and group into batches\"\"\"\n",
    "    dataset = tf.data.Dataset.from_tensor_slices((image_paths, labels))\n",
    "    dataset = dataset.map(lambda x, y: (preprocess_input(x), tf.squeeze(label_encoder(y))))\n",
    "    dataset = dataset.batch(batch_size)\n",
    "    dataset = dataset.shuffle(buffer_size=1000)  # Shuffle the dataset\n",
    "    dataset = dataset.prefetch(tf.data.experimental.AUTOTUNE)  # Prefetch for better performance\n",
    "    return dataset"
   ]
  },
  {
   "cell_type": "code",
   "execution_count": 48,
   "id": "35b91231-74d8-42a8-94a2-a61dab4a441d",
   "metadata": {},
   "outputs": [],
   "source": [
    "train_labels = df_meta_train[\"category\"].values\n",
    "train_image_paths = df_meta_train[\"file_path\"].values\n",
    "\n",
    "val_labels = df_meta_val[\"category\"].values\n",
    "val_image_paths = df_meta_val[\"file_path\"].values\n",
    "\n",
    "categories = list(df_meta_train[\"category\"].unique())\n",
    "label_encoder = create_label_encoder(categories)\n",
    "\n",
    "train_dataset = create_dataset(train_image_paths, train_labels, label_encoder, batch_size=32)\n",
    "val_dataset = create_dataset(val_image_paths, val_labels, label_encoder, batch_size=32)"
   ]
  },
  {
   "cell_type": "code",
   "execution_count": 49,
   "id": "8f5dfd0f-876c-4c48-956b-90d98ad4d789",
   "metadata": {},
   "outputs": [
    {
     "data": {
      "text/plain": [
       "(837, 26784, 3488)"
      ]
     },
     "execution_count": 49,
     "metadata": {},
     "output_type": "execute_result"
    }
   ],
   "source": [
    "expected_num_iterations_per_epoch = len(train_dataset)\n",
    "length_training_data = len(train_dataset) * 32\n",
    "length_validation_data = len(val_dataset) * 32\n",
    "\n",
    "expected_num_iterations_per_epoch, length_training_data, length_validation_data"
   ]
  },
  {
   "cell_type": "code",
   "execution_count": 54,
   "id": "55f04b43-b12a-48be-bbc4-45cdf38c77dc",
   "metadata": {},
   "outputs": [
    {
     "name": "stdout",
     "output_type": "stream",
     "text": [
      "Epoch 1/30\n",
      "\u001b[1m837/837\u001b[0m \u001b[32m━━━━━━━━━━━━━━━━━━━━\u001b[0m\u001b[37m\u001b[0m \u001b[1m23s\u001b[0m 15ms/step - accuracy: 0.2554 - loss: 1.8475 - val_accuracy: 0.2996 - val_loss: 1.7619\n",
      "Epoch 2/30\n",
      "\u001b[1m837/837\u001b[0m \u001b[32m━━━━━━━━━━━━━━━━━━━━\u001b[0m\u001b[37m\u001b[0m \u001b[1m15s\u001b[0m 14ms/step - accuracy: 0.2715 - loss: 1.8033 - val_accuracy: 0.3220 - val_loss: 1.7297\n",
      "Epoch 3/30\n",
      "\u001b[1m837/837\u001b[0m \u001b[32m━━━━━━━━━━━━━━━━━━━━\u001b[0m\u001b[37m\u001b[0m \u001b[1m15s\u001b[0m 14ms/step - accuracy: 0.3018 - loss: 1.7395 - val_accuracy: 0.2936 - val_loss: 1.8067\n",
      "Epoch 4/30\n",
      "\u001b[1m837/837\u001b[0m \u001b[32m━━━━━━━━━━━━━━━━━━━━\u001b[0m\u001b[37m\u001b[0m \u001b[1m15s\u001b[0m 14ms/step - accuracy: 0.3095 - loss: 1.7540 - val_accuracy: 0.3168 - val_loss: 1.7557\n",
      "Epoch 5/30\n",
      "\u001b[1m837/837\u001b[0m \u001b[32m━━━━━━━━━━━━━━━━━━━━\u001b[0m\u001b[37m\u001b[0m \u001b[1m15s\u001b[0m 14ms/step - accuracy: 0.3228 - loss: 1.7252 - val_accuracy: 0.3269 - val_loss: 1.7148\n",
      "Epoch 6/30\n",
      "\u001b[1m837/837\u001b[0m \u001b[32m━━━━━━━━━━━━━━━━━━━━\u001b[0m\u001b[37m\u001b[0m \u001b[1m16s\u001b[0m 15ms/step - accuracy: 0.3417 - loss: 1.6694 - val_accuracy: 0.3249 - val_loss: 1.7120\n",
      "Epoch 7/30\n",
      "\u001b[1m837/837\u001b[0m \u001b[32m━━━━━━━━━━━━━━━━━━━━\u001b[0m\u001b[37m\u001b[0m \u001b[1m16s\u001b[0m 14ms/step - accuracy: 0.3522 - loss: 1.6539 - val_accuracy: 0.3499 - val_loss: 1.6603\n",
      "Epoch 8/30\n",
      "\u001b[1m837/837\u001b[0m \u001b[32m━━━━━━━━━━━━━━━━━━━━\u001b[0m\u001b[37m\u001b[0m \u001b[1m16s\u001b[0m 15ms/step - accuracy: 0.3553 - loss: 1.6553 - val_accuracy: 0.3640 - val_loss: 1.6364\n",
      "Epoch 9/30\n",
      "\u001b[1m837/837\u001b[0m \u001b[32m━━━━━━━━━━━━━━━━━━━━\u001b[0m\u001b[37m\u001b[0m \u001b[1m16s\u001b[0m 15ms/step - accuracy: 0.3530 - loss: 1.6603 - val_accuracy: 0.3516 - val_loss: 1.6463\n",
      "Epoch 10/30\n",
      "\u001b[1m837/837\u001b[0m \u001b[32m━━━━━━━━━━━━━━━━━━━━\u001b[0m\u001b[37m\u001b[0m \u001b[1m16s\u001b[0m 15ms/step - accuracy: 0.3514 - loss: 1.6391 - val_accuracy: 0.3508 - val_loss: 1.6506\n",
      "Epoch 11/30\n",
      "\u001b[1m837/837\u001b[0m \u001b[32m━━━━━━━━━━━━━━━━━━━━\u001b[0m\u001b[37m\u001b[0m \u001b[1m15s\u001b[0m 14ms/step - accuracy: 0.3508 - loss: 1.6358 - val_accuracy: 0.3505 - val_loss: 1.7381\n",
      "Epoch 12/30\n",
      "\u001b[1m837/837\u001b[0m \u001b[32m━━━━━━━━━━━━━━━━━━━━\u001b[0m\u001b[37m\u001b[0m \u001b[1m16s\u001b[0m 15ms/step - accuracy: 0.3523 - loss: 1.6536 - val_accuracy: 0.3597 - val_loss: 1.6579\n",
      "Epoch 13/30\n",
      "\u001b[1m837/837\u001b[0m \u001b[32m━━━━━━━━━━━━━━━━━━━━\u001b[0m\u001b[37m\u001b[0m \u001b[1m17s\u001b[0m 16ms/step - accuracy: 0.3572 - loss: 1.6412 - val_accuracy: 0.3680 - val_loss: 1.6283\n",
      "Epoch 14/30\n",
      "\u001b[1m837/837\u001b[0m \u001b[32m━━━━━━━━━━━━━━━━━━━━\u001b[0m\u001b[37m\u001b[0m \u001b[1m16s\u001b[0m 15ms/step - accuracy: 0.3496 - loss: 1.6485 - val_accuracy: 0.3482 - val_loss: 1.6720\n",
      "Epoch 15/30\n",
      "\u001b[1m837/837\u001b[0m \u001b[32m━━━━━━━━━━━━━━━━━━━━\u001b[0m\u001b[37m\u001b[0m \u001b[1m17s\u001b[0m 16ms/step - accuracy: 0.3549 - loss: 1.6536 - val_accuracy: 0.3143 - val_loss: 1.7236\n",
      "Epoch 16/30\n",
      "\u001b[1m837/837\u001b[0m \u001b[32m━━━━━━━━━━━━━━━━━━━━\u001b[0m\u001b[37m\u001b[0m \u001b[1m17s\u001b[0m 17ms/step - accuracy: 0.3635 - loss: 1.6179 - val_accuracy: 0.3482 - val_loss: 1.6577\n",
      "Epoch 17/30\n",
      "\u001b[1m837/837\u001b[0m \u001b[32m━━━━━━━━━━━━━━━━━━━━\u001b[0m\u001b[37m\u001b[0m \u001b[1m16s\u001b[0m 15ms/step - accuracy: 0.3655 - loss: 1.6257 - val_accuracy: 0.3010 - val_loss: 1.7103\n",
      "Epoch 18/30\n",
      "\u001b[1m837/837\u001b[0m \u001b[32m━━━━━━━━━━━━━━━━━━━━\u001b[0m\u001b[37m\u001b[0m \u001b[1m16s\u001b[0m 15ms/step - accuracy: 0.3736 - loss: 1.6068 - val_accuracy: 0.3646 - val_loss: 1.6213\n",
      "Epoch 19/30\n",
      "\u001b[1m837/837\u001b[0m \u001b[32m━━━━━━━━━━━━━━━━━━━━\u001b[0m\u001b[37m\u001b[0m \u001b[1m16s\u001b[0m 16ms/step - accuracy: 0.3870 - loss: 1.5803 - val_accuracy: 0.3318 - val_loss: 1.7221\n",
      "Epoch 20/30\n",
      "\u001b[1m837/837\u001b[0m \u001b[32m━━━━━━━━━━━━━━━━━━━━\u001b[0m\u001b[37m\u001b[0m \u001b[1m16s\u001b[0m 16ms/step - accuracy: 0.3527 - loss: 1.6454 - val_accuracy: 0.3594 - val_loss: 1.6350\n",
      "Epoch 21/30\n",
      "\u001b[1m837/837\u001b[0m \u001b[32m━━━━━━━━━━━━━━━━━━━━\u001b[0m\u001b[37m\u001b[0m \u001b[1m16s\u001b[0m 15ms/step - accuracy: 0.3737 - loss: 1.6289 - val_accuracy: 0.3623 - val_loss: 1.6697\n",
      "Epoch 22/30\n",
      "\u001b[1m837/837\u001b[0m \u001b[32m━━━━━━━━━━━━━━━━━━━━\u001b[0m\u001b[37m\u001b[0m \u001b[1m16s\u001b[0m 15ms/step - accuracy: 0.3740 - loss: 1.6174 - val_accuracy: 0.3692 - val_loss: 1.6115\n",
      "Epoch 23/30\n",
      "\u001b[1m837/837\u001b[0m \u001b[32m━━━━━━━━━━━━━━━━━━━━\u001b[0m\u001b[37m\u001b[0m \u001b[1m16s\u001b[0m 15ms/step - accuracy: 0.3631 - loss: 1.6304 - val_accuracy: 0.3574 - val_loss: 1.6775\n",
      "Epoch 24/30\n",
      "\u001b[1m837/837\u001b[0m \u001b[32m━━━━━━━━━━━━━━━━━━━━\u001b[0m\u001b[37m\u001b[0m \u001b[1m16s\u001b[0m 15ms/step - accuracy: 0.3666 - loss: 1.6252 - val_accuracy: 0.3562 - val_loss: 1.6586\n",
      "Epoch 25/30\n",
      "\u001b[1m837/837\u001b[0m \u001b[32m━━━━━━━━━━━━━━━━━━━━\u001b[0m\u001b[37m\u001b[0m \u001b[1m16s\u001b[0m 15ms/step - accuracy: 0.3692 - loss: 1.6149 - val_accuracy: 0.3568 - val_loss: 1.6437\n",
      "Epoch 26/30\n",
      "\u001b[1m837/837\u001b[0m \u001b[32m━━━━━━━━━━━━━━━━━━━━\u001b[0m\u001b[37m\u001b[0m \u001b[1m16s\u001b[0m 15ms/step - accuracy: 0.3654 - loss: 1.6200 - val_accuracy: 0.3686 - val_loss: 1.6213\n",
      "Epoch 27/30\n",
      "\u001b[1m837/837\u001b[0m \u001b[32m━━━━━━━━━━━━━━━━━━━━\u001b[0m\u001b[37m\u001b[0m \u001b[1m16s\u001b[0m 15ms/step - accuracy: 0.3579 - loss: 1.6273 - val_accuracy: 0.3329 - val_loss: 1.6976\n",
      "Epoch 28/30\n",
      "\u001b[1m837/837\u001b[0m \u001b[32m━━━━━━━━━━━━━━━━━━━━\u001b[0m\u001b[37m\u001b[0m \u001b[1m17s\u001b[0m 16ms/step - accuracy: 0.3757 - loss: 1.5931 - val_accuracy: 0.3706 - val_loss: 1.6474\n",
      "Epoch 29/30\n",
      "\u001b[1m837/837\u001b[0m \u001b[32m━━━━━━━━━━━━━━━━━━━━\u001b[0m\u001b[37m\u001b[0m \u001b[1m16s\u001b[0m 15ms/step - accuracy: 0.3755 - loss: 1.6072 - val_accuracy: 0.3583 - val_loss: 1.6496\n",
      "Epoch 30/30\n",
      "\u001b[1m837/837\u001b[0m \u001b[32m━━━━━━━━━━━━━━━━━━━━\u001b[0m\u001b[37m\u001b[0m \u001b[1m16s\u001b[0m 15ms/step - accuracy: 0.3602 - loss: 1.6313 - val_accuracy: 0.3482 - val_loss: 1.6881\n"
     ]
    }
   ],
   "source": [
    "history = first_model.fit(\n",
    "    train_dataset,          \n",
    "    epochs=30,           \n",
    "    validation_data=val_dataset  \n",
    ")"
   ]
  },
  {
   "cell_type": "markdown",
   "id": "daed2e24-bb3e-42de-b1c2-44ed1a18bcf2",
   "metadata": {},
   "source": [
    "**Evaluation**\n",
    "\n",
    "The initial results are not too promising: it is strange that the training set is struggling to get better accuracy than 37%!"
   ]
  },
  {
   "cell_type": "code",
   "execution_count": 55,
   "id": "594a7456-3116-43b5-853e-179ec9ca0272",
   "metadata": {},
   "outputs": [
    {
     "data": {
      "image/png": "[encoded data removed]",
      "text/plain": [
       "<Figure size 640x480 with 1 Axes>"
      ]
     },
     "metadata": {},
     "output_type": "display_data"
    }
   ],
   "source": [
    "plt.plot(history.history[\"accuracy\"], label=\"train\")\n",
    "plt.plot(history.history[\"val_accuracy\"], label=\"val\")\n",
    "plt.xticks(np.arange(30))\n",
    "plt.legend()\n",
    "plt.title(\"Accuracy over epochs\")\n",
    "plt.show()"
   ]
  },
  {
   "cell_type": "code",
   "execution_count": 56,
   "id": "005e71cf-c88e-4984-bc00-a6de627d5182",
   "metadata": {},
   "outputs": [
    {
     "data": {
      "image/png": "[encoded data removed]",
      "text/plain": [
       "<Figure size 640x480 with 1 Axes>"
      ]
     },
     "metadata": {},
     "output_type": "display_data"
    }
   ],
   "source": [
    "plt.plot(history.history[\"loss\"], label=\"train\")\n",
    "plt.plot(history.history[\"val_loss\"], label=\"val\")\n",
    "plt.xticks(np.arange(30))\n",
    "plt.legend()\n",
    "plt.title(\"Loss over epochs\")\n",
    "plt.show()"
   ]
  },
  {
   "cell_type": "code",
   "execution_count": null,
   "id": "b511ee7b-3cab-4efe-94ab-f60e3b00fa17",
   "metadata": {},
   "outputs": [],
   "source": []
  }
 ],
 "metadata": {
  "kernelspec": {
   "display_name": "emotion_recog",
   "language": "python",
   "name": "emotion_recog"
  },
  "language_info": {
   "codemirror_mode": {
    "name": "ipython",
    "version": 3
   },
   "file_extension": ".py",
   "mimetype": "text/x-python",
   "name": "python",
   "nbconvert_exporter": "python",
   "pygments_lexer": "ipython3",
   "version": "3.11.10"
  }
 },
 "nbformat": 4,
 "nbformat_minor": 5
}
