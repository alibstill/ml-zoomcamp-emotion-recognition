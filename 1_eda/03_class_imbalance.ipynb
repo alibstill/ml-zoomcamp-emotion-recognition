{
 "cells": [
  {
   "cell_type": "markdown",
   "id": "ffddb0f1-56d1-4a5b-b2a3-498eb1ff43fd",
   "metadata": {},
   "source": [
    "# Class Imbalance"
   ]
  },
  {
   "cell_type": "code",
   "execution_count": 1,
   "id": "90832f8d-db08-4604-a65a-1db28bb5b674",
   "metadata": {},
   "outputs": [
    {
     "name": "stderr",
     "output_type": "stream",
     "text": [
      "2025-01-21 10:26:22.289016: I tensorflow/core/platform/cpu_feature_guard.cc:210] This TensorFlow binary is optimized to use available CPU instructions in performance-critical operations.\n",
      "To enable the following instructions: AVX2 FMA, in other operations, rebuild TensorFlow with the appropriate compiler flags.\n"
     ]
    }
   ],
   "source": [
    "import pandas as pd\n",
    "import os\n",
    "from PIL import Image\n",
    "import matplotlib.pyplot as plt\n",
    "import seaborn as sns\n",
    "from tensorflow.keras.preprocessing.image import load_img, img_to_array\n",
    "import numpy as np\n",
    "import tensorflow as tf"
   ]
  },
  {
   "cell_type": "code",
   "execution_count": 2,
   "id": "dc519f3e-2bfd-436b-a36b-61afec88d043",
   "metadata": {},
   "outputs": [],
   "source": [
    "data_file_path = \"../data/clean_fer_2013/\""
   ]
  },
  {
   "cell_type": "markdown",
   "id": "82dfcb84-b91f-4a8a-9f0d-293338d582f1",
   "metadata": {},
   "source": [
    "## Is there still Class Imbalance in the clean dataset?\n",
    "\n",
    "In the preprocessing step, I removed duplicates and poor quality images. This reduced the training dataset from 28,709 images to 26,767 images.\n",
    "\n",
    "We can see that removing images has retained the general distribution i.e. that there are far more \"happy\" images than \"disgust\" images. Unfortunately our preprocessing has accentuated the difference, but only very slightly.\n"
   ]
  },
  {
   "cell_type": "code",
   "execution_count": 3,
   "id": "50ea5943-2053-413d-b637-d98e39a27e27",
   "metadata": {},
   "outputs": [],
   "source": [
    "def get_meta_train(training_data_path):\n",
    "    \"\"\"\n",
    "    Retrieve basic information about training images\n",
    "\n",
    "    Args:\n",
    "        training_data_path: (str) path to the training folder containing all training images\n",
    "        \n",
    "    Returns:\n",
    "        list of dictionaries, each containing metadata about the image\n",
    "    \n",
    "    \"\"\"\n",
    "    file_meta = []\n",
    "    \n",
    "\n",
    "    for name in os.listdir(training_data_path): \n",
    "        filepath = os.path.join(training_data_path, name)\n",
    "\n",
    "        if '.DS_Store' in filepath:\n",
    "            continue\n",
    "\n",
    "        for image_file_name in os.listdir(filepath): \n",
    "            image_filepath = os.path.join(filepath, image_file_name)\n",
    "        \n",
    "            stats = os.stat(image_filepath)\n",
    "            with Image.open(image_filepath) as img:\n",
    "                width, height = img.size\n",
    "    \n",
    "                mode = img.mode\n",
    "                \n",
    "                attrs = {\n",
    "                    'category': name,\n",
    "                    'file_name': image_file_name,\n",
    "                    'file_path': image_filepath,\n",
    "                }\n",
    "                file_meta.append(attrs)\n",
    "    \n",
    "    return file_meta "
   ]
  },
  {
   "cell_type": "code",
   "execution_count": 4,
   "id": "f7f4394c-a644-4fe7-a710-ad836c5a7a17",
   "metadata": {},
   "outputs": [
    {
     "data": {
      "text/html": [
       "<div>\n",
       "<style scoped>\n",
       "    .dataframe tbody tr th:only-of-type {\n",
       "        vertical-align: middle;\n",
       "    }\n",
       "\n",
       "    .dataframe tbody tr th {\n",
       "        vertical-align: top;\n",
       "    }\n",
       "\n",
       "    .dataframe thead th {\n",
       "        text-align: right;\n",
       "    }\n",
       "</style>\n",
       "<table border=\"1\" class=\"dataframe\">\n",
       "  <thead>\n",
       "    <tr style=\"text-align: right;\">\n",
       "      <th></th>\n",
       "      <th>category</th>\n",
       "      <th>file_name</th>\n",
       "      <th>file_path</th>\n",
       "    </tr>\n",
       "  </thead>\n",
       "  <tbody>\n",
       "    <tr>\n",
       "      <th>0</th>\n",
       "      <td>happy</td>\n",
       "      <td>Training_50449107.jpg</td>\n",
       "      <td>../data/clean_fer_2013/train/happy/Training_50...</td>\n",
       "    </tr>\n",
       "    <tr>\n",
       "      <th>1</th>\n",
       "      <td>happy</td>\n",
       "      <td>Training_70433018.jpg</td>\n",
       "      <td>../data/clean_fer_2013/train/happy/Training_70...</td>\n",
       "    </tr>\n",
       "  </tbody>\n",
       "</table>\n",
       "</div>"
      ],
      "text/plain": [
       "  category              file_name  \\\n",
       "0    happy  Training_50449107.jpg   \n",
       "1    happy  Training_70433018.jpg   \n",
       "\n",
       "                                           file_path  \n",
       "0  ../data/clean_fer_2013/train/happy/Training_50...  \n",
       "1  ../data/clean_fer_2013/train/happy/Training_70...  "
      ]
     },
     "execution_count": 4,
     "metadata": {},
     "output_type": "execute_result"
    }
   ],
   "source": [
    "train_data_folder = data_file_path + \"train/\"\n",
    "\n",
    "meta_train = get_meta_train(train_data_folder)\n",
    "\n",
    "df_meta_train = pd.DataFrame(meta_train)\n",
    "df_meta_train.head(2)"
   ]
  },
  {
   "cell_type": "code",
   "execution_count": 5,
   "id": "781c8222-9d06-42f5-ad35-c72ea94ffabd",
   "metadata": {},
   "outputs": [
    {
     "data": {
      "text/plain": [
       "26767"
      ]
     },
     "execution_count": 5,
     "metadata": {},
     "output_type": "execute_result"
    }
   ],
   "source": [
    "len(df_meta_train)"
   ]
  },
  {
   "cell_type": "code",
   "execution_count": 6,
   "id": "7d29194c-35e7-4fff-893a-cdb352568d1a",
   "metadata": {},
   "outputs": [
    {
     "data": {
      "text/plain": [
       "28709"
      ]
     },
     "execution_count": 6,
     "metadata": {},
     "output_type": "execute_result"
    }
   ],
   "source": [
    "original_data_folder = \"../data/fer_2013/train\"\n",
    "meta_original = get_meta_train(original_data_folder)\n",
    "\n",
    "df_meta_original = pd.DataFrame(meta_original)\n",
    "len(df_meta_original)"
   ]
  },
  {
   "cell_type": "code",
   "execution_count": 7,
   "id": "9d6d560b-449c-42f6-b1d3-ecdbc5759eb8",
   "metadata": {},
   "outputs": [
    {
     "data": {
      "image/png": "[encoded data removed]",
      "text/plain": [
       "<Figure size 640x480 with 1 Axes>"
      ]
     },
     "metadata": {},
     "output_type": "display_data"
    }
   ],
   "source": [
    "sns.histplot(data=df_meta_original, x=\"category\",color=\"blue\", label=\"original\" )\n",
    "sns.histplot(data=df_meta_train, x=\"category\", color=\"green\", label=\"clean\")\n",
    "\n",
    "plt.legend()\n",
    "plt.title(\"Distribution of categories in original and 'clean' datasets\")\n",
    "plt.show()"
   ]
  },
  {
   "cell_type": "markdown",
   "id": "d167cde1-9f30-45fd-882d-bd207a2ceb91",
   "metadata": {},
   "source": [
    "## Solution 1 - Data Augmentation: Creating more images by modifying existing ones\n",
    "\n",
    "One way to solve class imbalance is to create more images of the minority classes. We can do this by making small adjustments to existing images e.g. we could rotate them slightly, zoom in slightly.\n",
    "\n",
    "Below I have experimented with a couple of approaches. The `tf.keras.layers` has the most intuitive interface and I was able to apply more transformations.\n",
    "\n",
    "Looking at the results, you can see that some of the images look quite grainy. Are we augmenting images and merely adding back the blur that we tried to remove earlier?\n",
    "\n",
    "**Augmentation for Regularization**\n",
    "\n",
    "Data Augmentation is not primarily used for class balance but for regularization. It can help the model generalise better and reduce overfitting.\n",
    "\n",
    "**Conclusion**\n",
    "\n",
    "For our base model, we won't use this kind of data augmentation for class imbalance. I will try introducing it later to see if we get a better model."
   ]
  },
  {
   "cell_type": "code",
   "execution_count": 8,
   "id": "0cef6715-f3c5-4411-99ed-079806d2bca6",
   "metadata": {},
   "outputs": [
    {
     "data": {
      "image/png": "[encoded data removed]",
      "text/plain": [
       "<Figure size 300x200 with 2 Axes>"
      ]
     },
     "metadata": {},
     "output_type": "display_data"
    }
   ],
   "source": [
    "image_path = df_meta_train[\"file_path\"].iloc[0]\n",
    "img = tf.io.read_file(image_path)\n",
    "img = tf.image.decode_jpeg(img, channels=1) # 1 for grayscale\n",
    "img = tf.image.resize(img, [48, 48])\n",
    "img = img / 255.0\n",
    "img = tf.expand_dims(img, axis=0)\n",
    "\n",
    "def augment_image(image, min_zoom=0.8, max_zoom=1.0):\n",
    "    # Apply random zoom\n",
    "    zoom_factor = tf.random.uniform([], min_zoom, max_zoom, dtype=tf.float32)\n",
    "    image = tf.image.central_crop(image, central_fraction=zoom_factor)\n",
    "    image = tf.image.resize(image, [48, 48])  # Resize back to original size\n",
    "\n",
    "    # Random flip\n",
    "    image = tf.image.random_flip_left_right(image)\n",
    "    return image\n",
    "\n",
    "augmented_image = augment_image(img)\n",
    "\n",
    "# Plot the original and augmented image for comparison\n",
    "fig, ax = plt.subplots(1, 2, figsize=(3, 2))\n",
    "ax[0].imshow(img[0].numpy().squeeze(), cmap=\"gray\")  # Display the original image (remove the batch dimension)\n",
    "ax[0].set_title(\"Original\")\n",
    "ax[0].axis('off')\n",
    "\n",
    "ax[1].imshow(augmented_image[0].numpy().squeeze(), cmap=\"gray\")  # Display the augmented image\n",
    "ax[1].set_title(\"Augmented\")\n",
    "ax[1].axis('off')\n",
    "\n",
    "plt.show()"
   ]
  },
  {
   "cell_type": "code",
   "execution_count": 9,
   "id": "65ac5794-5fdd-4503-b5cd-18cffac2af1d",
   "metadata": {},
   "outputs": [
    {
     "data": {
      "image/png": "[encoded data removed]",
      "text/plain": [
       "<Figure size 300x300 with 9 Axes>"
      ]
     },
     "metadata": {},
     "output_type": "display_data"
    }
   ],
   "source": [
    "# Augmentation Layers\n",
    "rotation_layer = tf.keras.layers.RandomRotation(0.05)  # Rotate by up to 5% of 360 degrees i.e. 18 degrees\n",
    "zoom_layer = tf.keras.layers.RandomZoom(height_factor=0.05, width_factor=0.05)  # Zoom by 5%\n",
    "shift_layer = tf.keras.layers.RandomTranslation(height_factor=0.05, width_factor=0.05)  # Shift by 5%\n",
    "flip_layer = tf.keras.layers.RandomFlip(\"horizontal\")\n",
    "\n",
    "def augment_image(image):\n",
    "    image = rotation_layer(image)  # Apply random rotation\n",
    "    image = zoom_layer(image)  # Apply random zoom\n",
    "    image = shift_layer(image)  # Apply random translation (shift)\n",
    "    image = flip_layer(image)\n",
    "    \n",
    "    return image\n",
    "\n",
    "image_path = df_meta_train[\"file_path\"].iloc[0]\n",
    "img = tf.io.read_file(image_path)\n",
    "img = tf.image.decode_jpeg(img, channels=1) # 1 for grayscale\n",
    "img = tf.image.resize(img, [48, 48])\n",
    "img = img / 255.0\n",
    "basic_img = tf.expand_dims(img, axis=0)\n",
    "\n",
    "\n",
    "fig, ax = plt.subplots(3, 3, figsize=(3, 3))  # Adjust grid size\n",
    "for i in range(3):\n",
    "    for j in range(3):\n",
    "        img = basic_img\n",
    "        if ((i != 0) or (j!=0)):\n",
    "            img = augment_image(img)\n",
    "        ax[i, j].imshow(img[0].numpy().squeeze(), cmap=\"gray\")\n",
    "        ax[i, j].axis('off')  \n",
    "\n",
    "plt.show()"
   ]
  },
  {
   "cell_type": "markdown",
   "id": "8d7d73ed-43cd-4c0c-90d3-8b8ddd083777",
   "metadata": {},
   "source": [
    "## Solution 2 - Manipulating Batch Composition\n",
    "\n",
    "Another approach to manage class imbalance is to balance the batches being sent to model.\n",
    "\n",
    "We can do this by creating a bespoke generator that ensures that we sample the same number of images for each class regardless of the class distribution.\n",
    "\n",
    "Below is an example generator that we can pass to the `model.fit(train_generator)` method. Notice that to create an appropriate generator we need to implement the `Sequence` interface.\n",
    "\n",
    "You can see from the simple test that this will retrieve an equal number of samples per class to counter the class imbalance that exists in the dataset.\n",
    "\n",
    "One issue with this approach is that it may not be the most efficient."
   ]
  },
  {
   "cell_type": "code",
   "execution_count": 72,
   "id": "e045717b-a9ea-4ffa-882d-0f32527b5ef6",
   "metadata": {},
   "outputs": [],
   "source": [
    "from tensorflow.keras.utils import Sequence\n",
    "\n",
    "class ExampleGenerator(Sequence):\n",
    "    def __init__(self, image_paths, labels, batch_size):\n",
    "        self.image_paths = image_paths\n",
    "        self.labels = labels\n",
    "        self.batch_size = batch_size\n",
    "\n",
    "        self.unique_classes = np.unique(labels)\n",
    "        self.class_indices = {label: np.where(self.labels == label)[0] for label in self.unique_classes}\n",
    "\n",
    "    def __len__(self):\n",
    "        # Calculate the number of batches per epoch\n",
    "        return int(np.floor(len(self.image_paths) / self.batch_size))\n",
    "    \n",
    "    def __getitem__(self, idx):\n",
    "        batch_images = []\n",
    "        batch_labels = []\n",
    "        \n",
    "        images_per_class = self.batch_size // len(self.unique_classes)\n",
    "        \n",
    "        for sampled_category in self.unique_classes:\n",
    "            # Sample the indices for this class\n",
    "            class_indices = self.class_indices[sampled_category]\n",
    "            sampled_indices = np.random.choice(class_indices, images_per_class, replace=False) # sample without replacement\n",
    "            # Add the sampled images to the batch\n",
    "            for image_idx in sampled_indices:\n",
    "                image_path = self.image_paths[image_idx]\n",
    "                img = load_img(image_path)\n",
    "                img = img_to_array(img) # normalize later\n",
    "                \n",
    "                label = self.labels[image_idx]\n",
    "                \n",
    "                batch_images.append(img)\n",
    "                batch_labels.append(label)\n",
    "\n",
    "        return np.array(batch_images), np.array(batch_labels)\n",
    "            "
   ]
  },
  {
   "cell_type": "code",
   "execution_count": 73,
   "id": "a5957d79-0b3e-441a-b197-b0ca1c461648",
   "metadata": {},
   "outputs": [
    {
     "data": {
      "text/plain": [
       "(26767, 26767)"
      ]
     },
     "execution_count": 73,
     "metadata": {},
     "output_type": "execute_result"
    }
   ],
   "source": [
    "image_paths = df_meta_train[\"file_path\"].values\n",
    "labels = df_meta_train[\"category\"].values\n",
    "\n",
    "len(image_paths), len(labels)"
   ]
  },
  {
   "cell_type": "code",
   "execution_count": 74,
   "id": "dd244987-c71a-4cba-9d78-66457363daee",
   "metadata": {},
   "outputs": [
    {
     "data": {
      "text/plain": [
       "array(['angry', 'disgust', 'fear', 'happy', 'neutral', 'sad', 'surprise'],\n",
       "      dtype=object)"
      ]
     },
     "execution_count": 74,
     "metadata": {},
     "output_type": "execute_result"
    }
   ],
   "source": [
    "generator = ExampleGenerator(image_paths=image_paths, labels=labels, batch_size=14)\n",
    "\n",
    "generator.unique_classes"
   ]
  },
  {
   "cell_type": "code",
   "execution_count": 75,
   "id": "29694566-633e-4c05-b71b-f83810bb2190",
   "metadata": {},
   "outputs": [
    {
     "data": {
      "text/plain": [
       "{'angry': array([22683, 22684, 22685, ..., 26392, 26393, 26394]),\n",
       " 'disgust': array([26395, 26396, 26397, 26398, 26399, 26400, 26401, 26402, 26403,\n",
       "        26404, 26405, 26406, 26407, 26408, 26409, 26410, 26411, 26412,\n",
       "        26413, 26414, 26415, 26416, 26417, 26418, 26419, 26420, 26421,\n",
       "        26422, 26423, 26424, 26425, 26426, 26427, 26428, 26429, 26430,\n",
       "        26431, 26432, 26433, 26434, 26435, 26436, 26437, 26438, 26439,\n",
       "        26440, 26441, 26442, 26443, 26444, 26445, 26446, 26447, 26448,\n",
       "        26449, 26450, 26451, 26452, 26453, 26454, 26455, 26456, 26457,\n",
       "        26458, 26459, 26460, 26461, 26462, 26463, 26464, 26465, 26466,\n",
       "        26467, 26468, 26469, 26470, 26471, 26472, 26473, 26474, 26475,\n",
       "        26476, 26477, 26478, 26479, 26480, 26481, 26482, 26483, 26484,\n",
       "        26485, 26486, 26487, 26488, 26489, 26490, 26491, 26492, 26493,\n",
       "        26494, 26495, 26496, 26497, 26498, 26499, 26500, 26501, 26502,\n",
       "        26503, 26504, 26505, 26506, 26507, 26508, 26509, 26510, 26511,\n",
       "        26512, 26513, 26514, 26515, 26516, 26517, 26518, 26519, 26520,\n",
       "        26521, 26522, 26523, 26524, 26525, 26526, 26527, 26528, 26529,\n",
       "        26530, 26531, 26532, 26533, 26534, 26535, 26536, 26537, 26538,\n",
       "        26539, 26540, 26541, 26542, 26543, 26544, 26545, 26546, 26547,\n",
       "        26548, 26549, 26550, 26551, 26552, 26553, 26554, 26555, 26556,\n",
       "        26557, 26558, 26559, 26560, 26561, 26562, 26563, 26564, 26565,\n",
       "        26566, 26567, 26568, 26569, 26570, 26571, 26572, 26573, 26574,\n",
       "        26575, 26576, 26577, 26578, 26579, 26580, 26581, 26582, 26583,\n",
       "        26584, 26585, 26586, 26587, 26588, 26589, 26590, 26591, 26592,\n",
       "        26593, 26594, 26595, 26596, 26597, 26598, 26599, 26600, 26601,\n",
       "        26602, 26603, 26604, 26605, 26606, 26607, 26608, 26609, 26610,\n",
       "        26611, 26612, 26613, 26614, 26615, 26616, 26617, 26618, 26619,\n",
       "        26620, 26621, 26622, 26623, 26624, 26625, 26626, 26627, 26628,\n",
       "        26629, 26630, 26631, 26632, 26633, 26634, 26635, 26636, 26637,\n",
       "        26638, 26639, 26640, 26641, 26642, 26643, 26644, 26645, 26646,\n",
       "        26647, 26648, 26649, 26650, 26651, 26652, 26653, 26654, 26655,\n",
       "        26656, 26657, 26658, 26659, 26660, 26661, 26662, 26663, 26664,\n",
       "        26665, 26666, 26667, 26668, 26669, 26670, 26671, 26672, 26673,\n",
       "        26674, 26675, 26676, 26677, 26678, 26679, 26680, 26681, 26682,\n",
       "        26683, 26684, 26685, 26686, 26687, 26688, 26689, 26690, 26691,\n",
       "        26692, 26693, 26694, 26695, 26696, 26697, 26698, 26699, 26700,\n",
       "        26701, 26702, 26703, 26704, 26705, 26706, 26707, 26708, 26709,\n",
       "        26710, 26711, 26712, 26713, 26714, 26715, 26716, 26717, 26718,\n",
       "        26719, 26720, 26721, 26722, 26723, 26724, 26725, 26726, 26727,\n",
       "        26728, 26729, 26730, 26731, 26732, 26733, 26734, 26735, 26736,\n",
       "        26737, 26738, 26739, 26740, 26741, 26742, 26743, 26744, 26745,\n",
       "        26746, 26747, 26748, 26749, 26750, 26751, 26752, 26753, 26754,\n",
       "        26755, 26756, 26757, 26758, 26759, 26760, 26761, 26762, 26763,\n",
       "        26764, 26765, 26766]),\n",
       " 'fear': array([11540, 11541, 11542, ..., 15327, 15328, 15329]),\n",
       " 'happy': array([   0,    1,    2, ..., 6956, 6957, 6958]),\n",
       " 'neutral': array([17952, 17953, 17954, ..., 22680, 22681, 22682]),\n",
       " 'sad': array([ 6959,  6960,  6961, ..., 11537, 11538, 11539]),\n",
       " 'surprise': array([15330, 15331, 15332, ..., 17949, 17950, 17951])}"
      ]
     },
     "execution_count": 75,
     "metadata": {},
     "output_type": "execute_result"
    }
   ],
   "source": [
    "generator.class_indices"
   ]
  },
  {
   "cell_type": "code",
   "execution_count": 80,
   "id": "9592b954-ac31-4757-8bf2-c7d7aa97eed1",
   "metadata": {},
   "outputs": [
    {
     "data": {
      "text/plain": [
       "(14, 14)"
      ]
     },
     "execution_count": 80,
     "metadata": {},
     "output_type": "execute_result"
    }
   ],
   "source": [
    "images, labels = generator.__getitem__(idx=1)\n",
    "\n",
    "len(images), len(labels)"
   ]
  },
  {
   "cell_type": "code",
   "execution_count": 81,
   "id": "f21be09d-8034-42fb-94f5-4acbf55a0a98",
   "metadata": {},
   "outputs": [
    {
     "data": {
      "text/plain": [
       "array(['angry', 'angry', 'disgust', 'disgust', 'fear', 'fear', 'happy',\n",
       "       'happy', 'neutral', 'neutral', 'sad', 'sad', 'surprise',\n",
       "       'surprise'], dtype='<U8')"
      ]
     },
     "execution_count": 81,
     "metadata": {},
     "output_type": "execute_result"
    }
   ],
   "source": [
    "labels"
   ]
  },
  {
   "cell_type": "code",
   "execution_count": 82,
   "id": "60562552-e9be-4a08-be9a-5049a1ff4c2a",
   "metadata": {},
   "outputs": [
    {
     "data": {
      "image/png": "[encoded data removed]",
      "text/plain": [
       "<Figure size 600x500 with 14 Axes>"
      ]
     },
     "metadata": {},
     "output_type": "display_data"
    }
   ],
   "source": [
    "fig, ax = plt.subplots(7, 2, figsize=(6, 5))  # Adjust grid size\n",
    "\n",
    "plt.subplots_adjust(hspace=0.8) \n",
    "idx = 0\n",
    "for i in range(7):\n",
    "    for j in range(2):\n",
    "        image = images[idx]\n",
    "        label = labels[idx]\n",
    "        image = image / 255.0\n",
    "        ax[i, j].imshow(image.squeeze(), cmap=\"gray\")\n",
    "        ax[i, j].set_title(label)\n",
    "        ax[i, j].axis('off')  \n",
    "        idx += 1"
   ]
  },
  {
   "cell_type": "markdown",
   "id": "57b0d218-ba4d-42b4-be3f-bb689b6cf4b4",
   "metadata": {},
   "source": [
    "## Solution 3 - Adjust the loss function \n",
    "\n",
    "You can compute the class weights and then apply these during training to adjust the loss function. When the model makes a mistake on an underrepresented class, the loss will be multiplied by a larger weight. In this sense the model places more importance on getting the underrepresented class predictions correct than the overrepresented class, which can tackle the imbalance.\n",
    "\n",
    "When we have computed the class weights, we can pass it to the model as another parameter e.g. \n",
    "\n",
    "```python\n",
    "model.fit(\n",
    "    train_dataset,\n",
    "    epochs=10,\n",
    "    class_weight=class_weight_dict  # or normalized_class_weight_dict\n",
    ")\n",
    "```\n",
    "\n",
    "Below we experiment with using scikit learn's `compute_class_weight` and discover that we can perform our own calculation and achieve the same results. This will reduce complexity."
   ]
  },
  {
   "cell_type": "code",
   "execution_count": 91,
   "id": "0b25c356-60fe-48ee-8e8c-600802038702",
   "metadata": {},
   "outputs": [
    {
     "name": "stdout",
     "output_type": "stream",
     "text": [
      "Found 26767 files belonging to 7 classes.\n",
      "{0: 1.0301339285714286, 1: 10.279185867895546, 2: 1.0089332830757634, 3: 0.5494837107137726, 4: 0.8082555787058007, 5: 0.834721052795709, 6: 1.4583741963604664}\n"
     ]
    },
    {
     "name": "stderr",
     "output_type": "stream",
     "text": [
      "2025-01-21 12:14:55.520618: W tensorflow/core/framework/local_rendezvous.cc:404] Local rendezvous is aborting with status: OUT_OF_RANGE: End of sequence\n"
     ]
    }
   ],
   "source": [
    "from sklearn.utils.class_weight import compute_class_weight\n",
    "\n",
    "batch_size = 35\n",
    "\n",
    "# By setting batch_size, we get a PrefetchDataset, not a usual tf.data.Dataset. \n",
    "# This data structure is optimized for batch processing. It is a lazy data pipeline that yields\n",
    "# data when iterated over\n",
    "train_dataset = tf.keras.preprocessing.image_dataset_from_directory(\n",
    "    train_data_folder,  # Path to the directory containing the subfolders for each class\n",
    "    image_size=(48, 48),  # Resize all images to the desired size\n",
    "    batch_size=batch_size,  # Batch size for training\n",
    "    label_mode='categorical',  # Our folder names i.e. categories are strings\n",
    "    shuffle=True  # Shuffle the data for randomness\n",
    ")\n",
    "\n",
    "# Get the labels from the dataset\n",
    "all_labels = []\n",
    "for _, labels in train_dataset:\n",
    "    all_labels.append(labels.numpy())  # Convert Tensor to numpy\n",
    "\n",
    "# Stack all label batches together\n",
    "all_labels = np.concatenate(all_labels, axis=0)\n",
    "\n",
    "# Convert one-hot encoded labels to integer labels\n",
    "train_labels_int = np.argmax(all_labels, axis=1)\n",
    "\n",
    "# Compute class weights\n",
    "class_weights = compute_class_weight(\n",
    "    class_weight='balanced',\n",
    "    classes=np.unique(train_labels_int),  # Unique class indices\n",
    "    y=train_labels_int  # Integer labels\n",
    ")\n",
    "\n",
    "# Convert to dictionary\n",
    "class_weight_dict = dict(zip(np.unique(train_labels_int), class_weights))\n",
    "\n",
    "print(class_weight_dict)"
   ]
  },
  {
   "cell_type": "markdown",
   "id": "b37316a8-23c7-449a-b285-efae71da1c16",
   "metadata": {},
   "source": [
    "**Comparing the scikit-learn class weights to manual calculations**\n",
    "\n",
    "You can see we can calcultae the normalized weights manually rather than use scikit learn.\n",
    "\n",
    "The model can deal with normalized weights."
   ]
  },
  {
   "cell_type": "code",
   "execution_count": 119,
   "id": "2bd2dd67-59da-4451-a8f1-eb50302eddaa",
   "metadata": {},
   "outputs": [
    {
     "data": {
      "text/html": [
       "<div>\n",
       "<style scoped>\n",
       "    .dataframe tbody tr th:only-of-type {\n",
       "        vertical-align: middle;\n",
       "    }\n",
       "\n",
       "    .dataframe tbody tr th {\n",
       "        vertical-align: top;\n",
       "    }\n",
       "\n",
       "    .dataframe thead th {\n",
       "        text-align: right;\n",
       "    }\n",
       "</style>\n",
       "<table border=\"1\" class=\"dataframe\">\n",
       "  <thead>\n",
       "    <tr style=\"text-align: right;\">\n",
       "      <th></th>\n",
       "      <th>normalized_weights</th>\n",
       "    </tr>\n",
       "  </thead>\n",
       "  <tbody>\n",
       "    <tr>\n",
       "      <th>0</th>\n",
       "      <td>0.064508</td>\n",
       "    </tr>\n",
       "    <tr>\n",
       "      <th>1</th>\n",
       "      <td>0.643693</td>\n",
       "    </tr>\n",
       "    <tr>\n",
       "      <th>2</th>\n",
       "      <td>0.063180</td>\n",
       "    </tr>\n",
       "    <tr>\n",
       "      <th>3</th>\n",
       "      <td>0.034409</td>\n",
       "    </tr>\n",
       "    <tr>\n",
       "      <th>4</th>\n",
       "      <td>0.050614</td>\n",
       "    </tr>\n",
       "    <tr>\n",
       "      <th>5</th>\n",
       "      <td>0.052271</td>\n",
       "    </tr>\n",
       "    <tr>\n",
       "      <th>6</th>\n",
       "      <td>0.091325</td>\n",
       "    </tr>\n",
       "  </tbody>\n",
       "</table>\n",
       "</div>"
      ],
      "text/plain": [
       "   normalized_weights\n",
       "0            0.064508\n",
       "1            0.643693\n",
       "2            0.063180\n",
       "3            0.034409\n",
       "4            0.050614\n",
       "5            0.052271\n",
       "6            0.091325"
      ]
     },
     "execution_count": 119,
     "metadata": {},
     "output_type": "execute_result"
    }
   ],
   "source": [
    "normalized_weights = class_weights / np.sum(class_weights)\n",
    "pd.DataFrame(index = np.unique(train_labels_int), data={\"normalized_weights\":normalized_weights})"
   ]
  },
  {
   "cell_type": "code",
   "execution_count": 113,
   "id": "bbed5eb4-95c7-4bd9-97f9-4ba256841773",
   "metadata": {},
   "outputs": [
    {
     "data": {
      "text/html": [
       "<div>\n",
       "<style scoped>\n",
       "    .dataframe tbody tr th:only-of-type {\n",
       "        vertical-align: middle;\n",
       "    }\n",
       "\n",
       "    .dataframe tbody tr th {\n",
       "        vertical-align: top;\n",
       "    }\n",
       "\n",
       "    .dataframe thead th {\n",
       "        text-align: right;\n",
       "    }\n",
       "</style>\n",
       "<table border=\"1\" class=\"dataframe\">\n",
       "  <thead>\n",
       "    <tr style=\"text-align: right;\">\n",
       "      <th></th>\n",
       "      <th>category</th>\n",
       "      <th>count</th>\n",
       "      <th>weights</th>\n",
       "      <th>normalized_weights</th>\n",
       "    </tr>\n",
       "  </thead>\n",
       "  <tbody>\n",
       "    <tr>\n",
       "      <th>0</th>\n",
       "      <td>angry</td>\n",
       "      <td>3712</td>\n",
       "      <td>7.210938</td>\n",
       "      <td>0.064508</td>\n",
       "    </tr>\n",
       "    <tr>\n",
       "      <th>1</th>\n",
       "      <td>disgust</td>\n",
       "      <td>372</td>\n",
       "      <td>71.954301</td>\n",
       "      <td>0.643693</td>\n",
       "    </tr>\n",
       "    <tr>\n",
       "      <th>2</th>\n",
       "      <td>fear</td>\n",
       "      <td>3790</td>\n",
       "      <td>7.062533</td>\n",
       "      <td>0.063180</td>\n",
       "    </tr>\n",
       "    <tr>\n",
       "      <th>3</th>\n",
       "      <td>happy</td>\n",
       "      <td>6959</td>\n",
       "      <td>3.846386</td>\n",
       "      <td>0.034409</td>\n",
       "    </tr>\n",
       "    <tr>\n",
       "      <th>4</th>\n",
       "      <td>neutral</td>\n",
       "      <td>4731</td>\n",
       "      <td>5.657789</td>\n",
       "      <td>0.050614</td>\n",
       "    </tr>\n",
       "    <tr>\n",
       "      <th>5</th>\n",
       "      <td>sad</td>\n",
       "      <td>4581</td>\n",
       "      <td>5.843047</td>\n",
       "      <td>0.052271</td>\n",
       "    </tr>\n",
       "    <tr>\n",
       "      <th>6</th>\n",
       "      <td>surprise</td>\n",
       "      <td>2622</td>\n",
       "      <td>10.208619</td>\n",
       "      <td>0.091325</td>\n",
       "    </tr>\n",
       "  </tbody>\n",
       "</table>\n",
       "</div>"
      ],
      "text/plain": [
       "   category  count    weights  normalized_weights\n",
       "0     angry   3712   7.210938            0.064508\n",
       "1   disgust    372  71.954301            0.643693\n",
       "2      fear   3790   7.062533            0.063180\n",
       "3     happy   6959   3.846386            0.034409\n",
       "4   neutral   4731   5.657789            0.050614\n",
       "5       sad   4581   5.843047            0.052271\n",
       "6  surprise   2622  10.208619            0.091325"
      ]
     },
     "execution_count": 113,
     "metadata": {},
     "output_type": "execute_result"
    }
   ],
   "source": [
    "category_counts = df_meta_train[\"category\"].value_counts().reset_index().sort_values(by=\"category\").reset_index(drop=True)\n",
    "category_counts[\"weights\"] = np.sum(category_counts[\"count\"])/ category_counts[\"count\"]\n",
    "category_counts[\"normalized_weights\"] = category_counts[\"weights\"]/ np.sum(category_counts[\"weights\"])\n",
    "category_counts"
   ]
  },
  {
   "cell_type": "code",
   "execution_count": 120,
   "id": "a46ff872-f5f3-450e-ad63-6daa1bb50236",
   "metadata": {},
   "outputs": [
    {
     "data": {
      "text/plain": [
       "array([3712,  372, 3790, 6959, 4731, 4581, 2622])"
      ]
     },
     "execution_count": 120,
     "metadata": {},
     "output_type": "execute_result"
    }
   ],
   "source": [
    "category_counts[\"count\"].values\n"
   ]
  },
  {
   "cell_type": "code",
   "execution_count": 121,
   "id": "228b3e61-ce7f-4c36-b5a7-deade74f0cba",
   "metadata": {},
   "outputs": [
    {
     "data": {
      "text/plain": [
       "{0: 0.06450800153432945,\n",
       " 1: 0.6436927464930938,\n",
       " 2: 0.06318039622570737,\n",
       " 3: 0.03440921133717932,\n",
       " 4: 0.05061376066274168,\n",
       " 5: 0.052271054725044945,\n",
       " 6: 0.09132482902190346}"
      ]
     },
     "execution_count": 121,
     "metadata": {},
     "output_type": "execute_result"
    }
   ],
   "source": [
    "dict(zip(category_counts.index, category_counts[\"normalized_weights\"]))"
   ]
  },
  {
   "cell_type": "markdown",
   "id": "f27b06e6-59c2-46ec-99d5-aaba7d32c01e",
   "metadata": {},
   "source": [
    "## Conclusion"
   ]
  },
  {
   "cell_type": "markdown",
   "id": "6fa07f2b-ef58-4713-995a-276227ac776d",
   "metadata": {},
   "source": [
    "Applying class weights to the loss function (solution 3) is the easiest to implement. There are warnings in the literature that if the class imbalance is extreme, it will not necessarily help. It is not clear whether our class imbalance falls into this category.\n",
    "\n",
    "Approach: start with simplest solution to implement (i.e. solution 3) and then compare with solution 2 and a combination of both. "
   ]
  }
 ],
 "metadata": {
  "kernelspec": {
   "display_name": "emotion_recog",
   "language": "python",
   "name": "emotion_recog"
  },
  "language_info": {
   "codemirror_mode": {
    "name": "ipython",
    "version": 3
   },
   "file_extension": ".py",
   "mimetype": "text/x-python",
   "name": "python",
   "nbconvert_exporter": "python",
   "pygments_lexer": "ipython3",
   "version": "3.11.10"
  }
 },
 "nbformat": 4,
 "nbformat_minor": 5
}
