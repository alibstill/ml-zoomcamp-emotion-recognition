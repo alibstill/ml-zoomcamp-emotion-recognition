{
 "cells": [
  {
   "cell_type": "markdown",
   "id": "ffddb0f1-56d1-4a5b-b2a3-498eb1ff43fd",
   "metadata": {},
   "source": [
    "# Class Imbalance"
   ]
  },
  {
   "cell_type": "code",
   "execution_count": 23,
   "id": "90832f8d-db08-4604-a65a-1db28bb5b674",
   "metadata": {},
   "outputs": [],
   "source": [
    "import pandas as pd\n",
    "import os\n",
    "from PIL import Image\n",
    "import matplotlib.pyplot as plt\n",
    "import seaborn as sns"
   ]
  },
  {
   "cell_type": "code",
   "execution_count": 24,
   "id": "dc519f3e-2bfd-436b-a36b-61afec88d043",
   "metadata": {},
   "outputs": [],
   "source": [
    "data_file_path = \"../data/clean_fer_2013/\""
   ]
  },
  {
   "cell_type": "markdown",
   "id": "82dfcb84-b91f-4a8a-9f0d-293338d582f1",
   "metadata": {},
   "source": [
    "## Is there still Class Imbalance in the clean dataset?\n",
    "\n",
    "In the preprocessing step, I removed duplicates and poor quality images. This reduced the training dataset from 28,709 images to 26,767 images.\n",
    "\n",
    "We can see that removing images has retained the general distribution i.e. that there are far more \"happy\" images than \"disgust\" images. Unfortunately our preprocessing has accentuated the difference, but only very slightly.\n"
   ]
  },
  {
   "cell_type": "code",
   "execution_count": 75,
   "id": "50ea5943-2053-413d-b637-d98e39a27e27",
   "metadata": {},
   "outputs": [],
   "source": [
    "def get_meta_train(training_data_path):\n",
    "    \"\"\"\n",
    "    Retrieve basic information about training images\n",
    "\n",
    "    Args:\n",
    "        training_data_path: (str) path to the training folder containing all training images\n",
    "        \n",
    "    Returns:\n",
    "        list of dictionaries, each containing metadata about the image\n",
    "    \n",
    "    \"\"\"\n",
    "    file_meta = []\n",
    "    \n",
    "\n",
    "    for name in os.listdir(training_data_path): \n",
    "        filepath = os.path.join(training_data_path, name)\n",
    "\n",
    "        if '.DS_Store' in filepath:\n",
    "            continue\n",
    "\n",
    "        for image_file_name in os.listdir(filepath): \n",
    "            image_filepath = os.path.join(filepath, image_file_name)\n",
    "        \n",
    "            stats = os.stat(image_filepath)\n",
    "            with Image.open(image_filepath) as img:\n",
    "                width, height = img.size\n",
    "    \n",
    "                mode = img.mode\n",
    "                \n",
    "                attrs = {\n",
    "                    'category': name,\n",
    "                    'file_name': image_file_name,\n",
    "                    'file_path': image_filepath,\n",
    "                }\n",
    "                file_meta.append(attrs)\n",
    "    \n",
    "    return file_meta "
   ]
  },
  {
   "cell_type": "code",
   "execution_count": 76,
   "id": "f7f4394c-a644-4fe7-a710-ad836c5a7a17",
   "metadata": {},
   "outputs": [
    {
     "data": {
      "text/html": [
       "<div>\n",
       "<style scoped>\n",
       "    .dataframe tbody tr th:only-of-type {\n",
       "        vertical-align: middle;\n",
       "    }\n",
       "\n",
       "    .dataframe tbody tr th {\n",
       "        vertical-align: top;\n",
       "    }\n",
       "\n",
       "    .dataframe thead th {\n",
       "        text-align: right;\n",
       "    }\n",
       "</style>\n",
       "<table border=\"1\" class=\"dataframe\">\n",
       "  <thead>\n",
       "    <tr style=\"text-align: right;\">\n",
       "      <th></th>\n",
       "      <th>category</th>\n",
       "      <th>file_name</th>\n",
       "      <th>file_path</th>\n",
       "    </tr>\n",
       "  </thead>\n",
       "  <tbody>\n",
       "    <tr>\n",
       "      <th>0</th>\n",
       "      <td>happy</td>\n",
       "      <td>Training_50449107.jpg</td>\n",
       "      <td>../data/clean_fer_2013/train/happy/Training_50...</td>\n",
       "    </tr>\n",
       "    <tr>\n",
       "      <th>1</th>\n",
       "      <td>happy</td>\n",
       "      <td>Training_70433018.jpg</td>\n",
       "      <td>../data/clean_fer_2013/train/happy/Training_70...</td>\n",
       "    </tr>\n",
       "  </tbody>\n",
       "</table>\n",
       "</div>"
      ],
      "text/plain": [
       "  category              file_name  \\\n",
       "0    happy  Training_50449107.jpg   \n",
       "1    happy  Training_70433018.jpg   \n",
       "\n",
       "                                           file_path  \n",
       "0  ../data/clean_fer_2013/train/happy/Training_50...  \n",
       "1  ../data/clean_fer_2013/train/happy/Training_70...  "
      ]
     },
     "execution_count": 76,
     "metadata": {},
     "output_type": "execute_result"
    }
   ],
   "source": [
    "train_data_folder = data_file_path + \"train/\"\n",
    "\n",
    "meta_train = get_meta_train(train_data_folder)\n",
    "\n",
    "df_meta_train = pd.DataFrame(meta_train)\n",
    "df_meta_train.head(2)"
   ]
  },
  {
   "cell_type": "code",
   "execution_count": 77,
   "id": "781c8222-9d06-42f5-ad35-c72ea94ffabd",
   "metadata": {},
   "outputs": [
    {
     "data": {
      "text/plain": [
       "26767"
      ]
     },
     "execution_count": 77,
     "metadata": {},
     "output_type": "execute_result"
    }
   ],
   "source": [
    "len(df_meta_train)"
   ]
  },
  {
   "cell_type": "code",
   "execution_count": 78,
   "id": "7d29194c-35e7-4fff-893a-cdb352568d1a",
   "metadata": {},
   "outputs": [
    {
     "data": {
      "text/plain": [
       "28709"
      ]
     },
     "execution_count": 78,
     "metadata": {},
     "output_type": "execute_result"
    }
   ],
   "source": [
    "original_data_folder = \"../data/fer_2013/train\"\n",
    "meta_original = get_meta_train(original_data_folder)\n",
    "\n",
    "df_meta_original = pd.DataFrame(meta_original)\n",
    "len(df_meta_original)"
   ]
  },
  {
   "cell_type": "code",
   "execution_count": 79,
   "id": "9d6d560b-449c-42f6-b1d3-ecdbc5759eb8",
   "metadata": {},
   "outputs": [
    {
     "data": {
      "image/png": "[encoded data removed]",
      "text/plain": [
       "<Figure size 640x480 with 1 Axes>"
      ]
     },
     "metadata": {},
     "output_type": "display_data"
    }
   ],
   "source": [
    "sns.histplot(data=df_meta_original, x=\"category\",color=\"blue\", label=\"original\" )\n",
    "sns.histplot(data=df_meta_train, x=\"category\", color=\"green\", label=\"clean\")\n",
    "\n",
    "plt.legend()\n",
    "plt.title(\"Distribution of categories in original and 'clean' datasets\")\n",
    "plt.show()"
   ]
  },
  {
   "cell_type": "code",
   "execution_count": 80,
   "id": "68a54138-ebc5-4847-99df-f02a0aae2b2b",
   "metadata": {},
   "outputs": [
    {
     "data": {
      "text/html": [
       "<div>\n",
       "<style scoped>\n",
       "    .dataframe tbody tr th:only-of-type {\n",
       "        vertical-align: middle;\n",
       "    }\n",
       "\n",
       "    .dataframe tbody tr th {\n",
       "        vertical-align: top;\n",
       "    }\n",
       "\n",
       "    .dataframe thead th {\n",
       "        text-align: right;\n",
       "    }\n",
       "</style>\n",
       "<table border=\"1\" class=\"dataframe\">\n",
       "  <thead>\n",
       "    <tr style=\"text-align: right;\">\n",
       "      <th></th>\n",
       "      <th>clean</th>\n",
       "      <th>original</th>\n",
       "      <th>diff</th>\n",
       "    </tr>\n",
       "    <tr>\n",
       "      <th>category</th>\n",
       "      <th></th>\n",
       "      <th></th>\n",
       "      <th></th>\n",
       "    </tr>\n",
       "  </thead>\n",
       "  <tbody>\n",
       "    <tr>\n",
       "      <th>happy</th>\n",
       "      <td>0.259984</td>\n",
       "      <td>0.251315</td>\n",
       "      <td>0.008669</td>\n",
       "    </tr>\n",
       "    <tr>\n",
       "      <th>neutral</th>\n",
       "      <td>0.176747</td>\n",
       "      <td>0.172942</td>\n",
       "      <td>0.003805</td>\n",
       "    </tr>\n",
       "    <tr>\n",
       "      <th>sad</th>\n",
       "      <td>0.171144</td>\n",
       "      <td>0.168240</td>\n",
       "      <td>0.002904</td>\n",
       "    </tr>\n",
       "    <tr>\n",
       "      <th>fear</th>\n",
       "      <td>0.141592</td>\n",
       "      <td>0.142708</td>\n",
       "      <td>-0.001116</td>\n",
       "    </tr>\n",
       "    <tr>\n",
       "      <th>angry</th>\n",
       "      <td>0.138678</td>\n",
       "      <td>0.139155</td>\n",
       "      <td>-0.000477</td>\n",
       "    </tr>\n",
       "    <tr>\n",
       "      <th>surprise</th>\n",
       "      <td>0.097956</td>\n",
       "      <td>0.110453</td>\n",
       "      <td>-0.012497</td>\n",
       "    </tr>\n",
       "    <tr>\n",
       "      <th>disgust</th>\n",
       "      <td>0.013898</td>\n",
       "      <td>0.015187</td>\n",
       "      <td>-0.001289</td>\n",
       "    </tr>\n",
       "  </tbody>\n",
       "</table>\n",
       "</div>"
      ],
      "text/plain": [
       "             clean  original      diff\n",
       "category                              \n",
       "happy     0.259984  0.251315  0.008669\n",
       "neutral   0.176747  0.172942  0.003805\n",
       "sad       0.171144  0.168240  0.002904\n",
       "fear      0.141592  0.142708 -0.001116\n",
       "angry     0.138678  0.139155 -0.000477\n",
       "surprise  0.097956  0.110453 -0.012497\n",
       "disgust   0.013898  0.015187 -0.001289"
      ]
     },
     "execution_count": 80,
     "metadata": {},
     "output_type": "execute_result"
    }
   ],
   "source": [
    "df_category_percentage = df_meta_train[\"category\"].value_counts(normalize=True).to_frame()\n",
    "df_category_percentage.columns = ['clean']\n",
    "df_category_percentage[\"original\"] = pd.Series(original_class_distribution)\n",
    "df_category_percentage[\"diff\"] = df_category_percentage[\"clean\"] - df_category_percentage[\"original\"]\n",
    "df_category_percentage.sort_values(by=\"clean\", ascending=False)"
   ]
  },
  {
   "cell_type": "code",
   "execution_count": null,
   "id": "af627dde-34f3-4434-8578-d1b6352137fa",
   "metadata": {},
   "outputs": [],
   "source": []
  }
 ],
 "metadata": {
  "kernelspec": {
   "display_name": "emotion_recog",
   "language": "python",
   "name": "emotion_recog"
  },
  "language_info": {
   "codemirror_mode": {
    "name": "ipython",
    "version": 3
   },
   "file_extension": ".py",
   "mimetype": "text/x-python",
   "name": "python",
   "nbconvert_exporter": "python",
   "pygments_lexer": "ipython3",
   "version": "3.11.10"
  }
 },
 "nbformat": 4,
 "nbformat_minor": 5
}
