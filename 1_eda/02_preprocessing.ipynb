{
 "cells": [
  {
   "cell_type": "markdown",
   "id": "cbc86f7e-fea6-4449-9b90-c1503da24c20",
   "metadata": {},
   "source": [
    "# Preprocessing: removing images"
   ]
  },
  {
   "cell_type": "markdown",
   "id": "4fb23212-e404-40b7-bf04-7977becebfba",
   "metadata": {},
   "source": [
    "The exploratory data analysis revealed that we are working with compressed image files whose quality varies: some of the images are so dark that it is impossible to determine if they are actually faces.\n",
    "\n",
    "The analysis also revealed that there are 2400 duplicate images (with 1314 images that should be dropped).\n",
    "\n",
    "In this notebook, I will remove duplicate and low quality images from the training set. \n",
    "\n",
    "I will also create a separate test and validation dataset (we currently only have test and train). I will also check these test/validation datasets to make sure they don't have the same problems and resolve any issues that may arise.\n"
   ]
  },
  {
   "cell_type": "code",
   "execution_count": 1,
   "id": "4161241a-a8f6-47a4-ba2e-fc93c6c5d007",
   "metadata": {},
   "outputs": [
    {
     "name": "stderr",
     "output_type": "stream",
     "text": [
      "2025-01-16 16:03:05.206648: I tensorflow/core/platform/cpu_feature_guard.cc:210] This TensorFlow binary is optimized to use available CPU instructions in performance-critical operations.\n",
      "To enable the following instructions: AVX2 FMA, in other operations, rebuild TensorFlow with the appropriate compiler flags.\n"
     ]
    }
   ],
   "source": [
    "import pandas as pd\n",
    "import numpy as np\n",
    "import os\n",
    "import shutil\n",
    "from PIL import Image\n",
    "from PIL.ExifTags import TAGS\n",
    "import imagehash\n",
    "import matplotlib.pyplot as plt\n",
    "import seaborn as sns\n",
    "\n",
    "import tensorflow as tf\n",
    "from tensorflow import keras\n",
    "from tensorflow.keras.preprocessing.image import load_img\n",
    "\n",
    "SEED = 42\n",
    "np.random.seed(SEED)\n",
    "tf.random.set_seed(SEED)"
   ]
  },
  {
   "cell_type": "code",
   "execution_count": 2,
   "id": "d0f2b967-6892-41b7-aaf9-3312538d65a8",
   "metadata": {},
   "outputs": [],
   "source": [
    "data_file_path = \"../data/fer_2013/\""
   ]
  },
  {
   "cell_type": "markdown",
   "id": "3c4bca11-6a9f-413e-973a-29aedca063a7",
   "metadata": {},
   "source": [
    "## Evalute Images"
   ]
  },
  {
   "cell_type": "code",
   "execution_count": 3,
   "id": "5afde55c-3fe8-4732-b946-f25424c0a414",
   "metadata": {},
   "outputs": [],
   "source": [
    "def get_noise_score(img, width, height):\n",
    "    \"\"\"\n",
    "    Calculate the standard deviation of pixel values.\n",
    "    \n",
    "    This function divides the image into smaller windows and calculate the standard deviation\n",
    "    of the pixel values. With the idea that noisy regions are those with higher \n",
    "    standard deviation compared to clean areas.\n",
    "    \"\"\"\n",
    "    noise_score = 0\n",
    "    window_size = 16\n",
    "\n",
    "    img_array = np.array(img)\n",
    "    \n",
    "    for y in range(0, height - window_size, window_size):\n",
    "        for x in range(0, width - window_size, window_size):\n",
    "            window = img_array[y:y+window_size, x:x+window_size]\n",
    "            window_std = np.std(window)\n",
    "            noise_score += window_std\n",
    "\n",
    "    return noise_score / (height * width)\n",
    "    \n",
    "    \n",
    "def evaluate_images(data_path):\n",
    "    \"\"\"\n",
    "    Retrieve noise and hash_value of each image along with basic metadata (file_name, file_path, category)\n",
    "\n",
    "    Args:\n",
    "        data_path: (str) path to the category folders containing images that fall under that category\n",
    "        \n",
    "    Returns:\n",
    "        list of dictionaries, each containing metadata about the image\n",
    "    \n",
    "    \"\"\"\n",
    "    \n",
    "    file_meta = []\n",
    "    \n",
    "\n",
    "    for name in os.listdir(data_path): \n",
    "        filepath = os.path.join(data_path, name)\n",
    "\n",
    "        if '.DS_Store' in filepath:\n",
    "            continue\n",
    "\n",
    "        for image_file_name in os.listdir(filepath): \n",
    "            image_filepath = os.path.join(filepath, image_file_name)\n",
    "        \n",
    "            with Image.open(image_filepath) as img:\n",
    "                width, height = img.size\n",
    "\n",
    "                attrs = {\n",
    "                    'category': name,\n",
    "                    'file_name': image_file_name,\n",
    "                    'file_path': image_filepath,\n",
    "                    'noise_score': get_noise_score(img, width, height),\n",
    "                    'hash_value': str(imagehash.phash(img))\n",
    "                }\n",
    "                file_meta.append(attrs)\n",
    "    \n",
    "\n",
    "    \n",
    "    return file_meta \n",
    "\n",
    "def load_print_images(file_paths):\n",
    "    \"\"\"Print out the images found at the given filepaths\"\"\"\n",
    "    for image_path in file_paths:\n",
    "        img = load_img(image_path)\n",
    "        display(img)"
   ]
  },
  {
   "cell_type": "code",
   "execution_count": 4,
   "id": "739f6e9f-405b-4664-b643-f60df5b35336",
   "metadata": {},
   "outputs": [
    {
     "data": {
      "text/html": [
       "<div>\n",
       "<style scoped>\n",
       "    .dataframe tbody tr th:only-of-type {\n",
       "        vertical-align: middle;\n",
       "    }\n",
       "\n",
       "    .dataframe tbody tr th {\n",
       "        vertical-align: top;\n",
       "    }\n",
       "\n",
       "    .dataframe thead th {\n",
       "        text-align: right;\n",
       "    }\n",
       "</style>\n",
       "<table border=\"1\" class=\"dataframe\">\n",
       "  <thead>\n",
       "    <tr style=\"text-align: right;\">\n",
       "      <th></th>\n",
       "      <th>category</th>\n",
       "      <th>file_name</th>\n",
       "      <th>file_path</th>\n",
       "      <th>noise_score</th>\n",
       "      <th>hash_value</th>\n",
       "    </tr>\n",
       "  </thead>\n",
       "  <tbody>\n",
       "    <tr>\n",
       "      <th>0</th>\n",
       "      <td>happy</td>\n",
       "      <td>Training_50449107.jpg</td>\n",
       "      <td>../data/fer_2013/train/happy/Training_50449107...</td>\n",
       "      <td>0.072168</td>\n",
       "      <td>84f817c1b63f186b</td>\n",
       "    </tr>\n",
       "    <tr>\n",
       "      <th>1</th>\n",
       "      <td>happy</td>\n",
       "      <td>Training_70433018.jpg</td>\n",
       "      <td>../data/fer_2013/train/happy/Training_70433018...</td>\n",
       "      <td>0.044953</td>\n",
       "      <td>eac1ebc2b13c65e0</td>\n",
       "    </tr>\n",
       "    <tr>\n",
       "      <th>2</th>\n",
       "      <td>happy</td>\n",
       "      <td>Training_85610005.jpg</td>\n",
       "      <td>../data/fer_2013/train/happy/Training_85610005...</td>\n",
       "      <td>0.055432</td>\n",
       "      <td>80e85fe7702659ae</td>\n",
       "    </tr>\n",
       "    <tr>\n",
       "      <th>3</th>\n",
       "      <td>happy</td>\n",
       "      <td>Training_4460748.jpg</td>\n",
       "      <td>../data/fer_2013/train/happy/Training_4460748.jpg</td>\n",
       "      <td>0.049047</td>\n",
       "      <td>880905f785de45bf</td>\n",
       "    </tr>\n",
       "    <tr>\n",
       "      <th>4</th>\n",
       "      <td>happy</td>\n",
       "      <td>Training_6312930.jpg</td>\n",
       "      <td>../data/fer_2013/train/happy/Training_6312930.jpg</td>\n",
       "      <td>0.075139</td>\n",
       "      <td>e8902b2bd2d3d4cb</td>\n",
       "    </tr>\n",
       "  </tbody>\n",
       "</table>\n",
       "</div>"
      ],
      "text/plain": [
       "  category              file_name  \\\n",
       "0    happy  Training_50449107.jpg   \n",
       "1    happy  Training_70433018.jpg   \n",
       "2    happy  Training_85610005.jpg   \n",
       "3    happy   Training_4460748.jpg   \n",
       "4    happy   Training_6312930.jpg   \n",
       "\n",
       "                                           file_path  noise_score  \\\n",
       "0  ../data/fer_2013/train/happy/Training_50449107...     0.072168   \n",
       "1  ../data/fer_2013/train/happy/Training_70433018...     0.044953   \n",
       "2  ../data/fer_2013/train/happy/Training_85610005...     0.055432   \n",
       "3  ../data/fer_2013/train/happy/Training_4460748.jpg     0.049047   \n",
       "4  ../data/fer_2013/train/happy/Training_6312930.jpg     0.075139   \n",
       "\n",
       "         hash_value  \n",
       "0  84f817c1b63f186b  \n",
       "1  eac1ebc2b13c65e0  \n",
       "2  80e85fe7702659ae  \n",
       "3  880905f785de45bf  \n",
       "4  e8902b2bd2d3d4cb  "
      ]
     },
     "execution_count": 4,
     "metadata": {},
     "output_type": "execute_result"
    }
   ],
   "source": [
    "train_data_folder = data_file_path + \"train/\"\n",
    "\n",
    "train_overview = evaluate_images(train_data_folder)\n",
    "\n",
    "df_train = pd.DataFrame(train_overview)\n",
    "df_train.head()"
   ]
  },
  {
   "cell_type": "code",
   "execution_count": 5,
   "id": "9119cd97-0c6c-4df5-af50-3624f5177df0",
   "metadata": {},
   "outputs": [
    {
     "data": {
      "text/plain": [
       "28709"
      ]
     },
     "execution_count": 5,
     "metadata": {},
     "output_type": "execute_result"
    }
   ],
   "source": [
    "len(df_train)"
   ]
  },
  {
   "cell_type": "markdown",
   "id": "871e5d11-2f3a-475e-bfba-dc8e5503ac24",
   "metadata": {},
   "source": [
    "## 1. Removing Duplicates from Training dataset\n",
    "\n",
    "During our EDA, we saw that perceptual hashing was a good way of identifying duplicate images. We will use the same approach here."
   ]
  },
  {
   "cell_type": "code",
   "execution_count": 6,
   "id": "a9c3b9c3-f8c3-4fff-a04b-cfb180ff3808",
   "metadata": {},
   "outputs": [],
   "source": [
    "def get_duplicates(dframe):\n",
    "    \"\"\"Identify all the duplicate images by finding images with the same hash values\"\"\"\n",
    "    duplicates = dframe.groupby(['hash_value']).filter(lambda x: len(x) > 1)\n",
    "    duplicates = duplicates.sort_values(by=\"hash_value\")\n",
    "    return duplicates\n",
    "\n",
    "def get_duplicate_counts(dframe):\n",
    "    \"\"\"Get the count of all duplicate images and the number of images that should be dropped\"\"\"\n",
    "    duplicate_no = len(get_duplicates(dframe))\n",
    "    duplicates_to_drop_no = len(dframe[dframe.duplicated(subset='hash_value')])\n",
    "    return duplicate_no, duplicates_to_drop_no\n",
    "    "
   ]
  },
  {
   "cell_type": "code",
   "execution_count": 7,
   "id": "9639214f-ddfa-4efe-88aa-de01c45e459c",
   "metadata": {},
   "outputs": [
    {
     "data": {
      "text/plain": [
       "2400"
      ]
     },
     "execution_count": 7,
     "metadata": {},
     "output_type": "execute_result"
    }
   ],
   "source": [
    "duplicates_train = get_duplicates(df_train)\n",
    "len(duplicates_train)"
   ]
  },
  {
   "cell_type": "code",
   "execution_count": 8,
   "id": "141a41f5-82cb-422f-9e3e-91e3ff1ab703",
   "metadata": {},
   "outputs": [
    {
     "data": {
      "text/html": [
       "<div>\n",
       "<style scoped>\n",
       "    .dataframe tbody tr th:only-of-type {\n",
       "        vertical-align: middle;\n",
       "    }\n",
       "\n",
       "    .dataframe tbody tr th {\n",
       "        vertical-align: top;\n",
       "    }\n",
       "\n",
       "    .dataframe thead th {\n",
       "        text-align: right;\n",
       "    }\n",
       "</style>\n",
       "<table border=\"1\" class=\"dataframe\">\n",
       "  <thead>\n",
       "    <tr style=\"text-align: right;\">\n",
       "      <th></th>\n",
       "      <th>category</th>\n",
       "      <th>file_name</th>\n",
       "      <th>file_path</th>\n",
       "      <th>noise_score</th>\n",
       "      <th>hash_value</th>\n",
       "    </tr>\n",
       "  </thead>\n",
       "  <tbody>\n",
       "    <tr>\n",
       "      <th>14720</th>\n",
       "      <td>fear</td>\n",
       "      <td>Training_49198048.jpg</td>\n",
       "      <td>../data/fer_2013/train/fear/Training_49198048.jpg</td>\n",
       "      <td>0.097149</td>\n",
       "      <td>ff9fe0b0d2290a45</td>\n",
       "    </tr>\n",
       "    <tr>\n",
       "      <th>12841</th>\n",
       "      <td>fear</td>\n",
       "      <td>Training_27746315.jpg</td>\n",
       "      <td>../data/fer_2013/train/fear/Training_27746315.jpg</td>\n",
       "      <td>0.097149</td>\n",
       "      <td>ff9fe0b0d2290a45</td>\n",
       "    </tr>\n",
       "    <tr>\n",
       "      <th>14144</th>\n",
       "      <td>fear</td>\n",
       "      <td>Training_12587825.jpg</td>\n",
       "      <td>../data/fer_2013/train/fear/Training_12587825.jpg</td>\n",
       "      <td>0.058649</td>\n",
       "      <td>ffa87692895c3582</td>\n",
       "    </tr>\n",
       "    <tr>\n",
       "      <th>18983</th>\n",
       "      <td>surprise</td>\n",
       "      <td>Training_63470176.jpg</td>\n",
       "      <td>../data/fer_2013/train/surprise/Training_63470...</td>\n",
       "      <td>0.058649</td>\n",
       "      <td>ffa87692895c3582</td>\n",
       "    </tr>\n",
       "    <tr>\n",
       "      <th>14336</th>\n",
       "      <td>fear</td>\n",
       "      <td>Training_70012504.jpg</td>\n",
       "      <td>../data/fer_2013/train/fear/Training_70012504.jpg</td>\n",
       "      <td>0.058649</td>\n",
       "      <td>ffa87692895c3582</td>\n",
       "    </tr>\n",
       "  </tbody>\n",
       "</table>\n",
       "</div>"
      ],
      "text/plain": [
       "       category              file_name  \\\n",
       "14720      fear  Training_49198048.jpg   \n",
       "12841      fear  Training_27746315.jpg   \n",
       "14144      fear  Training_12587825.jpg   \n",
       "18983  surprise  Training_63470176.jpg   \n",
       "14336      fear  Training_70012504.jpg   \n",
       "\n",
       "                                               file_path  noise_score  \\\n",
       "14720  ../data/fer_2013/train/fear/Training_49198048.jpg     0.097149   \n",
       "12841  ../data/fer_2013/train/fear/Training_27746315.jpg     0.097149   \n",
       "14144  ../data/fer_2013/train/fear/Training_12587825.jpg     0.058649   \n",
       "18983  ../data/fer_2013/train/surprise/Training_63470...     0.058649   \n",
       "14336  ../data/fer_2013/train/fear/Training_70012504.jpg     0.058649   \n",
       "\n",
       "             hash_value  \n",
       "14720  ff9fe0b0d2290a45  \n",
       "12841  ff9fe0b0d2290a45  \n",
       "14144  ffa87692895c3582  \n",
       "18983  ffa87692895c3582  \n",
       "14336  ffa87692895c3582  "
      ]
     },
     "execution_count": 8,
     "metadata": {},
     "output_type": "execute_result"
    }
   ],
   "source": [
    "duplicates_train.tail()"
   ]
  },
  {
   "cell_type": "code",
   "execution_count": 9,
   "id": "49bb38aa-d3a7-48c4-823f-d7933b439e96",
   "metadata": {},
   "outputs": [
    {
     "data": {
      "image/jpeg": "[encoded data removed]",
      "image/png": "[encoded data removed]",
      "text/plain": [
       "<PIL.Image.Image image mode=RGB size=48x48>"
      ]
     },
     "metadata": {},
     "output_type": "display_data"
    },
    {
     "data": {
      "image/jpeg": "[encoded data removed]",
      "image/png": "[encoded data removed]",
      "text/plain": [
       "<PIL.Image.Image image mode=RGB size=48x48>"
      ]
     },
     "metadata": {},
     "output_type": "display_data"
    },
    {
     "data": {
      "image/jpeg": "[encoded data removed]",
      "image/png": "[encoded data removed]",
      "text/plain": [
       "<PIL.Image.Image image mode=RGB size=48x48>"
      ]
     },
     "metadata": {},
     "output_type": "display_data"
    }
   ],
   "source": [
    "load_print_images(duplicates_train.tail(3)[\"file_path\"].values)"
   ]
  },
  {
   "cell_type": "code",
   "execution_count": 10,
   "id": "39fd974b-6b2f-4e91-a6f8-86504d5bcec4",
   "metadata": {},
   "outputs": [
    {
     "data": {
      "text/plain": [
       "(2400, 1314)"
      ]
     },
     "execution_count": 10,
     "metadata": {},
     "output_type": "execute_result"
    }
   ],
   "source": [
    "train_dupes_no, train_to_drop_no = get_duplicate_counts(df_train)\n",
    "train_dupes_no, train_to_drop_no"
   ]
  },
  {
   "cell_type": "code",
   "execution_count": 11,
   "id": "c2c1a97b-2a18-4e8e-aff0-fd3b9caeb62a",
   "metadata": {},
   "outputs": [
    {
     "data": {
      "text/plain": [
       "27395"
      ]
     },
     "execution_count": 11,
     "metadata": {},
     "output_type": "execute_result"
    }
   ],
   "source": [
    "expected_new_train_length = len(df_train) - train_to_drop_no\n",
    "expected_new_train_length"
   ]
  },
  {
   "cell_type": "code",
   "execution_count": 12,
   "id": "40e50237-a938-490e-ac11-93c3fae89230",
   "metadata": {},
   "outputs": [
    {
     "data": {
      "text/plain": [
       "27395"
      ]
     },
     "execution_count": 12,
     "metadata": {},
     "output_type": "execute_result"
    }
   ],
   "source": [
    "df_train = df_train.drop_duplicates(subset=['hash_value'])\n",
    "len(df_train)"
   ]
  },
  {
   "cell_type": "markdown",
   "id": "b6437f7c-2110-4982-9ea9-16d21141343a",
   "metadata": {},
   "source": [
    "## 2. Removing low quality images\n",
    "\n",
    "We saw during EDA that calculating the average standard deviation of pixel values across an image gave us a good measure of the noise and, by extension, the quality of an image."
   ]
  },
  {
   "cell_type": "markdown",
   "id": "a78c5ab2-7570-4da2-9e3b-ffcc75178b09",
   "metadata": {},
   "source": [
    "**Images with low noise score**\n",
    "\n",
    "During EDA we observed that there were 20 outliers with particularly low noise score. They were visually very dark. I suspect that there may be other images with a noise score slightly above this threshold that are equally unusuable. To investigate this further, I will sample some images with noise scores between the outlier threshold and the first quartile and decide a threshold on visual inspection. \n",
    "\n"
   ]
  },
  {
   "cell_type": "code",
   "execution_count": 13,
   "id": "bf181e15-7792-44df-baae-5c76677de546",
   "metadata": {},
   "outputs": [
    {
     "data": {
      "text/plain": [
       "(0.05614486797787526,\n",
       " 0.08335450357676445,\n",
       " 0.015330414579541478,\n",
       " 0.12416895697509824)"
      ]
     },
     "execution_count": 13,
     "metadata": {},
     "output_type": "execute_result"
    }
   ],
   "source": [
    "q1, median, q3 = np.quantile(df_train[\"noise_score\"], [0.25, 0.5,0.75])\n",
    "\n",
    "iqr = q3 - q1\n",
    "\n",
    "lower_whisker = q1 - 1.5 * iqr\n",
    "upper_whisker = q3 + 1.5 * iqr\n",
    "\n",
    "q1, q3, lower_whisker, upper_whisker"
   ]
  },
  {
   "cell_type": "code",
   "execution_count": 14,
   "id": "c4758593-e2fc-4cb9-8cb8-4e5da36ded34",
   "metadata": {},
   "outputs": [
    {
     "data": {
      "text/plain": [
       "6840"
      ]
     },
     "execution_count": 14,
     "metadata": {},
     "output_type": "execute_result"
    }
   ],
   "source": [
    "df_lower_noise_scores = df_train[(df_train[\"noise_score\"] >= lower_whisker) & (df_train[\"noise_score\"] < q1)]\n",
    "df_lower_noise_scores = df_lower_noise_scores.sort_values(by=\"noise_score\")\n",
    "len(df_lower_noise_scores)"
   ]
  },
  {
   "cell_type": "code",
   "execution_count": 15,
   "id": "3d751b86-e584-4417-8585-0e0cdb00a567",
   "metadata": {},
   "outputs": [
    {
     "name": "stdout",
     "output_type": "stream",
     "text": [
      "0.01534122140959949\n"
     ]
    },
    {
     "data": {
      "image/jpeg": "[encoded data removed]",
      "image/png": "[encoded data removed]",
      "text/plain": [
       "<PIL.Image.Image image mode=RGB size=48x48>"
      ]
     },
     "metadata": {},
     "output_type": "display_data"
    },
    {
     "name": "stdout",
     "output_type": "stream",
     "text": [
      "0.018356008019892223\n"
     ]
    },
    {
     "data": {
      "image/jpeg": "[encoded data removed]",
      "image/png": "[encoded data removed]",
      "text/plain": [
       "<PIL.Image.Image image mode=RGB size=48x48>"
      ]
     },
     "metadata": {},
     "output_type": "display_data"
    },
    {
     "name": "stdout",
     "output_type": "stream",
     "text": [
      "0.019719113970897012\n"
     ]
    },
    {
     "data": {
      "image/jpeg": "[encoded data removed]",
      "image/png": "[encoded data removed]",
      "text/plain": [
       "<PIL.Image.Image image mode=RGB size=48x48>"
      ]
     },
     "metadata": {},
     "output_type": "display_data"
    },
    {
     "name": "stdout",
     "output_type": "stream",
     "text": [
      "0.02171524315637728\n"
     ]
    },
    {
     "data": {
      "image/jpeg": "[encoded data removed]",
      "image/png": "[encoded data removed]",
      "text/plain": [
       "<PIL.Image.Image image mode=RGB size=48x48>"
      ]
     },
     "metadata": {},
     "output_type": "display_data"
    },
    {
     "name": "stdout",
     "output_type": "stream",
     "text": [
      "0.023185874616473843\n"
     ]
    },
    {
     "data": {
      "image/jpeg": "[encoded data removed]",
      "image/png": "[encoded data removed]",
      "text/plain": [
       "<PIL.Image.Image image mode=RGB size=48x48>"
      ]
     },
     "metadata": {},
     "output_type": "display_data"
    },
    {
     "name": "stdout",
     "output_type": "stream",
     "text": [
      "0.025322889528924128\n"
     ]
    },
    {
     "data": {
      "image/jpeg": "[encoded data removed]",
      "image/png": "[encoded data removed]",
      "text/plain": [
       "<PIL.Image.Image image mode=RGB size=48x48>"
      ]
     },
     "metadata": {},
     "output_type": "display_data"
    },
    {
     "name": "stdout",
     "output_type": "stream",
     "text": [
      "0.0276269465953168\n"
     ]
    },
    {
     "data": {
      "image/jpeg": "[encoded data removed]",
      "image/png": "[encoded data removed]",
      "text/plain": [
       "<PIL.Image.Image image mode=RGB size=48x48>"
      ]
     },
     "metadata": {},
     "output_type": "display_data"
    },
    {
     "name": "stdout",
     "output_type": "stream",
     "text": [
      "0.029074323497064538\n"
     ]
    },
    {
     "data": {
      "image/jpeg": "[encoded data removed]",
      "image/png": "[encoded data removed]",
      "text/plain": [
       "<PIL.Image.Image image mode=RGB size=48x48>"
      ]
     },
     "metadata": {},
     "output_type": "display_data"
    },
    {
     "name": "stdout",
     "output_type": "stream",
     "text": [
      "0.030800568463364035\n"
     ]
    },
    {
     "data": {
      "image/jpeg": "[encoded data removed]",
      "image/png": "[encoded data removed]",
      "text/plain": [
       "<PIL.Image.Image image mode=RGB size=48x48>"
      ]
     },
     "metadata": {},
     "output_type": "display_data"
    },
    {
     "name": "stdout",
     "output_type": "stream",
     "text": [
      "0.03405310853242979\n"
     ]
    },
    {
     "data": {
      "image/jpeg": "[encoded data removed]",
      "image/png": "[encoded data removed]",
      "text/plain": [
       "<PIL.Image.Image image mode=RGB size=48x48>"
      ]
     },
     "metadata": {},
     "output_type": "display_data"
    },
    {
     "name": "stdout",
     "output_type": "stream",
     "text": [
      "0.03607306588053379\n"
     ]
    },
    {
     "data": {
      "image/jpeg": "[encoded data removed]",
      "image/png": "[encoded data removed]",
      "text/plain": [
       "<PIL.Image.Image image mode=RGB size=48x48>"
      ]
     },
     "metadata": {},
     "output_type": "display_data"
    },
    {
     "name": "stdout",
     "output_type": "stream",
     "text": [
      "0.036783229132255624\n"
     ]
    },
    {
     "data": {
      "image/jpeg": "[encoded data removed]",
      "image/png": "[encoded data removed]",
      "text/plain": [
       "<PIL.Image.Image image mode=RGB size=48x48>"
      ]
     },
     "metadata": {},
     "output_type": "display_data"
    },
    {
     "name": "stdout",
     "output_type": "stream",
     "text": [
      "0.040696978171914255\n"
     ]
    },
    {
     "data": {
      "image/jpeg": "[encoded data removed]",
      "image/png": "[encoded data removed]",
      "text/plain": [
       "<PIL.Image.Image image mode=RGB size=48x48>"
      ]
     },
     "metadata": {},
     "output_type": "display_data"
    },
    {
     "name": "stdout",
     "output_type": "stream",
     "text": [
      "0.04173684791035438\n"
     ]
    },
    {
     "data": {
      "image/jpeg": "[encoded data removed]",
      "image/png": "[encoded data removed]",
      "text/plain": [
       "<PIL.Image.Image image mode=RGB size=48x48>"
      ]
     },
     "metadata": {},
     "output_type": "display_data"
    },
    {
     "name": "stdout",
     "output_type": "stream",
     "text": [
      "0.04351106682745862\n"
     ]
    },
    {
     "data": {
      "image/jpeg": "[encoded data removed]",
      "image/png": "[encoded data removed]",
      "text/plain": [
       "<PIL.Image.Image image mode=RGB size=48x48>"
      ]
     },
     "metadata": {},
     "output_type": "display_data"
    },
    {
     "name": "stdout",
     "output_type": "stream",
     "text": [
      "0.04646533572468418\n"
     ]
    },
    {
     "data": {
      "image/jpeg": "[encoded data removed]",
      "image/png": "[encoded data removed]",
      "text/plain": [
       "<PIL.Image.Image image mode=RGB size=48x48>"
      ]
     },
     "metadata": {},
     "output_type": "display_data"
    },
    {
     "name": "stdout",
     "output_type": "stream",
     "text": [
      "0.04851623401582249\n"
     ]
    },
    {
     "data": {
      "image/jpeg": "[encoded data removed]",
      "image/png": "[encoded data removed]",
      "text/plain": [
       "<PIL.Image.Image image mode=RGB size=48x48>"
      ]
     },
     "metadata": {},
     "output_type": "display_data"
    },
    {
     "name": "stdout",
     "output_type": "stream",
     "text": [
      "0.04941715214072459\n"
     ]
    },
    {
     "data": {
      "image/jpeg": "[encoded data removed]",
      "image/png": "[encoded data removed]",
      "text/plain": [
       "<PIL.Image.Image image mode=RGB size=48x48>"
      ]
     },
     "metadata": {},
     "output_type": "display_data"
    },
    {
     "name": "stdout",
     "output_type": "stream",
     "text": [
      "0.05183241349908904\n"
     ]
    },
    {
     "data": {
      "image/jpeg": "[encoded data removed]",
      "image/png": "[encoded data removed]",
      "text/plain": [
       "<PIL.Image.Image image mode=RGB size=48x48>"
      ]
     },
     "metadata": {},
     "output_type": "display_data"
    },
    {
     "name": "stdout",
     "output_type": "stream",
     "text": [
      "0.054345786087404896\n"
     ]
    },
    {
     "data": {
      "image/jpeg": "[encoded data removed]",
      "image/png": "[encoded data removed]",
      "text/plain": [
       "<PIL.Image.Image image mode=RGB size=48x48>"
      ]
     },
     "metadata": {},
     "output_type": "display_data"
    },
    {
     "name": "stdout",
     "output_type": "stream",
     "text": [
      "0.055631001874365676\n"
     ]
    },
    {
     "data": {
      "image/jpeg": "[encoded data removed]",
      "image/png": "[encoded data removed]",
      "text/plain": [
       "<PIL.Image.Image image mode=RGB size=48x48>"
      ]
     },
     "metadata": {},
     "output_type": "display_data"
    }
   ],
   "source": [
    "min_noise = df_lower_noise_scores[\"noise_score\"].min() \n",
    "max_noise = df_lower_noise_scores[\"noise_score\"].max()\n",
    "\n",
    "range_noise = max_noise - min_noise\n",
    "\n",
    "interval_no = 20\n",
    "range_size = range_noise / 20\n",
    "\n",
    "df_lower_noise_scores[\"interval\"] = (df_lower_noise_scores[\"noise_score\"] // range_size) * range_size\n",
    "\n",
    "df_lower_noise_samples = df_lower_noise_scores.groupby(\"interval\").apply(lambda g: g.sample(1, random_state=21), include_groups=False).reset_index()\n",
    "\n",
    "for index, row in df_lower_noise_samples.iterrows():\n",
    "    print(row[\"noise_score\"])\n",
    "    load_print_images([row[\"file_path\"]])"
   ]
  },
  {
   "cell_type": "markdown",
   "id": "44422678-b75c-40a2-9821-2fa5fd245b92",
   "metadata": {},
   "source": [
    "It looks like images become a bit more discernable when noise is > 0.031 so I will use this as a lower threshold and drop all images below this threshold.\n",
    "\n",
    "326 images now fall into this category i.e. we should drop 326 images."
   ]
  },
  {
   "cell_type": "code",
   "execution_count": 16,
   "id": "d2fec271-de65-4400-be82-4458eefd2bfd",
   "metadata": {},
   "outputs": [
    {
     "data": {
      "text/plain": [
       "326"
      ]
     },
     "execution_count": 16,
     "metadata": {},
     "output_type": "execute_result"
    }
   ],
   "source": [
    "lower_noise_score_threshold = 0.031\n",
    "\n",
    "is_below_lower_threshold = df_train[\"noise_score\"] < lower_noise_score_threshold\n",
    "\n",
    "len(df_train[is_below_lower_threshold])"
   ]
  },
  {
   "cell_type": "code",
   "execution_count": 17,
   "id": "f25fd711-aa2d-4e25-a869-628da8711b28",
   "metadata": {},
   "outputs": [
    {
     "data": {
      "text/plain": [
       "27069"
      ]
     },
     "execution_count": 17,
     "metadata": {},
     "output_type": "execute_result"
    }
   ],
   "source": [
    "len(df_train) - len(df_train[is_below_lower_threshold])"
   ]
  },
  {
   "cell_type": "code",
   "execution_count": 18,
   "id": "67f84e64-9ebd-43ec-80fb-356ac9fa3987",
   "metadata": {},
   "outputs": [
    {
     "data": {
      "text/plain": [
       "27069"
      ]
     },
     "execution_count": 18,
     "metadata": {},
     "output_type": "execute_result"
    }
   ],
   "source": [
    "rows_below_lower_threshold = df_train[is_below_lower_threshold].index\n",
    "df_train = df_train.drop(rows_below_lower_threshold)\n",
    "len(df_train)"
   ]
  },
  {
   "cell_type": "markdown",
   "id": "309990e9-77b6-4b24-8d3e-33d5a513dd5b",
   "metadata": {},
   "source": [
    "**Images with high noise score**\n",
    "\n",
    "It is quite obvious that images with low noise score are difficult to process - they are difficult for humans to visually process!\n",
    "\n",
    "Looking at some of the very high contrast images, you can see the loss in detail. While it makes some features stand out in a useful way,it makes other features difficult to see. \n",
    "\n",
    "I will remove these outliers from the dataset i.e. all images with a noise score greater than the upper whisker value of 0.12416895697509824."
   ]
  },
  {
   "cell_type": "code",
   "execution_count": 19,
   "id": "96bf7949-8fe8-4811-b5cd-4553034818d3",
   "metadata": {},
   "outputs": [
    {
     "data": {
      "image/jpeg": "[encoded data removed]",
      "image/png": "[encoded data removed]",
      "text/plain": [
       "<PIL.Image.Image image mode=RGB size=48x48>"
      ]
     },
     "metadata": {},
     "output_type": "display_data"
    },
    {
     "data": {
      "image/jpeg": "[encoded data removed]",
      "image/png": "[encoded data removed]",
      "text/plain": [
       "<PIL.Image.Image image mode=RGB size=48x48>"
      ]
     },
     "metadata": {},
     "output_type": "display_data"
    },
    {
     "data": {
      "image/jpeg": "[encoded data removed]",
      "image/png": "[encoded data removed]",
      "text/plain": [
       "<PIL.Image.Image image mode=RGB size=48x48>"
      ]
     },
     "metadata": {},
     "output_type": "display_data"
    },
    {
     "data": {
      "image/jpeg": "[encoded data removed]",
      "image/png": "[encoded data removed]",
      "text/plain": [
       "<PIL.Image.Image image mode=RGB size=48x48>"
      ]
     },
     "metadata": {},
     "output_type": "display_data"
    },
    {
     "data": {
      "image/jpeg": "[encoded data removed]",
      "image/png": "[encoded data removed]",
      "text/plain": [
       "<PIL.Image.Image image mode=RGB size=48x48>"
      ]
     },
     "metadata": {},
     "output_type": "display_data"
    }
   ],
   "source": [
    "noise_outliers_higher = df_train[df_train[\"noise_score\"] > upper_whisker].sort_values(by=\"noise_score\", ascending=False)\n",
    "\n",
    "load_print_images(noise_outliers_higher[\"file_path\"].iloc[10:15])"
   ]
  },
  {
   "cell_type": "code",
   "execution_count": 20,
   "id": "755247c1-5282-4f4e-8361-9d4ca4066d54",
   "metadata": {},
   "outputs": [
    {
     "data": {
      "text/plain": [
       "26767"
      ]
     },
     "execution_count": 20,
     "metadata": {},
     "output_type": "execute_result"
    }
   ],
   "source": [
    "is_above_upper_threshold = df_train[\"noise_score\"] > upper_whisker\n",
    "\n",
    "len(df_train) - len(df_train[is_above_upper_threshold])"
   ]
  },
  {
   "cell_type": "code",
   "execution_count": 21,
   "id": "6509283d-7a9d-4939-81ea-ce0597552894",
   "metadata": {},
   "outputs": [
    {
     "data": {
      "text/plain": [
       "26767"
      ]
     },
     "execution_count": 21,
     "metadata": {},
     "output_type": "execute_result"
    }
   ],
   "source": [
    "rows_above_upper_threshold = df_train[is_above_upper_threshold].index\n",
    "df_train = df_train.drop(rows_above_upper_threshold)\n",
    "len(df_train)"
   ]
  },
  {
   "cell_type": "markdown",
   "id": "5e2d889c-00ef-4935-88ad-ea5451598f09",
   "metadata": {},
   "source": [
    "## Preprocessing the test dataset\n",
    "\n",
    "### Extracting the validation dataset\n",
    "\n",
    "We do not have a validation dataset.\n",
    "\n",
    "The dataset was downloaded from [kaggle](https://www.kaggle.com/datasets/msambare/fer2013/data) and derived from a [2013 Facial Recognition Kaggle competition](https://www.kaggle.com/c/challenges-in-representation-learning-facial-expression-recognition-challenge/data).\n",
    "\n",
    "According to the description on kaggle there are 28,709 images in the training set and 3,589 in the \"public test set\". We can see that we actually have 7178 and that the file names make it clear that the test dataset is divided into \"PrivateTest\" and \"PublicTest\". \n",
    "\n",
    "We can use this differentiation to create the test and validation datasets. Each contain 3,589 image files."
   ]
  },
  {
   "cell_type": "code",
   "execution_count": 23,
   "id": "0e72a2db-5009-46da-a479-96e1e9f84271",
   "metadata": {},
   "outputs": [
    {
     "data": {
      "text/html": [
       "<div>\n",
       "<style scoped>\n",
       "    .dataframe tbody tr th:only-of-type {\n",
       "        vertical-align: middle;\n",
       "    }\n",
       "\n",
       "    .dataframe tbody tr th {\n",
       "        vertical-align: top;\n",
       "    }\n",
       "\n",
       "    .dataframe thead th {\n",
       "        text-align: right;\n",
       "    }\n",
       "</style>\n",
       "<table border=\"1\" class=\"dataframe\">\n",
       "  <thead>\n",
       "    <tr style=\"text-align: right;\">\n",
       "      <th></th>\n",
       "      <th>category</th>\n",
       "      <th>file_name</th>\n",
       "      <th>file_path</th>\n",
       "      <th>noise_score</th>\n",
       "      <th>hash_value</th>\n",
       "    </tr>\n",
       "  </thead>\n",
       "  <tbody>\n",
       "    <tr>\n",
       "      <th>0</th>\n",
       "      <td>happy</td>\n",
       "      <td>PrivateTest_45699463.jpg</td>\n",
       "      <td>../data/fer_2013/test/happy/PrivateTest_456994...</td>\n",
       "      <td>0.067485</td>\n",
       "      <td>d10d08b5676c3f96</td>\n",
       "    </tr>\n",
       "    <tr>\n",
       "      <th>1</th>\n",
       "      <td>happy</td>\n",
       "      <td>PrivateTest_61855708.jpg</td>\n",
       "      <td>../data/fer_2013/test/happy/PrivateTest_618557...</td>\n",
       "      <td>0.061334</td>\n",
       "      <td>95536934c5bace52</td>\n",
       "    </tr>\n",
       "    <tr>\n",
       "      <th>2</th>\n",
       "      <td>happy</td>\n",
       "      <td>PublicTest_53681781.jpg</td>\n",
       "      <td>../data/fer_2013/test/happy/PublicTest_5368178...</td>\n",
       "      <td>0.061739</td>\n",
       "      <td>dcb86296853c693b</td>\n",
       "    </tr>\n",
       "    <tr>\n",
       "      <th>3</th>\n",
       "      <td>happy</td>\n",
       "      <td>PrivateTest_52109800.jpg</td>\n",
       "      <td>../data/fer_2013/test/happy/PrivateTest_521098...</td>\n",
       "      <td>0.040864</td>\n",
       "      <td>958c56109b643fd7</td>\n",
       "    </tr>\n",
       "    <tr>\n",
       "      <th>4</th>\n",
       "      <td>happy</td>\n",
       "      <td>PublicTest_41104919.jpg</td>\n",
       "      <td>../data/fer_2013/test/happy/PublicTest_4110491...</td>\n",
       "      <td>0.076038</td>\n",
       "      <td>93c84ac3993d69c7</td>\n",
       "    </tr>\n",
       "  </tbody>\n",
       "</table>\n",
       "</div>"
      ],
      "text/plain": [
       "  category                 file_name  \\\n",
       "0    happy  PrivateTest_45699463.jpg   \n",
       "1    happy  PrivateTest_61855708.jpg   \n",
       "2    happy   PublicTest_53681781.jpg   \n",
       "3    happy  PrivateTest_52109800.jpg   \n",
       "4    happy   PublicTest_41104919.jpg   \n",
       "\n",
       "                                           file_path  noise_score  \\\n",
       "0  ../data/fer_2013/test/happy/PrivateTest_456994...     0.067485   \n",
       "1  ../data/fer_2013/test/happy/PrivateTest_618557...     0.061334   \n",
       "2  ../data/fer_2013/test/happy/PublicTest_5368178...     0.061739   \n",
       "3  ../data/fer_2013/test/happy/PrivateTest_521098...     0.040864   \n",
       "4  ../data/fer_2013/test/happy/PublicTest_4110491...     0.076038   \n",
       "\n",
       "         hash_value  \n",
       "0  d10d08b5676c3f96  \n",
       "1  95536934c5bace52  \n",
       "2  dcb86296853c693b  \n",
       "3  958c56109b643fd7  \n",
       "4  93c84ac3993d69c7  "
      ]
     },
     "execution_count": 23,
     "metadata": {},
     "output_type": "execute_result"
    }
   ],
   "source": [
    "test_data_folder = data_file_path + \"test/\"\n",
    "\n",
    "test_overview = evaluate_images(test_data_folder)\n",
    "\n",
    "df_overview_test = pd.DataFrame(test_overview)\n",
    "df_overview_test.head()"
   ]
  },
  {
   "cell_type": "code",
   "execution_count": 24,
   "id": "a2cbd685-25bf-4cf6-ac11-c85930b11331",
   "metadata": {},
   "outputs": [
    {
     "data": {
      "text/plain": [
       "7178"
      ]
     },
     "execution_count": 24,
     "metadata": {},
     "output_type": "execute_result"
    }
   ],
   "source": [
    "len(df_overview_test)"
   ]
  },
  {
   "cell_type": "code",
   "execution_count": 25,
   "id": "53791168-f6da-4c43-8ed6-538287709d6e",
   "metadata": {},
   "outputs": [
    {
     "data": {
      "text/html": [
       "<div>\n",
       "<style scoped>\n",
       "    .dataframe tbody tr th:only-of-type {\n",
       "        vertical-align: middle;\n",
       "    }\n",
       "\n",
       "    .dataframe tbody tr th {\n",
       "        vertical-align: top;\n",
       "    }\n",
       "\n",
       "    .dataframe thead th {\n",
       "        text-align: right;\n",
       "    }\n",
       "</style>\n",
       "<table border=\"1\" class=\"dataframe\">\n",
       "  <thead>\n",
       "    <tr style=\"text-align: right;\">\n",
       "      <th></th>\n",
       "      <th>category</th>\n",
       "      <th>file_name</th>\n",
       "      <th>file_path</th>\n",
       "      <th>noise_score</th>\n",
       "      <th>hash_value</th>\n",
       "    </tr>\n",
       "  </thead>\n",
       "  <tbody>\n",
       "    <tr>\n",
       "      <th>2</th>\n",
       "      <td>happy</td>\n",
       "      <td>PublicTest_53681781.jpg</td>\n",
       "      <td>../data/fer_2013/test/happy/PublicTest_5368178...</td>\n",
       "      <td>0.061739</td>\n",
       "      <td>dcb86296853c693b</td>\n",
       "    </tr>\n",
       "    <tr>\n",
       "      <th>4</th>\n",
       "      <td>happy</td>\n",
       "      <td>PublicTest_41104919.jpg</td>\n",
       "      <td>../data/fer_2013/test/happy/PublicTest_4110491...</td>\n",
       "      <td>0.076038</td>\n",
       "      <td>93c84ac3993d69c7</td>\n",
       "    </tr>\n",
       "  </tbody>\n",
       "</table>\n",
       "</div>"
      ],
      "text/plain": [
       "  category                file_name  \\\n",
       "2    happy  PublicTest_53681781.jpg   \n",
       "4    happy  PublicTest_41104919.jpg   \n",
       "\n",
       "                                           file_path  noise_score  \\\n",
       "2  ../data/fer_2013/test/happy/PublicTest_5368178...     0.061739   \n",
       "4  ../data/fer_2013/test/happy/PublicTest_4110491...     0.076038   \n",
       "\n",
       "         hash_value  \n",
       "2  dcb86296853c693b  \n",
       "4  93c84ac3993d69c7  "
      ]
     },
     "execution_count": 25,
     "metadata": {},
     "output_type": "execute_result"
    }
   ],
   "source": [
    "is_public = df_overview_test[\"file_name\"].str.contains(\"PublicTest\")\n",
    "df_validation = df_overview_test[is_public]\n",
    "\n",
    "df_validation.head(2)"
   ]
  },
  {
   "cell_type": "code",
   "execution_count": 26,
   "id": "6ae133a8-9dbb-41d2-a57a-a288c3b51437",
   "metadata": {},
   "outputs": [
    {
     "data": {
      "text/html": [
       "<div>\n",
       "<style scoped>\n",
       "    .dataframe tbody tr th:only-of-type {\n",
       "        vertical-align: middle;\n",
       "    }\n",
       "\n",
       "    .dataframe tbody tr th {\n",
       "        vertical-align: top;\n",
       "    }\n",
       "\n",
       "    .dataframe thead th {\n",
       "        text-align: right;\n",
       "    }\n",
       "</style>\n",
       "<table border=\"1\" class=\"dataframe\">\n",
       "  <thead>\n",
       "    <tr style=\"text-align: right;\">\n",
       "      <th></th>\n",
       "      <th>category</th>\n",
       "      <th>file_name</th>\n",
       "      <th>file_path</th>\n",
       "      <th>noise_score</th>\n",
       "      <th>hash_value</th>\n",
       "    </tr>\n",
       "  </thead>\n",
       "  <tbody>\n",
       "    <tr>\n",
       "      <th>0</th>\n",
       "      <td>happy</td>\n",
       "      <td>PrivateTest_45699463.jpg</td>\n",
       "      <td>../data/fer_2013/test/happy/PrivateTest_456994...</td>\n",
       "      <td>0.067485</td>\n",
       "      <td>d10d08b5676c3f96</td>\n",
       "    </tr>\n",
       "    <tr>\n",
       "      <th>1</th>\n",
       "      <td>happy</td>\n",
       "      <td>PrivateTest_61855708.jpg</td>\n",
       "      <td>../data/fer_2013/test/happy/PrivateTest_618557...</td>\n",
       "      <td>0.061334</td>\n",
       "      <td>95536934c5bace52</td>\n",
       "    </tr>\n",
       "  </tbody>\n",
       "</table>\n",
       "</div>"
      ],
      "text/plain": [
       "  category                 file_name  \\\n",
       "0    happy  PrivateTest_45699463.jpg   \n",
       "1    happy  PrivateTest_61855708.jpg   \n",
       "\n",
       "                                           file_path  noise_score  \\\n",
       "0  ../data/fer_2013/test/happy/PrivateTest_456994...     0.067485   \n",
       "1  ../data/fer_2013/test/happy/PrivateTest_618557...     0.061334   \n",
       "\n",
       "         hash_value  \n",
       "0  d10d08b5676c3f96  \n",
       "1  95536934c5bace52  "
      ]
     },
     "execution_count": 26,
     "metadata": {},
     "output_type": "execute_result"
    }
   ],
   "source": [
    "df_test = df_overview_test[~is_public]\n",
    "df_test.head(2)"
   ]
  },
  {
   "cell_type": "code",
   "execution_count": 27,
   "id": "2eba91d5-985d-4304-95ce-76ef0212656d",
   "metadata": {},
   "outputs": [
    {
     "data": {
      "text/plain": [
       "(3589, 3589)"
      ]
     },
     "execution_count": 27,
     "metadata": {},
     "output_type": "execute_result"
    }
   ],
   "source": [
    "len(df_validation), len(df_test)"
   ]
  },
  {
   "cell_type": "markdown",
   "id": "ea1d1d55-2659-4ec7-9da6-3d99caa2f2b4",
   "metadata": {},
   "source": [
    "### Cleaning the test and validation set\n",
    "\n",
    "Before we separate out our validation and test set, I want to make sure the test dataset doesn't have the same problems encountered in our training dataset.\n",
    "\n",
    "1. Duplicates\n",
    "\n",
    "Ideally the test dataset does not contain duplicates. Duplicates could artifically inflate model performance so I want to make sure there are none in the dataset.\n",
    "\n",
    "2. Low Quality Images\n",
    "\n",
    "While I don't want to over-clean the test dataset, it should represent images the algorithm finds in reality. Ideally any application should be able to warn users when an image is low quality and reject it rather than pass it to the image classifier. "
   ]
  },
  {
   "cell_type": "markdown",
   "id": "f3a4c150-8200-48e2-bd51-bcb5f62b5336",
   "metadata": {},
   "source": [
    "### 1. Removing Test and Validation Duplicates\n",
    "\n",
    "Analysis below shows that we do have duplicate images in our training and validation datasets but the number is quite small so we will just drop them"
   ]
  },
  {
   "cell_type": "markdown",
   "id": "99f519f8-e236-4617-a919-d0618d3b9e21",
   "metadata": {},
   "source": [
    "**Validation**"
   ]
  },
  {
   "cell_type": "code",
   "execution_count": 28,
   "id": "402576c1-0ac9-4ed9-aad2-f7744b765376",
   "metadata": {},
   "outputs": [
    {
     "data": {
      "text/plain": [
       "56"
      ]
     },
     "execution_count": 28,
     "metadata": {},
     "output_type": "execute_result"
    }
   ],
   "source": [
    "duplicates_val = get_duplicates(df_validation)\n",
    "len(duplicates_val)"
   ]
  },
  {
   "cell_type": "code",
   "execution_count": 29,
   "id": "7437634d-4de9-4b59-9499-5b10f5deef1f",
   "metadata": {},
   "outputs": [
    {
     "data": {
      "text/html": [
       "<div>\n",
       "<style scoped>\n",
       "    .dataframe tbody tr th:only-of-type {\n",
       "        vertical-align: middle;\n",
       "    }\n",
       "\n",
       "    .dataframe tbody tr th {\n",
       "        vertical-align: top;\n",
       "    }\n",
       "\n",
       "    .dataframe thead th {\n",
       "        text-align: right;\n",
       "    }\n",
       "</style>\n",
       "<table border=\"1\" class=\"dataframe\">\n",
       "  <thead>\n",
       "    <tr style=\"text-align: right;\">\n",
       "      <th></th>\n",
       "      <th>category</th>\n",
       "      <th>file_name</th>\n",
       "      <th>file_path</th>\n",
       "      <th>noise_score</th>\n",
       "      <th>hash_value</th>\n",
       "    </tr>\n",
       "  </thead>\n",
       "  <tbody>\n",
       "    <tr>\n",
       "      <th>4269</th>\n",
       "      <td>surprise</td>\n",
       "      <td>PublicTest_42347603.jpg</td>\n",
       "      <td>../data/fer_2013/test/surprise/PublicTest_4234...</td>\n",
       "      <td>0.073366</td>\n",
       "      <td>fed53a86c86928b1</td>\n",
       "    </tr>\n",
       "    <tr>\n",
       "      <th>3511</th>\n",
       "      <td>fear</td>\n",
       "      <td>PublicTest_26755252.jpg</td>\n",
       "      <td>../data/fer_2013/test/fear/PublicTest_26755252...</td>\n",
       "      <td>0.075853</td>\n",
       "      <td>ff075657583c28c2</td>\n",
       "    </tr>\n",
       "    <tr>\n",
       "      <th>7108</th>\n",
       "      <td>disgust</td>\n",
       "      <td>PublicTest_75786377.jpg</td>\n",
       "      <td>../data/fer_2013/test/disgust/PublicTest_75786...</td>\n",
       "      <td>0.076655</td>\n",
       "      <td>ff075657583c28c2</td>\n",
       "    </tr>\n",
       "    <tr>\n",
       "      <th>3784</th>\n",
       "      <td>fear</td>\n",
       "      <td>PublicTest_72816882.jpg</td>\n",
       "      <td>../data/fer_2013/test/fear/PublicTest_72816882...</td>\n",
       "      <td>0.097149</td>\n",
       "      <td>ff9fe0b0d2290a45</td>\n",
       "    </tr>\n",
       "    <tr>\n",
       "      <th>3338</th>\n",
       "      <td>fear</td>\n",
       "      <td>PublicTest_95508061.jpg</td>\n",
       "      <td>../data/fer_2013/test/fear/PublicTest_95508061...</td>\n",
       "      <td>0.097149</td>\n",
       "      <td>ff9fe0b0d2290a45</td>\n",
       "    </tr>\n",
       "  </tbody>\n",
       "</table>\n",
       "</div>"
      ],
      "text/plain": [
       "      category                file_name  \\\n",
       "4269  surprise  PublicTest_42347603.jpg   \n",
       "3511      fear  PublicTest_26755252.jpg   \n",
       "7108   disgust  PublicTest_75786377.jpg   \n",
       "3784      fear  PublicTest_72816882.jpg   \n",
       "3338      fear  PublicTest_95508061.jpg   \n",
       "\n",
       "                                              file_path  noise_score  \\\n",
       "4269  ../data/fer_2013/test/surprise/PublicTest_4234...     0.073366   \n",
       "3511  ../data/fer_2013/test/fear/PublicTest_26755252...     0.075853   \n",
       "7108  ../data/fer_2013/test/disgust/PublicTest_75786...     0.076655   \n",
       "3784  ../data/fer_2013/test/fear/PublicTest_72816882...     0.097149   \n",
       "3338  ../data/fer_2013/test/fear/PublicTest_95508061...     0.097149   \n",
       "\n",
       "            hash_value  \n",
       "4269  fed53a86c86928b1  \n",
       "3511  ff075657583c28c2  \n",
       "7108  ff075657583c28c2  \n",
       "3784  ff9fe0b0d2290a45  \n",
       "3338  ff9fe0b0d2290a45  "
      ]
     },
     "execution_count": 29,
     "metadata": {},
     "output_type": "execute_result"
    }
   ],
   "source": [
    "duplicates_val.tail()"
   ]
  },
  {
   "cell_type": "code",
   "execution_count": 30,
   "id": "7a46072e-c788-4a2c-8b82-94df1a35c198",
   "metadata": {},
   "outputs": [
    {
     "data": {
      "image/jpeg": "[encoded data removed]",
      "image/png": "[encoded data removed]",
      "text/plain": [
       "<PIL.Image.Image image mode=RGB size=48x48>"
      ]
     },
     "metadata": {},
     "output_type": "display_data"
    },
    {
     "data": {
      "image/jpeg": "[encoded data removed]",
      "image/png": "[encoded data removed]",
      "text/plain": [
       "<PIL.Image.Image image mode=RGB size=48x48>"
      ]
     },
     "metadata": {},
     "output_type": "display_data"
    }
   ],
   "source": [
    "load_print_images(duplicates_val.tail(2)[\"file_path\"].values)"
   ]
  },
  {
   "cell_type": "code",
   "execution_count": 31,
   "id": "06d880e1-e9e2-40e2-8443-f13aebdf42e3",
   "metadata": {},
   "outputs": [
    {
     "data": {
      "text/plain": [
       "(56, 28)"
      ]
     },
     "execution_count": 31,
     "metadata": {},
     "output_type": "execute_result"
    }
   ],
   "source": [
    "val_dupes_no, val_to_drop_no = get_duplicate_counts(df_validation)\n",
    "val_dupes_no, val_to_drop_no"
   ]
  },
  {
   "cell_type": "code",
   "execution_count": 32,
   "id": "ca544cf5-2f87-4eb6-af7f-f5a00fef311d",
   "metadata": {},
   "outputs": [
    {
     "data": {
      "text/plain": [
       "3561"
      ]
     },
     "execution_count": 32,
     "metadata": {},
     "output_type": "execute_result"
    }
   ],
   "source": [
    "expected_new_val_length = len(df_validation) - val_to_drop_no\n",
    "expected_new_val_length"
   ]
  },
  {
   "cell_type": "code",
   "execution_count": 33,
   "id": "5d864eba-07d7-4bba-882b-9c29610319b3",
   "metadata": {},
   "outputs": [
    {
     "data": {
      "text/plain": [
       "3561"
      ]
     },
     "execution_count": 33,
     "metadata": {},
     "output_type": "execute_result"
    }
   ],
   "source": [
    "df_validation = df_validation.drop_duplicates(subset=['hash_value'])\n",
    "len(df_validation)"
   ]
  },
  {
   "cell_type": "markdown",
   "id": "6c8f5764-4b33-49b9-9791-fa74a9587333",
   "metadata": {},
   "source": [
    "**Test**"
   ]
  },
  {
   "cell_type": "code",
   "execution_count": 34,
   "id": "7e242d71-2aac-44bd-8591-ed1efb14ca50",
   "metadata": {},
   "outputs": [
    {
     "data": {
      "text/plain": [
       "41"
      ]
     },
     "execution_count": 34,
     "metadata": {},
     "output_type": "execute_result"
    }
   ],
   "source": [
    "duplicates_test = get_duplicates(df_test)\n",
    "len(duplicates_test)"
   ]
  },
  {
   "cell_type": "code",
   "execution_count": 35,
   "id": "8b0800d1-3816-4e13-82aa-f717bbc93cc2",
   "metadata": {},
   "outputs": [
    {
     "data": {
      "text/html": [
       "<div>\n",
       "<style scoped>\n",
       "    .dataframe tbody tr th:only-of-type {\n",
       "        vertical-align: middle;\n",
       "    }\n",
       "\n",
       "    .dataframe tbody tr th {\n",
       "        vertical-align: top;\n",
       "    }\n",
       "\n",
       "    .dataframe thead th {\n",
       "        text-align: right;\n",
       "    }\n",
       "</style>\n",
       "<table border=\"1\" class=\"dataframe\">\n",
       "  <thead>\n",
       "    <tr style=\"text-align: right;\">\n",
       "      <th></th>\n",
       "      <th>category</th>\n",
       "      <th>file_name</th>\n",
       "      <th>file_path</th>\n",
       "      <th>noise_score</th>\n",
       "      <th>hash_value</th>\n",
       "    </tr>\n",
       "  </thead>\n",
       "  <tbody>\n",
       "    <tr>\n",
       "      <th>3051</th>\n",
       "      <td>fear</td>\n",
       "      <td>PrivateTest_4712911.jpg</td>\n",
       "      <td>../data/fer_2013/test/fear/PrivateTest_4712911...</td>\n",
       "      <td>0.054162</td>\n",
       "      <td>d00952f52f341dd7</td>\n",
       "    </tr>\n",
       "    <tr>\n",
       "      <th>4241</th>\n",
       "      <td>surprise</td>\n",
       "      <td>PrivateTest_34688181.jpg</td>\n",
       "      <td>../data/fer_2013/test/surprise/PrivateTest_346...</td>\n",
       "      <td>0.046699</td>\n",
       "      <td>dfd03a14a687f18a</td>\n",
       "    </tr>\n",
       "    <tr>\n",
       "      <th>4468</th>\n",
       "      <td>surprise</td>\n",
       "      <td>PrivateTest_26572350.jpg</td>\n",
       "      <td>../data/fer_2013/test/surprise/PrivateTest_265...</td>\n",
       "      <td>0.046699</td>\n",
       "      <td>dfd03a14a687f18a</td>\n",
       "    </tr>\n",
       "    <tr>\n",
       "      <th>6686</th>\n",
       "      <td>angry</td>\n",
       "      <td>PrivateTest_37769125.jpg</td>\n",
       "      <td>../data/fer_2013/test/angry/PrivateTest_377691...</td>\n",
       "      <td>0.043474</td>\n",
       "      <td>e2a893e5883efd03</td>\n",
       "    </tr>\n",
       "    <tr>\n",
       "      <th>6998</th>\n",
       "      <td>angry</td>\n",
       "      <td>PrivateTest_41308674.jpg</td>\n",
       "      <td>../data/fer_2013/test/angry/PrivateTest_413086...</td>\n",
       "      <td>0.042901</td>\n",
       "      <td>e2a893e5883efd03</td>\n",
       "    </tr>\n",
       "  </tbody>\n",
       "</table>\n",
       "</div>"
      ],
      "text/plain": [
       "      category                 file_name  \\\n",
       "3051      fear   PrivateTest_4712911.jpg   \n",
       "4241  surprise  PrivateTest_34688181.jpg   \n",
       "4468  surprise  PrivateTest_26572350.jpg   \n",
       "6686     angry  PrivateTest_37769125.jpg   \n",
       "6998     angry  PrivateTest_41308674.jpg   \n",
       "\n",
       "                                              file_path  noise_score  \\\n",
       "3051  ../data/fer_2013/test/fear/PrivateTest_4712911...     0.054162   \n",
       "4241  ../data/fer_2013/test/surprise/PrivateTest_346...     0.046699   \n",
       "4468  ../data/fer_2013/test/surprise/PrivateTest_265...     0.046699   \n",
       "6686  ../data/fer_2013/test/angry/PrivateTest_377691...     0.043474   \n",
       "6998  ../data/fer_2013/test/angry/PrivateTest_413086...     0.042901   \n",
       "\n",
       "            hash_value  \n",
       "3051  d00952f52f341dd7  \n",
       "4241  dfd03a14a687f18a  \n",
       "4468  dfd03a14a687f18a  \n",
       "6686  e2a893e5883efd03  \n",
       "6998  e2a893e5883efd03  "
      ]
     },
     "execution_count": 35,
     "metadata": {},
     "output_type": "execute_result"
    }
   ],
   "source": [
    "duplicates_test.tail()"
   ]
  },
  {
   "cell_type": "code",
   "execution_count": 36,
   "id": "ba8df7d1-938e-4e9d-8947-1a97f5c388a8",
   "metadata": {},
   "outputs": [
    {
     "data": {
      "image/jpeg": "[encoded data removed]",
      "image/png": "[encoded data removed]",
      "text/plain": [
       "<PIL.Image.Image image mode=RGB size=48x48>"
      ]
     },
     "metadata": {},
     "output_type": "display_data"
    },
    {
     "data": {
      "image/jpeg": "[encoded data removed]",
      "image/png": "[encoded data removed]",
      "text/plain": [
       "<PIL.Image.Image image mode=RGB size=48x48>"
      ]
     },
     "metadata": {},
     "output_type": "display_data"
    }
   ],
   "source": [
    "load_print_images(duplicates_test.tail(2)[\"file_path\"].values)"
   ]
  },
  {
   "cell_type": "code",
   "execution_count": 37,
   "id": "0281be6b-07b7-454f-ae0a-684c70384b1a",
   "metadata": {},
   "outputs": [
    {
     "data": {
      "text/plain": [
       "(41, 21)"
      ]
     },
     "execution_count": 37,
     "metadata": {},
     "output_type": "execute_result"
    }
   ],
   "source": [
    "test_dupes_no, test_to_drop_no = get_duplicate_counts(df_test)\n",
    "test_dupes_no, test_to_drop_no"
   ]
  },
  {
   "cell_type": "code",
   "execution_count": 38,
   "id": "1d761fc1-35bd-49c3-918e-bb94b20c9927",
   "metadata": {},
   "outputs": [
    {
     "data": {
      "text/plain": [
       "3568"
      ]
     },
     "execution_count": 38,
     "metadata": {},
     "output_type": "execute_result"
    }
   ],
   "source": [
    "expected_new_test_length = len(df_test) - test_to_drop_no\n",
    "expected_new_test_length"
   ]
  },
  {
   "cell_type": "code",
   "execution_count": 39,
   "id": "2b6b7d37-7fef-4ad4-937c-84670e377323",
   "metadata": {},
   "outputs": [
    {
     "data": {
      "text/plain": [
       "3568"
      ]
     },
     "execution_count": 39,
     "metadata": {},
     "output_type": "execute_result"
    }
   ],
   "source": [
    "df_test = df_test.drop_duplicates(subset=['hash_value'])\n",
    "len(df_test)"
   ]
  },
  {
   "cell_type": "markdown",
   "id": "776de6ef-bfb4-4078-bc31-2cab61b93633",
   "metadata": {},
   "source": [
    "### 2. Evaluating the Quality of the test and validation datasets\n",
    "\n",
    "We have an idea from the training set about the acceptable noise range and we can use this to filter out poor quality images."
   ]
  },
  {
   "cell_type": "code",
   "execution_count": 40,
   "id": "53295798-eaf5-4593-8cab-3ca54977a48d",
   "metadata": {},
   "outputs": [],
   "source": [
    "lower_noise_score_threshold = 0.031\n",
    "upper_noise_score_threshold = upper_whisker"
   ]
  },
  {
   "cell_type": "markdown",
   "id": "be8c633d-c14d-4c04-a183-485331889f7d",
   "metadata": {},
   "source": [
    "**validation**\n",
    "\n",
    "There are 83 images that we would categorise as low quality in the validation dataset. Taking a look at the images at the extremes of these ranges, we can see that they are indeed low quality so we will drop these."
   ]
  },
  {
   "cell_type": "code",
   "execution_count": 41,
   "id": "48babc30-ba1e-4a44-ac13-ee1e5131e253",
   "metadata": {},
   "outputs": [
    {
     "data": {
      "text/plain": [
       "83"
      ]
     },
     "execution_count": 41,
     "metadata": {},
     "output_type": "execute_result"
    }
   ],
   "source": [
    "is_low_quality_image = (df_validation[\"noise_score\"] < lower_noise_score_threshold) | (df_validation[\"noise_score\"] > upper_whisker)\n",
    "\n",
    "len(df_validation[is_low_quality_image])"
   ]
  },
  {
   "cell_type": "code",
   "execution_count": 42,
   "id": "ad3ff363-9490-47f2-9517-d96b8878c7dd",
   "metadata": {},
   "outputs": [
    {
     "data": {
      "image/jpeg": "[encoded data removed]",
      "image/png": "[encoded data removed]",
      "text/plain": [
       "<PIL.Image.Image image mode=RGB size=48x48>"
      ]
     },
     "metadata": {},
     "output_type": "display_data"
    },
    {
     "data": {
      "image/jpeg": "[encoded data removed]",
      "image/png": "[encoded data removed]",
      "text/plain": [
       "<PIL.Image.Image image mode=RGB size=48x48>"
      ]
     },
     "metadata": {},
     "output_type": "display_data"
    },
    {
     "data": {
      "image/jpeg": "[encoded data removed]",
      "image/png": "[encoded data removed]",
      "text/plain": [
       "<PIL.Image.Image image mode=RGB size=48x48>"
      ]
     },
     "metadata": {},
     "output_type": "display_data"
    },
    {
     "data": {
      "image/jpeg": "[encoded data removed]",
      "image/png": "[encoded data removed]",
      "text/plain": [
       "<PIL.Image.Image image mode=RGB size=48x48>"
      ]
     },
     "metadata": {},
     "output_type": "display_data"
    },
    {
     "data": {
      "image/jpeg": "[encoded data removed]",
      "image/png": "[encoded data removed]",
      "text/plain": [
       "<PIL.Image.Image image mode=RGB size=48x48>"
      ]
     },
     "metadata": {},
     "output_type": "display_data"
    }
   ],
   "source": [
    "load_print_images(df_validation[is_low_quality_image].sort_values(by=\"noise_score\")[\"file_path\"].iloc[:5])"
   ]
  },
  {
   "cell_type": "code",
   "execution_count": 43,
   "id": "1ebea47c-67a1-4340-bd42-ba5cd3e064b3",
   "metadata": {},
   "outputs": [
    {
     "data": {
      "image/jpeg": "[encoded data removed]",
      "image/png": "[encoded data removed]",
      "text/plain": [
       "<PIL.Image.Image image mode=RGB size=48x48>"
      ]
     },
     "metadata": {},
     "output_type": "display_data"
    },
    {
     "data": {
      "image/jpeg": "[encoded data removed]",
      "image/png": "[encoded data removed]",
      "text/plain": [
       "<PIL.Image.Image image mode=RGB size=48x48>"
      ]
     },
     "metadata": {},
     "output_type": "display_data"
    },
    {
     "data": {
      "image/jpeg": "[encoded data removed]",
      "image/png": "[encoded data removed]",
      "text/plain": [
       "<PIL.Image.Image image mode=RGB size=48x48>"
      ]
     },
     "metadata": {},
     "output_type": "display_data"
    },
    {
     "data": {
      "image/jpeg": "[encoded data removed]",
      "image/png": "[encoded data removed]",
      "text/plain": [
       "<PIL.Image.Image image mode=RGB size=48x48>"
      ]
     },
     "metadata": {},
     "output_type": "display_data"
    },
    {
     "data": {
      "image/jpeg": "[encoded data removed]",
      "image/png": "[encoded data removed]",
      "text/plain": [
       "<PIL.Image.Image image mode=RGB size=48x48>"
      ]
     },
     "metadata": {},
     "output_type": "display_data"
    }
   ],
   "source": [
    "load_print_images(df_validation[is_low_quality_image].sort_values(by=\"noise_score\")[\"file_path\"].iloc[-5:])"
   ]
  },
  {
   "cell_type": "code",
   "execution_count": 44,
   "id": "856cd3d7-479c-41f7-856d-a8c2a3e82113",
   "metadata": {},
   "outputs": [
    {
     "data": {
      "text/plain": [
       "3478"
      ]
     },
     "execution_count": 44,
     "metadata": {},
     "output_type": "execute_result"
    }
   ],
   "source": [
    "len(df_validation) - len(df_validation[is_low_quality_image])"
   ]
  },
  {
   "cell_type": "code",
   "execution_count": 45,
   "id": "0c3cc019-ebad-4483-8c48-3ef7ae884a16",
   "metadata": {},
   "outputs": [
    {
     "data": {
      "text/plain": [
       "3478"
      ]
     },
     "execution_count": 45,
     "metadata": {},
     "output_type": "execute_result"
    }
   ],
   "source": [
    "rows_poor_quality_val = df_validation[is_low_quality_image].index\n",
    "df_validation = df_validation.drop(rows_poor_quality_val)\n",
    "len(df_validation)"
   ]
  },
  {
   "cell_type": "markdown",
   "id": "5645ef68-771d-4687-bff7-8f8b7d9c92c3",
   "metadata": {},
   "source": [
    "**test**\n",
    "\n",
    "There are 93 images that we would categorise as low quality in the test dataset. Taking a look at the images at the extremes of these ranges, we can see that they are low quality so we will drop these."
   ]
  },
  {
   "cell_type": "code",
   "execution_count": 46,
   "id": "ba387528-38ce-455d-9d4e-e40e3a0e2052",
   "metadata": {},
   "outputs": [
    {
     "data": {
      "text/plain": [
       "93"
      ]
     },
     "execution_count": 46,
     "metadata": {},
     "output_type": "execute_result"
    }
   ],
   "source": [
    "is_low_quality_image_test = (df_test[\"noise_score\"] < lower_noise_score_threshold) | (df_test[\"noise_score\"] > upper_whisker)\n",
    "\n",
    "len(df_test[is_low_quality_image_test])"
   ]
  },
  {
   "cell_type": "code",
   "execution_count": 47,
   "id": "1943a1bf-e34d-4941-829c-c7f3c3f80819",
   "metadata": {},
   "outputs": [
    {
     "data": {
      "image/jpeg": "[encoded data removed]",
      "image/png": "[encoded data removed]",
      "text/plain": [
       "<PIL.Image.Image image mode=RGB size=48x48>"
      ]
     },
     "metadata": {},
     "output_type": "display_data"
    },
    {
     "data": {
      "image/jpeg": "[encoded data removed]",
      "image/png": "[encoded data removed]",
      "text/plain": [
       "<PIL.Image.Image image mode=RGB size=48x48>"
      ]
     },
     "metadata": {},
     "output_type": "display_data"
    },
    {
     "data": {
      "image/jpeg": "[encoded data removed]",
      "image/png": "[encoded data removed]",
      "text/plain": [
       "<PIL.Image.Image image mode=RGB size=48x48>"
      ]
     },
     "metadata": {},
     "output_type": "display_data"
    },
    {
     "data": {
      "image/jpeg": "[encoded data removed]",
      "image/png": "[encoded data removed]",
      "text/plain": [
       "<PIL.Image.Image image mode=RGB size=48x48>"
      ]
     },
     "metadata": {},
     "output_type": "display_data"
    },
    {
     "data": {
      "image/jpeg": "[encoded data removed]",
      "image/png": "[encoded data removed]",
      "text/plain": [
       "<PIL.Image.Image image mode=RGB size=48x48>"
      ]
     },
     "metadata": {},
     "output_type": "display_data"
    }
   ],
   "source": [
    "load_print_images(df_test[is_low_quality_image_test].sort_values(by=\"noise_score\")[\"file_path\"].iloc[:5])"
   ]
  },
  {
   "cell_type": "code",
   "execution_count": 48,
   "id": "652cfb66-90f6-477d-a66b-8142ce4689d2",
   "metadata": {},
   "outputs": [
    {
     "data": {
      "image/jpeg": "[encoded data removed]",
      "image/png": "[encoded data removed]",
      "text/plain": [
       "<PIL.Image.Image image mode=RGB size=48x48>"
      ]
     },
     "metadata": {},
     "output_type": "display_data"
    },
    {
     "data": {
      "image/jpeg": "[encoded data removed]",
      "image/png": "[encoded data removed]",
      "text/plain": [
       "<PIL.Image.Image image mode=RGB size=48x48>"
      ]
     },
     "metadata": {},
     "output_type": "display_data"
    },
    {
     "data": {
      "image/jpeg": "[encoded data removed]",
      "image/png": "[encoded data removed]",
      "text/plain": [
       "<PIL.Image.Image image mode=RGB size=48x48>"
      ]
     },
     "metadata": {},
     "output_type": "display_data"
    },
    {
     "data": {
      "image/jpeg": "[encoded data removed]",
      "image/png": "[encoded data removed]",
      "text/plain": [
       "<PIL.Image.Image image mode=RGB size=48x48>"
      ]
     },
     "metadata": {},
     "output_type": "display_data"
    },
    {
     "data": {
      "image/jpeg": "[encoded data removed]",
      "image/png": "[encoded data removed]",
      "text/plain": [
       "<PIL.Image.Image image mode=RGB size=48x48>"
      ]
     },
     "metadata": {},
     "output_type": "display_data"
    }
   ],
   "source": [
    "load_print_images(df_test[is_low_quality_image_test].sort_values(by=\"noise_score\")[\"file_path\"].iloc[-10:-5])"
   ]
  },
  {
   "cell_type": "code",
   "execution_count": 49,
   "id": "e2d58069-db32-4469-af1b-d55b0b13414f",
   "metadata": {},
   "outputs": [
    {
     "data": {
      "text/plain": [
       "3475"
      ]
     },
     "execution_count": 49,
     "metadata": {},
     "output_type": "execute_result"
    }
   ],
   "source": [
    "len(df_test) - len(df_test[is_low_quality_image_test])"
   ]
  },
  {
   "cell_type": "code",
   "execution_count": 50,
   "id": "86a57976-5816-4038-a240-7cdab03ef80d",
   "metadata": {},
   "outputs": [
    {
     "data": {
      "text/plain": [
       "3475"
      ]
     },
     "execution_count": 50,
     "metadata": {},
     "output_type": "execute_result"
    }
   ],
   "source": [
    "rows_poor_quality_test = df_test[is_low_quality_image_test].index\n",
    "df_test = df_test.drop(rows_poor_quality_test)\n",
    "len(df_test)"
   ]
  },
  {
   "cell_type": "markdown",
   "id": "03209f7e-d9f8-492a-9bca-bc4e5dcd82a9",
   "metadata": {},
   "source": [
    "## Save \"clean\" datasets\n",
    "\n",
    "So far we have identified duplicate and poor quality images that we want to remove from the datasets and captured the details of all the images we want to use in the final versions of df_train, df_test and df_validation.\n",
    "\n",
    "It is possible to load images from dataframes to train our model but for clarity, I will create a new folder called \"clean_fer_2013\" to hold the refined data set."
   ]
  },
  {
   "cell_type": "markdown",
   "id": "f71c0391-b0ee-4d8c-85e6-17ccc49b7ace",
   "metadata": {},
   "source": [
    "**Save Dataframes with meta data**\n",
    "\n",
    "Save the metadata files for reference."
   ]
  },
  {
   "cell_type": "code",
   "execution_count": 51,
   "id": "39aa567f-64c1-406f-b33f-c5af727bb6c6",
   "metadata": {},
   "outputs": [],
   "source": [
    "meta_folder = \"../data/meta/\"\n",
    "os.makedirs(meta_folder, exist_ok=True)\n",
    "\n",
    "train_path = f\"{meta_folder}train_meta.csv\"\n",
    "val_path = f\"{meta_folder}val_meta.csv\"\n",
    "test_path = f\"{meta_folder}test_meta.csv\"\n",
    "\n",
    "df_train.to_csv(train_path, index=False) \n",
    "df_validation.to_csv(val_path, index=False)\n",
    "df_test.to_csv(test_path, index=False)"
   ]
  },
  {
   "cell_type": "markdown",
   "id": "6e6e657a-ce51-4cb4-aa1a-9c5b07230686",
   "metadata": {},
   "source": [
    "**Create new directory with clean datasets**"
   ]
  },
  {
   "cell_type": "code",
   "execution_count": 52,
   "id": "43f12e22-2ef2-411e-b44b-7a189e9a9936",
   "metadata": {},
   "outputs": [],
   "source": [
    "def create_new_data_folder(dframe, name):\n",
    "    \"\"\"Copies images identified in dframe to a folder in the new directory \"clean_fer_2013\"\"\"\n",
    "    \n",
    "    data_folder_name = \"../data/clean_fer_2013/\" + name\n",
    "\n",
    "    for idx, row in dframe.iterrows():\n",
    "        category_folder = os.path.join(data_folder_name, row[\"category\"])\n",
    "        os.makedirs(category_folder, exist_ok=True)\n",
    "\n",
    "        # Copy the file (will overwrite if the file already exists)\n",
    "        shutil.copy(row[\"file_path\"], category_folder)"
   ]
  },
  {
   "cell_type": "code",
   "execution_count": 53,
   "id": "253493ce-b3c6-4bd1-8c6e-e4de09cd64e2",
   "metadata": {},
   "outputs": [],
   "source": [
    "create_new_data_folder(df_test, \"test\")\n",
    "create_new_data_folder(df_validation, \"validation\")\n",
    "create_new_data_folder(df_train, \"train\")"
   ]
  },
  {
   "cell_type": "markdown",
   "id": "ed868677-b357-483c-8939-79f7c70995d7",
   "metadata": {},
   "source": [
    "**Check saved files**"
   ]
  },
  {
   "cell_type": "code",
   "execution_count": 54,
   "id": "3506534f-ea31-4231-8880-ee3d8fa70f45",
   "metadata": {},
   "outputs": [
    {
     "data": {
      "text/html": [
       "<div>\n",
       "<style scoped>\n",
       "    .dataframe tbody tr th:only-of-type {\n",
       "        vertical-align: middle;\n",
       "    }\n",
       "\n",
       "    .dataframe tbody tr th {\n",
       "        vertical-align: top;\n",
       "    }\n",
       "\n",
       "    .dataframe thead th {\n",
       "        text-align: right;\n",
       "    }\n",
       "</style>\n",
       "<table border=\"1\" class=\"dataframe\">\n",
       "  <thead>\n",
       "    <tr style=\"text-align: right;\">\n",
       "      <th></th>\n",
       "      <th>folder</th>\n",
       "      <th>category</th>\n",
       "      <th>num_files</th>\n",
       "    </tr>\n",
       "  </thead>\n",
       "  <tbody>\n",
       "    <tr>\n",
       "      <th>0</th>\n",
       "      <td>test</td>\n",
       "      <td>happy</td>\n",
       "      <td>859</td>\n",
       "    </tr>\n",
       "    <tr>\n",
       "      <th>1</th>\n",
       "      <td>test</td>\n",
       "      <td>sad</td>\n",
       "      <td>574</td>\n",
       "    </tr>\n",
       "    <tr>\n",
       "      <th>2</th>\n",
       "      <td>test</td>\n",
       "      <td>fear</td>\n",
       "      <td>510</td>\n",
       "    </tr>\n",
       "    <tr>\n",
       "      <th>3</th>\n",
       "      <td>test</td>\n",
       "      <td>surprise</td>\n",
       "      <td>402</td>\n",
       "    </tr>\n",
       "    <tr>\n",
       "      <th>4</th>\n",
       "      <td>test</td>\n",
       "      <td>neutral</td>\n",
       "      <td>609</td>\n",
       "    </tr>\n",
       "    <tr>\n",
       "      <th>5</th>\n",
       "      <td>test</td>\n",
       "      <td>angry</td>\n",
       "      <td>467</td>\n",
       "    </tr>\n",
       "    <tr>\n",
       "      <th>6</th>\n",
       "      <td>test</td>\n",
       "      <td>disgust</td>\n",
       "      <td>54</td>\n",
       "    </tr>\n",
       "    <tr>\n",
       "      <th>7</th>\n",
       "      <td>train</td>\n",
       "      <td>happy</td>\n",
       "      <td>6959</td>\n",
       "    </tr>\n",
       "    <tr>\n",
       "      <th>8</th>\n",
       "      <td>train</td>\n",
       "      <td>sad</td>\n",
       "      <td>4581</td>\n",
       "    </tr>\n",
       "    <tr>\n",
       "      <th>9</th>\n",
       "      <td>train</td>\n",
       "      <td>fear</td>\n",
       "      <td>3790</td>\n",
       "    </tr>\n",
       "    <tr>\n",
       "      <th>10</th>\n",
       "      <td>train</td>\n",
       "      <td>surprise</td>\n",
       "      <td>2622</td>\n",
       "    </tr>\n",
       "    <tr>\n",
       "      <th>11</th>\n",
       "      <td>train</td>\n",
       "      <td>neutral</td>\n",
       "      <td>4731</td>\n",
       "    </tr>\n",
       "    <tr>\n",
       "      <th>12</th>\n",
       "      <td>train</td>\n",
       "      <td>angry</td>\n",
       "      <td>3712</td>\n",
       "    </tr>\n",
       "    <tr>\n",
       "      <th>13</th>\n",
       "      <td>train</td>\n",
       "      <td>disgust</td>\n",
       "      <td>372</td>\n",
       "    </tr>\n",
       "    <tr>\n",
       "      <th>14</th>\n",
       "      <td>validation</td>\n",
       "      <td>happy</td>\n",
       "      <td>875</td>\n",
       "    </tr>\n",
       "    <tr>\n",
       "      <th>15</th>\n",
       "      <td>validation</td>\n",
       "      <td>sad</td>\n",
       "      <td>633</td>\n",
       "    </tr>\n",
       "    <tr>\n",
       "      <th>16</th>\n",
       "      <td>validation</td>\n",
       "      <td>fear</td>\n",
       "      <td>483</td>\n",
       "    </tr>\n",
       "    <tr>\n",
       "      <th>17</th>\n",
       "      <td>validation</td>\n",
       "      <td>surprise</td>\n",
       "      <td>398</td>\n",
       "    </tr>\n",
       "    <tr>\n",
       "      <th>18</th>\n",
       "      <td>validation</td>\n",
       "      <td>neutral</td>\n",
       "      <td>588</td>\n",
       "    </tr>\n",
       "    <tr>\n",
       "      <th>19</th>\n",
       "      <td>validation</td>\n",
       "      <td>angry</td>\n",
       "      <td>447</td>\n",
       "    </tr>\n",
       "    <tr>\n",
       "      <th>20</th>\n",
       "      <td>validation</td>\n",
       "      <td>disgust</td>\n",
       "      <td>54</td>\n",
       "    </tr>\n",
       "  </tbody>\n",
       "</table>\n",
       "</div>"
      ],
      "text/plain": [
       "        folder  category  num_files\n",
       "0         test     happy        859\n",
       "1         test       sad        574\n",
       "2         test      fear        510\n",
       "3         test  surprise        402\n",
       "4         test   neutral        609\n",
       "5         test     angry        467\n",
       "6         test   disgust         54\n",
       "7        train     happy       6959\n",
       "8        train       sad       4581\n",
       "9        train      fear       3790\n",
       "10       train  surprise       2622\n",
       "11       train   neutral       4731\n",
       "12       train     angry       3712\n",
       "13       train   disgust        372\n",
       "14  validation     happy        875\n",
       "15  validation       sad        633\n",
       "16  validation      fear        483\n",
       "17  validation  surprise        398\n",
       "18  validation   neutral        588\n",
       "19  validation     angry        447\n",
       "20  validation   disgust         54"
      ]
     },
     "execution_count": 54,
     "metadata": {},
     "output_type": "execute_result"
    }
   ],
   "source": [
    "root_folder = \"../data/clean_fer_2013/\"\n",
    "\n",
    "saved_files = []\n",
    "\n",
    "for folder_name in os.listdir(root_folder):\n",
    "    folder_path = root_folder + folder_name + \"/\"\n",
    "    for category in os.listdir(folder_path):\n",
    "        category_path = folder_path + category + \"/\"\n",
    "        files = [f for f in os.listdir(category_path) if os.path.isfile(os.path.join(category_path, f))]\n",
    "        num_files = len(files)\n",
    "        overview = {\n",
    "            \"folder\": folder_name,\n",
    "            \"category\": category,\n",
    "            \"num_files\": num_files\n",
    "        }\n",
    "        saved_files.append(overview)\n",
    "\n",
    "df_saved_files = pd.DataFrame(saved_files)\n",
    "df_saved_files"
   ]
  },
  {
   "cell_type": "code",
   "execution_count": 55,
   "id": "8859aab4-c0d0-4267-8c84-cfe551aa1c37",
   "metadata": {},
   "outputs": [
    {
     "data": {
      "text/plain": [
       "folder\n",
       "test           3475\n",
       "train         26767\n",
       "validation     3478\n",
       "Name: num_files, dtype: int64"
      ]
     },
     "execution_count": 55,
     "metadata": {},
     "output_type": "execute_result"
    }
   ],
   "source": [
    "df_saved_files.groupby(\"folder\")[\"num_files\"].sum()"
   ]
  }
 ],
 "metadata": {
  "kernelspec": {
   "display_name": "emotion_recog",
   "language": "python",
   "name": "emotion_recog"
  },
  "language_info": {
   "codemirror_mode": {
    "name": "ipython",
    "version": 3
   },
   "file_extension": ".py",
   "mimetype": "text/x-python",
   "name": "python",
   "nbconvert_exporter": "python",
   "pygments_lexer": "ipython3",
   "version": "3.11.10"
  }
 },
 "nbformat": 4,
 "nbformat_minor": 5
}
