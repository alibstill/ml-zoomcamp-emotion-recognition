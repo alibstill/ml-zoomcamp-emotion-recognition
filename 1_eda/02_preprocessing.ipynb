{
 "cells": [
  {
   "cell_type": "markdown",
   "id": "cbc86f7e-fea6-4449-9b90-c1503da24c20",
   "metadata": {},
   "source": [
    "# Preprocessing: removing images"
   ]
  },
  {
   "cell_type": "markdown",
   "id": "4fb23212-e404-40b7-bf04-7977becebfba",
   "metadata": {},
   "source": [
    "The exploratory data analysis revealed that we are working with compressed image files whose quality varies: some of the images are so dark that it is impossible to determine if they are actually faces.\n",
    "\n",
    "The analysis also revealed that there are 2400 duplicate images (with 1314 images that should be dropped).\n",
    "\n",
    "In this notebook, I will remove duplicate and low quality images from the training set. \n",
    "\n",
    "I will also create a separate test and validation dataset (we currently only have test and train). I will also check these test/validation datasets to make sure they don't have the same problems and resolve any issues that may arise.\n"
   ]
  },
  {
   "cell_type": "code",
   "execution_count": 29,
   "id": "4161241a-a8f6-47a4-ba2e-fc93c6c5d007",
   "metadata": {},
   "outputs": [
    {
     "name": "stderr",
     "output_type": "stream",
     "text": [
      "2025-01-16 10:16:55.742614: I tensorflow/core/platform/cpu_feature_guard.cc:210] This TensorFlow binary is optimized to use available CPU instructions in performance-critical operations.\n",
      "To enable the following instructions: AVX2 FMA, in other operations, rebuild TensorFlow with the appropriate compiler flags.\n"
     ]
    }
   ],
   "source": [
    "import pandas as pd\n",
    "import numpy as np\n",
    "import os\n",
    "from PIL import Image\n",
    "from PIL.ExifTags import TAGS\n",
    "import imagehash\n",
    "import matplotlib.pyplot as plt\n",
    "import seaborn as sns\n",
    "\n",
    "import tensorflow as tf\n",
    "from tensorflow import keras\n",
    "from tensorflow.keras.preprocessing.image import load_img\n",
    "\n",
    "SEED = 42\n",
    "np.random.seed(SEED)\n",
    "tf.random.set_seed(SEED)"
   ]
  },
  {
   "cell_type": "markdown",
   "id": "3c4bca11-6a9f-413e-973a-29aedca063a7",
   "metadata": {},
   "source": [
    "## Evalute Images"
   ]
  },
  {
   "cell_type": "code",
   "execution_count": 27,
   "id": "5afde55c-3fe8-4732-b946-f25424c0a414",
   "metadata": {},
   "outputs": [],
   "source": [
    "def get_noise_score(img, width, height):\n",
    "    \"\"\"\n",
    "    Calculate the standard deviation of pixel values.\n",
    "    \n",
    "    This function divides the image into smaller windows and calculate the standard deviation\n",
    "    of the pixel values. With the idea that noisy regions are those with higher \n",
    "    standard deviation compared to clean areas.\n",
    "    \"\"\"\n",
    "    noise_score = 0\n",
    "    window_size = 16\n",
    "\n",
    "    img_array = np.array(img)\n",
    "    \n",
    "    for y in range(0, height - window_size, window_size):\n",
    "        for x in range(0, width - window_size, window_size):\n",
    "            window = img_array[y:y+window_size, x:x+window_size]\n",
    "            window_std = np.std(window)\n",
    "            noise_score += window_std\n",
    "\n",
    "    return noise_score / (height * width)\n",
    "    \n",
    "    \n",
    "def evaluate_images(data_path):\n",
    "    \"\"\"\n",
    "    Retrieve noise and hash_value of each image along with basic metadata (file_name, file_path, category)\n",
    "\n",
    "    Args:\n",
    "        data_path: (str) path to the category folders containing images that fall under that category\n",
    "        \n",
    "    Returns:\n",
    "        list of dictionaries, each containing metadata about the image\n",
    "    \n",
    "    \"\"\"\n",
    "    \n",
    "    file_meta = []\n",
    "    \n",
    "\n",
    "    for name in os.listdir(data_path): \n",
    "        filepath = os.path.join(data_path, name)\n",
    "\n",
    "        if '.DS_Store' in filepath:\n",
    "            continue\n",
    "\n",
    "        for image_file_name in os.listdir(filepath): \n",
    "            image_filepath = os.path.join(filepath, image_file_name)\n",
    "        \n",
    "            with Image.open(image_filepath) as img:\n",
    "                width, height = img.size\n",
    "\n",
    "                attrs = {\n",
    "                    'category': name,\n",
    "                    'file_name': image_file_name,\n",
    "                    'file_path': image_filepath,\n",
    "                    'noise_score': get_noise_score(img, width, height),\n",
    "                    'hash_value': str(imagehash.phash(img))\n",
    "                }\n",
    "                file_meta.append(attrs)\n",
    "    \n",
    "\n",
    "    \n",
    "    return file_meta \n",
    "\n",
    "def load_print_images(file_paths):\n",
    "    \"\"\"Print out the images found at the given filepaths\"\"\"\n",
    "    for image_path in file_paths:\n",
    "        img = load_img(image_path)\n",
    "        display(img)"
   ]
  },
  {
   "cell_type": "code",
   "execution_count": 8,
   "id": "739f6e9f-405b-4664-b643-f60df5b35336",
   "metadata": {},
   "outputs": [
    {
     "data": {
      "text/html": [
       "<div>\n",
       "<style scoped>\n",
       "    .dataframe tbody tr th:only-of-type {\n",
       "        vertical-align: middle;\n",
       "    }\n",
       "\n",
       "    .dataframe tbody tr th {\n",
       "        vertical-align: top;\n",
       "    }\n",
       "\n",
       "    .dataframe thead th {\n",
       "        text-align: right;\n",
       "    }\n",
       "</style>\n",
       "<table border=\"1\" class=\"dataframe\">\n",
       "  <thead>\n",
       "    <tr style=\"text-align: right;\">\n",
       "      <th></th>\n",
       "      <th>category</th>\n",
       "      <th>file_name</th>\n",
       "      <th>file_path</th>\n",
       "      <th>noise_score</th>\n",
       "      <th>hash_value</th>\n",
       "    </tr>\n",
       "  </thead>\n",
       "  <tbody>\n",
       "    <tr>\n",
       "      <th>0</th>\n",
       "      <td>happy</td>\n",
       "      <td>Training_50449107.jpg</td>\n",
       "      <td>../data/FER-2013/train/happy/Training_50449107...</td>\n",
       "      <td>0.072168</td>\n",
       "      <td>84f817c1b63f186b</td>\n",
       "    </tr>\n",
       "    <tr>\n",
       "      <th>1</th>\n",
       "      <td>happy</td>\n",
       "      <td>Training_70433018.jpg</td>\n",
       "      <td>../data/FER-2013/train/happy/Training_70433018...</td>\n",
       "      <td>0.044953</td>\n",
       "      <td>eac1ebc2b13c65e0</td>\n",
       "    </tr>\n",
       "    <tr>\n",
       "      <th>2</th>\n",
       "      <td>happy</td>\n",
       "      <td>Training_85610005.jpg</td>\n",
       "      <td>../data/FER-2013/train/happy/Training_85610005...</td>\n",
       "      <td>0.055432</td>\n",
       "      <td>80e85fe7702659ae</td>\n",
       "    </tr>\n",
       "    <tr>\n",
       "      <th>3</th>\n",
       "      <td>happy</td>\n",
       "      <td>Training_4460748.jpg</td>\n",
       "      <td>../data/FER-2013/train/happy/Training_4460748.jpg</td>\n",
       "      <td>0.049047</td>\n",
       "      <td>880905f785de45bf</td>\n",
       "    </tr>\n",
       "    <tr>\n",
       "      <th>4</th>\n",
       "      <td>happy</td>\n",
       "      <td>Training_6312930.jpg</td>\n",
       "      <td>../data/FER-2013/train/happy/Training_6312930.jpg</td>\n",
       "      <td>0.075139</td>\n",
       "      <td>e8902b2bd2d3d4cb</td>\n",
       "    </tr>\n",
       "  </tbody>\n",
       "</table>\n",
       "</div>"
      ],
      "text/plain": [
       "  category              file_name  \\\n",
       "0    happy  Training_50449107.jpg   \n",
       "1    happy  Training_70433018.jpg   \n",
       "2    happy  Training_85610005.jpg   \n",
       "3    happy   Training_4460748.jpg   \n",
       "4    happy   Training_6312930.jpg   \n",
       "\n",
       "                                           file_path  noise_score  \\\n",
       "0  ../data/FER-2013/train/happy/Training_50449107...     0.072168   \n",
       "1  ../data/FER-2013/train/happy/Training_70433018...     0.044953   \n",
       "2  ../data/FER-2013/train/happy/Training_85610005...     0.055432   \n",
       "3  ../data/FER-2013/train/happy/Training_4460748.jpg     0.049047   \n",
       "4  ../data/FER-2013/train/happy/Training_6312930.jpg     0.075139   \n",
       "\n",
       "         hash_value  \n",
       "0  84f817c1b63f186b  \n",
       "1  eac1ebc2b13c65e0  \n",
       "2  80e85fe7702659ae  \n",
       "3  880905f785de45bf  \n",
       "4  e8902b2bd2d3d4cb  "
      ]
     },
     "execution_count": 8,
     "metadata": {},
     "output_type": "execute_result"
    }
   ],
   "source": [
    "train_data_folder = \"../data/FER-2013/train/\"\n",
    "\n",
    "train_overview = evaluate_images(train_data_folder)\n",
    "\n",
    "df_overview_train = pd.DataFrame(train_overview)\n",
    "df_overview_train.head()"
   ]
  },
  {
   "cell_type": "code",
   "execution_count": 11,
   "id": "9119cd97-0c6c-4df5-af50-3624f5177df0",
   "metadata": {},
   "outputs": [
    {
     "data": {
      "text/plain": [
       "28709"
      ]
     },
     "execution_count": 11,
     "metadata": {},
     "output_type": "execute_result"
    }
   ],
   "source": [
    "len(df_overview_train)"
   ]
  },
  {
   "cell_type": "markdown",
   "id": "871e5d11-2f3a-475e-bfba-dc8e5503ac24",
   "metadata": {},
   "source": [
    "## 1. Removing Duplicates from Training dataset\n",
    "\n",
    "During our EDA, we saw that perceptual hashing was a good way of identifying duplicate images. We will use the same approach here."
   ]
  },
  {
   "cell_type": "code",
   "execution_count": 59,
   "id": "a9c3b9c3-f8c3-4fff-a04b-cfb180ff3808",
   "metadata": {},
   "outputs": [],
   "source": [
    "def get_duplicates(dframe):\n",
    "    \"\"\"Identify all the duplicate images by finding images with the same hash values\"\"\"\n",
    "    duplicates = dframe.groupby(['hash_value']).filter(lambda x: len(x) > 1)\n",
    "    duplicates = duplicates.sort_values(by=\"hash_value\")\n",
    "    return duplicates\n",
    "\n",
    "def get_duplicate_counts(dframe):\n",
    "    \"\"\"Get the count of all duplicate images and the number of images that should be dropped\"\"\"\n",
    "    duplicate_no = len(get_duplicates(dframe))\n",
    "    duplicates_to_drop_no = len(dframe[dframe.duplicated(subset='hash_value')])\n",
    "    return duplicate_no, duplicates_to_drop_no\n",
    "    "
   ]
  },
  {
   "cell_type": "code",
   "execution_count": 60,
   "id": "9639214f-ddfa-4efe-88aa-de01c45e459c",
   "metadata": {},
   "outputs": [
    {
     "data": {
      "text/plain": [
       "2400"
      ]
     },
     "execution_count": 60,
     "metadata": {},
     "output_type": "execute_result"
    }
   ],
   "source": [
    "duplicates_train = get_duplicates(df_overview_train)\n",
    "len(duplicates_train)"
   ]
  },
  {
   "cell_type": "code",
   "execution_count": 63,
   "id": "141a41f5-82cb-422f-9e3e-91e3ff1ab703",
   "metadata": {},
   "outputs": [
    {
     "data": {
      "text/html": [
       "<div>\n",
       "<style scoped>\n",
       "    .dataframe tbody tr th:only-of-type {\n",
       "        vertical-align: middle;\n",
       "    }\n",
       "\n",
       "    .dataframe tbody tr th {\n",
       "        vertical-align: top;\n",
       "    }\n",
       "\n",
       "    .dataframe thead th {\n",
       "        text-align: right;\n",
       "    }\n",
       "</style>\n",
       "<table border=\"1\" class=\"dataframe\">\n",
       "  <thead>\n",
       "    <tr style=\"text-align: right;\">\n",
       "      <th></th>\n",
       "      <th>category</th>\n",
       "      <th>file_name</th>\n",
       "      <th>file_path</th>\n",
       "      <th>noise_score</th>\n",
       "      <th>hash_value</th>\n",
       "    </tr>\n",
       "  </thead>\n",
       "  <tbody>\n",
       "    <tr>\n",
       "      <th>14720</th>\n",
       "      <td>fear</td>\n",
       "      <td>Training_49198048.jpg</td>\n",
       "      <td>../data/FER-2013/train/fear/Training_49198048.jpg</td>\n",
       "      <td>0.097149</td>\n",
       "      <td>ff9fe0b0d2290a45</td>\n",
       "    </tr>\n",
       "    <tr>\n",
       "      <th>12841</th>\n",
       "      <td>fear</td>\n",
       "      <td>Training_27746315.jpg</td>\n",
       "      <td>../data/FER-2013/train/fear/Training_27746315.jpg</td>\n",
       "      <td>0.097149</td>\n",
       "      <td>ff9fe0b0d2290a45</td>\n",
       "    </tr>\n",
       "    <tr>\n",
       "      <th>14144</th>\n",
       "      <td>fear</td>\n",
       "      <td>Training_12587825.jpg</td>\n",
       "      <td>../data/FER-2013/train/fear/Training_12587825.jpg</td>\n",
       "      <td>0.058649</td>\n",
       "      <td>ffa87692895c3582</td>\n",
       "    </tr>\n",
       "    <tr>\n",
       "      <th>18983</th>\n",
       "      <td>surprise</td>\n",
       "      <td>Training_63470176.jpg</td>\n",
       "      <td>../data/FER-2013/train/surprise/Training_63470...</td>\n",
       "      <td>0.058649</td>\n",
       "      <td>ffa87692895c3582</td>\n",
       "    </tr>\n",
       "    <tr>\n",
       "      <th>14336</th>\n",
       "      <td>fear</td>\n",
       "      <td>Training_70012504.jpg</td>\n",
       "      <td>../data/FER-2013/train/fear/Training_70012504.jpg</td>\n",
       "      <td>0.058649</td>\n",
       "      <td>ffa87692895c3582</td>\n",
       "    </tr>\n",
       "  </tbody>\n",
       "</table>\n",
       "</div>"
      ],
      "text/plain": [
       "       category              file_name  \\\n",
       "14720      fear  Training_49198048.jpg   \n",
       "12841      fear  Training_27746315.jpg   \n",
       "14144      fear  Training_12587825.jpg   \n",
       "18983  surprise  Training_63470176.jpg   \n",
       "14336      fear  Training_70012504.jpg   \n",
       "\n",
       "                                               file_path  noise_score  \\\n",
       "14720  ../data/FER-2013/train/fear/Training_49198048.jpg     0.097149   \n",
       "12841  ../data/FER-2013/train/fear/Training_27746315.jpg     0.097149   \n",
       "14144  ../data/FER-2013/train/fear/Training_12587825.jpg     0.058649   \n",
       "18983  ../data/FER-2013/train/surprise/Training_63470...     0.058649   \n",
       "14336  ../data/FER-2013/train/fear/Training_70012504.jpg     0.058649   \n",
       "\n",
       "             hash_value  \n",
       "14720  ff9fe0b0d2290a45  \n",
       "12841  ff9fe0b0d2290a45  \n",
       "14144  ffa87692895c3582  \n",
       "18983  ffa87692895c3582  \n",
       "14336  ffa87692895c3582  "
      ]
     },
     "execution_count": 63,
     "metadata": {},
     "output_type": "execute_result"
    }
   ],
   "source": [
    "duplicates_train.tail()"
   ]
  },
  {
   "cell_type": "code",
   "execution_count": 64,
   "id": "49bb38aa-d3a7-48c4-823f-d7933b439e96",
   "metadata": {},
   "outputs": [
    {
     "data": {
      "image/jpeg": "[encoded data removed]",
      "image/png": "[encoded data removed]",
      "text/plain": [
       "<PIL.Image.Image image mode=RGB size=48x48>"
      ]
     },
     "metadata": {},
     "output_type": "display_data"
    },
    {
     "data": {
      "image/jpeg": "[encoded data removed]",
      "image/png": "[encoded data removed]",
      "text/plain": [
       "<PIL.Image.Image image mode=RGB size=48x48>"
      ]
     },
     "metadata": {},
     "output_type": "display_data"
    },
    {
     "data": {
      "image/jpeg": "[encoded data removed]",
      "image/png": "[encoded data removed]",
      "text/plain": [
       "<PIL.Image.Image image mode=RGB size=48x48>"
      ]
     },
     "metadata": {},
     "output_type": "display_data"
    }
   ],
   "source": [
    "load_print_images(duplicates_train.tail(3)[\"file_path\"].values)"
   ]
  },
  {
   "cell_type": "code",
   "execution_count": 65,
   "id": "39fd974b-6b2f-4e91-a6f8-86504d5bcec4",
   "metadata": {},
   "outputs": [
    {
     "data": {
      "text/plain": [
       "(2400, 1314)"
      ]
     },
     "execution_count": 65,
     "metadata": {},
     "output_type": "execute_result"
    }
   ],
   "source": [
    "train_dupes_no, train_to_drop_no = get_duplicate_counts(df_overview_train)\n",
    "train_dupes_no, train_to_drop_no"
   ]
  },
  {
   "cell_type": "code",
   "execution_count": 66,
   "id": "c2c1a97b-2a18-4e8e-aff0-fd3b9caeb62a",
   "metadata": {},
   "outputs": [
    {
     "data": {
      "text/plain": [
       "27395"
      ]
     },
     "execution_count": 66,
     "metadata": {},
     "output_type": "execute_result"
    }
   ],
   "source": [
    "expected_new_train_length = len(df_overview_train) - train_to_drop_no\n",
    "expected_new_train_length"
   ]
  },
  {
   "cell_type": "code",
   "execution_count": 67,
   "id": "40e50237-a938-490e-ac11-93c3fae89230",
   "metadata": {},
   "outputs": [
    {
     "data": {
      "text/plain": [
       "27395"
      ]
     },
     "execution_count": 67,
     "metadata": {},
     "output_type": "execute_result"
    }
   ],
   "source": [
    "df_overview_train = df_overview_train.drop_duplicates(subset=['hash_value'])\n",
    "len(df_overview_train)"
   ]
  },
  {
   "cell_type": "markdown",
   "id": "5e2d889c-00ef-4935-88ad-ea5451598f09",
   "metadata": {},
   "source": [
    "## Preprocessing the test dataset\n",
    "\n",
    "### Extracting the validation dataset\n",
    "\n",
    "We do not have a validation dataset.\n",
    "\n",
    "The dataset was downloaded from [kaggle](https://www.kaggle.com/datasets/msambare/fer2013/data) and derived from a [2013 Facial Recognition Kaggle competition](https://www.kaggle.com/c/challenges-in-representation-learning-facial-expression-recognition-challenge/data).\n",
    "\n",
    "According to the description on kaggle there are 28,709 images in the training set and 3,589 in the \"public test set\". We can see that we actually have 7178 and that the file names make it clear that the test dataset is divided into \"PrivateTest\" and \"PublicTest\". \n",
    "\n",
    "We can use this differentiation to create the test and validation datasets. Each contain 3,589 image files."
   ]
  },
  {
   "cell_type": "code",
   "execution_count": 9,
   "id": "0e72a2db-5009-46da-a479-96e1e9f84271",
   "metadata": {},
   "outputs": [
    {
     "data": {
      "text/html": [
       "<div>\n",
       "<style scoped>\n",
       "    .dataframe tbody tr th:only-of-type {\n",
       "        vertical-align: middle;\n",
       "    }\n",
       "\n",
       "    .dataframe tbody tr th {\n",
       "        vertical-align: top;\n",
       "    }\n",
       "\n",
       "    .dataframe thead th {\n",
       "        text-align: right;\n",
       "    }\n",
       "</style>\n",
       "<table border=\"1\" class=\"dataframe\">\n",
       "  <thead>\n",
       "    <tr style=\"text-align: right;\">\n",
       "      <th></th>\n",
       "      <th>category</th>\n",
       "      <th>file_name</th>\n",
       "      <th>file_path</th>\n",
       "      <th>noise_score</th>\n",
       "      <th>hash_value</th>\n",
       "    </tr>\n",
       "  </thead>\n",
       "  <tbody>\n",
       "    <tr>\n",
       "      <th>0</th>\n",
       "      <td>happy</td>\n",
       "      <td>PrivateTest_45699463.jpg</td>\n",
       "      <td>../data/FER-2013/test/happy/PrivateTest_456994...</td>\n",
       "      <td>0.067485</td>\n",
       "      <td>d10d08b5676c3f96</td>\n",
       "    </tr>\n",
       "    <tr>\n",
       "      <th>1</th>\n",
       "      <td>happy</td>\n",
       "      <td>PrivateTest_61855708.jpg</td>\n",
       "      <td>../data/FER-2013/test/happy/PrivateTest_618557...</td>\n",
       "      <td>0.061334</td>\n",
       "      <td>95536934c5bace52</td>\n",
       "    </tr>\n",
       "    <tr>\n",
       "      <th>2</th>\n",
       "      <td>happy</td>\n",
       "      <td>PublicTest_53681781.jpg</td>\n",
       "      <td>../data/FER-2013/test/happy/PublicTest_5368178...</td>\n",
       "      <td>0.061739</td>\n",
       "      <td>dcb86296853c693b</td>\n",
       "    </tr>\n",
       "    <tr>\n",
       "      <th>3</th>\n",
       "      <td>happy</td>\n",
       "      <td>PrivateTest_52109800.jpg</td>\n",
       "      <td>../data/FER-2013/test/happy/PrivateTest_521098...</td>\n",
       "      <td>0.040864</td>\n",
       "      <td>958c56109b643fd7</td>\n",
       "    </tr>\n",
       "    <tr>\n",
       "      <th>4</th>\n",
       "      <td>happy</td>\n",
       "      <td>PublicTest_41104919.jpg</td>\n",
       "      <td>../data/FER-2013/test/happy/PublicTest_4110491...</td>\n",
       "      <td>0.076038</td>\n",
       "      <td>93c84ac3993d69c7</td>\n",
       "    </tr>\n",
       "  </tbody>\n",
       "</table>\n",
       "</div>"
      ],
      "text/plain": [
       "  category                 file_name  \\\n",
       "0    happy  PrivateTest_45699463.jpg   \n",
       "1    happy  PrivateTest_61855708.jpg   \n",
       "2    happy   PublicTest_53681781.jpg   \n",
       "3    happy  PrivateTest_52109800.jpg   \n",
       "4    happy   PublicTest_41104919.jpg   \n",
       "\n",
       "                                           file_path  noise_score  \\\n",
       "0  ../data/FER-2013/test/happy/PrivateTest_456994...     0.067485   \n",
       "1  ../data/FER-2013/test/happy/PrivateTest_618557...     0.061334   \n",
       "2  ../data/FER-2013/test/happy/PublicTest_5368178...     0.061739   \n",
       "3  ../data/FER-2013/test/happy/PrivateTest_521098...     0.040864   \n",
       "4  ../data/FER-2013/test/happy/PublicTest_4110491...     0.076038   \n",
       "\n",
       "         hash_value  \n",
       "0  d10d08b5676c3f96  \n",
       "1  95536934c5bace52  \n",
       "2  dcb86296853c693b  \n",
       "3  958c56109b643fd7  \n",
       "4  93c84ac3993d69c7  "
      ]
     },
     "execution_count": 9,
     "metadata": {},
     "output_type": "execute_result"
    }
   ],
   "source": [
    "test_data_folder = \"../data/FER-2013/test/\"\n",
    "\n",
    "test_overview = evaluate_images(test_data_folder)\n",
    "\n",
    "df_overview_test = pd.DataFrame(test_overview)\n",
    "df_overview_test.head()"
   ]
  },
  {
   "cell_type": "code",
   "execution_count": 12,
   "id": "a2cbd685-25bf-4cf6-ac11-c85930b11331",
   "metadata": {},
   "outputs": [
    {
     "data": {
      "text/plain": [
       "7178"
      ]
     },
     "execution_count": 12,
     "metadata": {},
     "output_type": "execute_result"
    }
   ],
   "source": [
    "len(df_overview_test)"
   ]
  },
  {
   "cell_type": "code",
   "execution_count": 40,
   "id": "53791168-f6da-4c43-8ed6-538287709d6e",
   "metadata": {},
   "outputs": [
    {
     "data": {
      "text/html": [
       "<div>\n",
       "<style scoped>\n",
       "    .dataframe tbody tr th:only-of-type {\n",
       "        vertical-align: middle;\n",
       "    }\n",
       "\n",
       "    .dataframe tbody tr th {\n",
       "        vertical-align: top;\n",
       "    }\n",
       "\n",
       "    .dataframe thead th {\n",
       "        text-align: right;\n",
       "    }\n",
       "</style>\n",
       "<table border=\"1\" class=\"dataframe\">\n",
       "  <thead>\n",
       "    <tr style=\"text-align: right;\">\n",
       "      <th></th>\n",
       "      <th>category</th>\n",
       "      <th>file_name</th>\n",
       "      <th>file_path</th>\n",
       "      <th>noise_score</th>\n",
       "      <th>hash_value</th>\n",
       "    </tr>\n",
       "  </thead>\n",
       "  <tbody>\n",
       "    <tr>\n",
       "      <th>2</th>\n",
       "      <td>happy</td>\n",
       "      <td>PublicTest_53681781.jpg</td>\n",
       "      <td>../data/FER-2013/test/happy/PublicTest_5368178...</td>\n",
       "      <td>0.061739</td>\n",
       "      <td>dcb86296853c693b</td>\n",
       "    </tr>\n",
       "    <tr>\n",
       "      <th>4</th>\n",
       "      <td>happy</td>\n",
       "      <td>PublicTest_41104919.jpg</td>\n",
       "      <td>../data/FER-2013/test/happy/PublicTest_4110491...</td>\n",
       "      <td>0.076038</td>\n",
       "      <td>93c84ac3993d69c7</td>\n",
       "    </tr>\n",
       "  </tbody>\n",
       "</table>\n",
       "</div>"
      ],
      "text/plain": [
       "  category                file_name  \\\n",
       "2    happy  PublicTest_53681781.jpg   \n",
       "4    happy  PublicTest_41104919.jpg   \n",
       "\n",
       "                                           file_path  noise_score  \\\n",
       "2  ../data/FER-2013/test/happy/PublicTest_5368178...     0.061739   \n",
       "4  ../data/FER-2013/test/happy/PublicTest_4110491...     0.076038   \n",
       "\n",
       "         hash_value  \n",
       "2  dcb86296853c693b  \n",
       "4  93c84ac3993d69c7  "
      ]
     },
     "execution_count": 40,
     "metadata": {},
     "output_type": "execute_result"
    }
   ],
   "source": [
    "is_public = df_overview_test[\"file_name\"].str.contains(\"PublicTest\")\n",
    "df_validation = df_overview_test[is_public]\n",
    "\n",
    "df_validation.head(2)"
   ]
  },
  {
   "cell_type": "code",
   "execution_count": 19,
   "id": "6ae133a8-9dbb-41d2-a57a-a288c3b51437",
   "metadata": {},
   "outputs": [
    {
     "data": {
      "text/html": [
       "<div>\n",
       "<style scoped>\n",
       "    .dataframe tbody tr th:only-of-type {\n",
       "        vertical-align: middle;\n",
       "    }\n",
       "\n",
       "    .dataframe tbody tr th {\n",
       "        vertical-align: top;\n",
       "    }\n",
       "\n",
       "    .dataframe thead th {\n",
       "        text-align: right;\n",
       "    }\n",
       "</style>\n",
       "<table border=\"1\" class=\"dataframe\">\n",
       "  <thead>\n",
       "    <tr style=\"text-align: right;\">\n",
       "      <th></th>\n",
       "      <th>category</th>\n",
       "      <th>file_name</th>\n",
       "      <th>file_path</th>\n",
       "      <th>noise_score</th>\n",
       "      <th>hash_value</th>\n",
       "    </tr>\n",
       "  </thead>\n",
       "  <tbody>\n",
       "    <tr>\n",
       "      <th>0</th>\n",
       "      <td>happy</td>\n",
       "      <td>PrivateTest_45699463.jpg</td>\n",
       "      <td>../data/FER-2013/test/happy/PrivateTest_456994...</td>\n",
       "      <td>0.067485</td>\n",
       "      <td>d10d08b5676c3f96</td>\n",
       "    </tr>\n",
       "    <tr>\n",
       "      <th>1</th>\n",
       "      <td>happy</td>\n",
       "      <td>PrivateTest_61855708.jpg</td>\n",
       "      <td>../data/FER-2013/test/happy/PrivateTest_618557...</td>\n",
       "      <td>0.061334</td>\n",
       "      <td>95536934c5bace52</td>\n",
       "    </tr>\n",
       "  </tbody>\n",
       "</table>\n",
       "</div>"
      ],
      "text/plain": [
       "  category                 file_name  \\\n",
       "0    happy  PrivateTest_45699463.jpg   \n",
       "1    happy  PrivateTest_61855708.jpg   \n",
       "\n",
       "                                           file_path  noise_score  \\\n",
       "0  ../data/FER-2013/test/happy/PrivateTest_456994...     0.067485   \n",
       "1  ../data/FER-2013/test/happy/PrivateTest_618557...     0.061334   \n",
       "\n",
       "         hash_value  \n",
       "0  d10d08b5676c3f96  \n",
       "1  95536934c5bace52  "
      ]
     },
     "execution_count": 19,
     "metadata": {},
     "output_type": "execute_result"
    }
   ],
   "source": [
    "df_test = df_overview_test[~is_public]\n",
    "df_test.head(2)"
   ]
  },
  {
   "cell_type": "code",
   "execution_count": 20,
   "id": "2eba91d5-985d-4304-95ce-76ef0212656d",
   "metadata": {},
   "outputs": [
    {
     "data": {
      "text/plain": [
       "(3589, 3589)"
      ]
     },
     "execution_count": 20,
     "metadata": {},
     "output_type": "execute_result"
    }
   ],
   "source": [
    "len(df_validation), len(df_test)"
   ]
  },
  {
   "cell_type": "markdown",
   "id": "ea1d1d55-2659-4ec7-9da6-3d99caa2f2b4",
   "metadata": {},
   "source": [
    "### Cleaning the test and validation set\n",
    "\n",
    "Before we separate out our validation and test set, I want to make sure the test dataset doesn't have the same problems encountered in our training dataset.\n",
    "\n",
    "1. Duplicates\n",
    "\n",
    "Ideally the test dataset does not contain duplicates. Duplicates could artifically inflate model performance so I want to make sure there are none in the dataset.\n",
    "\n",
    "2. Low Quality Images\n",
    "\n",
    "While I don't want to over-clean the test dataset, it should represent images the algorithm finds in reality. Ideally any application should be able to warn users when an image is low quality and reject it rather than pass it to the image classifier. "
   ]
  },
  {
   "cell_type": "markdown",
   "id": "f3a4c150-8200-48e2-bd51-bcb5f62b5336",
   "metadata": {},
   "source": [
    "### 1. Removing Test and Validation Duplicates\n",
    "\n",
    "Analysis below shows that we do have duplicate images in our training and validation datasets but the number is quite small so we will just drop them"
   ]
  },
  {
   "cell_type": "markdown",
   "id": "99f519f8-e236-4617-a919-d0618d3b9e21",
   "metadata": {},
   "source": [
    "**Validation**"
   ]
  },
  {
   "cell_type": "code",
   "execution_count": 44,
   "id": "402576c1-0ac9-4ed9-aad2-f7744b765376",
   "metadata": {},
   "outputs": [
    {
     "data": {
      "text/plain": [
       "56"
      ]
     },
     "execution_count": 44,
     "metadata": {},
     "output_type": "execute_result"
    }
   ],
   "source": [
    "duplicates_val = get_duplicates(df_validation)\n",
    "len(duplicates_val)"
   ]
  },
  {
   "cell_type": "code",
   "execution_count": 45,
   "id": "7437634d-4de9-4b59-9499-5b10f5deef1f",
   "metadata": {},
   "outputs": [
    {
     "data": {
      "text/html": [
       "<div>\n",
       "<style scoped>\n",
       "    .dataframe tbody tr th:only-of-type {\n",
       "        vertical-align: middle;\n",
       "    }\n",
       "\n",
       "    .dataframe tbody tr th {\n",
       "        vertical-align: top;\n",
       "    }\n",
       "\n",
       "    .dataframe thead th {\n",
       "        text-align: right;\n",
       "    }\n",
       "</style>\n",
       "<table border=\"1\" class=\"dataframe\">\n",
       "  <thead>\n",
       "    <tr style=\"text-align: right;\">\n",
       "      <th></th>\n",
       "      <th>category</th>\n",
       "      <th>file_name</th>\n",
       "      <th>file_path</th>\n",
       "      <th>noise_score</th>\n",
       "      <th>hash_value</th>\n",
       "    </tr>\n",
       "  </thead>\n",
       "  <tbody>\n",
       "    <tr>\n",
       "      <th>4269</th>\n",
       "      <td>surprise</td>\n",
       "      <td>PublicTest_42347603.jpg</td>\n",
       "      <td>../data/FER-2013/test/surprise/PublicTest_4234...</td>\n",
       "      <td>0.073366</td>\n",
       "      <td>fed53a86c86928b1</td>\n",
       "    </tr>\n",
       "    <tr>\n",
       "      <th>3511</th>\n",
       "      <td>fear</td>\n",
       "      <td>PublicTest_26755252.jpg</td>\n",
       "      <td>../data/FER-2013/test/fear/PublicTest_26755252...</td>\n",
       "      <td>0.075853</td>\n",
       "      <td>ff075657583c28c2</td>\n",
       "    </tr>\n",
       "    <tr>\n",
       "      <th>7108</th>\n",
       "      <td>disgust</td>\n",
       "      <td>PublicTest_75786377.jpg</td>\n",
       "      <td>../data/FER-2013/test/disgust/PublicTest_75786...</td>\n",
       "      <td>0.076655</td>\n",
       "      <td>ff075657583c28c2</td>\n",
       "    </tr>\n",
       "    <tr>\n",
       "      <th>3784</th>\n",
       "      <td>fear</td>\n",
       "      <td>PublicTest_72816882.jpg</td>\n",
       "      <td>../data/FER-2013/test/fear/PublicTest_72816882...</td>\n",
       "      <td>0.097149</td>\n",
       "      <td>ff9fe0b0d2290a45</td>\n",
       "    </tr>\n",
       "    <tr>\n",
       "      <th>3338</th>\n",
       "      <td>fear</td>\n",
       "      <td>PublicTest_95508061.jpg</td>\n",
       "      <td>../data/FER-2013/test/fear/PublicTest_95508061...</td>\n",
       "      <td>0.097149</td>\n",
       "      <td>ff9fe0b0d2290a45</td>\n",
       "    </tr>\n",
       "  </tbody>\n",
       "</table>\n",
       "</div>"
      ],
      "text/plain": [
       "      category                file_name  \\\n",
       "4269  surprise  PublicTest_42347603.jpg   \n",
       "3511      fear  PublicTest_26755252.jpg   \n",
       "7108   disgust  PublicTest_75786377.jpg   \n",
       "3784      fear  PublicTest_72816882.jpg   \n",
       "3338      fear  PublicTest_95508061.jpg   \n",
       "\n",
       "                                              file_path  noise_score  \\\n",
       "4269  ../data/FER-2013/test/surprise/PublicTest_4234...     0.073366   \n",
       "3511  ../data/FER-2013/test/fear/PublicTest_26755252...     0.075853   \n",
       "7108  ../data/FER-2013/test/disgust/PublicTest_75786...     0.076655   \n",
       "3784  ../data/FER-2013/test/fear/PublicTest_72816882...     0.097149   \n",
       "3338  ../data/FER-2013/test/fear/PublicTest_95508061...     0.097149   \n",
       "\n",
       "            hash_value  \n",
       "4269  fed53a86c86928b1  \n",
       "3511  ff075657583c28c2  \n",
       "7108  ff075657583c28c2  \n",
       "3784  ff9fe0b0d2290a45  \n",
       "3338  ff9fe0b0d2290a45  "
      ]
     },
     "execution_count": 45,
     "metadata": {},
     "output_type": "execute_result"
    }
   ],
   "source": [
    "duplicates_val.tail()"
   ]
  },
  {
   "cell_type": "code",
   "execution_count": 46,
   "id": "7a46072e-c788-4a2c-8b82-94df1a35c198",
   "metadata": {},
   "outputs": [
    {
     "data": {
      "image/jpeg": "[encoded data removed]",
      "image/png": "[encoded data removed]",
      "text/plain": [
       "<PIL.Image.Image image mode=RGB size=48x48>"
      ]
     },
     "metadata": {},
     "output_type": "display_data"
    },
    {
     "data": {
      "image/jpeg": "[encoded data removed]",
      "image/png": "[encoded data removed]",
      "text/plain": [
       "<PIL.Image.Image image mode=RGB size=48x48>"
      ]
     },
     "metadata": {},
     "output_type": "display_data"
    }
   ],
   "source": [
    "load_print_images(duplicates_val.tail(2)[\"file_path\"].values)"
   ]
  },
  {
   "cell_type": "code",
   "execution_count": 53,
   "id": "06d880e1-e9e2-40e2-8443-f13aebdf42e3",
   "metadata": {},
   "outputs": [
    {
     "data": {
      "text/plain": [
       "(56, 28)"
      ]
     },
     "execution_count": 53,
     "metadata": {},
     "output_type": "execute_result"
    }
   ],
   "source": [
    "val_dupes_no, val_to_drop_no = get_duplicate_counts(df_validation)\n",
    "val_dupes_no, val_to_drop_no"
   ]
  },
  {
   "cell_type": "code",
   "execution_count": 55,
   "id": "ca544cf5-2f87-4eb6-af7f-f5a00fef311d",
   "metadata": {},
   "outputs": [
    {
     "data": {
      "text/plain": [
       "3561"
      ]
     },
     "execution_count": 55,
     "metadata": {},
     "output_type": "execute_result"
    }
   ],
   "source": [
    "expected_new_val_length = len(df_validation) - val_to_drop_no\n",
    "expected_new_val_length"
   ]
  },
  {
   "cell_type": "code",
   "execution_count": 57,
   "id": "5d864eba-07d7-4bba-882b-9c29610319b3",
   "metadata": {},
   "outputs": [
    {
     "data": {
      "text/plain": [
       "3561"
      ]
     },
     "execution_count": 57,
     "metadata": {},
     "output_type": "execute_result"
    }
   ],
   "source": [
    "df_validation = df_validation.drop_duplicates(subset=['hash_value'])\n",
    "len(df_validation)"
   ]
  },
  {
   "cell_type": "markdown",
   "id": "6c8f5764-4b33-49b9-9791-fa74a9587333",
   "metadata": {},
   "source": [
    "**Test**"
   ]
  },
  {
   "cell_type": "code",
   "execution_count": 47,
   "id": "7e242d71-2aac-44bd-8591-ed1efb14ca50",
   "metadata": {},
   "outputs": [
    {
     "data": {
      "text/plain": [
       "41"
      ]
     },
     "execution_count": 47,
     "metadata": {},
     "output_type": "execute_result"
    }
   ],
   "source": [
    "duplicates_test = get_duplicates(df_test)\n",
    "len(duplicates_test)"
   ]
  },
  {
   "cell_type": "code",
   "execution_count": 48,
   "id": "8b0800d1-3816-4e13-82aa-f717bbc93cc2",
   "metadata": {},
   "outputs": [
    {
     "data": {
      "text/html": [
       "<div>\n",
       "<style scoped>\n",
       "    .dataframe tbody tr th:only-of-type {\n",
       "        vertical-align: middle;\n",
       "    }\n",
       "\n",
       "    .dataframe tbody tr th {\n",
       "        vertical-align: top;\n",
       "    }\n",
       "\n",
       "    .dataframe thead th {\n",
       "        text-align: right;\n",
       "    }\n",
       "</style>\n",
       "<table border=\"1\" class=\"dataframe\">\n",
       "  <thead>\n",
       "    <tr style=\"text-align: right;\">\n",
       "      <th></th>\n",
       "      <th>category</th>\n",
       "      <th>file_name</th>\n",
       "      <th>file_path</th>\n",
       "      <th>noise_score</th>\n",
       "      <th>hash_value</th>\n",
       "    </tr>\n",
       "  </thead>\n",
       "  <tbody>\n",
       "    <tr>\n",
       "      <th>3051</th>\n",
       "      <td>fear</td>\n",
       "      <td>PrivateTest_4712911.jpg</td>\n",
       "      <td>../data/FER-2013/test/fear/PrivateTest_4712911...</td>\n",
       "      <td>0.054162</td>\n",
       "      <td>d00952f52f341dd7</td>\n",
       "    </tr>\n",
       "    <tr>\n",
       "      <th>4241</th>\n",
       "      <td>surprise</td>\n",
       "      <td>PrivateTest_34688181.jpg</td>\n",
       "      <td>../data/FER-2013/test/surprise/PrivateTest_346...</td>\n",
       "      <td>0.046699</td>\n",
       "      <td>dfd03a14a687f18a</td>\n",
       "    </tr>\n",
       "    <tr>\n",
       "      <th>4468</th>\n",
       "      <td>surprise</td>\n",
       "      <td>PrivateTest_26572350.jpg</td>\n",
       "      <td>../data/FER-2013/test/surprise/PrivateTest_265...</td>\n",
       "      <td>0.046699</td>\n",
       "      <td>dfd03a14a687f18a</td>\n",
       "    </tr>\n",
       "    <tr>\n",
       "      <th>6686</th>\n",
       "      <td>angry</td>\n",
       "      <td>PrivateTest_37769125.jpg</td>\n",
       "      <td>../data/FER-2013/test/angry/PrivateTest_377691...</td>\n",
       "      <td>0.043474</td>\n",
       "      <td>e2a893e5883efd03</td>\n",
       "    </tr>\n",
       "    <tr>\n",
       "      <th>6998</th>\n",
       "      <td>angry</td>\n",
       "      <td>PrivateTest_41308674.jpg</td>\n",
       "      <td>../data/FER-2013/test/angry/PrivateTest_413086...</td>\n",
       "      <td>0.042901</td>\n",
       "      <td>e2a893e5883efd03</td>\n",
       "    </tr>\n",
       "  </tbody>\n",
       "</table>\n",
       "</div>"
      ],
      "text/plain": [
       "      category                 file_name  \\\n",
       "3051      fear   PrivateTest_4712911.jpg   \n",
       "4241  surprise  PrivateTest_34688181.jpg   \n",
       "4468  surprise  PrivateTest_26572350.jpg   \n",
       "6686     angry  PrivateTest_37769125.jpg   \n",
       "6998     angry  PrivateTest_41308674.jpg   \n",
       "\n",
       "                                              file_path  noise_score  \\\n",
       "3051  ../data/FER-2013/test/fear/PrivateTest_4712911...     0.054162   \n",
       "4241  ../data/FER-2013/test/surprise/PrivateTest_346...     0.046699   \n",
       "4468  ../data/FER-2013/test/surprise/PrivateTest_265...     0.046699   \n",
       "6686  ../data/FER-2013/test/angry/PrivateTest_377691...     0.043474   \n",
       "6998  ../data/FER-2013/test/angry/PrivateTest_413086...     0.042901   \n",
       "\n",
       "            hash_value  \n",
       "3051  d00952f52f341dd7  \n",
       "4241  dfd03a14a687f18a  \n",
       "4468  dfd03a14a687f18a  \n",
       "6686  e2a893e5883efd03  \n",
       "6998  e2a893e5883efd03  "
      ]
     },
     "execution_count": 48,
     "metadata": {},
     "output_type": "execute_result"
    }
   ],
   "source": [
    "duplicates_test.tail()"
   ]
  },
  {
   "cell_type": "code",
   "execution_count": 49,
   "id": "ba8df7d1-938e-4e9d-8947-1a97f5c388a8",
   "metadata": {},
   "outputs": [
    {
     "data": {
      "image/jpeg": "[encoded data removed]",
      "image/png": "[encoded data removed]",
      "text/plain": [
       "<PIL.Image.Image image mode=RGB size=48x48>"
      ]
     },
     "metadata": {},
     "output_type": "display_data"
    },
    {
     "data": {
      "image/jpeg": "[encoded data removed]",
      "image/png": "[encoded data removed]",
      "text/plain": [
       "<PIL.Image.Image image mode=RGB size=48x48>"
      ]
     },
     "metadata": {},
     "output_type": "display_data"
    }
   ],
   "source": [
    "load_print_images(duplicates_test.tail(2)[\"file_path\"].values)"
   ]
  },
  {
   "cell_type": "code",
   "execution_count": 54,
   "id": "0281be6b-07b7-454f-ae0a-684c70384b1a",
   "metadata": {},
   "outputs": [
    {
     "data": {
      "text/plain": [
       "(41, 21)"
      ]
     },
     "execution_count": 54,
     "metadata": {},
     "output_type": "execute_result"
    }
   ],
   "source": [
    "test_dupes_no, test_to_drop_no = get_duplicate_counts(df_test)\n",
    "test_dupes_no, test_to_drop_no"
   ]
  },
  {
   "cell_type": "code",
   "execution_count": 56,
   "id": "1d761fc1-35bd-49c3-918e-bb94b20c9927",
   "metadata": {},
   "outputs": [
    {
     "data": {
      "text/plain": [
       "3568"
      ]
     },
     "execution_count": 56,
     "metadata": {},
     "output_type": "execute_result"
    }
   ],
   "source": [
    "expected_new_test_length = len(df_test) - test_to_drop_no\n",
    "expected_new_test_length"
   ]
  },
  {
   "cell_type": "code",
   "execution_count": 58,
   "id": "2b6b7d37-7fef-4ad4-937c-84670e377323",
   "metadata": {},
   "outputs": [
    {
     "data": {
      "text/plain": [
       "3568"
      ]
     },
     "execution_count": 58,
     "metadata": {},
     "output_type": "execute_result"
    }
   ],
   "source": [
    "df_test = df_test.drop_duplicates(subset=['hash_value'])\n",
    "len(df_test)"
   ]
  },
  {
   "cell_type": "code",
   "execution_count": null,
   "id": "d32fa981-6597-4820-9a56-865194b316ee",
   "metadata": {},
   "outputs": [],
   "source": []
  }
 ],
 "metadata": {
  "kernelspec": {
   "display_name": "emotion_recog",
   "language": "python",
   "name": "emotion_recog"
  },
  "language_info": {
   "codemirror_mode": {
    "name": "ipython",
    "version": 3
   },
   "file_extension": ".py",
   "mimetype": "text/x-python",
   "name": "python",
   "nbconvert_exporter": "python",
   "pygments_lexer": "ipython3",
   "version": "3.11.10"
  }
 },
 "nbformat": 4,
 "nbformat_minor": 5
}
